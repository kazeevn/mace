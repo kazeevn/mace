{
 "cells": [
  {
   "cell_type": "markdown",
   "metadata": {},
   "source": [
    "1. Test ACE module\n",
    "\n",
    "Test results: \n",
    "    1) environment variables not added (see https://pypi.org/project/ase/ , section Installation) - failed\n",
    "    2) run command 'ace test' in the terminal (see https://pypi.org/project/ase/ , section Testing) - failed due to item 1) above\n",
    "    3) run command 'ace test' in the notebook cell - failed, see below\n",
    "    4) run example script (see https://pypi.org/project/ase/ , section Example) - failed, see below\n",
    "\n",
    "Conclusion: ACE module is not properly installed"
   ]
  },
  {
   "cell_type": "code",
   "execution_count": 6,
   "metadata": {},
   "outputs": [
    {
     "name": "stdout",
     "output_type": "stream",
     "text": [
      "About to run pytest with these parameters:\n",
      "    -v\n",
      "\u001b[1mTest session starts (platform: linux, Python 3.8.18, pytest 7.4.3, pytest-sugar 0.9.7)\u001b[0m\n",
      "/usr/local/lib/python3.8/dist-packages/hypothesis/_settings.py:74: HypothesisWarning: The database setting is not configured, and the default location is unusable - falling back to an in-memory database for this session.  path=PosixPath('/usr/local/lib/python3.8/dist-packages/ase/test/.hypothesis/examples')\n",
      "  result = ExampleDatabase(not_set)\n",
      "cachedir: .pytest_cache\n",
      "hypothesis profile 'default' -> database=InMemoryExampleDatabase({})\n",
      "INTERNALERROR> Traceback (most recent call last):\n",
      "INTERNALERROR>   File \"/usr/local/lib/python3.8/dist-packages/_pytest/main.py\", line 269, in wrap_session\n",
      "INTERNALERROR>     config.hook.pytest_sessionstart(session=session)\n",
      "INTERNALERROR>   File \"/usr/local/lib/python3.8/dist-packages/pluggy/_hooks.py\", line 493, in __call__\n",
      "INTERNALERROR>     return self._hookexec(self.name, self._hookimpls, kwargs, firstresult)\n",
      "INTERNALERROR>   File \"/usr/local/lib/python3.8/dist-packages/pluggy/_manager.py\", line 115, in _hookexec\n",
      "INTERNALERROR>     return self._inner_hookexec(hook_name, methods, kwargs, firstresult)\n",
      "INTERNALERROR>   File \"/usr/local/lib/python3.8/dist-packages/pluggy/_callers.py\", line 152, in _multicall\n",
      "INTERNALERROR>     return outcome.get_result()\n",
      "INTERNALERROR>   File \"/usr/local/lib/python3.8/dist-packages/pluggy/_result.py\", line 114, in get_result\n",
      "INTERNALERROR>     raise exc.with_traceback(exc.__traceback__)\n",
      "INTERNALERROR>   File \"/usr/local/lib/python3.8/dist-packages/pluggy/_callers.py\", line 77, in _multicall\n",
      "INTERNALERROR>     res = hook_impl.function(*args)\n",
      "INTERNALERROR>   File \"/usr/local/lib/python3.8/dist-packages/pytest_sugar.py\", line 284, in pytest_sessionstart\n",
      "INTERNALERROR>     self.write_line(line)\n",
      "INTERNALERROR>   File \"/usr/local/lib/python3.8/dist-packages/_pytest/terminal.py\", line 481, in write_line\n",
      "INTERNALERROR>     line = str(line, errors=\"replace\")\n",
      "INTERNALERROR> TypeError: decoding to str: need a bytes-like object, generator found\n",
      "\u001b[0m"
     ]
    }
   ],
   "source": [
    "!ase test"
   ]
  },
  {
   "cell_type": "code",
   "execution_count": 5,
   "metadata": {},
   "outputs": [
    {
     "name": "stderr",
     "output_type": "stream",
     "text": [
      "/bin/sh: 1: nwchem: not found\n"
     ]
    },
    {
     "ename": "CalculationFailed",
     "evalue": "Calculator \"nwchem\" failed with command \"nwchem nwchem.nwi > nwchem.nwo\" failed in /home/coder/project with error code 127",
     "output_type": "error",
     "traceback": [
      "\u001b[0;31m---------------------------------------------------------------------------\u001b[0m",
      "\u001b[0;31mCalculationFailed\u001b[0m                         Traceback (most recent call last)",
      "\u001b[1;32m/home/coder/project/TestXMace.ipynb Cell 3\u001b[0m line \u001b[0;36m9\n\u001b[1;32m      <a href='vscode-notebook-cell://research.constructor.tech/home/coder/project/TestXMace.ipynb#W2sdnNjb2RlLXJlbW90ZQ%3D%3D?line=6'>7</a>\u001b[0m h2\u001b[39m.\u001b[39mcalc \u001b[39m=\u001b[39m NWChem(xc\u001b[39m=\u001b[39m\u001b[39m'\u001b[39m\u001b[39mPBE\u001b[39m\u001b[39m'\u001b[39m)\n\u001b[1;32m      <a href='vscode-notebook-cell://research.constructor.tech/home/coder/project/TestXMace.ipynb#W2sdnNjb2RlLXJlbW90ZQ%3D%3D?line=7'>8</a>\u001b[0m opt \u001b[39m=\u001b[39m BFGS(h2, trajectory\u001b[39m=\u001b[39m\u001b[39m'\u001b[39m\u001b[39mh2.traj\u001b[39m\u001b[39m'\u001b[39m)\n\u001b[0;32m----> <a href='vscode-notebook-cell://research.constructor.tech/home/coder/project/TestXMace.ipynb#W2sdnNjb2RlLXJlbW90ZQ%3D%3D?line=8'>9</a>\u001b[0m opt\u001b[39m.\u001b[39;49mrun(fmax\u001b[39m=\u001b[39;49m\u001b[39m0.02\u001b[39;49m)\n",
      "File \u001b[0;32m/usr/local/lib/python3.8/dist-packages/ase/optimize/optimize.py:269\u001b[0m, in \u001b[0;36mOptimizer.run\u001b[0;34m(self, fmax, steps)\u001b[0m\n\u001b[1;32m    267\u001b[0m \u001b[39mif\u001b[39;00m steps:\n\u001b[1;32m    268\u001b[0m     \u001b[39mself\u001b[39m\u001b[39m.\u001b[39mmax_steps \u001b[39m=\u001b[39m steps\n\u001b[0;32m--> 269\u001b[0m \u001b[39mreturn\u001b[39;00m Dynamics\u001b[39m.\u001b[39;49mrun(\u001b[39mself\u001b[39;49m)\n",
      "File \u001b[0;32m/usr/local/lib/python3.8/dist-packages/ase/optimize/optimize.py:156\u001b[0m, in \u001b[0;36mDynamics.run\u001b[0;34m(self)\u001b[0m\n\u001b[1;32m    149\u001b[0m \u001b[39mdef\u001b[39;00m \u001b[39mrun\u001b[39m(\u001b[39mself\u001b[39m):\n\u001b[1;32m    150\u001b[0m \u001b[39m    \u001b[39m\u001b[39m\"\"\"Run dynamics algorithm.\u001b[39;00m\n\u001b[1;32m    151\u001b[0m \n\u001b[1;32m    152\u001b[0m \u001b[39m    This method will return when the forces on all individual\u001b[39;00m\n\u001b[1;32m    153\u001b[0m \u001b[39m    atoms are less than *fmax* or when the number of steps exceeds\u001b[39;00m\n\u001b[1;32m    154\u001b[0m \u001b[39m    *steps*.\"\"\"\u001b[39;00m\n\u001b[0;32m--> 156\u001b[0m     \u001b[39mfor\u001b[39;00m converged \u001b[39min\u001b[39;00m Dynamics\u001b[39m.\u001b[39mirun(\u001b[39mself\u001b[39m):\n\u001b[1;32m    157\u001b[0m         \u001b[39mpass\u001b[39;00m\n\u001b[1;32m    158\u001b[0m     \u001b[39mreturn\u001b[39;00m converged\n",
      "File \u001b[0;32m/usr/local/lib/python3.8/dist-packages/ase/optimize/optimize.py:122\u001b[0m, in \u001b[0;36mDynamics.irun\u001b[0;34m(self)\u001b[0m\n\u001b[1;32m    111\u001b[0m \u001b[39m\u001b[39m\u001b[39m\"\"\"Run dynamics algorithm as generator. This allows, e.g.,\u001b[39;00m\n\u001b[1;32m    112\u001b[0m \u001b[39mto easily run two optimizers or MD thermostats at the same time.\u001b[39;00m\n\u001b[1;32m    113\u001b[0m \n\u001b[0;32m   (...)\u001b[0m\n\u001b[1;32m    118\u001b[0m \u001b[39m>>>     opt1.run()\u001b[39;00m\n\u001b[1;32m    119\u001b[0m \u001b[39m\"\"\"\u001b[39;00m\n\u001b[1;32m    121\u001b[0m \u001b[39m# compute initial structure and log the first step\u001b[39;00m\n\u001b[0;32m--> 122\u001b[0m \u001b[39mself\u001b[39;49m\u001b[39m.\u001b[39;49matoms\u001b[39m.\u001b[39;49mget_forces()\n\u001b[1;32m    124\u001b[0m \u001b[39m# yield the first time to inspect before logging\u001b[39;00m\n\u001b[1;32m    125\u001b[0m \u001b[39myield\u001b[39;00m \u001b[39mFalse\u001b[39;00m\n",
      "File \u001b[0;32m/usr/local/lib/python3.8/dist-packages/ase/atoms.py:788\u001b[0m, in \u001b[0;36mAtoms.get_forces\u001b[0;34m(self, apply_constraint, md)\u001b[0m\n\u001b[1;32m    786\u001b[0m \u001b[39mif\u001b[39;00m \u001b[39mself\u001b[39m\u001b[39m.\u001b[39m_calc \u001b[39mis\u001b[39;00m \u001b[39mNone\u001b[39;00m:\n\u001b[1;32m    787\u001b[0m     \u001b[39mraise\u001b[39;00m \u001b[39mRuntimeError\u001b[39;00m(\u001b[39m'\u001b[39m\u001b[39mAtoms object has no calculator.\u001b[39m\u001b[39m'\u001b[39m)\n\u001b[0;32m--> 788\u001b[0m forces \u001b[39m=\u001b[39m \u001b[39mself\u001b[39;49m\u001b[39m.\u001b[39;49m_calc\u001b[39m.\u001b[39;49mget_forces(\u001b[39mself\u001b[39;49m)\n\u001b[1;32m    790\u001b[0m \u001b[39mif\u001b[39;00m apply_constraint:\n\u001b[1;32m    791\u001b[0m     \u001b[39m# We need a special md flag here because for MD we want\u001b[39;00m\n\u001b[1;32m    792\u001b[0m     \u001b[39m# to skip real constraints but include special \"constraints\"\u001b[39;00m\n\u001b[1;32m    793\u001b[0m     \u001b[39m# Like Hookean.\u001b[39;00m\n\u001b[1;32m    794\u001b[0m     \u001b[39mfor\u001b[39;00m constraint \u001b[39min\u001b[39;00m \u001b[39mself\u001b[39m\u001b[39m.\u001b[39mconstraints:\n",
      "File \u001b[0;32m/usr/local/lib/python3.8/dist-packages/ase/calculators/abc.py:23\u001b[0m, in \u001b[0;36mGetPropertiesMixin.get_forces\u001b[0;34m(self, atoms)\u001b[0m\n\u001b[1;32m     22\u001b[0m \u001b[39mdef\u001b[39;00m \u001b[39mget_forces\u001b[39m(\u001b[39mself\u001b[39m, atoms\u001b[39m=\u001b[39m\u001b[39mNone\u001b[39;00m):\n\u001b[0;32m---> 23\u001b[0m     \u001b[39mreturn\u001b[39;00m \u001b[39mself\u001b[39;49m\u001b[39m.\u001b[39;49mget_property(\u001b[39m'\u001b[39;49m\u001b[39mforces\u001b[39;49m\u001b[39m'\u001b[39;49m, atoms)\n",
      "File \u001b[0;32m/usr/local/lib/python3.8/dist-packages/ase/calculators/calculator.py:737\u001b[0m, in \u001b[0;36mCalculator.get_property\u001b[0;34m(self, name, atoms, allow_calculation)\u001b[0m\n\u001b[1;32m    735\u001b[0m     \u001b[39mif\u001b[39;00m \u001b[39mnot\u001b[39;00m allow_calculation:\n\u001b[1;32m    736\u001b[0m         \u001b[39mreturn\u001b[39;00m \u001b[39mNone\u001b[39;00m\n\u001b[0;32m--> 737\u001b[0m     \u001b[39mself\u001b[39;49m\u001b[39m.\u001b[39;49mcalculate(atoms, [name], system_changes)\n\u001b[1;32m    739\u001b[0m \u001b[39mif\u001b[39;00m name \u001b[39mnot\u001b[39;00m \u001b[39min\u001b[39;00m \u001b[39mself\u001b[39m\u001b[39m.\u001b[39mresults:\n\u001b[1;32m    740\u001b[0m     \u001b[39m# For some reason the calculator was not able to do what we want,\u001b[39;00m\n\u001b[1;32m    741\u001b[0m     \u001b[39m# and that is OK.\u001b[39;00m\n\u001b[1;32m    742\u001b[0m     \u001b[39mraise\u001b[39;00m PropertyNotImplementedError(\u001b[39m'\u001b[39m\u001b[39m{}\u001b[39;00m\u001b[39m not present in this \u001b[39m\u001b[39m'\u001b[39m\n\u001b[1;32m    743\u001b[0m                                       \u001b[39m'\u001b[39m\u001b[39mcalculation\u001b[39m\u001b[39m'\u001b[39m\u001b[39m.\u001b[39mformat(name))\n",
      "File \u001b[0;32m/usr/local/lib/python3.8/dist-packages/ase/calculators/calculator.py:938\u001b[0m, in \u001b[0;36mFileIOCalculator.calculate\u001b[0;34m(self, atoms, properties, system_changes)\u001b[0m\n\u001b[1;32m    934\u001b[0m     path \u001b[39m=\u001b[39m os\u001b[39m.\u001b[39mpath\u001b[39m.\u001b[39mabspath(\u001b[39mself\u001b[39m\u001b[39m.\u001b[39mdirectory)\n\u001b[1;32m    935\u001b[0m     msg \u001b[39m=\u001b[39m (\u001b[39m'\u001b[39m\u001b[39mCalculator \u001b[39m\u001b[39m\"\u001b[39m\u001b[39m{}\u001b[39;00m\u001b[39m\"\u001b[39m\u001b[39m failed with command \u001b[39m\u001b[39m\"\u001b[39m\u001b[39m{}\u001b[39;00m\u001b[39m\"\u001b[39m\u001b[39m failed in \u001b[39m\u001b[39m'\u001b[39m\n\u001b[1;32m    936\u001b[0m            \u001b[39m'\u001b[39m\u001b[39m{}\u001b[39;00m\u001b[39m with error code \u001b[39m\u001b[39m{}\u001b[39;00m\u001b[39m'\u001b[39m\u001b[39m.\u001b[39mformat(\u001b[39mself\u001b[39m\u001b[39m.\u001b[39mname, command,\n\u001b[1;32m    937\u001b[0m                                           path, errorcode))\n\u001b[0;32m--> 938\u001b[0m     \u001b[39mraise\u001b[39;00m CalculationFailed(msg)\n\u001b[1;32m    940\u001b[0m \u001b[39mself\u001b[39m\u001b[39m.\u001b[39mread_results()\n",
      "\u001b[0;31mCalculationFailed\u001b[0m: Calculator \"nwchem\" failed with command \"nwchem nwchem.nwi > nwchem.nwo\" failed in /home/coder/project with error code 127"
     ]
    }
   ],
   "source": [
    "from ase import Atoms\n",
    "from ase.optimize import BFGS\n",
    "from ase.calculators.nwchem import NWChem\n",
    "from ase.io import write\n",
    "\n",
    "h2 = Atoms('H2',positions=[[0, 0, 0],[0, 0, 0.7]])\n",
    "h2.calc = NWChem(xc='PBE')\n",
    "opt = BFGS(h2, trajectory='h2.traj')\n",
    "opt.run(fmax=0.02)"
   ]
  },
  {
   "cell_type": "markdown",
   "metadata": {},
   "source": [
    "2. Testing scipy module"
   ]
  },
  {
   "cell_type": "code",
   "execution_count": 3,
   "metadata": {},
   "outputs": [
    {
     "name": "stdout",
     "output_type": "stream",
     "text": [
      "['/usr/local/lib/python3.8/dist-packages/tests']\n",
      "['/home/coder/project/matscipy_tests']\n"
     ]
    }
   ],
   "source": [
    "# NB: if the project consists of folder 'tests' then it is not accessible \n",
    "# since there is another folder 'tests' in '/usr/local/lib/python3.8/dist-packages'\n",
    "# and this folder PRECIDES user's folder '/home/coder/project/tests' in the envirinment variable $PATH \n",
    "# so the user is forced to rename itsown folder 'tests'\n",
    "import tests\n",
    "import matscipy_tests\n",
    "print(tests.__path__)\n",
    "print(matscipy_tests.__path__)\n"
   ]
  },
  {
   "cell_type": "code",
   "execution_count": 16,
   "metadata": {},
   "outputs": [
    {
     "name": "stderr",
     "output_type": "stream",
     "text": [
      "usage: ipykernel_launcher.py [-h] [-v] [-q] [--locals] [-f] [-c] [-b]\n",
      "                             [-k TESTNAMEPATTERNS]\n",
      "                             [tests [tests ...]]\n",
      "ipykernel_launcher.py: error: argument -f/--failfast: ignored explicit argument '/home/coder/.local/share/jupyter/runtime/kernel-v2-25884oTMnqLXR7q7m.json'\n"
     ]
    },
    {
     "ename": "AttributeError",
     "evalue": "'tuple' object has no attribute 'tb_frame'",
     "output_type": "error",
     "traceback": [
      "\u001b[0;31m---------------------------------------------------------------------------\u001b[0m",
      "\u001b[0;31mArgumentError\u001b[0m                             Traceback (most recent call last)",
      "File \u001b[0;32m/usr/lib/python3.8/argparse.py:1812\u001b[0m, in \u001b[0;36mArgumentParser.parse_known_args\u001b[0;34m(self, args, namespace)\u001b[0m\n\u001b[1;32m   1811\u001b[0m \u001b[39mtry\u001b[39;00m:\n\u001b[0;32m-> 1812\u001b[0m     namespace, args \u001b[39m=\u001b[39m \u001b[39mself\u001b[39;49m\u001b[39m.\u001b[39;49m_parse_known_args(args, namespace)\n\u001b[1;32m   1813\u001b[0m     \u001b[39mif\u001b[39;00m \u001b[39mhasattr\u001b[39m(namespace, _UNRECOGNIZED_ARGS_ATTR):\n",
      "File \u001b[0;32m/usr/lib/python3.8/argparse.py:2018\u001b[0m, in \u001b[0;36mArgumentParser._parse_known_args\u001b[0;34m(self, arg_strings, namespace)\u001b[0m\n\u001b[1;32m   2017\u001b[0m     \u001b[39m# consume the next optional and any arguments for it\u001b[39;00m\n\u001b[0;32m-> 2018\u001b[0m     start_index \u001b[39m=\u001b[39m consume_optional(start_index)\n\u001b[1;32m   2020\u001b[0m \u001b[39m# consume any positionals following the last Optional\u001b[39;00m\n",
      "File \u001b[0;32m/usr/lib/python3.8/argparse.py:1940\u001b[0m, in \u001b[0;36mArgumentParser._parse_known_args.<locals>.consume_optional\u001b[0;34m(start_index)\u001b[0m\n\u001b[1;32m   1939\u001b[0m         msg \u001b[39m=\u001b[39m _(\u001b[39m'\u001b[39m\u001b[39mignored explicit argument \u001b[39m\u001b[39m%r\u001b[39;00m\u001b[39m'\u001b[39m)\n\u001b[0;32m-> 1940\u001b[0m         \u001b[39mraise\u001b[39;00m ArgumentError(action, msg \u001b[39m%\u001b[39m explicit_arg)\n\u001b[1;32m   1942\u001b[0m \u001b[39m# if there is no explicit argument, try to match the\u001b[39;00m\n\u001b[1;32m   1943\u001b[0m \u001b[39m# optional's string arguments with the following strings\u001b[39;00m\n\u001b[1;32m   1944\u001b[0m \u001b[39m# if successful, exit the loop\u001b[39;00m\n\u001b[1;32m   1945\u001b[0m \u001b[39melse\u001b[39;00m:\n",
      "\u001b[0;31mArgumentError\u001b[0m: argument -f/--failfast: ignored explicit argument '/home/coder/.local/share/jupyter/runtime/kernel-v2-25884oTMnqLXR7q7m.json'",
      "\nDuring handling of the above exception, another exception occurred:\n",
      "\u001b[0;31mSystemExit\u001b[0m                                Traceback (most recent call last)",
      "    \u001b[0;31m[... skipping hidden 1 frame]\u001b[0m\n",
      "\u001b[1;32m/home/coder/project/TestXMace.ipynb Cell 6\u001b[0m line \u001b[0;36m2\n\u001b[1;32m      <a href='vscode-notebook-cell://research.constructor.tech/home/coder/project/TestXMace.ipynb#X16sdnNjb2RlLXJlbW90ZQ%3D%3D?line=0'>1</a>\u001b[0m filename \u001b[39m=\u001b[39m \u001b[39m'\u001b[39m\u001b[39mmatscipy_tests/test_atomic_strain.py\u001b[39m\u001b[39m'\u001b[39m\n\u001b[0;32m----> <a href='vscode-notebook-cell://research.constructor.tech/home/coder/project/TestXMace.ipynb#X16sdnNjb2RlLXJlbW90ZQ%3D%3D?line=1'>2</a>\u001b[0m exec(\u001b[39mcompile\u001b[39;49m(\u001b[39mopen\u001b[39;49m(filename)\u001b[39m.\u001b[39;49mread(), filename, \u001b[39m'\u001b[39;49m\u001b[39mexec\u001b[39;49m\u001b[39m'\u001b[39;49m))\n",
      "File \u001b[0;32m~/project/matscipy_tests/test_atomic_strain.py:77\u001b[0m\n\u001b[1;32m     76\u001b[0m \u001b[39mif\u001b[39;00m \u001b[39m__name__\u001b[39m \u001b[39m==\u001b[39m \u001b[39m'\u001b[39m\u001b[39m__main__\u001b[39m\u001b[39m'\u001b[39m:\n\u001b[0;32m---> 77\u001b[0m     unittest\u001b[39m.\u001b[39;49mmain()\n",
      "File \u001b[0;32m/usr/lib/python3.8/unittest/main.py:100\u001b[0m, in \u001b[0;36mTestProgram.__init__\u001b[0;34m(self, module, defaultTest, argv, testRunner, testLoader, exit, verbosity, failfast, catchbreak, buffer, warnings, tb_locals)\u001b[0m\n\u001b[1;32m     99\u001b[0m \u001b[39mself\u001b[39m\u001b[39m.\u001b[39mprogName \u001b[39m=\u001b[39m os\u001b[39m.\u001b[39mpath\u001b[39m.\u001b[39mbasename(argv[\u001b[39m0\u001b[39m])\n\u001b[0;32m--> 100\u001b[0m \u001b[39mself\u001b[39;49m\u001b[39m.\u001b[39;49mparseArgs(argv)\n\u001b[1;32m    101\u001b[0m \u001b[39mself\u001b[39m\u001b[39m.\u001b[39mrunTests()\n",
      "File \u001b[0;32m/usr/lib/python3.8/unittest/main.py:133\u001b[0m, in \u001b[0;36mTestProgram.parseArgs\u001b[0;34m(self, argv)\u001b[0m\n\u001b[1;32m    132\u001b[0m \u001b[39melse\u001b[39;00m:\n\u001b[0;32m--> 133\u001b[0m     \u001b[39mself\u001b[39;49m\u001b[39m.\u001b[39;49m_main_parser\u001b[39m.\u001b[39;49mparse_args(argv[\u001b[39m1\u001b[39;49m:], \u001b[39mself\u001b[39;49m)\n\u001b[1;32m    135\u001b[0m \u001b[39mif\u001b[39;00m \u001b[39mself\u001b[39m\u001b[39m.\u001b[39mtests:\n",
      "File \u001b[0;32m/usr/lib/python3.8/argparse.py:1780\u001b[0m, in \u001b[0;36mArgumentParser.parse_args\u001b[0;34m(self, args, namespace)\u001b[0m\n\u001b[1;32m   1779\u001b[0m \u001b[39mdef\u001b[39;00m \u001b[39mparse_args\u001b[39m(\u001b[39mself\u001b[39m, args\u001b[39m=\u001b[39m\u001b[39mNone\u001b[39;00m, namespace\u001b[39m=\u001b[39m\u001b[39mNone\u001b[39;00m):\n\u001b[0;32m-> 1780\u001b[0m     args, argv \u001b[39m=\u001b[39m \u001b[39mself\u001b[39;49m\u001b[39m.\u001b[39;49mparse_known_args(args, namespace)\n\u001b[1;32m   1781\u001b[0m     \u001b[39mif\u001b[39;00m argv:\n",
      "File \u001b[0;32m/usr/lib/python3.8/argparse.py:1819\u001b[0m, in \u001b[0;36mArgumentParser.parse_known_args\u001b[0;34m(self, args, namespace)\u001b[0m\n\u001b[1;32m   1818\u001b[0m err \u001b[39m=\u001b[39m _sys\u001b[39m.\u001b[39mexc_info()[\u001b[39m1\u001b[39m]\n\u001b[0;32m-> 1819\u001b[0m \u001b[39mself\u001b[39;49m\u001b[39m.\u001b[39;49merror(\u001b[39mstr\u001b[39;49m(err))\n",
      "File \u001b[0;32m/usr/lib/python3.8/argparse.py:2533\u001b[0m, in \u001b[0;36mArgumentParser.error\u001b[0;34m(self, message)\u001b[0m\n\u001b[1;32m   2532\u001b[0m args \u001b[39m=\u001b[39m {\u001b[39m'\u001b[39m\u001b[39mprog\u001b[39m\u001b[39m'\u001b[39m: \u001b[39mself\u001b[39m\u001b[39m.\u001b[39mprog, \u001b[39m'\u001b[39m\u001b[39mmessage\u001b[39m\u001b[39m'\u001b[39m: message}\n\u001b[0;32m-> 2533\u001b[0m \u001b[39mself\u001b[39;49m\u001b[39m.\u001b[39;49mexit(\u001b[39m2\u001b[39;49m, _(\u001b[39m'\u001b[39;49m\u001b[39m%(prog)s\u001b[39;49;00m\u001b[39m: error: \u001b[39;49m\u001b[39m%(message)s\u001b[39;49;00m\u001b[39m\\n\u001b[39;49;00m\u001b[39m'\u001b[39;49m) \u001b[39m%\u001b[39;49m args)\n",
      "File \u001b[0;32m/usr/lib/python3.8/argparse.py:2520\u001b[0m, in \u001b[0;36mArgumentParser.exit\u001b[0;34m(self, status, message)\u001b[0m\n\u001b[1;32m   2519\u001b[0m     \u001b[39mself\u001b[39m\u001b[39m.\u001b[39m_print_message(message, _sys\u001b[39m.\u001b[39mstderr)\n\u001b[0;32m-> 2520\u001b[0m _sys\u001b[39m.\u001b[39;49mexit(status)\n",
      "\u001b[0;31mSystemExit\u001b[0m: 2",
      "\nDuring handling of the above exception, another exception occurred:\n",
      "\u001b[0;31mAttributeError\u001b[0m                            Traceback (most recent call last)",
      "    \u001b[0;31m[... skipping hidden 1 frame]\u001b[0m\n",
      "File \u001b[0;32m~/.local/lib/rolos-mace/site-packages/IPython/core/interactiveshell.py:2095\u001b[0m, in \u001b[0;36mInteractiveShell.showtraceback\u001b[0;34m(self, exc_tuple, filename, tb_offset, exception_only, running_compiled_code)\u001b[0m\n\u001b[1;32m   2092\u001b[0m \u001b[39mif\u001b[39;00m exception_only:\n\u001b[1;32m   2093\u001b[0m     stb \u001b[39m=\u001b[39m [\u001b[39m'\u001b[39m\u001b[39mAn exception has occurred, use \u001b[39m\u001b[39m%\u001b[39m\u001b[39mtb to see \u001b[39m\u001b[39m'\u001b[39m\n\u001b[1;32m   2094\u001b[0m            \u001b[39m'\u001b[39m\u001b[39mthe full traceback.\u001b[39m\u001b[39m\\n\u001b[39;00m\u001b[39m'\u001b[39m]\n\u001b[0;32m-> 2095\u001b[0m     stb\u001b[39m.\u001b[39mextend(\u001b[39mself\u001b[39;49m\u001b[39m.\u001b[39;49mInteractiveTB\u001b[39m.\u001b[39;49mget_exception_only(etype,\n\u001b[1;32m   2096\u001b[0m                                                      value))\n\u001b[1;32m   2097\u001b[0m \u001b[39melse\u001b[39;00m:\n\u001b[1;32m   2098\u001b[0m     \u001b[39mtry\u001b[39;00m:\n\u001b[1;32m   2099\u001b[0m         \u001b[39m# Exception classes can customise their traceback - we\u001b[39;00m\n\u001b[1;32m   2100\u001b[0m         \u001b[39m# use this in IPython.parallel for exceptions occurring\u001b[39;00m\n\u001b[1;32m   2101\u001b[0m         \u001b[39m# in the engines. This should return a list of strings.\u001b[39;00m\n",
      "File \u001b[0;32m~/.local/lib/rolos-mace/site-packages/IPython/core/ultratb.py:696\u001b[0m, in \u001b[0;36mListTB.get_exception_only\u001b[0;34m(self, etype, value)\u001b[0m\n\u001b[1;32m    688\u001b[0m \u001b[39mdef\u001b[39;00m \u001b[39mget_exception_only\u001b[39m(\u001b[39mself\u001b[39m, etype, value):\n\u001b[1;32m    689\u001b[0m \u001b[39m    \u001b[39m\u001b[39m\"\"\"Only print the exception type and message, without a traceback.\u001b[39;00m\n\u001b[1;32m    690\u001b[0m \n\u001b[1;32m    691\u001b[0m \u001b[39m    Parameters\u001b[39;00m\n\u001b[0;32m   (...)\u001b[0m\n\u001b[1;32m    694\u001b[0m \u001b[39m    value : exception value\u001b[39;00m\n\u001b[1;32m    695\u001b[0m \u001b[39m    \"\"\"\u001b[39;00m\n\u001b[0;32m--> 696\u001b[0m     \u001b[39mreturn\u001b[39;00m ListTB\u001b[39m.\u001b[39;49mstructured_traceback(\u001b[39mself\u001b[39;49m, etype, value)\n",
      "File \u001b[0;32m~/.local/lib/rolos-mace/site-packages/IPython/core/ultratb.py:559\u001b[0m, in \u001b[0;36mListTB.structured_traceback\u001b[0;34m(self, etype, evalue, etb, tb_offset, context)\u001b[0m\n\u001b[1;32m    556\u001b[0m     chained_exc_ids\u001b[39m.\u001b[39madd(\u001b[39mid\u001b[39m(exception[\u001b[39m1\u001b[39m]))\n\u001b[1;32m    557\u001b[0m     chained_exceptions_tb_offset \u001b[39m=\u001b[39m \u001b[39m0\u001b[39m\n\u001b[1;32m    558\u001b[0m     out_list \u001b[39m=\u001b[39m (\n\u001b[0;32m--> 559\u001b[0m         \u001b[39mself\u001b[39;49m\u001b[39m.\u001b[39;49mstructured_traceback(\n\u001b[1;32m    560\u001b[0m             etype,\n\u001b[1;32m    561\u001b[0m             evalue,\n\u001b[1;32m    562\u001b[0m             (etb, chained_exc_ids),  \u001b[39m# type: ignore\u001b[39;49;00m\n\u001b[1;32m    563\u001b[0m             chained_exceptions_tb_offset,\n\u001b[1;32m    564\u001b[0m             context,\n\u001b[1;32m    565\u001b[0m         )\n\u001b[1;32m    566\u001b[0m         \u001b[39m+\u001b[39m chained_exception_message\n\u001b[1;32m    567\u001b[0m         \u001b[39m+\u001b[39m out_list)\n\u001b[1;32m    569\u001b[0m \u001b[39mreturn\u001b[39;00m out_list\n",
      "File \u001b[0;32m~/.local/lib/rolos-mace/site-packages/IPython/core/ultratb.py:1396\u001b[0m, in \u001b[0;36mAutoFormattedTB.structured_traceback\u001b[0;34m(self, etype, evalue, etb, tb_offset, number_of_lines_of_context)\u001b[0m\n\u001b[1;32m   1394\u001b[0m \u001b[39melse\u001b[39;00m:\n\u001b[1;32m   1395\u001b[0m     \u001b[39mself\u001b[39m\u001b[39m.\u001b[39mtb \u001b[39m=\u001b[39m etb\n\u001b[0;32m-> 1396\u001b[0m \u001b[39mreturn\u001b[39;00m FormattedTB\u001b[39m.\u001b[39;49mstructured_traceback(\n\u001b[1;32m   1397\u001b[0m     \u001b[39mself\u001b[39;49m, etype, evalue, etb, tb_offset, number_of_lines_of_context\n\u001b[1;32m   1398\u001b[0m )\n",
      "File \u001b[0;32m~/.local/lib/rolos-mace/site-packages/IPython/core/ultratb.py:1287\u001b[0m, in \u001b[0;36mFormattedTB.structured_traceback\u001b[0;34m(self, etype, value, tb, tb_offset, number_of_lines_of_context)\u001b[0m\n\u001b[1;32m   1284\u001b[0m mode \u001b[39m=\u001b[39m \u001b[39mself\u001b[39m\u001b[39m.\u001b[39mmode\n\u001b[1;32m   1285\u001b[0m \u001b[39mif\u001b[39;00m mode \u001b[39min\u001b[39;00m \u001b[39mself\u001b[39m\u001b[39m.\u001b[39mverbose_modes:\n\u001b[1;32m   1286\u001b[0m     \u001b[39m# Verbose modes need a full traceback\u001b[39;00m\n\u001b[0;32m-> 1287\u001b[0m     \u001b[39mreturn\u001b[39;00m VerboseTB\u001b[39m.\u001b[39;49mstructured_traceback(\n\u001b[1;32m   1288\u001b[0m         \u001b[39mself\u001b[39;49m, etype, value, tb, tb_offset, number_of_lines_of_context\n\u001b[1;32m   1289\u001b[0m     )\n\u001b[1;32m   1290\u001b[0m \u001b[39melif\u001b[39;00m mode \u001b[39m==\u001b[39m \u001b[39m'\u001b[39m\u001b[39mMinimal\u001b[39m\u001b[39m'\u001b[39m:\n\u001b[1;32m   1291\u001b[0m     \u001b[39mreturn\u001b[39;00m ListTB\u001b[39m.\u001b[39mget_exception_only(\u001b[39mself\u001b[39m, etype, value)\n",
      "File \u001b[0;32m~/.local/lib/rolos-mace/site-packages/IPython/core/ultratb.py:1140\u001b[0m, in \u001b[0;36mVerboseTB.structured_traceback\u001b[0;34m(self, etype, evalue, etb, tb_offset, number_of_lines_of_context)\u001b[0m\n\u001b[1;32m   1131\u001b[0m \u001b[39mdef\u001b[39;00m \u001b[39mstructured_traceback\u001b[39m(\n\u001b[1;32m   1132\u001b[0m     \u001b[39mself\u001b[39m,\n\u001b[1;32m   1133\u001b[0m     etype: \u001b[39mtype\u001b[39m,\n\u001b[0;32m   (...)\u001b[0m\n\u001b[1;32m   1137\u001b[0m     number_of_lines_of_context: \u001b[39mint\u001b[39m \u001b[39m=\u001b[39m \u001b[39m5\u001b[39m,\n\u001b[1;32m   1138\u001b[0m ):\n\u001b[1;32m   1139\u001b[0m \u001b[39m    \u001b[39m\u001b[39m\"\"\"Return a nice text document describing the traceback.\"\"\"\u001b[39;00m\n\u001b[0;32m-> 1140\u001b[0m     formatted_exception \u001b[39m=\u001b[39m \u001b[39mself\u001b[39;49m\u001b[39m.\u001b[39;49mformat_exception_as_a_whole(etype, evalue, etb, number_of_lines_of_context,\n\u001b[1;32m   1141\u001b[0m                                                            tb_offset)\n\u001b[1;32m   1143\u001b[0m     colors \u001b[39m=\u001b[39m \u001b[39mself\u001b[39m\u001b[39m.\u001b[39mColors  \u001b[39m# just a shorthand + quicker name lookup\u001b[39;00m\n\u001b[1;32m   1144\u001b[0m     colorsnormal \u001b[39m=\u001b[39m colors\u001b[39m.\u001b[39mNormal  \u001b[39m# used a lot\u001b[39;00m\n",
      "File \u001b[0;32m~/.local/lib/rolos-mace/site-packages/IPython/core/ultratb.py:1030\u001b[0m, in \u001b[0;36mVerboseTB.format_exception_as_a_whole\u001b[0;34m(self, etype, evalue, etb, number_of_lines_of_context, tb_offset)\u001b[0m\n\u001b[1;32m   1027\u001b[0m \u001b[39massert\u001b[39;00m \u001b[39misinstance\u001b[39m(tb_offset, \u001b[39mint\u001b[39m)\n\u001b[1;32m   1028\u001b[0m head \u001b[39m=\u001b[39m \u001b[39mself\u001b[39m\u001b[39m.\u001b[39mprepare_header(\u001b[39mstr\u001b[39m(etype), \u001b[39mself\u001b[39m\u001b[39m.\u001b[39mlong_header)\n\u001b[1;32m   1029\u001b[0m records \u001b[39m=\u001b[39m (\n\u001b[0;32m-> 1030\u001b[0m     \u001b[39mself\u001b[39;49m\u001b[39m.\u001b[39;49mget_records(etb, number_of_lines_of_context, tb_offset) \u001b[39mif\u001b[39;00m etb \u001b[39melse\u001b[39;00m []\n\u001b[1;32m   1031\u001b[0m )\n\u001b[1;32m   1033\u001b[0m frames \u001b[39m=\u001b[39m []\n\u001b[1;32m   1034\u001b[0m skipped \u001b[39m=\u001b[39m \u001b[39m0\u001b[39m\n",
      "File \u001b[0;32m~/.local/lib/rolos-mace/site-packages/IPython/core/ultratb.py:1098\u001b[0m, in \u001b[0;36mVerboseTB.get_records\u001b[0;34m(self, etb, number_of_lines_of_context, tb_offset)\u001b[0m\n\u001b[1;32m   1096\u001b[0m \u001b[39mwhile\u001b[39;00m cf \u001b[39mis\u001b[39;00m \u001b[39mnot\u001b[39;00m \u001b[39mNone\u001b[39;00m:\n\u001b[1;32m   1097\u001b[0m     \u001b[39mtry\u001b[39;00m:\n\u001b[0;32m-> 1098\u001b[0m         mod \u001b[39m=\u001b[39m inspect\u001b[39m.\u001b[39mgetmodule(cf\u001b[39m.\u001b[39;49mtb_frame)\n\u001b[1;32m   1099\u001b[0m         \u001b[39mif\u001b[39;00m mod \u001b[39mis\u001b[39;00m \u001b[39mnot\u001b[39;00m \u001b[39mNone\u001b[39;00m:\n\u001b[1;32m   1100\u001b[0m             mod_name \u001b[39m=\u001b[39m mod\u001b[39m.\u001b[39m\u001b[39m__name__\u001b[39m\n",
      "\u001b[0;31mAttributeError\u001b[0m: 'tuple' object has no attribute 'tb_frame'"
     ]
    }
   ],
   "source": [
    "filename = 'matscipy_tests/test_atomic_strain.py'\n",
    "exec(compile(open(filename).read(), filename, 'exec'))\n"
   ]
  },
  {
   "cell_type": "code",
   "execution_count": 38,
   "metadata": {},
   "outputs": [
    {
     "name": "stdout",
     "output_type": "stream",
     "text": [
      "--- test_rotation_of_elastic_constants.py --------------------------------------------------\n"
     ]
    }
   ],
   "source": [
    "import os,sys\n",
    "sys.path.insert(0, './matscipy_tests')\n",
    "import runpy\n",
    "# from matscipy.neighbours import neighbour_list\n",
    "# from tests_ import matscipytest\n",
    "# from tests_ import test_angle_distribution as t\n",
    "\n",
    "# !python3 matscipy_tests/run_tests.py\n",
    "\n",
    "# !python3 matscipy_tests/test_angle_distribution.py\n",
    "# !python3 matscipy_tests/test_atomic_strain.py\n",
    "\n",
    "def execfile(filename, globals=None, locals=None):\n",
    "    if globals is None:\n",
    "        globals = sys._getframe(1).f_globals\n",
    "    if locals is None:\n",
    "        locals = sys._getframe(1).f_locals\n",
    "    with open(filename, \"r\") as fh:\n",
    "        exec(fh.read()+\"\\n\", globals, locals)\n",
    "\n",
    "\n",
    "test_filenames = [filename for filename in os.listdir('matscipy_tests/') if filename.startswith('test_')]\n",
    "sorted(test_filenames)\n",
    "for filename in test_filenames:\n",
    "        print('---',filename,'--------------------------------------------------')\n",
    "        # !python3 matscipy_tests/test_atomic_strain.py\n",
    "        # execfile('matscipy_tests/test_atomic_strain.py')\n",
    "        try:\n",
    "                runpy.run_path('matscipy_tests/test_atomic_strain.py')\n",
    "        except SystemExit as e:\n",
    "                print(e)\n",
    "        break\n"
   ]
  },
  {
   "cell_type": "code",
   "execution_count": 1,
   "metadata": {},
   "outputs": [
    {
     "name": "stdout",
     "output_type": "stream",
     "text": [
      "[1:44] test_angle_distribution.py --------------------------------------------------\n"
     ]
    },
    {
     "name": "stderr",
     "output_type": "stream",
     "text": [
      "....\n",
      "----------------------------------------------------------------------\n",
      "Ran 4 tests in 0.001s\n",
      "\n",
      "OK\n"
     ]
    },
    {
     "name": "stdout",
     "output_type": "stream",
     "text": [
      "[2:44] test_atomic_strain.py --------------------------------------------------\n"
     ]
    },
    {
     "name": "stderr",
     "output_type": "stream",
     "text": [
      "/usr/local/lib/python3.8/dist-packages/matscipy/atomic_strain.py:107: FutureWarning: `rcond` parameter will change to the default of machine precision times ``max(M, N)`` where M and N are the input matrix dimensions.\n",
      "To use the future default and silence this warning we advise to pass `rcond=None`, to keep using the old, explicitly pass `rcond=-1`.\n",
      "  x, residuals, rank, s = np.linalg.lstsq(dr_old[mask], dr_now[mask])\n",
      ".\n",
      "----------------------------------------------------------------------\n",
      "Ran 1 test in 0.024s\n",
      "\n",
      "OK\n"
     ]
    },
    {
     "name": "stdout",
     "output_type": "stream",
     "text": [
      "[3:44] test_bop.py --------------------------------------------------\n",
      "[4:44] test_build_3D_crack.py --------------------------------------------------\n"
     ]
    },
    {
     "name": "stderr",
     "output_type": "stream",
     "text": [
      "Traceback (most recent call last):\n",
      "  File \"test_build_3D_crack.py\", line 7, in <module>\n",
      "    from matscipy.cauchy_born import CubicCauchyBorn\n",
      "ModuleNotFoundError: No module named 'matscipy.cauchy_born'\n"
     ]
    },
    {
     "name": "stdout",
     "output_type": "stream",
     "text": [
      "[5:44] test_bulk_properties.py --------------------------------------------------\n",
      "[6:44] test_c2d.py --------------------------------------------------\n",
      "[7:44] test_cauchy_born_corrector.py --------------------------------------------------\n"
     ]
    },
    {
     "name": "stderr",
     "output_type": "stream",
     "text": [
      "Traceback (most recent call last):\n",
      "  File \"test_cauchy_born_corrector.py\", line 7, in <module>\n",
      "    from matscipy.cauchy_born import CubicCauchyBorn\n",
      "ModuleNotFoundError: No module named 'matscipy.cauchy_born'\n"
     ]
    },
    {
     "name": "stdout",
     "output_type": "stream",
     "text": [
      "[8:44] test_cluster_stable_sort.py --------------------------------------------------\n"
     ]
    },
    {
     "name": "stderr",
     "output_type": "stream",
     "text": [
      "Traceback (most recent call last):\n",
      "  File \"test_cluster_stable_sort.py\", line 12, in <module>\n",
      "    from matscipy.fracture_mechanics.clusters import diamond, set_groups, set_regions, get_alpha_period, bcc\n",
      "ImportError: cannot import name 'get_alpha_period' from 'matscipy.fracture_mechanics.clusters' (/usr/local/lib/python3.8/dist-packages/matscipy/fracture_mechanics/clusters.py)\n"
     ]
    },
    {
     "name": "stdout",
     "output_type": "stream",
     "text": [
      "[9:44] test_committee.py --------------------------------------------------\n",
      "[10:44] test_crack.py --------------------------------------------------\n"
     ]
    },
    {
     "name": "stderr",
     "output_type": "stream",
     "text": [
      "/usr/local/lib/python3.8/dist-packages/matscipy/fracture_mechanics/crack.py:35: UserWarning: Warning: no scipy\n",
      "  warnings.warn('Warning: no scipy')\n",
      "\n",
      "----------------------------------------------------------------------\n",
      "Ran 0 tests in 0.000s\n",
      "\n",
      "OK\n"
     ]
    },
    {
     "name": "stdout",
     "output_type": "stream",
     "text": [
      "[11:44] test_cubic_crystal_crack.py --------------------------------------------------\n"
     ]
    },
    {
     "name": "stderr",
     "output_type": "stream",
     "text": [
      "/usr/local/lib/python3.8/dist-packages/matscipy/fracture_mechanics/crack.py:35: UserWarning: Warning: no scipy\n",
      "  warnings.warn('Warning: no scipy')\n",
      "Traceback (most recent call last):\n",
      "  File \"test_cubic_crystal_crack.py\", line 64, in <module>\n",
      "    from matscipy.fracture_mechanics.crack import \\\n",
      "ImportError: cannot import name 'isotropic_modeII_crack_tip_displacement_field' from 'matscipy.fracture_mechanics.crack' (/usr/local/lib/python3.8/dist-packages/matscipy/fracture_mechanics/crack.py)\n"
     ]
    },
    {
     "name": "stdout",
     "output_type": "stream",
     "text": [
      "[12:44] test_dislocation.py --------------------------------------------------\n",
      "atomman not found: skipping some tests\n",
      "ovito not found: skipping some tests\n"
     ]
    },
    {
     "name": "stderr",
     "output_type": "stream",
     "text": [
      "sssssssssssssssssss"
     ]
    },
    {
     "name": "stdout",
     "output_type": "stream",
     "text": [
      "      Step     Time          Energy         fmax\n",
      "*Force-consistent energies used in optimization.\n",
      "FIRE:    0 11:54:55       -8.896394*       0.7808\n",
      "FIRE:    1 11:54:55       -8.899920*       0.1160\n",
      "FIRE:    2 11:54:55       -8.897214*       0.7321\n",
      "FIRE:    3 11:54:55       -8.898398*       0.5505\n",
      "FIRE:    4 11:54:55       -8.899676*       0.2427\n",
      "FIRE:    5 11:54:55       -8.899933*       0.1055\n",
      "FIRE:    6 11:54:55       -8.899940*       0.0997\n",
      "FIRE:    7 11:54:55       -8.899952*       0.0883\n",
      "FIRE:    8 11:54:55       -8.899967*       0.0719\n",
      "FIRE:    9 11:54:55       -8.899981*       0.0515\n",
      "FIRE:   10 11:54:55       -8.899991*       0.0281\n",
      "FIRE:   11 11:54:55       -8.899996*       0.0030\n",
      "FIRE:   12 11:54:55       -8.899993*       0.0223\n",
      "FIRE:   13 11:54:55       -8.899993*       0.0220\n",
      "FIRE:   14 11:54:55       -8.899993*       0.0214\n",
      "FIRE:   15 11:54:55       -8.899993*       0.0204\n",
      "FIRE:   16 11:54:55       -8.899994*       0.0192\n",
      "FIRE:   17 11:54:55       -8.899994*       0.0177\n",
      "FIRE:   18 11:54:55       -8.899994*       0.0160\n",
      "FIRE:   19 11:54:55       -8.899995*       0.0140\n",
      "FIRE:   20 11:54:55       -8.899995*       0.0116\n",
      "FIRE:   21 11:54:55       -8.899995*       0.0087\n",
      "FIRE:   22 11:54:55       -8.899996*       0.0053\n",
      "FIRE:   23 11:54:55       -8.899996*       0.0015\n",
      "FIRE:   24 11:54:55       -8.899996*       0.0029\n",
      "FIRE:   25 11:54:55       -8.899996*       0.0028\n",
      "FIRE:   26 11:54:55       -8.899996*       0.0028\n",
      "FIRE:   27 11:54:55       -8.899996*       0.0027\n",
      "FIRE:   28 11:54:55       -8.899996*       0.0026\n",
      "FIRE:   29 11:54:55       -8.899996*       0.0025\n",
      "FIRE:   30 11:54:55       -8.899996*       0.0023\n",
      "FIRE:   31 11:54:55       -8.899996*       0.0022\n",
      "FIRE:   32 11:54:55       -8.899996*       0.0020\n",
      "FIRE:   33 11:54:55       -8.899996*       0.0017\n",
      "FIRE:   34 11:54:55       -8.899996*       0.0014\n",
      "FIRE:   35 11:54:55       -8.899996*       0.0010\n",
      "FIRE:   36 11:54:55       -8.899996*       0.0006\n",
      "FIRE:   37 11:54:55       -8.899996*       0.0001\n",
      "Fitting C_11\n",
      "Strain array([-0.002, -0.001,  0.   ,  0.001,  0.002])\n",
      "Stress array([-1.05945134e+00, -5.25992123e-01,  5.16699364e-04,  5.20067470e-01,\n",
      "        1.03265246e+00]) GPa\n",
      "Cij (gradient) / GPa    :     523.0267210330137\n",
      "Error in Cij / GPa      :     2.3766342115194385\n",
      "Correlation coefficient :     0.9999690295141958\n",
      "Setting C11 (1) to 3.264476 +/- 0.014834\n",
      "\n",
      "\n",
      "Fitting C_21\n",
      "Strain array([-0.002, -0.001,  0.   ,  0.001,  0.002])\n",
      "Stress array([-0.41473062, -0.20438093,  0.0005167 ,  0.19997011,  0.39398708]) GPa\n",
      "Cij (gradient) / GPa    :     202.1786445696003\n",
      "Error in Cij / GPa      :     1.8595619578105504\n",
      "Correlation coefficient :     0.9998731298804535\n",
      "Setting C21 (7) to 1.261900 +/- 0.011606\n",
      "\n",
      "\n",
      "Fitting C_31\n",
      "Strain array([-0.002, -0.001,  0.   ,  0.001,  0.002])\n",
      "Stress array([-0.41473062, -0.20438093,  0.0005167 ,  0.19997011,  0.39398708]) GPa\n",
      "Cij (gradient) / GPa    :     202.1786445695976\n",
      "Error in Cij / GPa      :     1.8595619578137812\n",
      "Correlation coefficient :     0.9998731298804531\n",
      "Updating C31 (7) with value 1.261900 +/- 0.011606\n",
      "\n",
      "\n",
      "Fitting C_44\n",
      "Strain array([-0.002, -0.001,  0.   ,  0.001,  0.002])\n",
      "Stress array([-3.32801981e-01, -1.63636525e-01, -4.92161680e-16,  1.58118447e-01,\n",
      "        3.10729587e-01]) GPa\n",
      "Cij (gradient) / GPa    :     160.8818108256687\n",
      "Error in Cij / GPa      :     1.8847908474775237\n",
      "Correlation coefficient :     0.999794188515409\n",
      "Setting C44 (4) to 1.004145 +/- 0.011764\n",
      "\n",
      "\n",
      "[[b C11 b C12 b C12 b     b     b    ]\n",
      " [b C12 b C11 b C12 b     b     b    ]\n",
      " [b C12 b C12 b C11 b     b     b    ]\n",
      " [b     b     b     b C44 b     b    ]\n",
      " [b     b     b     b     b C44 b    ]\n",
      " [b     b     b     b     b     b C44]]\n",
      "\n",
      " = \n",
      "\n",
      "[[523.03 202.18 202.18   0.     0.     0.  ]\n",
      " [202.18 523.03 202.18   0.     0.     0.  ]\n",
      " [202.18 202.18 523.03   0.     0.     0.  ]\n",
      " [  0.     0.     0.   160.88   0.     0.  ]\n",
      " [  0.     0.     0.     0.   160.88   0.  ]\n",
      " [  0.     0.     0.     0.     0.   160.88]]\n",
      "C_11 = 523.03 +/- 2.38 GPa\n",
      "C_12 = 202.18 +/- 1.86 GPa\n",
      "C_44 = 160.88 +/- 1.88 GPa\n",
      "WARNING: In case lammps crashes no error message is printed:  check 'lammps.log' file in test folder\n"
     ]
    },
    {
     "name": "stderr",
     "output_type": "stream",
     "text": [
      ".Essssssss.Es"
     ]
    },
    {
     "name": "stdout",
     "output_type": "stream",
     "text": [
      "Not rounded values of C2 componets: \n",
      "n2u: 1.00,  n2v: 2.89\n",
      "Calculated cell vectors from n1u = 5\n",
      "n1v = 0\n",
      "n2u = 1\n",
      "n2v = 3\n",
      "delta u c2: 0.85 \n",
      "delta u c1: -0.165\n",
      "Not rounded values of C2 componets: \n",
      "n2u: 1.00,  n2v: 2.89\n",
      "Calculated cell vectors from n1u = 5\n",
      "n1v = 0\n",
      "n2u = 1\n",
      "n2v = 3\n",
      "delta u c2: 0.85 \n",
      "delta u c1: -0.165\n",
      "Not rounded values of C2 componets: \n",
      "n2u: 1.00,  n2v: 2.89\n",
      "Calculated cell vectors from n1u = 5\n",
      "n1v = 0\n",
      "n2u = 1\n",
      "n2v = 3\n",
      "delta u c2: 0.85 \n",
      "delta u c1: -0.165\n",
      "Not rounded values of C2 componets: \n",
      "n2u: 1.00,  n2v: 2.89\n",
      "Calculated cell vectors from n1u = 5\n",
      "n1v = 0\n",
      "n2u = 1\n",
      "n2v = 3\n"
     ]
    },
    {
     "name": "stderr",
     "output_type": "stream",
     "text": [
      ".ssssssssss"
     ]
    },
    {
     "name": "stdout",
     "output_type": "stream",
     "text": [
      "delta u c2: 0.85 \n",
      "delta u c1: -0.166\n",
      "Not rounded values of C2 componets: \n",
      "n2u: 1.00,  n2v: 2.89\n",
      "Calculated cell vectors from n1u = 5\n",
      "n1v = 0\n",
      "n2u = 1\n",
      "n2v = 3\n",
      "delta u c2: 0.86 \n",
      "delta u c1: -0.165\n",
      "Not rounded values of C2 componets: \n",
      "n2u: 1.00,  n2v: 2.89\n",
      "Calculated cell vectors from n1u = 5\n",
      "n1v = 0\n",
      "n2u = 1\n",
      "n2v = 3\n",
      "delta u c2: 0.85 \n",
      "delta u c1: -0.166\n",
      "Not rounded values of C2 componets: \n",
      "n2u: 1.00,  n2v: 2.89\n",
      "Calculated cell vectors from n1u = 5\n",
      "n1v = 0\n",
      "n2u = 1\n",
      "n2v = 3\n",
      "delta u c2: 0.85 \n",
      "delta u c1: -0.166\n",
      "Not rounded values of C2 componets: \n",
      "n2u: 1.00,  n2v: 2.89\n",
      "Calculated cell vectors from n1u = 5\n",
      "n1v = 0\n",
      "n2u = 1\n",
      "n2v = 3\n",
      "delta u c2: 0.86 \n",
      "delta u c1: -0.165\n",
      "Not rounded values of C2 componets: \n",
      "n2u: 1.00,  n2v: 2.89\n",
      "Calculated cell vectors from n1u = 5\n",
      "n1v = 0\n",
      "n2u = 1\n",
      "n2v = 3\n",
      "delta u c2: 0.85 \n",
      "delta u c1: -0.166\n",
      "Not rounded values of C2 componets: \n",
      "n2u: 1.00,  n2v: 2.89\n",
      "Calculated cell vectors from n1u = 5\n",
      "n1v = 0\n",
      "n2u = 1\n",
      "n2v = 3\n",
      "delta u c2: 0.86 \n",
      "delta u c1: -0.165\n"
     ]
    },
    {
     "name": "stderr",
     "output_type": "stream",
     "text": [
      ".s\n",
      "======================================================================\n",
      "ERROR: test_elastic_constants_lammpslib (__main__.TestDislocation)\n",
      "Test the get_elastic_constants() function using lammpslib.\n",
      "----------------------------------------------------------------------\n",
      "Traceback (most recent call last):\n",
      "  File \"test_dislocation.py\", line 138, in test_elastic_constants_lammpslib\n",
      "    obtained_values = sd.get_elastic_constants(calculator=lammps,\n",
      "  File \"/usr/local/lib/python3.8/dist-packages/matscipy/dislocation.py\", line 473, in get_elastic_constants\n",
      "    opt = FIRE(sf)\n",
      "  File \"/usr/local/lib/python3.8/dist-packages/ase/optimize/fire.py\", line 54, in __init__\n",
      "    Optimizer.__init__(self, atoms, restart, logfile, trajectory,\n",
      "  File \"/usr/local/lib/python3.8/dist-packages/ase/optimize/optimize.py\", line 234, in __init__\n",
      "    self.set_force_consistent()\n",
      "  File \"/usr/local/lib/python3.8/dist-packages/ase/optimize/optimize.py\", line 325, in set_force_consistent\n",
      "    self.atoms.get_potential_energy(force_consistent=True)\n",
      "  File \"/usr/local/lib/python3.8/dist-packages/ase/constraints.py\", line 2159, in get_potential_energy\n",
      "    return self.atoms.get_potential_energy(**kwargs)\n",
      "  File \"/usr/local/lib/python3.8/dist-packages/ase/atoms.py\", line 728, in get_potential_energy\n",
      "    energy = self._calc.get_potential_energy(\n",
      "  File \"/usr/local/lib/python3.8/dist-packages/ase/calculators/calculator.py\", line 709, in get_potential_energy\n",
      "    energy = self.get_property('energy', atoms)\n",
      "  File \"/usr/local/lib/python3.8/dist-packages/ase/calculators/calculator.py\", line 737, in get_property\n",
      "    self.calculate(atoms, [name], system_changes)\n",
      "  File \"/usr/local/lib/python3.8/dist-packages/ase/calculators/lammpslib.py\", line 356, in calculate\n",
      "    self.propagate(atoms, properties, system_changes, 0)\n",
      "  File \"/usr/local/lib/python3.8/dist-packages/ase/calculators/lammpslib.py\", line 377, in propagate\n",
      "    self.start_lammps()\n",
      "  File \"/usr/local/lib/python3.8/dist-packages/ase/calculators/lammpslib.py\", line 630, in start_lammps\n",
      "    self.lmp = lammps(self.parameters.lammps_name, self.cmd_args,\n",
      "  File \"/usr/local/lib/python3.8/dist-packages/lammps-2023.11.21-py3.8.egg/lammps/core.py\", line 150, in __init__\n",
      "    self.lib = CDLL(libpath,RTLD_GLOBAL)\n",
      "  File \"/usr/lib/python3.8/ctypes/__init__.py\", line 373, in __init__\n",
      "    self._handle = _dlopen(self._name, mode)\n",
      "OSError: liblammps.so: cannot open shared object file: No such file or directory\n",
      "\n",
      "======================================================================\n",
      "ERROR: test_gamma_line (__main__.TestDislocation)\n",
      "----------------------------------------------------------------------\n",
      "Traceback (most recent call last):\n",
      "  File \"test_dislocation.py\", line 731, in test_gamma_line\n",
      "    shift, E = sd.gamma_line(unit_cell, surface=1, factor=5)\n",
      "  File \"/usr/local/lib/python3.8/dist-packages/matscipy/dislocation.py\", line 2911, in gamma_line\n",
      "    if image.get_forces().max() < fmax:\n",
      "  File \"/usr/local/lib/python3.8/dist-packages/ase/atoms.py\", line 788, in get_forces\n",
      "    forces = self._calc.get_forces(self)\n",
      "  File \"/usr/local/lib/python3.8/dist-packages/ase/calculators/abc.py\", line 23, in get_forces\n",
      "    return self.get_property('forces', atoms)\n",
      "  File \"/usr/local/lib/python3.8/dist-packages/ase/calculators/calculator.py\", line 737, in get_property\n",
      "    self.calculate(atoms, [name], system_changes)\n",
      "  File \"/usr/local/lib/python3.8/dist-packages/ase/calculators/lammpslib.py\", line 356, in calculate\n",
      "    self.propagate(atoms, properties, system_changes, 0)\n",
      "  File \"/usr/local/lib/python3.8/dist-packages/ase/calculators/lammpslib.py\", line 377, in propagate\n",
      "    self.start_lammps()\n",
      "  File \"/usr/local/lib/python3.8/dist-packages/ase/calculators/lammpslib.py\", line 630, in start_lammps\n",
      "    self.lmp = lammps(self.parameters.lammps_name, self.cmd_args,\n",
      "  File \"/usr/local/lib/python3.8/dist-packages/lammps-2023.11.21-py3.8.egg/lammps/core.py\", line 150, in __init__\n",
      "    self.lib = CDLL(libpath,RTLD_GLOBAL)\n",
      "  File \"/usr/lib/python3.8/ctypes/__init__.py\", line 373, in __init__\n",
      "    self._handle = _dlopen(self._name, mode)\n",
      "OSError: liblammps.so: cannot open shared object file: No such file or directory\n",
      "\n",
      "----------------------------------------------------------------------\n",
      "Ran 45 tests in 2.930s\n",
      "\n",
      "FAILED (errors=2, skipped=39)\n"
     ]
    },
    {
     "name": "stdout",
     "output_type": "stream",
     "text": [
      "[13:44] test_eam_average_atom.py --------------------------------------------------\n",
      "1.899947154980202e-11 8.276319436960442e-12 5.568690673510684e-09\n"
     ]
    },
    {
     "name": "stderr",
     "output_type": "stream",
     "text": [
      "."
     ]
    },
    {
     "name": "stdout",
     "output_type": "stream",
     "text": [
      "8.060225063362135e-14 7.284171830792157e-16 5.9899923073000205e-12\n"
     ]
    },
    {
     "name": "stderr",
     "output_type": "stream",
     "text": [
      ".\n",
      "----------------------------------------------------------------------\n",
      "Ran 2 tests in 0.340s\n",
      "\n",
      "OK\n"
     ]
    },
    {
     "name": "stdout",
     "output_type": "stream",
     "text": [
      "[14:44] test_eam_calculator.py --------------------------------------------------\n"
     ]
    },
    {
     "name": "stderr",
     "output_type": "stream",
     "text": [
      "test_eam_calculator.py:156: ResourceWarning: unclosed file <_io.TextIOWrapper name='/dev/null' mode='a' encoding='UTF-8'>\n",
      "  FIRE(StrainFilter(a, mask=[1,1,1,0,0,0]), logfile=None).run(fmax=0.001)\n",
      "ResourceWarning: Enable tracemalloc to get the object allocation traceback\n",
      "test_eam_calculator.py:163: ResourceWarning: unclosed file <_io.TextIOWrapper name='/dev/null' mode='a' encoding='UTF-8'>\n",
      "  FIRE(StrainFilter(a, mask=[1,1,1,0,0,0]), logfile=None).run(fmax=1e-3)\n",
      "ResourceWarning: Enable tracemalloc to get the object allocation traceback\n"
     ]
    },
    {
     "name": "stdout",
     "output_type": "stream",
     "text": [
      "a_Zr (3.220) =  3.2202995014056484 3.220299501405649\n",
      "c_Zr (5.215) =  5.215212584900969\n"
     ]
    },
    {
     "name": "stderr",
     "output_type": "stream",
     "text": [
      "test_eam_calculator.py:174: ResourceWarning: unclosed file <_io.TextIOWrapper name='/dev/null' mode='a' encoding='UTF-8'>\n",
      "  FIRE(UnitCellFilter(a, mask=[1,1,1,0,0,0]), logfile=None).run(fmax=0.001)\n",
      "ResourceWarning: Enable tracemalloc to get the object allocation traceback\n",
      "test_eam_calculator.py:180: ResourceWarning: unclosed file <_io.TextIOWrapper name='/dev/null' mode='a' encoding='UTF-8'>\n",
      "  FIRE(UnitCellFilter(a, mask=[1,1,1,0,0,0]), logfile=None).run(fmax=0.001)\n",
      "ResourceWarning: Enable tracemalloc to get the object allocation traceback\n",
      "test_eam_calculator.py:186: ResourceWarning: unclosed file <_io.TextIOWrapper name='/dev/null' mode='a' encoding='UTF-8'>\n",
      "  FIRE(UnitCellFilter(a, mask=[1,1,1,0,0,0]), logfile=None).run(fmax=0.001)\n",
      "ResourceWarning: Enable tracemalloc to get the object allocation traceback\n",
      ".test_eam_calculator.py:85: ResourceWarning: unclosed file <_io.TextIOWrapper name='/dev/null' mode='a' encoding='UTF-8'>\n",
      "  FIRE(StrainFilter(a, mask=[1,1,1,0,0,0]), logfile=None).run(fmax=0.001)\n",
      "ResourceWarning: Enable tracemalloc to get the object allocation traceback\n",
      ".test_eam_calculator.py:109: ResourceWarning: unclosed file <_io.TextIOWrapper name='/dev/null' mode='a' encoding='UTF-8'>\n",
      "  FIRE(StrainFilter(a, mask=[1,1,1,0,0,0]), logfile=None).run(fmax=0.001)\n",
      "ResourceWarning: Enable tracemalloc to get the object allocation traceback\n",
      "test_eam_calculator.py:114: ResourceWarning: unclosed file <_io.TextIOWrapper name='/dev/null' mode='a' encoding='UTF-8'>\n",
      "  FIRE(StrainFilter(a, mask=[1,1,1,0,0,0]), logfile=None).run(fmax=0.001)\n",
      "ResourceWarning: Enable tracemalloc to get the object allocation traceback\n",
      "test_eam_calculator.py:120: ResourceWarning: unclosed file <_io.TextIOWrapper name='/dev/null' mode='a' encoding='UTF-8'>\n",
      "  FIRE(UnitCellFilter(a, mask=[1,1,1,0,0,0]), logfile=None).run(fmax=0.001)\n",
      "ResourceWarning: Enable tracemalloc to get the object allocation traceback\n",
      "test_eam_calculator.py:128: ResourceWarning: unclosed file <_io.TextIOWrapper name='/dev/null' mode='a' encoding='UTF-8'>\n",
      "  FIRE(UnitCellFilter(a, mask=[1,1,1,0,0,0]), logfile=None).run(fmax=0.001)\n",
      "ResourceWarning: Enable tracemalloc to get the object allocation traceback\n",
      "test_eam_calculator.py:136: ResourceWarning: unclosed file <_io.TextIOWrapper name='/dev/null' mode='a' encoding='UTF-8'>\n",
      "  FIRE(UnitCellFilter(a, mask=[1,1,1,0,0,0]), logfile=None).run(fmax=0.001)\n",
      "ResourceWarning: Enable tracemalloc to get the object allocation traceback\n",
      "test_eam_calculator.py:144: ResourceWarning: unclosed file <_io.TextIOWrapper name='/dev/null' mode='a' encoding='UTF-8'>\n",
      "  FIRE(UnitCellFilter(a, mask=[1,1,1,0,0,0]), logfile=None).run(fmax=0.001)\n",
      "ResourceWarning: Enable tracemalloc to get the object allocation traceback\n",
      "..."
     ]
    },
    {
     "name": "stdout",
     "output_type": "stream",
     "text": [
      "-14800607.492460342\n",
      "-12740517.641562674\n",
      "-10950845.151994184\n",
      "-9390609.436427845\n",
      "-8028458.402816501\n",
      "-6834946.5028766915\n",
      "-5780288.541481184\n",
      "-4843554.781064456\n",
      "-4016623.779912865\n",
      "-3298452.7411342794\n",
      "-2685307.246672823\n",
      "-2167219.8722969745\n",
      "-1734163.5364441103\n",
      "-1375202.9682791731\n",
      "-1080300.1535203215\n",
      "-840064.3034462429\n",
      "-645944.1723992431\n",
      "-490379.89836702734\n",
      "-367014.93270307285\n",
      "-270330.9586234429\n",
      "-195657.62393529757\n",
      "-139004.59018774322\n",
      "-96882.91081101981\n",
      "-66029.88355877767\n",
      "-43658.29211322299\n",
      "-27780.08152054316\n",
      "-16777.63570298422\n",
      "-9342.177323014856\n",
      "-4463.098234376725\n",
      "-1377.6336765087426\n",
      "484.75474257508813\n",
      "1529.9012287613177\n",
      "2043.2124223570945\n",
      "2214.6403565577684\n",
      "2170.107379841768\n",
      "1991.7471425141525\n",
      "1733.411682238151\n",
      "1429.9416782706612\n",
      "1104.971750148685\n",
      "777.4876611668805\n",
      "461.99444380985557\n",
      "168.65455482092278\n",
      "-96.93714337849258\n",
      "-337.6661272646883\n",
      "-555.8590411583089\n",
      "-753.1546287762441\n",
      "-929.6588442610029\n",
      "-1085.8469893028905\n",
      "-1222.8574689458574\n",
      "-1342.2471773744253\n",
      "-1446.134398065536\n",
      "-1537.112983303068\n",
      "-1617.3528357774178\n",
      "-1687.9484471848864\n",
      "-1749.4160311787575\n",
      "-1802.2241665414376\n",
      "-1846.4299579485723\n",
      "-1882.1029518915982\n",
      "-1909.9822899619448\n",
      "-1930.7843960423515\n",
      "-1945.5330590653687\n",
      "-1955.320111607371\n",
      "-1960.7370685741018\n",
      "-1962.0503153930238\n",
      "-1959.4305376100597\n",
      "-1953.260682281426\n",
      "-1943.9489851606763\n",
      "-1931.8115821545493\n",
      "-1917.6312116889176\n",
      "-1901.9577539089296\n",
      "-1884.7057039333167\n",
      "-1865.79226750737\n",
      "-1845.163403375233\n",
      "-1822.7276661412513\n",
      "-1798.4466995083421\n",
      "-1772.507594175114\n",
      "-1745.2402844504154\n",
      "-1717.2012880902782\n",
      "-1689.1945876587774\n",
      "-1660.8129533416522\n",
      "-1631.3032962934099\n",
      "-1601.0539409568278\n",
      "-1570.4163449493308\n",
      "-1539.704084442037\n",
      "-1509.191557665872\n",
      "-1479.0783654007835\n",
      "-1449.2057780199852\n",
      "-1419.39876698392\n",
      "-1389.6732890457588\n",
      "-1360.0585149275464\n",
      "-1330.5874112603856\n",
      "-1301.2966261708102\n",
      "-1272.2263737200235\n",
      "-1243.4290330232652\n",
      "-1214.8927147834431\n",
      "-1186.4142771938064\n",
      "-1157.8876472200106\n",
      "-1129.341606025752\n",
      "-1100.8127382016924\n",
      "-1072.3378669744727\n",
      "-1043.9531267905109\n",
      "-1015.7229269210593\n",
      "-987.802199799991\n",
      "-960.3538152082399\n",
      "-933.5394591947663\n",
      "-907.5198809951453\n",
      "-882.3893910099823\n",
      "-858.1237725369896\n",
      "-834.6890908565408\n",
      "-812.06975446764\n",
      "-790.257158691382\n",
      "-769.2425059247034\n",
      "-749.0168904857917\n",
      "-729.5759373549153\n",
      "-710.9213498316125\n",
      "-692.9223971854201\n",
      "-675.1031359368142\n",
      "-657.4078477204222\n",
      "-639.8260852570356\n",
      "-622.3482094787955\n",
      "-604.9655055751446\n",
      "-587.6703046895946\n",
      "-570.45611256092\n",
      "-553.3177455545633\n",
      "-536.2514745608684\n",
      "-519.255177960262\n",
      "-502.3410177138078\n",
      "-485.5854306769944\n",
      "-469.0634623938118\n",
      "-452.8387077368959\n",
      "-436.9701941801896\n",
      "-421.5134944085085\n",
      "-406.5218395255813\n",
      "-392.0471874971914\n",
      "-378.14120541058617\n",
      "-364.85612889394827\n",
      "-352.2405843396199\n",
      "-340.29553905737936\n",
      "-328.9961936413739\n",
      "-318.32052023272854\n",
      "-308.2490348387799\n",
      "-298.7642923144828\n",
      "-289.8504627252371\n",
      "-281.49297902961405\n",
      "-273.6782469258302\n",
      "-266.39341093535137\n",
      "-259.6239498150934\n",
      "-253.30609354790252\n",
      "-247.32803707498843\n",
      "-241.5761600505857\n",
      "-235.93695567688172\n",
      "-230.2969869440789\n",
      "-224.5428550317313\n",
      "-218.5611707803879\n",
      "-212.23851937219996\n",
      "-205.46140695923395\n",
      "-198.11749235353994\n",
      "-190.18257420421406\n",
      "-181.7748452172708\n",
      "-173.02521520655804\n",
      "-164.06444516217385\n",
      "-155.02328475472595\n",
      "-146.0326421020028\n",
      "-137.22376881197545\n",
      "-128.72844084669632\n",
      "-120.67911463163624\n",
      "-113.2089683503874\n",
      "-106.40218551268853\n",
      "-100.2060368745634\n",
      "-94.54428246384221\n",
      "-89.3405614753358\n",
      "-84.51836822065513\n",
      "-80.0010384730241\n",
      "-75.71174352468195\n",
      "-71.57348996124597\n",
      "-67.50912308497396\n",
      "-63.44133249517338\n",
      "-59.30673254337357\n",
      "-55.110641616435764\n",
      "-50.87930999030441\n",
      "-46.638928277705006\n",
      "-42.41562360755651\n",
      "-38.235460681387536\n",
      "-34.12444236724527\n",
      "-30.108509657226648\n",
      "-26.213540851173768\n",
      "-22.465349812074585\n",
      "-18.89024327437349\n",
      "-15.519551194521604\n",
      "-12.387433854607622\n",
      "-9.52829532872087\n",
      "-6.976746560307742\n",
      "-4.767577714185028\n",
      "-2.935715059922127\n",
      "-1.5161618605250953\n",
      "-0.5439232208657501\n",
      "-0.05391547000976011\n",
      "2.5214761632240513e-18\n",
      "2.5214761632240513e-18\n",
      "2.5214761632240513e-18\n",
      "2.5214761632240513e-18\n"
     ]
    },
    {
     "name": "stderr",
     "output_type": "stream",
     "text": [
      "..\n",
      "----------------------------------------------------------------------\n",
      "Ran 7 tests in 103.554s\n",
      "\n",
      "OK\n"
     ]
    },
    {
     "name": "stdout",
     "output_type": "stream",
     "text": [
      "[15:44] test_eam_calculator_forces_and_hessian.py --------------------------------------------------\n"
     ]
    },
    {
     "name": "stderr",
     "output_type": "stream",
     "text": [
      "./usr/local/lib/python3.8/dist-packages/ase/utils/__init__.py:62: DeprecationWarning: Please use atoms.calc = calc\n",
      "  warnings.warn(warning)\n",
      ".....\n",
      "----------------------------------------------------------------------\n",
      "Ran 6 tests in 551.095s\n",
      "\n",
      "OK\n"
     ]
    },
    {
     "name": "stdout",
     "output_type": "stream",
     "text": [
      "[16:44] test_eam_io.py --------------------------------------------------\n"
     ]
    },
    {
     "name": "stderr",
     "output_type": "stream",
     "text": [
      "....\n",
      "----------------------------------------------------------------------\n",
      "Ran 4 tests in 0.388s\n",
      "\n",
      "OK\n"
     ]
    },
    {
     "name": "stdout",
     "output_type": "stream",
     "text": [
      "0 [0.] [0.] [0.] 1e-06 [ True]\n",
      "1 [79] [79] [0] 1e-06 [ True]\n",
      "2 [196.97] [196.97] [0.] 1e-06 [ True]\n",
      "3 [4.08] [4.08] [0.] 1e-06 [ True]\n",
      "5 500 500 0 1e-06 True\n",
      "6 500 500 0 1e-06 True\n",
      "7 0.0005010020040080131 0.0005010020040080131 0.0 1e-06 True\n",
      "8 0.011212121212121229 0.011212121212121229 0.0 1e-06 True\n",
      "9 5.550000000000011 5.55 1.1546319456101628e-14 1e-06 True\n",
      "[17:44] test_elastic_moduli.py --------------------------------------------------\n"
     ]
    },
    {
     "name": "stderr",
     "output_type": "stream",
     "text": [
      "\n",
      "----------------------------------------------------------------------\n",
      "Ran 0 tests in 0.000s\n",
      "\n",
      "OK\n"
     ]
    },
    {
     "name": "stdout",
     "output_type": "stream",
     "text": [
      "[18:44] test_energy_release.py --------------------------------------------------\n"
     ]
    },
    {
     "name": "stderr",
     "output_type": "stream",
     "text": [
      "/usr/local/lib/python3.8/dist-packages/matscipy/fracture_mechanics/crack.py:35: UserWarning: Warning: no scipy\n",
      "  warnings.warn('Warning: no scipy')\n"
     ]
    },
    {
     "name": "stdout",
     "output_type": "stream",
     "text": [
      "[19:44] test_ewald.py --------------------------------------------------\n",
      "[20:44] test_ffi.py --------------------------------------------------\n",
      "[21:44] test_fit_elastic_constants.py --------------------------------------------------\n"
     ]
    },
    {
     "name": "stderr",
     "output_type": "stream",
     "text": [
      "\n",
      "----------------------------------------------------------------------\n",
      "Ran 0 tests in 0.000s\n",
      "\n",
      "OK\n"
     ]
    },
    {
     "name": "stdout",
     "output_type": "stream",
     "text": [
      "[22:44] test_full_to_Voigt.py --------------------------------------------------\n",
      "[23:44] test_gamma_surface.py --------------------------------------------------\n"
     ]
    },
    {
     "name": "stderr",
     "output_type": "stream",
     "text": [
      "Traceback (most recent call last):\n",
      "  File \"test_gamma_surface.py\", line 5, in <module>\n",
      "    from matscipy.gamma_surface import *\n",
      "ModuleNotFoundError: No module named 'matscipy.gamma_surface'\n"
     ]
    },
    {
     "name": "stdout",
     "output_type": "stream",
     "text": [
      "[24:44] test_hessian_finite_differences.py --------------------------------------------------\n"
     ]
    },
    {
     "name": "stderr",
     "output_type": "stream",
     "text": [
      "EEE\n",
      "======================================================================\n",
      "ERROR: test_hessian_sparse (__main__.TestPairPotentialCalculator)\n",
      "----------------------------------------------------------------------\n",
      "Traceback (most recent call last):\n",
      "  File \"test_hessian_finite_differences.py\", line 77, in test_hessian_sparse\n",
      "    H_numerical = numerical_hessian(atoms, d=1e-5, indices=None)\n",
      "TypeError: numerical_hessian() got an unexpected keyword argument 'd'\n",
      "\n",
      "======================================================================\n",
      "ERROR: test_hessian_sparse_split (__main__.TestPairPotentialCalculator)\n",
      "----------------------------------------------------------------------\n",
      "Traceback (most recent call last):\n",
      "  File \"test_hessian_finite_differences.py\", line 100, in test_hessian_sparse_split\n",
      "    H_numerical_split1 = numerical_hessian(\n",
      "TypeError: numerical_hessian() got an unexpected keyword argument 'd'\n",
      "\n",
      "======================================================================\n",
      "ERROR: test_symmetry_sparse (__main__.TestPairPotentialCalculator)\n",
      "----------------------------------------------------------------------\n",
      "Traceback (most recent call last):\n",
      "  File \"test_hessian_finite_differences.py\", line 87, in test_symmetry_sparse\n",
      "    H_numerical = numerical_hessian(atoms, d=1e-5, indices=None)\n",
      "TypeError: numerical_hessian() got an unexpected keyword argument 'd'\n",
      "\n",
      "----------------------------------------------------------------------\n",
      "Ran 3 tests in 0.070s\n",
      "\n",
      "FAILED (errors=3)\n"
     ]
    },
    {
     "name": "stdout",
     "output_type": "stream",
     "text": [
      "[25:44] test_hessian_precon.py --------------------------------------------------\n",
      "[1.54199584+0.j 1.55870491+0.j 1.89188327+0.j]\n",
      "|F| =     0.681539\n",
      "[1.4873249 +0.j 1.48680773+0.j 1.87328219+0.j]\n",
      "|F| =     0.017274\n",
      "[1.48927024+0.j 1.48926787+0.j 1.87453386+0.j]\n",
      "|F| =     0.000032\n"
     ]
    },
    {
     "name": "stderr",
     "output_type": "stream",
     "text": [
      "."
     ]
    },
    {
     "name": "stdout",
     "output_type": "stream",
     "text": [
      "vac_index=168 i1=91 i2=170 distance=4.978031739553296\n",
      "        Step     Time          Energy         fmax\n",
      "*Force-consistent energies used in optimization.\n",
      "ODE12r:    0 12:06:08    -1133.128945*       0.2843\n",
      "ODE12r:    1 12:06:08    -1133.128945*       0.2843\n",
      "ODE12r:    2 12:06:18    -1133.164805*       0.1497\n",
      "ODE12r:    3 12:06:19    -1133.174895*       0.0752\n",
      "ODE12r:    4 12:06:21    -1133.177920*       0.0237\n",
      "ODE12r:    5 12:06:24    -1133.178248*       0.0008\n",
      "        Step     Time          Energy         fmax\n",
      "*Force-consistent energies used in optimization.\n",
      "ODE12r:    0 12:06:25    -1133.128945*       0.2843\n",
      "ODE12r:    1 12:06:25    -1133.128945*       0.2843\n",
      "ODE12r:    2 12:06:34    -1133.164805*       0.1497\n",
      "ODE12r:    3 12:06:35    -1133.174895*       0.0752\n",
      "ODE12r:    4 12:06:40    -1133.177920*       0.0237\n",
      "ODE12r:    5 12:06:41    -1133.178248*       0.0008\n",
      "                   Step     Time         fmax\n",
      "NEBOptimizer[ode]:    0 12:07:35       1.2902\n",
      "NEBOptimizer[ode]:    1 12:08:07       1.1328\n",
      "NEBOptimizer[ode]:    2 12:08:25       1.0611\n",
      "NEBOptimizer[ode]:    3 12:08:39       0.8085\n",
      "NEBOptimizer[ode]:    4 12:09:09       0.6238\n",
      "NEBOptimizer[ode]:    5 12:09:23       0.5657\n",
      "NEBOptimizer[ode]:    6 12:09:44       0.6177\n",
      "NEBOptimizer[ode]:    7 12:10:01       0.4986\n"
     ]
    }
   ],
   "source": [
    "import os, sys, subprocess\n",
    "os.chdir('matscipy_tests')\n",
    "# sys.path.insert(0, './matscipy_tests')\n",
    "\n",
    "test_filenames = [filename for filename in os.listdir('./') if filename.startswith('test_')]\n",
    "tests_failed = []\n",
    "tests_succeeded = []\n",
    "tests_error = []\n",
    "for idx,filename in enumerate(sorted(test_filenames),1):\n",
    "    print(f'[{idx}:{len(test_filenames)}]',filename,'--------------------------------------------------')\n",
    "    try:\n",
    "        res = subprocess.call(f'python3 '+filename, shell=True)\n",
    "        if res == 0:\n",
    "            tests_succeeded.append(filename)\n",
    "        else:\n",
    "            tests_failed.append(filename)\n",
    "    except Exception as e:\n",
    "        tests_error.append(filename)\n",
    "        print(e)\n",
    "        continue\n",
    "    # break\n",
    "os.chdir('..')"
   ]
  },
  {
   "cell_type": "code",
   "execution_count": 2,
   "metadata": {},
   "outputs": [
    {
     "name": "stdout",
     "output_type": "stream",
     "text": [
      "[25:44] test_hessian_precon.py --------------------------------------------------\n",
      "[1.54199584+0.j 1.55870491+0.j 1.89188327+0.j]\n",
      "|F| =     0.681539\n",
      "[1.4873249 +0.j 1.48680773+0.j 1.87328219+0.j]\n",
      "|F| =     0.017274\n",
      "[1.48927024+0.j 1.48926787+0.j 1.87453386+0.j]\n",
      "|F| =     0.000032\n"
     ]
    },
    {
     "name": "stderr",
     "output_type": "stream",
     "text": [
      "."
     ]
    },
    {
     "name": "stdout",
     "output_type": "stream",
     "text": [
      "vac_index=168 i1=91 i2=170 distance=4.978031739553296\n",
      "        Step     Time          Energy         fmax\n",
      "*Force-consistent energies used in optimization.\n",
      "ODE12r:    0 12:42:23    -1133.128945*       0.2843\n",
      "ODE12r:    1 12:42:23    -1133.128945*       0.2843\n",
      "ODE12r:    2 12:42:29    -1133.164805*       0.1497\n",
      "ODE12r:    3 12:42:29    -1133.174895*       0.0752\n",
      "ODE12r:    4 12:42:30    -1133.177920*       0.0237\n",
      "ODE12r:    5 12:42:30    -1133.178248*       0.0008\n",
      "        Step     Time          Energy         fmax\n",
      "*Force-consistent energies used in optimization.\n",
      "ODE12r:    0 12:42:30    -1133.128945*       0.2843\n",
      "ODE12r:    1 12:42:30    -1133.128945*       0.2843\n",
      "ODE12r:    2 12:42:39    -1133.164805*       0.1497\n",
      "ODE12r:    3 12:42:40    -1133.174895*       0.0752\n",
      "ODE12r:    4 12:42:42    -1133.177920*       0.0237\n",
      "ODE12r:    5 12:42:43    -1133.178248*       0.0008\n",
      "                   Step     Time         fmax\n",
      "NEBOptimizer[ode]:    0 12:43:25       1.2902\n",
      "NEBOptimizer[ode]:    1 12:43:42       1.1328\n",
      "NEBOptimizer[ode]:    2 12:43:50       1.0611\n",
      "NEBOptimizer[ode]:    3 12:43:57       0.8085\n",
      "NEBOptimizer[ode]:    4 12:44:21       0.6238\n",
      "NEBOptimizer[ode]:    5 12:44:28       0.5657\n",
      "NEBOptimizer[ode]:    6 12:44:45       0.6177\n",
      "NEBOptimizer[ode]:    7 12:44:59       0.4986\n",
      "NEBOptimizer[ode]:    8 12:45:17       0.3347\n",
      "NEBOptimizer[ode]:    9 12:45:29       0.2796\n",
      "NEBOptimizer[ode]:   10 12:45:35       0.2664\n",
      "NEBOptimizer[ode]:   11 12:45:54       0.5229\n",
      "NEBOptimizer[ode]:   12 12:46:00       0.2214\n",
      "NEBOptimizer[ode]:   13 12:46:14       0.2969\n",
      "NEBOptimizer[ode]:   14 12:46:20       0.1610\n",
      "NEBOptimizer[ode]:   15 12:46:27       0.1251\n",
      "NEBOptimizer[ode]:   16 12:46:32       0.1296\n",
      "NEBOptimizer[ode]:   17 12:46:39       0.1283\n",
      "NEBOptimizer[ode]:   18 12:46:45       0.0942\n"
     ]
    },
    {
     "name": "stderr",
     "output_type": "stream",
     "text": [
      "."
     ]
    },
    {
     "name": "stdout",
     "output_type": "stream",
     "text": [
      "PreconLBFGS:   0  12:46:45     -474.377997       0.5019\n",
      "PreconLBFGS:   1  12:46:47     -474.577573       0.0124\n",
      "PreconLBFGS:   2  12:46:47     -474.577707       0.0009\n",
      "PreconLBFGS:   3  12:46:48     -474.577708       0.0000\n",
      "PreconLBFGS:   4  12:46:48     -474.577708       0.0000\n",
      "PreconLBFGS:   5  12:46:48     -474.577708       0.0000\n",
      "       Step     Time          Energy         fmax\n",
      "*Force-consistent energies used in optimization.\n",
      "LBFGS:    0 12:46:48     -474.377997*       0.5019\n",
      "LBFGS:    1 12:46:48     -474.444659*       0.3998\n",
      "LBFGS:    2 12:46:48     -474.554349*       0.1164\n",
      "LBFGS:    3 12:46:48     -474.559792*       0.1017\n",
      "LBFGS:    4 12:46:48     -474.573683*       0.0486\n",
      "LBFGS:    5 12:46:49     -474.574539*       0.0435\n",
      "LBFGS:    6 12:46:49     -474.576336*       0.0242\n",
      "LBFGS:    7 12:46:49     -474.576760*       0.0224\n",
      "LBFGS:    8 12:46:49     -474.577050*       0.0169\n",
      "LBFGS:    9 12:46:49     -474.577249*       0.0154\n",
      "LBFGS:   10 12:46:49     -474.577435*       0.0127\n",
      "LBFGS:   11 12:46:49     -474.577521*       0.0095\n",
      "LBFGS:   12 12:46:49     -474.577572*       0.0093\n",
      "LBFGS:   13 12:46:49     -474.577616*       0.0068\n",
      "LBFGS:   14 12:46:49     -474.577654*       0.0056\n",
      "LBFGS:   15 12:46:49     -474.577675*       0.0042\n",
      "LBFGS:   16 12:46:49     -474.577684*       0.0028\n",
      "LBFGS:   17 12:46:49     -474.577691*       0.0029\n",
      "LBFGS:   18 12:46:49     -474.577697*       0.0022\n",
      "LBFGS:   19 12:46:50     -474.577700*       0.0021\n",
      "LBFGS:   20 12:46:50     -474.577702*       0.0016\n",
      "LBFGS:   21 12:46:50     -474.577704*       0.0014\n",
      "LBFGS:   22 12:46:50     -474.577705*       0.0011\n",
      "LBFGS:   23 12:46:50     -474.577706*       0.0008\n",
      "LBFGS:   24 12:46:50     -474.577706*       0.0007\n",
      "LBFGS:   25 12:46:50     -474.577707*       0.0006\n",
      "LBFGS:   26 12:46:50     -474.577707*       0.0005\n",
      "LBFGS:   27 12:46:50     -474.577707*       0.0005\n",
      "LBFGS:   28 12:46:50     -474.577707*       0.0004\n",
      "LBFGS:   29 12:46:50     -474.577707*       0.0003\n",
      "LBFGS:   30 12:46:50     -474.577707*       0.0002\n",
      "LBFGS:   31 12:46:50     -474.577707*       0.0001\n",
      "LBFGS:   32 12:46:50     -474.577707*       0.0001\n",
      "LBFGS:   33 12:46:51     -474.577707*       0.0001\n",
      "LBFGS:   34 12:46:51     -474.577708*       0.0001\n",
      "LBFGS:   35 12:46:51     -474.577708*       0.0001\n",
      "LBFGS:   36 12:46:51     -474.577708*       0.0001\n",
      "LBFGS:   37 12:46:51     -474.577708*       0.0001\n",
      "LBFGS:   38 12:46:51     -474.577708*       0.0001\n",
      "LBFGS:   39 12:46:51     -474.577708*       0.0001\n",
      "LBFGS:   40 12:46:51     -474.577708*       0.0000\n",
      "LBFGS:   41 12:46:51     -474.577708*       0.0000\n",
      "LBFGS:   42 12:46:51     -474.577708*       0.0000\n",
      "LBFGS:   43 12:46:51     -474.577708*       0.0000\n",
      "LBFGS:   44 12:46:51     -474.577708*       0.0000\n",
      "LBFGS:   45 12:46:51     -474.577708*       0.0000\n",
      "LBFGS:   46 12:46:51     -474.577708*       0.0000\n",
      "LBFGS:   47 12:46:52     -474.577708*       0.0000\n",
      "LBFGS:   48 12:46:52     -474.577708*       0.0000\n",
      "LBFGS:   49 12:46:52     -474.577708*       0.0000\n",
      "LBFGS:   50 12:46:52     -474.577708*       0.0000\n",
      "LBFGS:   51 12:46:52     -474.577708*       0.0000\n",
      "LBFGS:   52 12:46:52     -474.577708*       0.0000\n",
      "LBFGS:   53 12:46:52     -474.577708*       0.0000\n",
      "LBFGS:   54 12:46:52     -474.577708*       0.0000\n",
      "LBFGS:   55 12:46:52     -474.577708*       0.0000\n",
      "LBFGS:   56 12:46:52     -474.577708*       0.0000\n",
      "[26:44] test_hydrogenate.py --------------------------------------------------\n"
     ]
    },
    {
     "name": "stderr",
     "output_type": "stream",
     "text": [
      ".\n",
      "----------------------------------------------------------------------\n",
      "Ran 3 tests in 274.019s\n",
      "\n",
      "OK\n",
      ".\n",
      "----------------------------------------------------------------------\n",
      "Ran 1 test in 0.003s\n",
      "\n",
      "OK\n"
     ]
    },
    {
     "name": "stdout",
     "output_type": "stream",
     "text": [
      "[27:44] test_idealbrittlesolid.py --------------------------------------------------\n"
     ]
    },
    {
     "name": "stderr",
     "output_type": "stream",
     "text": [
      "/usr/local/lib/python3.8/dist-packages/matscipy/fracture_mechanics/crack.py:35: UserWarning: Warning: no scipy\n",
      "  warnings.warn('Warning: no scipy')\n",
      "/usr/local/lib/python3.8/dist-packages/ase/utils/__init__.py:62: DeprecationWarning: Please use atoms.calc = calc\n",
      "  warnings.warn(warning)\n",
      "...\n",
      "----------------------------------------------------------------------\n",
      "Ran 3 tests in 0.186s\n",
      "\n",
      "OK\n"
     ]
    },
    {
     "name": "stdout",
     "output_type": "stream",
     "text": [
      "[28:44] test_invariants.py --------------------------------------------------\n"
     ]
    },
    {
     "name": "stderr",
     "output_type": "stream",
     "text": [
      ".\n",
      "----------------------------------------------------------------------\n",
      "Ran 1 test in 0.000s\n",
      "\n",
      "OK\n"
     ]
    },
    {
     "name": "stdout",
     "output_type": "stream",
     "text": [
      "[29:44] test_io.py --------------------------------------------------\n"
     ]
    },
    {
     "name": "stderr",
     "output_type": "stream",
     "text": [
      "..\n",
      "----------------------------------------------------------------------\n",
      "Ran 2 tests in 0.004s\n",
      "\n",
      "OK\n"
     ]
    },
    {
     "name": "stdout",
     "output_type": "stream",
     "text": [
      "[30:44] test_mcfm.py --------------------------------------------------\n"
     ]
    },
    {
     "name": "stderr",
     "output_type": "stream",
     "text": [
      "/usr/local/lib/python3.8/dist-packages/ase/utils/__init__.py:62: DeprecationWarning: Please use atoms.calc = calc\n",
      "  warnings.warn(warning)\n",
      "...\n",
      "----------------------------------------------------------------------\n",
      "Ran 3 tests in 0.391s\n",
      "\n",
      "OK\n"
     ]
    },
    {
     "name": "stdout",
     "output_type": "stream",
     "text": [
      "[31:44] test_neighbours.py --------------------------------------------------\n"
     ]
    },
    {
     "name": "stderr",
     "output_type": "stream",
     "text": [
      "/usr/local/lib/python3.8/dist-packages/matscipy/fracture_mechanics/crack.py:35: UserWarning: Warning: no scipy\n",
      "  warnings.warn('Warning: no scipy')\n",
      ".EE................\n",
      "======================================================================\n",
      "ERROR: test_pairs (__main__.TestNeighbourhood)\n",
      "----------------------------------------------------------------------\n",
      "Traceback (most recent call last):\n",
      "  File \"test_neighbours.py\", line 351, in test_pairs\n",
      "    p = CutoffNeighbourhood.lexsort(\n",
      "AttributeError: type object 'CutoffNeighbourhood' has no attribute 'lexsort'\n",
      "\n",
      "======================================================================\n",
      "ERROR: test_triplets (__main__.TestNeighbourhood)\n",
      "----------------------------------------------------------------------\n",
      "Traceback (most recent call last):\n",
      "  File \"test_neighbours.py\", line 375, in test_triplets\n",
      "    sort_cutoff.append(CutoffNeighbourhood.lexsort(cutoff_pairs[c]))\n",
      "AttributeError: type object 'CutoffNeighbourhood' has no attribute 'lexsort'\n",
      "\n",
      "----------------------------------------------------------------------\n",
      "Ran 19 tests in 0.599s\n",
      "\n",
      "FAILED (errors=2)\n"
     ]
    },
    {
     "name": "stdout",
     "output_type": "stream",
     "text": [
      "[32:44] test_numpy_tricks.py --------------------------------------------------\n",
      "[33:44] test_opls.py --------------------------------------------------\n"
     ]
    },
    {
     "name": "stderr",
     "output_type": "stream",
     "text": [
      "....F\n",
      "======================================================================\n",
      "FAIL: test_opls_structure (__main__.TestOPLS)\n",
      "Test the matscipy.opls.OPLSStructure class.\n",
      "----------------------------------------------------------------------\n",
      "Traceback (most recent call last):\n",
      "  File \"test_opls.py\", line 180, in test_opls_structure\n",
      "    opls_c2h6.get_neighbors()\n",
      "AssertionError: RuntimeError not raised\n",
      "\n",
      "----------------------------------------------------------------------\n",
      "Ran 5 tests in 0.002s\n",
      "\n",
      "FAILED (failures=1)\n"
     ]
    },
    {
     "name": "stdout",
     "output_type": "stream",
     "text": [
      "[34:44] test_opls_io.py --------------------------------------------------\n",
      "Error: Data block \"Charges\" not found in file \"opls_parameters.in\"\n",
      "[35:44] test_pair_potential_calculator.py --------------------------------------------------\n"
     ]
    },
    {
     "name": "stderr",
     "output_type": "stream",
     "text": [
      "/usr/lib/python3.8/traceback.py:220: ResourceWarning: unclosed file <_io.TextIOWrapper name='opls_parameters.in' mode='r' encoding='UTF-8'>\n",
      "  tb.tb_frame.clear()\n",
      "ResourceWarning: Enable tracemalloc to get the object allocation traceback\n",
      "E..EEtest_opls_io.py:225: ResourceWarning: unclosed file <_io.TextIOWrapper name='temp.atoms' mode='w' encoding='UTF-8'>\n",
      "  matscipy.io.opls.write_lammps_atoms('temp', opls_c2h2)\n",
      "ResourceWarning: Enable tracemalloc to get the object allocation traceback\n",
      "test_opls_io.py:226: ResourceWarning: unclosed file <_io.TextIOWrapper name='temp.opls' mode='w' encoding='UTF-8'>\n",
      "  matscipy.io.opls.write_lammps_definitions('temp', opls_c2h2)\n",
      "ResourceWarning: Enable tracemalloc to get the object allocation traceback\n",
      "Etest_opls_io.py:312: ResourceWarning: unclosed file <_io.TextIOWrapper name='temp.opls' mode='w' encoding='UTF-8'>\n",
      "  matscipy.io.opls.write_lammps_definitions('temp', opls_c2h2)\n",
      "ResourceWarning: Enable tracemalloc to get the object allocation traceback\n",
      "F\n",
      "======================================================================\n",
      "ERROR: test_read_block (__main__.TestOPLSIO)\n",
      "----------------------------------------------------------------------\n",
      "Traceback (most recent call last):\n",
      "  File \"test_opls_io.py\", line 60, in test_read_block\n",
      "    matscipy.io.opls.read_block('opls_parameters.in', 'Charges')\n",
      "  File \"/usr/local/lib/python3.8/dist-packages/matscipy/io/opls.py\", line 95, in read_block\n",
      "    sys.exit()\n",
      "SystemExit\n",
      "\n",
      "======================================================================\n",
      "ERROR: test_read_lammps_data (__main__.TestOPLSIO)\n",
      "----------------------------------------------------------------------\n",
      "Traceback (most recent call last):\n",
      "  File \"test_opls_io.py\", line 124, in test_read_lammps_data\n",
      "    test_structure = matscipy.io.opls.read_lammps_data('opls_test.atoms', 'opls_test.parameters')\n",
      "TypeError: read_lammps_data() takes 1 positional argument but 2 were given\n",
      "\n",
      "======================================================================\n",
      "ERROR: test_read_parameter_file (__main__.TestOPLSIO)\n",
      "----------------------------------------------------------------------\n",
      "Traceback (most recent call last):\n",
      "  File \"test_opls_io.py\", line 90, in test_read_parameter_file\n",
      "    self.assertIsInstance(ljq.lj_cutoff, float)\n",
      "AttributeError: 'dict' object has no attribute 'lj_cutoff'\n",
      "\n",
      "======================================================================\n",
      "ERROR: test_write_lammps_atoms (__main__.TestOPLSIO)\n",
      "----------------------------------------------------------------------\n",
      "Traceback (most recent call last):\n",
      "  File \"test_opls_io.py\", line 230, in test_write_lammps_atoms\n",
      "    c2h2_written = matscipy.io.opls.read_lammps_data('temp.atoms', 'temp.opls')\n",
      "TypeError: read_lammps_data() takes 1 positional argument but 2 were given\n",
      "\n",
      "======================================================================\n",
      "FAIL: test_write_lammps_definitions (__main__.TestOPLSIO)\n",
      "----------------------------------------------------------------------\n",
      "Traceback (most recent call last):\n",
      "  File \"test_opls_io.py\", line 346, in test_write_lammps_definitions\n",
      "    self.assertAlmostEqual(float(lj_cutoff), 12.0, places=1)\n",
      "AssertionError: 10.0 != 12.0 within 1 places (2.0 difference)\n",
      "\n",
      "----------------------------------------------------------------------\n",
      "Ran 7 tests in 0.034s\n",
      "\n",
      "FAILED (failures=1, errors=4)\n"
     ]
    },
    {
     "name": "stdout",
     "output_type": "stream",
     "text": [
      "[36:44] test_poisson_nernst_planck_solver.py --------------------------------------------------\n"
     ]
    },
    {
     "name": "stderr",
     "output_type": "stream",
     "text": [
      ".\n",
      "----------------------------------------------------------------------\n",
      "Ran 1 test in 18.238s\n",
      "\n",
      "OK\n"
     ]
    },
    {
     "name": "stdout",
     "output_type": "stream",
     "text": [
      "[37:44] test_polydisperse_calculator.py --------------------------------------------------\n",
      "[38:44] test_pressurecoupling.py --------------------------------------------------\n"
     ]
    },
    {
     "name": "stderr",
     "output_type": "stream",
     "text": [
      "....\n",
      "----------------------------------------------------------------------\n",
      "Ran 4 tests in 1.732s\n",
      "\n",
      "OK\n"
     ]
    },
    {
     "name": "stdout",
     "output_type": "stream",
     "text": [
      "[39:44] test_ring_statistics.py --------------------------------------------------\n"
     ]
    },
    {
     "name": "stderr",
     "output_type": "stream",
     "text": [
      ".....\n",
      "----------------------------------------------------------------------\n",
      "Ran 5 tests in 1.266s\n",
      "\n",
      "OK\n"
     ]
    },
    {
     "name": "stdout",
     "output_type": "stream",
     "text": [
      "[40:44] test_rotation_of_elastic_constants.py --------------------------------------------------\n"
     ]
    },
    {
     "name": "stderr",
     "output_type": "stream",
     "text": [
      "/usr/local/lib/python3.8/dist-packages/ase/utils/__init__.py:62: DeprecationWarning: Please use atoms.calc = calc\n",
      "  warnings.warn(warning)\n",
      "test_rotation_of_elastic_constants.py:86: ResourceWarning: unclosed file <_io.TextIOWrapper name='/dev/null' mode='a' encoding='UTF-8'>\n",
      "  FIRE(StrainFilter(a, mask=[1,1,1,0,0,0]), logfile=None).run(fmax=self.fmax)\n",
      "ResourceWarning: Enable tracemalloc to get the object allocation traceback\n",
      "/usr/local/lib/python3.8/dist-packages/matscipy/elasticity.py:339: UserWarning: CubicElasticModuli is deprecated. Use rotate_elastic_constants function instead.\n",
      "  warnings.warn('CubicElasticModuli is deprecated. Use '\n",
      ".\n",
      "----------------------------------------------------------------------\n",
      "Ran 1 test in 0.591s\n",
      "\n",
      "OK\n"
     ]
    },
    {
     "name": "stdout",
     "output_type": "stream",
     "text": [
      "[41:44] test_spatial_correlation_function.py --------------------------------------------------\n"
     ]
    },
    {
     "name": "stderr",
     "output_type": "stream",
     "text": [
      "test_spatial_correlation_function.py:131: RuntimeWarning: invalid value encountered in divide\n",
      "  n_peaks0=np.isfinite(SCF0/SCF0).sum()\n",
      "test_spatial_correlation_function.py:132: RuntimeWarning: invalid value encountered in divide\n",
      "  n_peaks1=np.isfinite(SCF1/SCF1).sum()\n",
      "test_spatial_correlation_function.py:133: RuntimeWarning: invalid value encountered in divide\n",
      "  n_peaks2=np.isfinite(SCF2/SCF2).sum()\n",
      "..\n",
      "----------------------------------------------------------------------\n",
      "Ran 2 tests in 47.345s\n",
      "\n",
      "OK\n"
     ]
    },
    {
     "name": "stdout",
     "output_type": "stream",
     "text": [
      "[42:44] test_supercell_calculator.py --------------------------------------------------\n"
     ]
    },
    {
     "name": "stderr",
     "output_type": "stream",
     "text": [
      "/usr/local/lib/python3.8/dist-packages/ase/utils/__init__.py:62: DeprecationWarning: Please use atoms.calc = calc\n",
      "  warnings.warn(warning)\n",
      ".\n",
      "----------------------------------------------------------------------\n",
      "Ran 1 test in 0.227s\n",
      "\n",
      "OK\n"
     ]
    },
    {
     "name": "stdout",
     "output_type": "stream",
     "text": [
      "[43:44] test_surface_reconstruction.py --------------------------------------------------\n"
     ]
    },
    {
     "name": "stderr",
     "output_type": "stream",
     "text": [
      "Traceback (most recent call last):\n",
      "  File \"test_surface_reconstruction.py\", line 3, in <module>\n",
      "    from matscipy.cauchy_born import CubicCauchyBorn\n",
      "ModuleNotFoundError: No module named 'matscipy.cauchy_born'\n"
     ]
    },
    {
     "name": "stdout",
     "output_type": "stream",
     "text": [
      "[44:44] test_utils.py --------------------------------------------------\n"
     ]
    },
    {
     "name": "stderr",
     "output_type": "stream",
     "text": [
      "Traceback (most recent call last):\n",
      "  File \"test_utils.py\", line 6, in <module>\n",
      "    import matscipy.utils as utils_mod\n",
      "ModuleNotFoundError: No module named 'matscipy.utils'\n"
     ]
    }
   ],
   "source": [
    "import os, sys, subprocess\n",
    "os.chdir('matscipy_tests')\n",
    "sys.path.insert(0, './matscipy_tests')\n",
    "\n",
    "test_filenames = [filename for filename in os.listdir('./') if filename.startswith('test_')]\n",
    "tests_failed = []\n",
    "tests_succeeded = []\n",
    "tests_error = []\n",
    "for idx,filename in enumerate(sorted(test_filenames),1):\n",
    "    if idx<25:\n",
    "        continue\n",
    "    print(f'[{idx}:{len(test_filenames)}]',filename,'--------------------------------------------------')\n",
    "    try:\n",
    "        res = subprocess.call(f'python3 '+filename, shell=True)\n",
    "        if res == 0:\n",
    "            tests_succeeded.append(filename)\n",
    "        else:\n",
    "            tests_failed.append(filename)\n",
    "    except Exception as e:\n",
    "        tests_error.append(filename)\n",
    "        print(e)\n",
    "        continue\n",
    "    # break\n",
    "os.chdir('..')"
   ]
  },
  {
   "cell_type": "code",
   "execution_count": 3,
   "metadata": {},
   "outputs": [
    {
     "name": "stdout",
     "output_type": "stream",
     "text": [
      "['test_neighbours.py', 'test_opls.py', 'test_opls_io.py', 'test_surface_reconstruction.py', 'test_utils.py']\n",
      "['test_hessian_precon.py', 'test_hydrogenate.py', 'test_idealbrittlesolid.py', 'test_invariants.py', 'test_io.py', 'test_mcfm.py', 'test_numpy_tricks.py', 'test_pair_potential_calculator.py', 'test_poisson_nernst_planck_solver.py', 'test_polydisperse_calculator.py', 'test_pressurecoupling.py', 'test_ring_statistics.py', 'test_rotation_of_elastic_constants.py', 'test_spatial_correlation_function.py', 'test_supercell_calculator.py']\n",
      "[]\n"
     ]
    }
   ],
   "source": [
    "print(tests_failed)\n",
    "print(tests_succeeded)\n",
    "print(tests_error)"
   ]
  },
  {
   "cell_type": "code",
   "execution_count": 7,
   "metadata": {},
   "outputs": [
    {
     "ename": "AttributeError",
     "evalue": "module 'matscipy' has no attribute 'numpy_tricks'",
     "output_type": "error",
     "traceback": [
      "\u001b[0;31m---------------------------------------------------------------------------\u001b[0m",
      "\u001b[0;31mAttributeError\u001b[0m                            Traceback (most recent call last)",
      "\u001b[1;32m/home/coder/project/TestXMace.ipynb Cell 11\u001b[0m line \u001b[0;36m2\n\u001b[1;32m      <a href='vscode-notebook-cell://research.constructor.tech/home/coder/project/TestXMace.ipynb#X14sdnNjb2RlLXJlbW90ZQ%3D%3D?line=0'>1</a>\u001b[0m \u001b[39mimport\u001b[39;00m \u001b[39mmatscipy\u001b[39;00m \u001b[39mas\u001b[39;00m \u001b[39mm\u001b[39;00m\n\u001b[0;32m----> <a href='vscode-notebook-cell://research.constructor.tech/home/coder/project/TestXMace.ipynb#X14sdnNjb2RlLXJlbW90ZQ%3D%3D?line=1'>2</a>\u001b[0m m\u001b[39m.\u001b[39;49mnumpy_tricks\n",
      "\u001b[0;31mAttributeError\u001b[0m: module 'matscipy' has no attribute 'numpy_tricks'"
     ]
    }
   ],
   "source": [
    "import matscipy as m\n",
    "m.numpy_tricks"
   ]
  },
  {
   "cell_type": "code",
   "execution_count": 8,
   "metadata": {},
   "outputs": [
    {
     "name": "stdout",
     "output_type": "stream",
     "text": [
      "[1:44] test_angle_distribution.py --------------------------------------------------\n"
     ]
    },
    {
     "name": "stderr",
     "output_type": "stream",
     "text": [
      "....\n",
      "----------------------------------------------------------------------\n",
      "Ran 4 tests in 0.001s\n",
      "\n",
      "OK\n"
     ]
    },
    {
     "name": "stdout",
     "output_type": "stream",
     "text": [
      "[2:44] test_atomic_strain.py --------------------------------------------------\n"
     ]
    },
    {
     "name": "stderr",
     "output_type": "stream",
     "text": [
      "/usr/local/lib/python3.8/dist-packages/matscipy/atomic_strain.py:107: FutureWarning: `rcond` parameter will change to the default of machine precision times ``max(M, N)`` where M and N are the input matrix dimensions.\n",
      "To use the future default and silence this warning we advise to pass `rcond=None`, to keep using the old, explicitly pass `rcond=-1`.\n",
      "  x, residuals, rank, s = np.linalg.lstsq(dr_old[mask], dr_now[mask])\n",
      ".\n",
      "----------------------------------------------------------------------\n",
      "Ran 1 test in 0.038s\n",
      "\n",
      "OK\n"
     ]
    },
    {
     "name": "stdout",
     "output_type": "stream",
     "text": [
      "[3:44] test_bop.py --------------------------------------------------\n",
      "[4:44] test_build_3D_crack.py --------------------------------------------------\n"
     ]
    },
    {
     "name": "stderr",
     "output_type": "stream",
     "text": [
      "Traceback (most recent call last):\n",
      "  File \"test_build_3D_crack.py\", line 7, in <module>\n",
      "    from matscipy.cauchy_born import CubicCauchyBorn\n",
      "ModuleNotFoundError: No module named 'matscipy.cauchy_born'\n"
     ]
    },
    {
     "name": "stdout",
     "output_type": "stream",
     "text": [
      "[5:44] test_bulk_properties.py --------------------------------------------------\n",
      "[6:44] test_c2d.py --------------------------------------------------\n",
      "[7:44] test_cauchy_born_corrector.py --------------------------------------------------\n"
     ]
    },
    {
     "name": "stderr",
     "output_type": "stream",
     "text": [
      "Traceback (most recent call last):\n",
      "  File \"test_cauchy_born_corrector.py\", line 7, in <module>\n",
      "    from matscipy.cauchy_born import CubicCauchyBorn\n",
      "ModuleNotFoundError: No module named 'matscipy.cauchy_born'\n"
     ]
    },
    {
     "name": "stdout",
     "output_type": "stream",
     "text": [
      "[8:44] test_cluster_stable_sort.py --------------------------------------------------\n"
     ]
    },
    {
     "name": "stderr",
     "output_type": "stream",
     "text": [
      "Traceback (most recent call last):\n",
      "  File \"test_cluster_stable_sort.py\", line 12, in <module>\n",
      "    from matscipy.fracture_mechanics.clusters import diamond, set_groups, set_regions, get_alpha_period, bcc\n",
      "ImportError: cannot import name 'get_alpha_period' from 'matscipy.fracture_mechanics.clusters' (/usr/local/lib/python3.8/dist-packages/matscipy/fracture_mechanics/clusters.py)\n"
     ]
    },
    {
     "name": "stdout",
     "output_type": "stream",
     "text": [
      "[9:44] test_committee.py --------------------------------------------------\n",
      "[10:44] test_crack.py --------------------------------------------------\n"
     ]
    },
    {
     "name": "stderr",
     "output_type": "stream",
     "text": [
      "/usr/local/lib/python3.8/dist-packages/matscipy/fracture_mechanics/crack.py:35: UserWarning: Warning: no scipy\n",
      "  warnings.warn('Warning: no scipy')\n",
      "\n",
      "----------------------------------------------------------------------\n",
      "Ran 0 tests in 0.000s\n",
      "\n",
      "OK\n"
     ]
    },
    {
     "name": "stdout",
     "output_type": "stream",
     "text": [
      "[11:44] test_cubic_crystal_crack.py --------------------------------------------------\n"
     ]
    },
    {
     "name": "stderr",
     "output_type": "stream",
     "text": [
      "/usr/local/lib/python3.8/dist-packages/matscipy/fracture_mechanics/crack.py:35: UserWarning: Warning: no scipy\n",
      "  warnings.warn('Warning: no scipy')\n",
      "Traceback (most recent call last):\n",
      "  File \"test_cubic_crystal_crack.py\", line 64, in <module>\n",
      "    from matscipy.fracture_mechanics.crack import \\\n",
      "ImportError: cannot import name 'isotropic_modeII_crack_tip_displacement_field' from 'matscipy.fracture_mechanics.crack' (/usr/local/lib/python3.8/dist-packages/matscipy/fracture_mechanics/crack.py)\n"
     ]
    },
    {
     "name": "stdout",
     "output_type": "stream",
     "text": [
      "[12:44] test_dislocation.py --------------------------------------------------\n",
      "atomman not found: skipping some tests\n",
      "ovito not found: skipping some tests\n"
     ]
    },
    {
     "name": "stderr",
     "output_type": "stream",
     "text": [
      "sssssssssssssssssss"
     ]
    },
    {
     "name": "stdout",
     "output_type": "stream",
     "text": [
      "      Step     Time          Energy         fmax\n",
      "*Force-consistent energies used in optimization.\n",
      "FIRE:    0 13:00:03       -8.896394*       0.7808\n",
      "FIRE:    1 13:00:03       -8.899920*       0.1160\n",
      "FIRE:    2 13:00:03       -8.897214*       0.7321\n",
      "FIRE:    3 13:00:03       -8.898398*       0.5505\n",
      "FIRE:    4 13:00:03       -8.899676*       0.2427\n",
      "FIRE:    5 13:00:03       -8.899933*       0.1055\n",
      "FIRE:    6 13:00:03       -8.899940*       0.0997\n",
      "FIRE:    7 13:00:03       -8.899952*       0.0883\n",
      "FIRE:    8 13:00:03       -8.899967*       0.0719\n",
      "FIRE:    9 13:00:03       -8.899981*       0.0515\n",
      "FIRE:   10 13:00:03       -8.899991*       0.0281\n",
      "FIRE:   11 13:00:03       -8.899996*       0.0030\n",
      "FIRE:   12 13:00:03       -8.899993*       0.0223\n",
      "FIRE:   13 13:00:03       -8.899993*       0.0220\n",
      "FIRE:   14 13:00:03       -8.899993*       0.0214\n",
      "FIRE:   15 13:00:03       -8.899993*       0.0204\n",
      "FIRE:   16 13:00:03       -8.899994*       0.0192\n",
      "FIRE:   17 13:00:03       -8.899994*       0.0177\n",
      "FIRE:   18 13:00:03       -8.899994*       0.0160\n",
      "FIRE:   19 13:00:03       -8.899995*       0.0140\n",
      "FIRE:   20 13:00:03       -8.899995*       0.0116\n",
      "FIRE:   21 13:00:03       -8.899995*       0.0087\n",
      "FIRE:   22 13:00:03       -8.899996*       0.0053\n",
      "FIRE:   23 13:00:03       -8.899996*       0.0015\n",
      "FIRE:   24 13:00:03       -8.899996*       0.0029\n",
      "FIRE:   25 13:00:03       -8.899996*       0.0028\n",
      "FIRE:   26 13:00:03       -8.899996*       0.0028\n",
      "FIRE:   27 13:00:03       -8.899996*       0.0027\n",
      "FIRE:   28 13:00:03       -8.899996*       0.0026\n",
      "FIRE:   29 13:00:03       -8.899996*       0.0025\n",
      "FIRE:   30 13:00:03       -8.899996*       0.0023\n",
      "FIRE:   31 13:00:03       -8.899996*       0.0022\n",
      "FIRE:   32 13:00:03       -8.899996*       0.0020\n",
      "FIRE:   33 13:00:03       -8.899996*       0.0017\n",
      "FIRE:   34 13:00:03       -8.899996*       0.0014\n",
      "FIRE:   35 13:00:03       -8.899996*       0.0010\n",
      "FIRE:   36 13:00:03       -8.899996*       0.0006\n",
      "FIRE:   37 13:00:03       -8.899996*       0.0001\n",
      "Fitting C_11\n",
      "Strain array([-0.002, -0.001,  0.   ,  0.001,  0.002])\n",
      "Stress array([-1.05945134e+00, -5.25992123e-01,  5.16699364e-04,  5.20067470e-01,\n",
      "        1.03265246e+00]) GPa\n",
      "Cij (gradient) / GPa    :     523.0267210330137\n",
      "Error in Cij / GPa      :     2.3766342115194385\n",
      "Correlation coefficient :     0.9999690295141958\n",
      "Setting C11 (1) to 3.264476 +/- 0.014834\n",
      "\n",
      "\n",
      "Fitting C_21\n",
      "Strain array([-0.002, -0.001,  0.   ,  0.001,  0.002])\n",
      "Stress array([-0.41473062, -0.20438093,  0.0005167 ,  0.19997011,  0.39398708]) GPa\n",
      "Cij (gradient) / GPa    :     202.1786445696003\n",
      "Error in Cij / GPa      :     1.8595619578105504\n",
      "Correlation coefficient :     0.9998731298804535\n",
      "Setting C21 (7) to 1.261900 +/- 0.011606\n",
      "\n",
      "\n",
      "Fitting C_31\n",
      "Strain array([-0.002, -0.001,  0.   ,  0.001,  0.002])\n",
      "Stress array([-0.41473062, -0.20438093,  0.0005167 ,  0.19997011,  0.39398708]) GPa\n",
      "Cij (gradient) / GPa    :     202.1786445695976\n",
      "Error in Cij / GPa      :     1.8595619578137812\n",
      "Correlation coefficient :     0.9998731298804531\n",
      "Updating C31 (7) with value 1.261900 +/- 0.011606\n",
      "\n",
      "\n",
      "Fitting C_44\n",
      "Strain array([-0.002, -0.001,  0.   ,  0.001,  0.002])\n",
      "Stress array([-3.32801981e-01, -1.63636525e-01, -4.92161680e-16,  1.58118447e-01,\n",
      "        3.10729587e-01]) GPa\n",
      "Cij (gradient) / GPa    :     160.8818108256687\n",
      "Error in Cij / GPa      :     1.8847908474775237\n",
      "Correlation coefficient :     0.999794188515409\n",
      "Setting C44 (4) to 1.004145 +/- 0.011764\n",
      "\n",
      "\n",
      "[[b C11 b C12 b C12 b     b     b    ]\n",
      " [b C12 b C11 b C12 b     b     b    ]\n",
      " [b C12 b C12 b C11 b     b     b    ]\n",
      " [b     b     b     b C44 b     b    ]\n",
      " [b     b     b     b     b C44 b    ]\n",
      " [b     b     b     b     b     b C44]]\n",
      "\n",
      " = \n",
      "\n",
      "[[523.03 202.18 202.18   0.     0.     0.  ]\n",
      " [202.18 523.03 202.18   0.     0.     0.  ]\n",
      " [202.18 202.18 523.03   0.     0.     0.  ]\n",
      " [  0.     0.     0.   160.88   0.     0.  ]\n",
      " [  0.     0.     0.     0.   160.88   0.  ]\n",
      " [  0.     0.     0.     0.     0.   160.88]]\n",
      "C_11 = 523.03 +/- 2.38 GPa\n",
      "C_12 = 202.18 +/- 1.86 GPa\n",
      "C_44 = 160.88 +/- 1.88 GPa\n",
      "WARNING: In case lammps crashes no error message is printed:  check 'lammps.log' file in test folder\n"
     ]
    },
    {
     "name": "stderr",
     "output_type": "stream",
     "text": [
      ".Essssssss.Es"
     ]
    },
    {
     "name": "stdout",
     "output_type": "stream",
     "text": [
      "Not rounded values of C2 componets: \n",
      "n2u: 1.00,  n2v: 2.89\n",
      "Calculated cell vectors from n1u = 5\n",
      "n1v = 0\n",
      "n2u = 1\n",
      "n2v = 3\n",
      "delta u c2: 0.85 \n",
      "delta u c1: -0.165\n",
      "Not rounded values of C2 componets: \n",
      "n2u: 1.00,  n2v: 2.89\n",
      "Calculated cell vectors from n1u = 5\n",
      "n1v = 0\n",
      "n2u = 1\n",
      "n2v = 3\n",
      "delta u c2: 0.85 \n",
      "delta u c1: -0.165\n",
      "Not rounded values of C2 componets: \n",
      "n2u: 1.00,  n2v: 2.89\n",
      "Calculated cell vectors from n1u = 5\n",
      "n1v = 0\n",
      "n2u = 1\n",
      "n2v = 3\n",
      "delta u c2: 0.85 \n",
      "delta u c1: -0.165\n",
      "Not rounded values of C2 componets: \n",
      "n2u: 1.00,  n2v: 2.89\n",
      "Calculated cell vectors from n1u = 5\n",
      "n1v = 0\n",
      "n2u = 1\n",
      "n2v = 3\n",
      "delta u c2: 0.85 \n",
      "delta u c1: -0.166\n"
     ]
    },
    {
     "name": "stderr",
     "output_type": "stream",
     "text": [
      ".ssssssssss"
     ]
    },
    {
     "name": "stdout",
     "output_type": "stream",
     "text": [
      "Not rounded values of C2 componets: \n",
      "n2u: 1.00,  n2v: 2.89\n",
      "Calculated cell vectors from n1u = 5\n",
      "n1v = 0\n",
      "n2u = 1\n",
      "n2v = 3\n",
      "delta u c2: 0.86 \n",
      "delta u c1: -0.165\n",
      "Not rounded values of C2 componets: \n",
      "n2u: 1.00,  n2v: 2.89\n",
      "Calculated cell vectors from n1u = 5\n",
      "n1v = 0\n",
      "n2u = 1\n",
      "n2v = 3\n",
      "delta u c2: 0.85 \n",
      "delta u c1: -0.166\n",
      "Not rounded values of C2 componets: \n",
      "n2u: 1.00,  n2v: 2.89\n",
      "Calculated cell vectors from n1u = 5\n",
      "n1v = 0\n",
      "n2u = 1\n",
      "n2v = 3\n",
      "delta u c2: 0.85 \n",
      "delta u c1: -0.166\n",
      "Not rounded values of C2 componets: \n",
      "n2u: 1.00,  n2v: 2.89\n",
      "Calculated cell vectors from n1u = 5\n",
      "n1v = 0\n",
      "n2u = 1\n",
      "n2v = 3\n",
      "delta u c2: 0.86 \n",
      "delta u c1: -0.165\n",
      "Not rounded values of C2 componets: \n",
      "n2u: 1.00,  n2v: 2.89\n",
      "Calculated cell vectors from n1u = 5\n",
      "n1v = 0\n",
      "n2u = 1\n",
      "n2v = 3\n",
      "delta u c2: 0.85 \n",
      "delta u c1: -0.166\n",
      "Not rounded values of C2 componets: \n",
      "n2u: 1.00,  n2v: 2.89\n",
      "Calculated cell vectors from n1u = 5\n",
      "n1v = 0\n",
      "n2u = 1\n",
      "n2v = 3\n",
      "delta u c2: 0.86 \n",
      "delta u c1: -0.165\n"
     ]
    },
    {
     "name": "stderr",
     "output_type": "stream",
     "text": [
      ".s\n",
      "======================================================================\n",
      "ERROR: test_elastic_constants_lammpslib (__main__.TestDislocation)\n",
      "Test the get_elastic_constants() function using lammpslib.\n",
      "----------------------------------------------------------------------\n",
      "Traceback (most recent call last):\n",
      "  File \"test_dislocation.py\", line 138, in test_elastic_constants_lammpslib\n",
      "    obtained_values = sd.get_elastic_constants(calculator=lammps,\n",
      "  File \"/usr/local/lib/python3.8/dist-packages/matscipy/dislocation.py\", line 473, in get_elastic_constants\n",
      "    opt = FIRE(sf)\n",
      "  File \"/usr/local/lib/python3.8/dist-packages/ase/optimize/fire.py\", line 54, in __init__\n",
      "    Optimizer.__init__(self, atoms, restart, logfile, trajectory,\n",
      "  File \"/usr/local/lib/python3.8/dist-packages/ase/optimize/optimize.py\", line 234, in __init__\n",
      "    self.set_force_consistent()\n",
      "  File \"/usr/local/lib/python3.8/dist-packages/ase/optimize/optimize.py\", line 325, in set_force_consistent\n",
      "    self.atoms.get_potential_energy(force_consistent=True)\n",
      "  File \"/usr/local/lib/python3.8/dist-packages/ase/constraints.py\", line 2159, in get_potential_energy\n",
      "    return self.atoms.get_potential_energy(**kwargs)\n",
      "  File \"/usr/local/lib/python3.8/dist-packages/ase/atoms.py\", line 728, in get_potential_energy\n",
      "    energy = self._calc.get_potential_energy(\n",
      "  File \"/usr/local/lib/python3.8/dist-packages/ase/calculators/calculator.py\", line 709, in get_potential_energy\n",
      "    energy = self.get_property('energy', atoms)\n",
      "  File \"/usr/local/lib/python3.8/dist-packages/ase/calculators/calculator.py\", line 737, in get_property\n",
      "    self.calculate(atoms, [name], system_changes)\n",
      "  File \"/usr/local/lib/python3.8/dist-packages/ase/calculators/lammpslib.py\", line 356, in calculate\n",
      "    self.propagate(atoms, properties, system_changes, 0)\n",
      "  File \"/usr/local/lib/python3.8/dist-packages/ase/calculators/lammpslib.py\", line 377, in propagate\n",
      "    self.start_lammps()\n",
      "  File \"/usr/local/lib/python3.8/dist-packages/ase/calculators/lammpslib.py\", line 630, in start_lammps\n",
      "    self.lmp = lammps(self.parameters.lammps_name, self.cmd_args,\n",
      "  File \"/usr/local/lib/python3.8/dist-packages/lammps-2023.11.21-py3.8.egg/lammps/core.py\", line 150, in __init__\n",
      "    self.lib = CDLL(libpath,RTLD_GLOBAL)\n",
      "  File \"/usr/lib/python3.8/ctypes/__init__.py\", line 373, in __init__\n",
      "    self._handle = _dlopen(self._name, mode)\n",
      "OSError: liblammps.so: cannot open shared object file: No such file or directory\n",
      "\n",
      "======================================================================\n",
      "ERROR: test_gamma_line (__main__.TestDislocation)\n",
      "----------------------------------------------------------------------\n",
      "Traceback (most recent call last):\n",
      "  File \"test_dislocation.py\", line 731, in test_gamma_line\n",
      "    shift, E = sd.gamma_line(unit_cell, surface=1, factor=5)\n",
      "  File \"/usr/local/lib/python3.8/dist-packages/matscipy/dislocation.py\", line 2911, in gamma_line\n",
      "    if image.get_forces().max() < fmax:\n",
      "  File \"/usr/local/lib/python3.8/dist-packages/ase/atoms.py\", line 788, in get_forces\n",
      "    forces = self._calc.get_forces(self)\n",
      "  File \"/usr/local/lib/python3.8/dist-packages/ase/calculators/abc.py\", line 23, in get_forces\n",
      "    return self.get_property('forces', atoms)\n",
      "  File \"/usr/local/lib/python3.8/dist-packages/ase/calculators/calculator.py\", line 737, in get_property\n",
      "    self.calculate(atoms, [name], system_changes)\n",
      "  File \"/usr/local/lib/python3.8/dist-packages/ase/calculators/lammpslib.py\", line 356, in calculate\n",
      "    self.propagate(atoms, properties, system_changes, 0)\n",
      "  File \"/usr/local/lib/python3.8/dist-packages/ase/calculators/lammpslib.py\", line 377, in propagate\n",
      "    self.start_lammps()\n",
      "  File \"/usr/local/lib/python3.8/dist-packages/ase/calculators/lammpslib.py\", line 630, in start_lammps\n",
      "    self.lmp = lammps(self.parameters.lammps_name, self.cmd_args,\n",
      "  File \"/usr/local/lib/python3.8/dist-packages/lammps-2023.11.21-py3.8.egg/lammps/core.py\", line 150, in __init__\n",
      "    self.lib = CDLL(libpath,RTLD_GLOBAL)\n",
      "  File \"/usr/lib/python3.8/ctypes/__init__.py\", line 373, in __init__\n",
      "    self._handle = _dlopen(self._name, mode)\n",
      "OSError: liblammps.so: cannot open shared object file: No such file or directory\n",
      "\n",
      "----------------------------------------------------------------------\n",
      "Ran 45 tests in 3.094s\n",
      "\n",
      "FAILED (errors=2, skipped=39)\n"
     ]
    },
    {
     "name": "stdout",
     "output_type": "stream",
     "text": [
      "[13:44] test_eam_average_atom.py --------------------------------------------------\n",
      "1.899947154980202e-11 8.276319436960442e-12 5.568690673510684e-09\n"
     ]
    },
    {
     "name": "stderr",
     "output_type": "stream",
     "text": [
      "."
     ]
    },
    {
     "name": "stdout",
     "output_type": "stream",
     "text": [
      "8.060225063362135e-14 7.284171830792157e-16 5.9899923073000205e-12\n"
     ]
    },
    {
     "name": "stderr",
     "output_type": "stream",
     "text": [
      ".\n",
      "----------------------------------------------------------------------\n",
      "Ran 2 tests in 0.328s\n",
      "\n",
      "OK\n"
     ]
    },
    {
     "name": "stdout",
     "output_type": "stream",
     "text": [
      "[14:44] test_eam_calculator.py --------------------------------------------------\n"
     ]
    },
    {
     "name": "stderr",
     "output_type": "stream",
     "text": [
      "test_eam_calculator.py:156: ResourceWarning: unclosed file <_io.TextIOWrapper name='/dev/null' mode='a' encoding='UTF-8'>\n",
      "  FIRE(StrainFilter(a, mask=[1,1,1,0,0,0]), logfile=None).run(fmax=0.001)\n",
      "ResourceWarning: Enable tracemalloc to get the object allocation traceback\n",
      "test_eam_calculator.py:163: ResourceWarning: unclosed file <_io.TextIOWrapper name='/dev/null' mode='a' encoding='UTF-8'>\n",
      "  FIRE(StrainFilter(a, mask=[1,1,1,0,0,0]), logfile=None).run(fmax=1e-3)\n",
      "ResourceWarning: Enable tracemalloc to get the object allocation traceback\n"
     ]
    },
    {
     "name": "stdout",
     "output_type": "stream",
     "text": [
      "a_Zr (3.220) =  3.2202995014056484 3.220299501405649\n",
      "c_Zr (5.215) =  5.215212584900969\n"
     ]
    },
    {
     "name": "stderr",
     "output_type": "stream",
     "text": [
      "test_eam_calculator.py:174: ResourceWarning: unclosed file <_io.TextIOWrapper name='/dev/null' mode='a' encoding='UTF-8'>\n",
      "  FIRE(UnitCellFilter(a, mask=[1,1,1,0,0,0]), logfile=None).run(fmax=0.001)\n",
      "ResourceWarning: Enable tracemalloc to get the object allocation traceback\n",
      "test_eam_calculator.py:180: ResourceWarning: unclosed file <_io.TextIOWrapper name='/dev/null' mode='a' encoding='UTF-8'>\n",
      "  FIRE(UnitCellFilter(a, mask=[1,1,1,0,0,0]), logfile=None).run(fmax=0.001)\n",
      "ResourceWarning: Enable tracemalloc to get the object allocation traceback\n",
      "test_eam_calculator.py:186: ResourceWarning: unclosed file <_io.TextIOWrapper name='/dev/null' mode='a' encoding='UTF-8'>\n",
      "  FIRE(UnitCellFilter(a, mask=[1,1,1,0,0,0]), logfile=None).run(fmax=0.001)\n",
      "ResourceWarning: Enable tracemalloc to get the object allocation traceback\n",
      ".test_eam_calculator.py:85: ResourceWarning: unclosed file <_io.TextIOWrapper name='/dev/null' mode='a' encoding='UTF-8'>\n",
      "  FIRE(StrainFilter(a, mask=[1,1,1,0,0,0]), logfile=None).run(fmax=0.001)\n",
      "ResourceWarning: Enable tracemalloc to get the object allocation traceback\n",
      ".test_eam_calculator.py:109: ResourceWarning: unclosed file <_io.TextIOWrapper name='/dev/null' mode='a' encoding='UTF-8'>\n",
      "  FIRE(StrainFilter(a, mask=[1,1,1,0,0,0]), logfile=None).run(fmax=0.001)\n",
      "ResourceWarning: Enable tracemalloc to get the object allocation traceback\n",
      "test_eam_calculator.py:114: ResourceWarning: unclosed file <_io.TextIOWrapper name='/dev/null' mode='a' encoding='UTF-8'>\n",
      "  FIRE(StrainFilter(a, mask=[1,1,1,0,0,0]), logfile=None).run(fmax=0.001)\n",
      "ResourceWarning: Enable tracemalloc to get the object allocation traceback\n",
      "test_eam_calculator.py:120: ResourceWarning: unclosed file <_io.TextIOWrapper name='/dev/null' mode='a' encoding='UTF-8'>\n",
      "  FIRE(UnitCellFilter(a, mask=[1,1,1,0,0,0]), logfile=None).run(fmax=0.001)\n",
      "ResourceWarning: Enable tracemalloc to get the object allocation traceback\n",
      "test_eam_calculator.py:128: ResourceWarning: unclosed file <_io.TextIOWrapper name='/dev/null' mode='a' encoding='UTF-8'>\n",
      "  FIRE(UnitCellFilter(a, mask=[1,1,1,0,0,0]), logfile=None).run(fmax=0.001)\n",
      "ResourceWarning: Enable tracemalloc to get the object allocation traceback\n",
      "test_eam_calculator.py:136: ResourceWarning: unclosed file <_io.TextIOWrapper name='/dev/null' mode='a' encoding='UTF-8'>\n",
      "  FIRE(UnitCellFilter(a, mask=[1,1,1,0,0,0]), logfile=None).run(fmax=0.001)\n",
      "ResourceWarning: Enable tracemalloc to get the object allocation traceback\n",
      "test_eam_calculator.py:144: ResourceWarning: unclosed file <_io.TextIOWrapper name='/dev/null' mode='a' encoding='UTF-8'>\n",
      "  FIRE(UnitCellFilter(a, mask=[1,1,1,0,0,0]), logfile=None).run(fmax=0.001)\n",
      "ResourceWarning: Enable tracemalloc to get the object allocation traceback\n",
      "..."
     ]
    },
    {
     "name": "stdout",
     "output_type": "stream",
     "text": [
      "-14800607.492460342\n",
      "-12740517.641562674\n",
      "-10950845.151994184\n",
      "-9390609.436427845\n",
      "-8028458.402816501\n",
      "-6834946.5028766915\n",
      "-5780288.541481184\n",
      "-4843554.781064456\n",
      "-4016623.779912865\n",
      "-3298452.7411342794\n",
      "-2685307.246672823\n",
      "-2167219.8722969745\n",
      "-1734163.5364441103\n",
      "-1375202.9682791731\n",
      "-1080300.1535203215\n",
      "-840064.3034462429\n",
      "-645944.1723992431\n",
      "-490379.89836702734\n",
      "-367014.93270307285\n",
      "-270330.9586234429\n",
      "-195657.62393529757\n",
      "-139004.59018774322\n",
      "-96882.91081101981\n",
      "-66029.88355877767\n",
      "-43658.29211322299\n",
      "-27780.08152054316\n",
      "-16777.63570298422\n",
      "-9342.177323014856\n",
      "-4463.098234376725\n",
      "-1377.6336765087426\n",
      "484.75474257508813\n",
      "1529.9012287613177\n",
      "2043.2124223570945\n",
      "2214.6403565577684\n",
      "2170.107379841768\n",
      "1991.7471425141525\n",
      "1733.411682238151\n",
      "1429.9416782706612\n",
      "1104.971750148685\n",
      "777.4876611668805\n",
      "461.99444380985557\n",
      "168.65455482092278\n",
      "-96.93714337849258\n",
      "-337.6661272646883\n",
      "-555.8590411583089\n",
      "-753.1546287762441\n",
      "-929.6588442610029\n",
      "-1085.8469893028905\n",
      "-1222.8574689458574\n",
      "-1342.2471773744253\n",
      "-1446.134398065536\n",
      "-1537.112983303068\n",
      "-1617.3528357774178\n",
      "-1687.9484471848864\n",
      "-1749.4160311787575\n",
      "-1802.2241665414376\n",
      "-1846.4299579485723\n",
      "-1882.1029518915982\n",
      "-1909.9822899619448\n",
      "-1930.7843960423515\n",
      "-1945.5330590653687\n",
      "-1955.320111607371\n",
      "-1960.7370685741018\n",
      "-1962.0503153930238\n",
      "-1959.4305376100597\n",
      "-1953.260682281426\n",
      "-1943.9489851606763\n",
      "-1931.8115821545493\n",
      "-1917.6312116889176\n",
      "-1901.9577539089296\n",
      "-1884.7057039333167\n",
      "-1865.79226750737\n",
      "-1845.163403375233\n",
      "-1822.7276661412513\n",
      "-1798.4466995083421\n",
      "-1772.507594175114\n",
      "-1745.2402844504154\n",
      "-1717.2012880902782\n",
      "-1689.1945876587774\n",
      "-1660.8129533416522\n",
      "-1631.3032962934099\n",
      "-1601.0539409568278\n",
      "-1570.4163449493308\n",
      "-1539.704084442037\n",
      "-1509.191557665872\n",
      "-1479.0783654007835\n",
      "-1449.2057780199852\n",
      "-1419.39876698392\n",
      "-1389.6732890457588\n",
      "-1360.0585149275464\n",
      "-1330.5874112603856\n",
      "-1301.2966261708102\n",
      "-1272.2263737200235\n",
      "-1243.4290330232652\n",
      "-1214.8927147834431\n",
      "-1186.4142771938064\n",
      "-1157.8876472200106\n",
      "-1129.341606025752\n",
      "-1100.8127382016924\n",
      "-1072.3378669744727\n",
      "-1043.9531267905109\n",
      "-1015.7229269210593\n",
      "-987.802199799991\n",
      "-960.3538152082399\n",
      "-933.5394591947663\n",
      "-907.5198809951453\n",
      "-882.3893910099823\n",
      "-858.1237725369896\n",
      "-834.6890908565408\n",
      "-812.06975446764\n",
      "-790.257158691382\n",
      "-769.2425059247034\n",
      "-749.0168904857917\n",
      "-729.5759373549153\n",
      "-710.9213498316125\n",
      "-692.9223971854201\n",
      "-675.1031359368142\n",
      "-657.4078477204222\n",
      "-639.8260852570356\n",
      "-622.3482094787955\n",
      "-604.9655055751446\n",
      "-587.6703046895946\n",
      "-570.45611256092\n",
      "-553.3177455545633\n",
      "-536.2514745608684\n",
      "-519.255177960262\n",
      "-502.3410177138078\n",
      "-485.5854306769944\n",
      "-469.0634623938118\n",
      "-452.8387077368959\n",
      "-436.9701941801896\n",
      "-421.5134944085085\n",
      "-406.5218395255813\n",
      "-392.0471874971914\n",
      "-378.14120541058617\n",
      "-364.85612889394827\n",
      "-352.2405843396199\n",
      "-340.29553905737936\n",
      "-328.9961936413739\n",
      "-318.32052023272854\n",
      "-308.2490348387799\n",
      "-298.7642923144828\n",
      "-289.8504627252371\n",
      "-281.49297902961405\n",
      "-273.6782469258302\n",
      "-266.39341093535137\n",
      "-259.6239498150934\n",
      "-253.30609354790252\n",
      "-247.32803707498843\n",
      "-241.5761600505857\n",
      "-235.93695567688172\n",
      "-230.2969869440789\n",
      "-224.5428550317313\n",
      "-218.5611707803879\n",
      "-212.23851937219996\n",
      "-205.46140695923395\n",
      "-198.11749235353994\n",
      "-190.18257420421406\n",
      "-181.7748452172708\n",
      "-173.02521520655804\n",
      "-164.06444516217385\n",
      "-155.02328475472595\n",
      "-146.0326421020028\n",
      "-137.22376881197545\n",
      "-128.72844084669632\n",
      "-120.67911463163624\n",
      "-113.2089683503874\n",
      "-106.40218551268853\n",
      "-100.2060368745634\n",
      "-94.54428246384221\n",
      "-89.3405614753358\n",
      "-84.51836822065513\n",
      "-80.0010384730241\n",
      "-75.71174352468195\n",
      "-71.57348996124597\n",
      "-67.50912308497396\n",
      "-63.44133249517338\n",
      "-59.30673254337357\n",
      "-55.110641616435764\n",
      "-50.87930999030441\n",
      "-46.638928277705006\n",
      "-42.41562360755651\n",
      "-38.235460681387536\n",
      "-34.12444236724527\n",
      "-30.108509657226648\n",
      "-26.213540851173768\n",
      "-22.465349812074585\n",
      "-18.89024327437349\n",
      "-15.519551194521604\n",
      "-12.387433854607622\n",
      "-9.52829532872087\n",
      "-6.976746560307742\n",
      "-4.767577714185028\n",
      "-2.935715059922127\n",
      "-1.5161618605250953\n",
      "-0.5439232208657501\n",
      "-0.05391547000976011\n",
      "2.5214761632240513e-18\n",
      "2.5214761632240513e-18\n",
      "2.5214761632240513e-18\n",
      "2.5214761632240513e-18\n"
     ]
    },
    {
     "name": "stderr",
     "output_type": "stream",
     "text": [
      "..\n",
      "----------------------------------------------------------------------\n",
      "Ran 7 tests in 103.384s\n",
      "\n",
      "OK\n"
     ]
    },
    {
     "name": "stdout",
     "output_type": "stream",
     "text": [
      "[15:44] test_eam_calculator_forces_and_hessian.py --------------------------------------------------\n"
     ]
    },
    {
     "name": "stderr",
     "output_type": "stream",
     "text": [
      "./usr/local/lib/python3.8/dist-packages/ase/utils/__init__.py:62: DeprecationWarning: Please use atoms.calc = calc\n",
      "  warnings.warn(warning)\n",
      ".....\n",
      "----------------------------------------------------------------------\n",
      "Ran 6 tests in 531.697s\n",
      "\n",
      "OK\n"
     ]
    },
    {
     "name": "stdout",
     "output_type": "stream",
     "text": [
      "[16:44] test_eam_io.py --------------------------------------------------\n"
     ]
    },
    {
     "name": "stderr",
     "output_type": "stream",
     "text": [
      "....\n",
      "----------------------------------------------------------------------\n",
      "Ran 4 tests in 0.346s\n",
      "\n",
      "OK\n"
     ]
    },
    {
     "name": "stdout",
     "output_type": "stream",
     "text": [
      "0 [0.] [0.] [0.] 1e-06 [ True]\n",
      "1 [79] [79] [0] 1e-06 [ True]\n",
      "2 [196.97] [196.97] [0.] 1e-06 [ True]\n",
      "3 [4.08] [4.08] [0.] 1e-06 [ True]\n",
      "5 500 500 0 1e-06 True\n",
      "6 500 500 0 1e-06 True\n",
      "7 0.0005010020040080131 0.0005010020040080131 0.0 1e-06 True\n",
      "8 0.011212121212121229 0.011212121212121229 0.0 1e-06 True\n",
      "9 5.550000000000011 5.55 1.1546319456101628e-14 1e-06 True\n",
      "[17:44] test_elastic_moduli.py --------------------------------------------------\n"
     ]
    },
    {
     "name": "stderr",
     "output_type": "stream",
     "text": [
      "\n",
      "----------------------------------------------------------------------\n",
      "Ran 0 tests in 0.000s\n",
      "\n",
      "OK\n"
     ]
    },
    {
     "name": "stdout",
     "output_type": "stream",
     "text": [
      "[18:44] test_energy_release.py --------------------------------------------------\n"
     ]
    },
    {
     "name": "stderr",
     "output_type": "stream",
     "text": [
      "/usr/local/lib/python3.8/dist-packages/matscipy/fracture_mechanics/crack.py:35: UserWarning: Warning: no scipy\n",
      "  warnings.warn('Warning: no scipy')\n"
     ]
    },
    {
     "name": "stdout",
     "output_type": "stream",
     "text": [
      "[19:44] test_ewald.py --------------------------------------------------\n",
      "[20:44] test_ffi.py --------------------------------------------------\n",
      "[21:44] test_fit_elastic_constants.py --------------------------------------------------\n"
     ]
    },
    {
     "name": "stderr",
     "output_type": "stream",
     "text": [
      "\n",
      "----------------------------------------------------------------------\n",
      "Ran 0 tests in 0.000s\n",
      "\n",
      "OK\n"
     ]
    },
    {
     "name": "stdout",
     "output_type": "stream",
     "text": [
      "[22:44] test_full_to_Voigt.py --------------------------------------------------\n",
      "[23:44] test_gamma_surface.py --------------------------------------------------\n"
     ]
    },
    {
     "name": "stderr",
     "output_type": "stream",
     "text": [
      "Traceback (most recent call last):\n",
      "  File \"test_gamma_surface.py\", line 5, in <module>\n",
      "    from matscipy.gamma_surface import *\n",
      "ModuleNotFoundError: No module named 'matscipy.gamma_surface'\n"
     ]
    },
    {
     "name": "stdout",
     "output_type": "stream",
     "text": [
      "[24:44] test_hessian_finite_differences.py --------------------------------------------------\n"
     ]
    },
    {
     "name": "stderr",
     "output_type": "stream",
     "text": [
      "EEE\n",
      "======================================================================\n",
      "ERROR: test_hessian_sparse (__main__.TestPairPotentialCalculator)\n",
      "----------------------------------------------------------------------\n",
      "Traceback (most recent call last):\n",
      "  File \"test_hessian_finite_differences.py\", line 77, in test_hessian_sparse\n",
      "    H_numerical = numerical_hessian(atoms, d=1e-5, indices=None)\n",
      "TypeError: numerical_hessian() got an unexpected keyword argument 'd'\n",
      "\n",
      "======================================================================\n",
      "ERROR: test_hessian_sparse_split (__main__.TestPairPotentialCalculator)\n",
      "----------------------------------------------------------------------\n",
      "Traceback (most recent call last):\n",
      "  File \"test_hessian_finite_differences.py\", line 100, in test_hessian_sparse_split\n",
      "    H_numerical_split1 = numerical_hessian(\n",
      "TypeError: numerical_hessian() got an unexpected keyword argument 'd'\n",
      "\n",
      "======================================================================\n",
      "ERROR: test_symmetry_sparse (__main__.TestPairPotentialCalculator)\n",
      "----------------------------------------------------------------------\n",
      "Traceback (most recent call last):\n",
      "  File \"test_hessian_finite_differences.py\", line 87, in test_symmetry_sparse\n",
      "    H_numerical = numerical_hessian(atoms, d=1e-5, indices=None)\n",
      "TypeError: numerical_hessian() got an unexpected keyword argument 'd'\n",
      "\n",
      "----------------------------------------------------------------------\n",
      "Ran 3 tests in 0.092s\n",
      "\n",
      "FAILED (errors=3)\n"
     ]
    },
    {
     "name": "stdout",
     "output_type": "stream",
     "text": [
      "[25:44] test_hessian_precon.py --------------------------------------------------\n",
      "[1.54199584+0.j 1.55870491+0.j 1.89188327+0.j]\n",
      "|F| =     0.681539\n",
      "[1.4873249 +0.j 1.48680773+0.j 1.87328219+0.j]\n",
      "|F| =     0.017274\n",
      "[1.48927024+0.j 1.48926787+0.j 1.87453386+0.j]\n",
      "|F| =     0.000032\n"
     ]
    },
    {
     "name": "stderr",
     "output_type": "stream",
     "text": [
      "."
     ]
    },
    {
     "name": "stdout",
     "output_type": "stream",
     "text": [
      "vac_index=168 i1=91 i2=170 distance=4.978031739553296\n",
      "        Step     Time          Energy         fmax\n",
      "*Force-consistent energies used in optimization.\n",
      "ODE12r:    0 13:10:55    -1133.128945*       0.2843\n",
      "ODE12r:    1 13:10:55    -1133.128945*       0.2843\n",
      "ODE12r:    2 13:11:05    -1133.164805*       0.1497\n",
      "ODE12r:    3 13:11:07    -1133.174895*       0.0752\n",
      "ODE12r:    4 13:11:09    -1133.177920*       0.0237\n",
      "ODE12r:    5 13:11:13    -1133.178248*       0.0008\n",
      "        Step     Time          Energy         fmax\n",
      "*Force-consistent energies used in optimization.\n",
      "ODE12r:    0 13:11:13    -1133.128945*       0.2843\n",
      "ODE12r:    1 13:11:13    -1133.128945*       0.2843\n",
      "ODE12r:    2 13:11:21    -1133.164805*       0.1497\n",
      "ODE12r:    3 13:11:22    -1133.174895*       0.0752\n",
      "ODE12r:    4 13:11:23    -1133.177920*       0.0237\n",
      "ODE12r:    5 13:11:23    -1133.178248*       0.0008\n",
      "                   Step     Time         fmax\n",
      "NEBOptimizer[ode]:    0 13:12:07       1.2902\n",
      "NEBOptimizer[ode]:    1 13:12:31       1.1328\n",
      "NEBOptimizer[ode]:    2 13:12:40       1.0611\n",
      "NEBOptimizer[ode]:    3 13:12:48       0.8085\n",
      "NEBOptimizer[ode]:    4 13:13:09       0.6238\n",
      "NEBOptimizer[ode]:    5 13:13:16       0.5657\n",
      "NEBOptimizer[ode]:    6 13:13:33       0.6177\n",
      "NEBOptimizer[ode]:    7 13:13:53       0.4986\n",
      "NEBOptimizer[ode]:    8 13:14:15       0.3347\n",
      "NEBOptimizer[ode]:    9 13:14:21       0.2796\n",
      "NEBOptimizer[ode]:   10 13:14:30       0.2664\n",
      "NEBOptimizer[ode]:   11 13:14:50       0.5229\n",
      "NEBOptimizer[ode]:   12 13:15:01       0.2214\n",
      "NEBOptimizer[ode]:   13 13:15:18       0.2969\n",
      "NEBOptimizer[ode]:   14 13:15:25       0.1610\n",
      "NEBOptimizer[ode]:   15 13:15:34       0.1251\n",
      "NEBOptimizer[ode]:   16 13:15:42       0.1296\n",
      "NEBOptimizer[ode]:   17 13:15:49       0.1283\n",
      "NEBOptimizer[ode]:   18 13:15:56       0.0942\n"
     ]
    },
    {
     "name": "stderr",
     "output_type": "stream",
     "text": [
      "."
     ]
    },
    {
     "name": "stdout",
     "output_type": "stream",
     "text": [
      "PreconLBFGS:   0  13:15:56     -474.377997       0.5019\n",
      "PreconLBFGS:   1  13:15:58     -474.577573       0.0124\n",
      "PreconLBFGS:   2  13:15:59     -474.577707       0.0009\n",
      "PreconLBFGS:   3  13:16:00     -474.577708       0.0000\n",
      "PreconLBFGS:   4  13:16:00     -474.577708       0.0000\n",
      "PreconLBFGS:   5  13:16:00     -474.577708       0.0000\n",
      "       Step     Time          Energy         fmax\n",
      "*Force-consistent energies used in optimization.\n",
      "LBFGS:    0 13:16:00     -474.377997*       0.5019\n",
      "LBFGS:    1 13:16:00     -474.444659*       0.3998\n",
      "LBFGS:    2 13:16:00     -474.554349*       0.1164\n",
      "LBFGS:    3 13:16:00     -474.559792*       0.1017\n",
      "LBFGS:    4 13:16:01     -474.573683*       0.0486\n",
      "LBFGS:    5 13:16:01     -474.574539*       0.0435\n",
      "LBFGS:    6 13:16:01     -474.576336*       0.0242\n",
      "LBFGS:    7 13:16:01     -474.576760*       0.0224\n",
      "LBFGS:    8 13:16:01     -474.577050*       0.0169\n",
      "LBFGS:    9 13:16:01     -474.577249*       0.0154\n",
      "LBFGS:   10 13:16:01     -474.577435*       0.0127\n",
      "LBFGS:   11 13:16:01     -474.577521*       0.0095\n",
      "LBFGS:   12 13:16:01     -474.577572*       0.0093\n",
      "LBFGS:   13 13:16:01     -474.577616*       0.0068\n",
      "LBFGS:   14 13:16:01     -474.577654*       0.0056\n",
      "LBFGS:   15 13:16:01     -474.577675*       0.0042\n",
      "LBFGS:   16 13:16:01     -474.577684*       0.0028\n",
      "LBFGS:   17 13:16:02     -474.577691*       0.0029\n",
      "LBFGS:   18 13:16:02     -474.577697*       0.0022\n",
      "LBFGS:   19 13:16:02     -474.577700*       0.0021\n",
      "LBFGS:   20 13:16:02     -474.577702*       0.0016\n",
      "LBFGS:   21 13:16:02     -474.577704*       0.0014\n",
      "LBFGS:   22 13:16:02     -474.577705*       0.0011\n",
      "LBFGS:   23 13:16:02     -474.577706*       0.0008\n",
      "LBFGS:   24 13:16:02     -474.577706*       0.0007\n",
      "LBFGS:   25 13:16:02     -474.577707*       0.0006\n",
      "LBFGS:   26 13:16:02     -474.577707*       0.0005\n",
      "LBFGS:   27 13:16:02     -474.577707*       0.0005\n",
      "LBFGS:   28 13:16:02     -474.577707*       0.0004\n",
      "LBFGS:   29 13:16:02     -474.577707*       0.0003\n",
      "LBFGS:   30 13:16:02     -474.577707*       0.0002\n",
      "LBFGS:   31 13:16:03     -474.577707*       0.0001\n",
      "LBFGS:   32 13:16:03     -474.577707*       0.0001\n",
      "LBFGS:   33 13:16:03     -474.577707*       0.0001\n",
      "LBFGS:   34 13:16:03     -474.577708*       0.0001\n",
      "LBFGS:   35 13:16:03     -474.577708*       0.0001\n",
      "LBFGS:   36 13:16:03     -474.577708*       0.0001\n",
      "LBFGS:   37 13:16:03     -474.577708*       0.0001\n",
      "LBFGS:   38 13:16:03     -474.577708*       0.0001\n",
      "LBFGS:   39 13:16:03     -474.577708*       0.0001\n",
      "LBFGS:   40 13:16:03     -474.577708*       0.0000\n",
      "LBFGS:   41 13:16:03     -474.577708*       0.0000\n",
      "LBFGS:   42 13:16:03     -474.577708*       0.0000\n",
      "LBFGS:   43 13:16:03     -474.577708*       0.0000\n",
      "LBFGS:   44 13:16:03     -474.577708*       0.0000\n",
      "LBFGS:   45 13:16:03     -474.577708*       0.0000\n",
      "LBFGS:   46 13:16:04     -474.577708*       0.0000\n",
      "LBFGS:   47 13:16:04     -474.577708*       0.0000\n",
      "LBFGS:   48 13:16:04     -474.577708*       0.0000\n",
      "LBFGS:   49 13:16:04     -474.577708*       0.0000\n",
      "LBFGS:   50 13:16:04     -474.577708*       0.0000\n",
      "LBFGS:   51 13:16:04     -474.577708*       0.0000\n",
      "LBFGS:   52 13:16:04     -474.577708*       0.0000\n",
      "LBFGS:   53 13:16:04     -474.577708*       0.0000\n",
      "LBFGS:   54 13:16:04     -474.577708*       0.0000\n",
      "LBFGS:   55 13:16:04     -474.577708*       0.0000\n",
      "LBFGS:   56 13:16:04     -474.577708*       0.0000\n",
      "[26:44] test_hydrogenate.py --------------------------------------------------\n"
     ]
    },
    {
     "name": "stderr",
     "output_type": "stream",
     "text": [
      ".\n",
      "----------------------------------------------------------------------\n",
      "Ran 3 tests in 313.997s\n",
      "\n",
      "OK\n",
      ".\n",
      "----------------------------------------------------------------------\n",
      "Ran 1 test in 0.004s\n",
      "\n",
      "OK\n"
     ]
    },
    {
     "name": "stdout",
     "output_type": "stream",
     "text": [
      "[27:44] test_idealbrittlesolid.py --------------------------------------------------\n"
     ]
    },
    {
     "name": "stderr",
     "output_type": "stream",
     "text": [
      "/usr/local/lib/python3.8/dist-packages/matscipy/fracture_mechanics/crack.py:35: UserWarning: Warning: no scipy\n",
      "  warnings.warn('Warning: no scipy')\n",
      "/usr/local/lib/python3.8/dist-packages/ase/utils/__init__.py:62: DeprecationWarning: Please use atoms.calc = calc\n",
      "  warnings.warn(warning)\n",
      "...\n",
      "----------------------------------------------------------------------\n",
      "Ran 3 tests in 0.181s\n",
      "\n",
      "OK\n"
     ]
    },
    {
     "name": "stdout",
     "output_type": "stream",
     "text": [
      "[28:44] test_invariants.py --------------------------------------------------\n"
     ]
    },
    {
     "name": "stderr",
     "output_type": "stream",
     "text": [
      ".\n",
      "----------------------------------------------------------------------\n",
      "Ran 1 test in 0.000s\n",
      "\n",
      "OK\n"
     ]
    },
    {
     "name": "stdout",
     "output_type": "stream",
     "text": [
      "[29:44] test_io.py --------------------------------------------------\n"
     ]
    },
    {
     "name": "stderr",
     "output_type": "stream",
     "text": [
      "..\n",
      "----------------------------------------------------------------------\n",
      "Ran 2 tests in 0.004s\n",
      "\n",
      "OK\n"
     ]
    },
    {
     "name": "stdout",
     "output_type": "stream",
     "text": [
      "[30:44] test_mcfm.py --------------------------------------------------\n"
     ]
    },
    {
     "name": "stderr",
     "output_type": "stream",
     "text": [
      "/usr/local/lib/python3.8/dist-packages/ase/utils/__init__.py:62: DeprecationWarning: Please use atoms.calc = calc\n",
      "  warnings.warn(warning)\n",
      "...\n",
      "----------------------------------------------------------------------\n",
      "Ran 3 tests in 0.289s\n",
      "\n",
      "OK\n"
     ]
    },
    {
     "name": "stdout",
     "output_type": "stream",
     "text": [
      "[31:44] test_neighbours.py --------------------------------------------------\n"
     ]
    },
    {
     "name": "stderr",
     "output_type": "stream",
     "text": [
      "/usr/local/lib/python3.8/dist-packages/matscipy/fracture_mechanics/crack.py:35: UserWarning: Warning: no scipy\n",
      "  warnings.warn('Warning: no scipy')\n",
      ".EE................\n",
      "======================================================================\n",
      "ERROR: test_pairs (__main__.TestNeighbourhood)\n",
      "----------------------------------------------------------------------\n",
      "Traceback (most recent call last):\n",
      "  File \"test_neighbours.py\", line 351, in test_pairs\n",
      "    p = CutoffNeighbourhood.lexsort(\n",
      "AttributeError: type object 'CutoffNeighbourhood' has no attribute 'lexsort'\n",
      "\n",
      "======================================================================\n",
      "ERROR: test_triplets (__main__.TestNeighbourhood)\n",
      "----------------------------------------------------------------------\n",
      "Traceback (most recent call last):\n",
      "  File \"test_neighbours.py\", line 375, in test_triplets\n",
      "    sort_cutoff.append(CutoffNeighbourhood.lexsort(cutoff_pairs[c]))\n",
      "AttributeError: type object 'CutoffNeighbourhood' has no attribute 'lexsort'\n",
      "\n",
      "----------------------------------------------------------------------\n",
      "Ran 19 tests in 0.632s\n",
      "\n",
      "FAILED (errors=2)\n"
     ]
    },
    {
     "name": "stdout",
     "output_type": "stream",
     "text": [
      "[32:44] test_numpy_tricks.py --------------------------------------------------\n",
      "[33:44] test_opls.py --------------------------------------------------\n"
     ]
    },
    {
     "name": "stderr",
     "output_type": "stream",
     "text": [
      "....F\n",
      "======================================================================\n",
      "FAIL: test_opls_structure (__main__.TestOPLS)\n",
      "Test the matscipy.opls.OPLSStructure class.\n",
      "----------------------------------------------------------------------\n",
      "Traceback (most recent call last):\n",
      "  File \"test_opls.py\", line 180, in test_opls_structure\n",
      "    opls_c2h6.get_neighbors()\n",
      "AssertionError: RuntimeError not raised\n",
      "\n",
      "----------------------------------------------------------------------\n",
      "Ran 5 tests in 0.002s\n",
      "\n",
      "FAILED (failures=1)\n"
     ]
    },
    {
     "name": "stdout",
     "output_type": "stream",
     "text": [
      "[34:44] test_opls_io.py --------------------------------------------------\n",
      "Error: Data block \"Charges\" not found in file \"opls_parameters.in\"\n",
      "[35:44] test_pair_potential_calculator.py --------------------------------------------------\n"
     ]
    },
    {
     "name": "stderr",
     "output_type": "stream",
     "text": [
      "/usr/lib/python3.8/traceback.py:220: ResourceWarning: unclosed file <_io.TextIOWrapper name='opls_parameters.in' mode='r' encoding='UTF-8'>\n",
      "  tb.tb_frame.clear()\n",
      "ResourceWarning: Enable tracemalloc to get the object allocation traceback\n",
      "E..EEtest_opls_io.py:225: ResourceWarning: unclosed file <_io.TextIOWrapper name='temp.atoms' mode='w' encoding='UTF-8'>\n",
      "  matscipy.io.opls.write_lammps_atoms('temp', opls_c2h2)\n",
      "ResourceWarning: Enable tracemalloc to get the object allocation traceback\n",
      "test_opls_io.py:226: ResourceWarning: unclosed file <_io.TextIOWrapper name='temp.opls' mode='w' encoding='UTF-8'>\n",
      "  matscipy.io.opls.write_lammps_definitions('temp', opls_c2h2)\n",
      "ResourceWarning: Enable tracemalloc to get the object allocation traceback\n",
      "Etest_opls_io.py:312: ResourceWarning: unclosed file <_io.TextIOWrapper name='temp.opls' mode='w' encoding='UTF-8'>\n",
      "  matscipy.io.opls.write_lammps_definitions('temp', opls_c2h2)\n",
      "ResourceWarning: Enable tracemalloc to get the object allocation traceback\n",
      "F\n",
      "======================================================================\n",
      "ERROR: test_read_block (__main__.TestOPLSIO)\n",
      "----------------------------------------------------------------------\n",
      "Traceback (most recent call last):\n",
      "  File \"test_opls_io.py\", line 60, in test_read_block\n",
      "    matscipy.io.opls.read_block('opls_parameters.in', 'Charges')\n",
      "  File \"/usr/local/lib/python3.8/dist-packages/matscipy/io/opls.py\", line 95, in read_block\n",
      "    sys.exit()\n",
      "SystemExit\n",
      "\n",
      "======================================================================\n",
      "ERROR: test_read_lammps_data (__main__.TestOPLSIO)\n",
      "----------------------------------------------------------------------\n",
      "Traceback (most recent call last):\n",
      "  File \"test_opls_io.py\", line 124, in test_read_lammps_data\n",
      "    test_structure = matscipy.io.opls.read_lammps_data('opls_test.atoms', 'opls_test.parameters')\n",
      "TypeError: read_lammps_data() takes 1 positional argument but 2 were given\n",
      "\n",
      "======================================================================\n",
      "ERROR: test_read_parameter_file (__main__.TestOPLSIO)\n",
      "----------------------------------------------------------------------\n",
      "Traceback (most recent call last):\n",
      "  File \"test_opls_io.py\", line 90, in test_read_parameter_file\n",
      "    self.assertIsInstance(ljq.lj_cutoff, float)\n",
      "AttributeError: 'dict' object has no attribute 'lj_cutoff'\n",
      "\n",
      "======================================================================\n",
      "ERROR: test_write_lammps_atoms (__main__.TestOPLSIO)\n",
      "----------------------------------------------------------------------\n",
      "Traceback (most recent call last):\n",
      "  File \"test_opls_io.py\", line 230, in test_write_lammps_atoms\n",
      "    c2h2_written = matscipy.io.opls.read_lammps_data('temp.atoms', 'temp.opls')\n",
      "TypeError: read_lammps_data() takes 1 positional argument but 2 were given\n",
      "\n",
      "======================================================================\n",
      "FAIL: test_write_lammps_definitions (__main__.TestOPLSIO)\n",
      "----------------------------------------------------------------------\n",
      "Traceback (most recent call last):\n",
      "  File \"test_opls_io.py\", line 346, in test_write_lammps_definitions\n",
      "    self.assertAlmostEqual(float(lj_cutoff), 12.0, places=1)\n",
      "AssertionError: 10.0 != 12.0 within 1 places (2.0 difference)\n",
      "\n",
      "----------------------------------------------------------------------\n",
      "Ran 7 tests in 0.035s\n",
      "\n",
      "FAILED (failures=1, errors=4)\n"
     ]
    },
    {
     "name": "stdout",
     "output_type": "stream",
     "text": [
      "[36:44] test_poisson_nernst_planck_solver.py --------------------------------------------------\n"
     ]
    },
    {
     "name": "stderr",
     "output_type": "stream",
     "text": [
      ".\n",
      "----------------------------------------------------------------------\n",
      "Ran 1 test in 16.131s\n",
      "\n",
      "OK\n"
     ]
    },
    {
     "name": "stdout",
     "output_type": "stream",
     "text": [
      "[37:44] test_polydisperse_calculator.py --------------------------------------------------\n",
      "[38:44] test_pressurecoupling.py --------------------------------------------------\n"
     ]
    },
    {
     "name": "stderr",
     "output_type": "stream",
     "text": [
      "....\n",
      "----------------------------------------------------------------------\n",
      "Ran 4 tests in 1.750s\n",
      "\n",
      "OK\n"
     ]
    },
    {
     "name": "stdout",
     "output_type": "stream",
     "text": [
      "[39:44] test_ring_statistics.py --------------------------------------------------\n"
     ]
    },
    {
     "name": "stderr",
     "output_type": "stream",
     "text": [
      ".....\n",
      "----------------------------------------------------------------------\n",
      "Ran 5 tests in 1.140s\n",
      "\n",
      "OK\n"
     ]
    },
    {
     "name": "stdout",
     "output_type": "stream",
     "text": [
      "[40:44] test_rotation_of_elastic_constants.py --------------------------------------------------\n"
     ]
    },
    {
     "name": "stderr",
     "output_type": "stream",
     "text": [
      "/usr/local/lib/python3.8/dist-packages/ase/utils/__init__.py:62: DeprecationWarning: Please use atoms.calc = calc\n",
      "  warnings.warn(warning)\n",
      "test_rotation_of_elastic_constants.py:86: ResourceWarning: unclosed file <_io.TextIOWrapper name='/dev/null' mode='a' encoding='UTF-8'>\n",
      "  FIRE(StrainFilter(a, mask=[1,1,1,0,0,0]), logfile=None).run(fmax=self.fmax)\n",
      "ResourceWarning: Enable tracemalloc to get the object allocation traceback\n",
      "/usr/local/lib/python3.8/dist-packages/matscipy/elasticity.py:339: UserWarning: CubicElasticModuli is deprecated. Use rotate_elastic_constants function instead.\n",
      "  warnings.warn('CubicElasticModuli is deprecated. Use '\n",
      ".\n",
      "----------------------------------------------------------------------\n",
      "Ran 1 test in 0.613s\n",
      "\n",
      "OK\n"
     ]
    },
    {
     "name": "stdout",
     "output_type": "stream",
     "text": [
      "[41:44] test_spatial_correlation_function.py --------------------------------------------------\n"
     ]
    },
    {
     "name": "stderr",
     "output_type": "stream",
     "text": [
      "test_spatial_correlation_function.py:131: RuntimeWarning: invalid value encountered in divide\n",
      "  n_peaks0=np.isfinite(SCF0/SCF0).sum()\n",
      "test_spatial_correlation_function.py:132: RuntimeWarning: invalid value encountered in divide\n",
      "  n_peaks1=np.isfinite(SCF1/SCF1).sum()\n",
      "test_spatial_correlation_function.py:133: RuntimeWarning: invalid value encountered in divide\n",
      "  n_peaks2=np.isfinite(SCF2/SCF2).sum()\n",
      "..\n",
      "----------------------------------------------------------------------\n",
      "Ran 2 tests in 45.528s\n",
      "\n",
      "OK\n"
     ]
    },
    {
     "name": "stdout",
     "output_type": "stream",
     "text": [
      "[42:44] test_supercell_calculator.py --------------------------------------------------\n"
     ]
    },
    {
     "name": "stderr",
     "output_type": "stream",
     "text": [
      "/usr/local/lib/python3.8/dist-packages/ase/utils/__init__.py:62: DeprecationWarning: Please use atoms.calc = calc\n",
      "  warnings.warn(warning)\n",
      ".\n",
      "----------------------------------------------------------------------\n",
      "Ran 1 test in 0.233s\n",
      "\n",
      "OK\n"
     ]
    },
    {
     "name": "stdout",
     "output_type": "stream",
     "text": [
      "[43:44] test_surface_reconstruction.py --------------------------------------------------\n"
     ]
    },
    {
     "name": "stderr",
     "output_type": "stream",
     "text": [
      "Traceback (most recent call last):\n",
      "  File \"test_surface_reconstruction.py\", line 3, in <module>\n",
      "    from matscipy.cauchy_born import CubicCauchyBorn\n",
      "ModuleNotFoundError: No module named 'matscipy.cauchy_born'\n"
     ]
    },
    {
     "name": "stdout",
     "output_type": "stream",
     "text": [
      "[44:44] test_utils.py --------------------------------------------------\n"
     ]
    },
    {
     "name": "stderr",
     "output_type": "stream",
     "text": [
      "Traceback (most recent call last):\n",
      "  File \"test_utils.py\", line 6, in <module>\n",
      "    import matscipy.utils as utils_mod\n",
      "ModuleNotFoundError: No module named 'matscipy.utils'\n"
     ]
    }
   ],
   "source": [
    "import os, sys, subprocess\n",
    "os.chdir('matscipy_tests')\n",
    "sys.path.insert(0, './matscipy_tests')\n",
    "\n",
    "test_filenames = [filename for filename in os.listdir('./') if filename.startswith('test_')]\n",
    "tests_failed = []\n",
    "tests_succeeded = []\n",
    "tests_error = []\n",
    "for idx,filename in enumerate(sorted(test_filenames),1):\n",
    "    # if idx<25:\n",
    "    #     continue\n",
    "    print(f'[{idx}:{len(test_filenames)}]',filename,'--------------------------------------------------')\n",
    "    try:\n",
    "        res = subprocess.call(f'python3 '+filename, shell=True)\n",
    "        if res == 0:\n",
    "            tests_succeeded.append(filename)\n",
    "        else:\n",
    "            tests_failed.append(filename)\n",
    "    except Exception as e:\n",
    "        tests_error.append(filename)\n",
    "        print(e)\n",
    "        continue\n",
    "    # break\n",
    "os.chdir('..')"
   ]
  },
  {
   "cell_type": "code",
   "execution_count": 11,
   "metadata": {},
   "outputs": [
    {
     "name": "stdout",
     "output_type": "stream",
     "text": [
      "Failed:    12 ['test_build_3D_crack.py', 'test_cauchy_born_corrector.py', 'test_cluster_stable_sort.py', 'test_cubic_crystal_crack.py', 'test_dislocation.py', 'test_gamma_surface.py', 'test_hessian_finite_differences.py', 'test_neighbours.py', 'test_opls.py', 'test_opls_io.py', 'test_surface_reconstruction.py', 'test_utils.py']\n",
      "Succeeded: 32 ['test_angle_distribution.py', 'test_atomic_strain.py', 'test_bop.py', 'test_bulk_properties.py', 'test_c2d.py', 'test_committee.py', 'test_crack.py', 'test_eam_average_atom.py', 'test_eam_calculator.py', 'test_eam_calculator_forces_and_hessian.py', 'test_eam_io.py', 'test_elastic_moduli.py', 'test_energy_release.py', 'test_ewald.py', 'test_ffi.py', 'test_fit_elastic_constants.py', 'test_full_to_Voigt.py', 'test_hessian_precon.py', 'test_hydrogenate.py', 'test_idealbrittlesolid.py', 'test_invariants.py', 'test_io.py', 'test_mcfm.py', 'test_numpy_tricks.py', 'test_pair_potential_calculator.py', 'test_poisson_nernst_planck_solver.py', 'test_polydisperse_calculator.py', 'test_pressurecoupling.py', 'test_ring_statistics.py', 'test_rotation_of_elastic_constants.py', 'test_spatial_correlation_function.py', 'test_supercell_calculator.py']\n",
      "Error:     0 []\n"
     ]
    }
   ],
   "source": [
    "print('Failed:   ',len(tests_failed),tests_failed)\n",
    "print('Succeeded:',len(tests_succeeded),tests_succeeded)\n",
    "print('Error:    ',len(tests_error),tests_error)"
   ]
  },
  {
   "cell_type": "code",
   "execution_count": 19,
   "metadata": {},
   "outputs": [
    {
     "ename": "FileNotFoundError",
     "evalue": "[Errno 2] No such file or directory: 'aC.cfg'",
     "output_type": "error",
     "traceback": [
      "\u001b[0;31m---------------------------------------------------------------------------\u001b[0m",
      "\u001b[0;31mFileNotFoundError\u001b[0m                         Traceback (most recent call last)",
      "\u001b[1;32m/home/coder/project/TestXMace.ipynb Cell 6\u001b[0m line \u001b[0;36m7\n\u001b[1;32m      <a href='vscode-notebook-cell://research.constructor.tech/home/coder/project/TestXMace.ipynb#W6sdnNjb2RlLXJlbW90ZQ%3D%3D?line=3'>4</a>\u001b[0m rdf_nbins \u001b[39m=\u001b[39m \u001b[39m100\u001b[39m\n\u001b[1;32m      <a href='vscode-notebook-cell://research.constructor.tech/home/coder/project/TestXMace.ipynb#W6sdnNjb2RlLXJlbW90ZQ%3D%3D?line=5'>6</a>\u001b[0m \u001b[39mimport\u001b[39;00m \u001b[39mase\u001b[39;00m\u001b[39m.\u001b[39;00m\u001b[39mio\u001b[39;00m \u001b[39mas\u001b[39;00m \u001b[39mio\u001b[39;00m\n\u001b[0;32m----> <a href='vscode-notebook-cell://research.constructor.tech/home/coder/project/TestXMace.ipynb#W6sdnNjb2RlLXJlbW90ZQ%3D%3D?line=6'>7</a>\u001b[0m a \u001b[39m=\u001b[39m io\u001b[39m.\u001b[39;49mread(\u001b[39m'\u001b[39;49m\u001b[39maC.cfg\u001b[39;49m\u001b[39m'\u001b[39;49m)\n",
      "File \u001b[0;32m/usr/local/lib/python3.8/dist-packages/ase/io/formats.py:729\u001b[0m, in \u001b[0;36mread\u001b[0;34m(filename, index, format, parallel, do_not_split_by_at_sign, **kwargs)\u001b[0m\n\u001b[1;32m    727\u001b[0m \u001b[39mif\u001b[39;00m index \u001b[39mis\u001b[39;00m \u001b[39mNone\u001b[39;00m:\n\u001b[1;32m    728\u001b[0m     index \u001b[39m=\u001b[39m \u001b[39m-\u001b[39m\u001b[39m1\u001b[39m\n\u001b[0;32m--> 729\u001b[0m \u001b[39mformat\u001b[39m \u001b[39m=\u001b[39m \u001b[39mformat\u001b[39m \u001b[39mor\u001b[39;00m filetype(filename, read\u001b[39m=\u001b[39;49m\u001b[39misinstance\u001b[39;49m(filename, \u001b[39mstr\u001b[39;49m))\n\u001b[1;32m    731\u001b[0m io \u001b[39m=\u001b[39m get_ioformat(\u001b[39mformat\u001b[39m)\n\u001b[1;32m    732\u001b[0m \u001b[39mif\u001b[39;00m \u001b[39misinstance\u001b[39m(index, (\u001b[39mslice\u001b[39m, \u001b[39mstr\u001b[39m)):\n",
      "File \u001b[0;32m/usr/local/lib/python3.8/dist-packages/ase/io/formats.py:920\u001b[0m, in \u001b[0;36mfiletype\u001b[0;34m(filename, read, guess)\u001b[0m\n\u001b[1;32m    917\u001b[0m     \u001b[39mreturn\u001b[39;00m ext\n\u001b[1;32m    919\u001b[0m \u001b[39mif\u001b[39;00m orig_filename \u001b[39m==\u001b[39m filename:\n\u001b[0;32m--> 920\u001b[0m     fd \u001b[39m=\u001b[39m open_with_compression(filename, \u001b[39m'\u001b[39;49m\u001b[39mrb\u001b[39;49m\u001b[39m'\u001b[39;49m)\n\u001b[1;32m    921\u001b[0m \u001b[39melse\u001b[39;00m:\n\u001b[1;32m    922\u001b[0m     fd \u001b[39m=\u001b[39m orig_filename  \u001b[39m# type: ignore\u001b[39;00m\n",
      "File \u001b[0;32m/usr/local/lib/python3.8/dist-packages/ase/io/formats.py:551\u001b[0m, in \u001b[0;36mopen_with_compression\u001b[0;34m(filename, mode)\u001b[0m\n\u001b[1;32m    548\u001b[0m     \u001b[39mreturn\u001b[39;00m lzma\u001b[39m.\u001b[39mopen(filename, mode)\n\u001b[1;32m    549\u001b[0m \u001b[39melse\u001b[39;00m:\n\u001b[1;32m    550\u001b[0m     \u001b[39m# Either None or unknown string\u001b[39;00m\n\u001b[0;32m--> 551\u001b[0m     \u001b[39mreturn\u001b[39;00m \u001b[39mopen\u001b[39;49m(filename, mode)\n",
      "\u001b[0;31mFileNotFoundError\u001b[0m: [Errno 2] No such file or directory: 'aC.cfg'"
     ]
    }
   ],
   "source": [
    "import numpy as np\n",
    "from matscipy.neighbours import neighbour_list\n",
    "rdf_cutoff = 10.0\n",
    "rdf_nbins = 100\n",
    "\n",
    "import ase.io as io\n",
    "a = io.read('aC.cfg')"
   ]
  },
  {
   "cell_type": "code",
   "execution_count": 14,
   "metadata": {},
   "outputs": [
    {
     "ename": "NameError",
     "evalue": "name 'neighbour_list' is not defined",
     "output_type": "error",
     "traceback": [
      "\u001b[0;31m---------------------------------------------------------------------------\u001b[0m",
      "\u001b[0;31mNameError\u001b[0m                                 Traceback (most recent call last)",
      "\u001b[1;32m/home/coder/project/TestXMace.ipynb Cell 5\u001b[0m line \u001b[0;36m2\n\u001b[1;32m     <a href='vscode-notebook-cell://research.constructor.tech/home/coder/project/TestXMace.ipynb#W4sdnNjb2RlLXJlbW90ZQ%3D%3D?line=23'>24</a>\u001b[0m                     \u001b[39m# self.assertTrue(abs(dd) & lt; 1e-10)\u001b[39;00m\n\u001b[1;32m     <a href='vscode-notebook-cell://research.constructor.tech/home/coder/project/TestXMace.ipynb#W4sdnNjb2RlLXJlbW90ZQ%3D%3D?line=24'>25</a>\u001b[0m                     \u001b[39massert\u001b[39;00m(\u001b[39mnot\u001b[39;00m (c2 \u001b[39m-\u001b[39m c)\u001b[39m.\u001b[39many())\n\u001b[0;32m---> <a href='vscode-notebook-cell://research.constructor.tech/home/coder/project/TestXMace.ipynb#W4sdnNjb2RlLXJlbW90ZQ%3D%3D?line=26'>27</a>\u001b[0m test_out_of_bounds()\n",
      "\u001b[1;32m/home/coder/project/TestXMace.ipynb Cell 5\u001b[0m line \u001b[0;36m1\n\u001b[1;32m     <a href='vscode-notebook-cell://research.constructor.tech/home/coder/project/TestXMace.ipynb#W4sdnNjb2RlLXJlbW90ZQ%3D%3D?line=13'>14</a>\u001b[0m \u001b[39mfor\u001b[39;00m p3 \u001b[39min\u001b[39;00m \u001b[39mrange\u001b[39m(\u001b[39m2\u001b[39m):\n\u001b[1;32m     <a href='vscode-notebook-cell://research.constructor.tech/home/coder/project/TestXMace.ipynb#W4sdnNjb2RlLXJlbW90ZQ%3D%3D?line=14'>15</a>\u001b[0m     atoms\u001b[39m.\u001b[39mset_pbc((p1, p2, p3))\n\u001b[0;32m---> <a href='vscode-notebook-cell://research.constructor.tech/home/coder/project/TestXMace.ipynb#W4sdnNjb2RlLXJlbW90ZQ%3D%3D?line=15'>16</a>\u001b[0m     i, j, d, D, S \u001b[39m=\u001b[39m neighbour_list(\u001b[39m\"\u001b[39m\u001b[39mijdDS\u001b[39m\u001b[39m\"\u001b[39m, atoms, atoms\u001b[39m.\u001b[39mnumbers \u001b[39m*\u001b[39m \u001b[39m0.2\u001b[39m \u001b[39m+\u001b[39m \u001b[39m0.5\u001b[39m)\n\u001b[1;32m     <a href='vscode-notebook-cell://research.constructor.tech/home/coder/project/TestXMace.ipynb#W4sdnNjb2RlLXJlbW90ZQ%3D%3D?line=16'>17</a>\u001b[0m     c \u001b[39m=\u001b[39m np\u001b[39m.\u001b[39mbincount(i)\n\u001b[1;32m     <a href='vscode-notebook-cell://research.constructor.tech/home/coder/project/TestXMace.ipynb#W4sdnNjb2RlLXJlbW90ZQ%3D%3D?line=17'>18</a>\u001b[0m     atoms2 \u001b[39m=\u001b[39m atoms\u001b[39m.\u001b[39mrepeat((p1 \u001b[39m+\u001b[39m \u001b[39m1\u001b[39m, p2 \u001b[39m+\u001b[39m \u001b[39m1\u001b[39m, p3 \u001b[39m+\u001b[39m \u001b[39m1\u001b[39m))\n",
      "\u001b[0;31mNameError\u001b[0m: name 'neighbour_list' is not defined"
     ]
    }
   ],
   "source": [
    "import scipy, ase\n",
    "import numpy as np\n",
    "\n",
    "def test_out_of_bounds():\n",
    "        nat = 10\n",
    "        atoms = ase.Atoms(numbers=range(nat),\n",
    "                          cell=[(0.2, 1.2, 1.4),\n",
    "                                (1.4, 0.1, 1.6),\n",
    "                                (1.3, 2.0, -0.1)])\n",
    "        atoms.set_scaled_positions(3 * np.random.random((nat, 3)) - 1)\n",
    "        \n",
    "        for p1 in range(2):\n",
    "            for p2 in range(2):\n",
    "                for p3 in range(2):\n",
    "                    atoms.set_pbc((p1, p2, p3))\n",
    "                    i, j, d, D, S = neighbour_list(\"ijdDS\", atoms, atoms.numbers * 0.2 + 0.5)\n",
    "                    c = np.bincount(i)\n",
    "                    atoms2 = atoms.repeat((p1 + 1, p2 + 1, p3 + 1))\n",
    "                    i2, j2, d2, D2, S2 = neighbour_list(\"ijdDS\", atoms2, atoms2.numbers * 0.2 + 0.5)\n",
    "                    c2 = np.bincount(i2)\n",
    "                    c2.shape = (-1, nat)\n",
    "                    dd = d.sum() * (p1 + 1) * (p2 + 1) * (p3 + 1) - d2.sum()\n",
    "                    dr = np.linalg.solve(atoms.cell.T, (atoms.positions[1]-atoms.positions[0]).T).T+np.array([0,0,3])\n",
    "                    # self.assertTrue(abs(dd) & lt; 1e-10)\n",
    "                    assert(not (c2 - c).any())\n",
    "\n",
    "test_out_of_bounds()"
   ]
  }
 ],
 "metadata": {
  "kernelspec": {
   "display_name": "Python 3",
   "language": "python",
   "name": "python3"
  },
  "language_info": {
   "codemirror_mode": {
    "name": "ipython",
    "version": 3
   },
   "file_extension": ".py",
   "mimetype": "text/x-python",
   "name": "python",
   "nbconvert_exporter": "python",
   "pygments_lexer": "ipython3",
   "version": "3.8.18"
  }
 },
 "nbformat": 4,
 "nbformat_minor": 2
}
