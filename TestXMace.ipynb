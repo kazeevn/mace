{
 "cells": [
  {
   "cell_type": "code",
   "execution_count": 1,
   "metadata": {},
   "outputs": [],
   "source": [
    "import numpy"
   ]
  },
  {
   "cell_type": "code",
   "execution_count": 1,
   "metadata": {},
   "outputs": [
    {
     "name": "stdout",
     "output_type": "stream",
     "text": [
      "Traceback (most recent call last):\n",
      "  File \"/home/coder/.local/lib/rolos-mace/site-packages/numpy/core/__init__.py\", line 23, in <module>\n",
      "    from . import multiarray\n",
      "  File \"/home/coder/.local/lib/rolos-mace/site-packages/numpy/core/multiarray.py\", line 10, in <module>\n",
      "    from . import overrides\n",
      "  File \"/home/coder/.local/lib/rolos-mace/site-packages/numpy/core/overrides.py\", line 6, in <module>\n",
      "    from numpy.core._multiarray_umath import (\n",
      "ModuleNotFoundError: No module named 'numpy.core._multiarray_umath'\n",
      "\n",
      "During handling of the above exception, another exception occurred:\n",
      "\n",
      "Traceback (most recent call last):\n",
      "  File \"/home/coder/project/./scripts/run_train_.py\", line 13, in <module>\n",
      "    import numpy as np\n",
      "  File \"/home/coder/.local/lib/rolos-mace/site-packages/numpy/__init__.py\", line 141, in <module>\n",
      "    from . import core\n",
      "  File \"/home/coder/.local/lib/rolos-mace/site-packages/numpy/core/__init__.py\", line 49, in <module>\n",
      "    raise ImportError(msg)\n",
      "ImportError: \n",
      "\n",
      "IMPORTANT: PLEASE READ THIS FOR ADVICE ON HOW TO SOLVE THIS ISSUE!\n",
      "\n",
      "Importing the numpy C-extensions failed. This error can happen for\n",
      "many reasons, often due to issues with your setup or how NumPy was\n",
      "installed.\n",
      "\n",
      "We have compiled some common reasons and troubleshooting tips at:\n",
      "\n",
      "    https://numpy.org/devdocs/user/troubleshooting-importerror.html\n",
      "\n",
      "Please note and check the following:\n",
      "\n",
      "  * The Python version is: Python3.10 from \"/usr/bin/python3\"\n",
      "  * The NumPy version is: \"1.24.4\"\n",
      "\n",
      "and make sure that they are the versions you expect.\n",
      "Please carefully study the documentation linked above for further help.\n",
      "\n",
      "Original error was: No module named 'numpy.core._multiarray_umath'\n",
      "\n"
     ]
    },
    {
     "name": "stdout",
     "output_type": "stream",
     "text": [
      "Elapsewd time: 0.15239858627319336\n"
     ]
    }
   ],
   "source": [
    "import time \n",
    "\n",
    "start = time.time()\n",
    "!python3 ./scripts/run_train_.py \\\n",
    "  --log_dir=/home/coder/project/logs \\\n",
    "  --model_dir=/home/coder/project/model \\\n",
    "  --checkpoints_dir=/home/coder/project/checkpoints \\\n",
    "  --results_dir=/home/coder/project/results \\\n",
    "  --downloads_dir=/home/coder/project/downloads \\\n",
    "  --name=\"/home/coder/project/model/MACE_model\" \\\n",
    "  --train_file=\"BOTNet-datasets/dataset_3BPA/train_300K.xyz\" \\\n",
    "  --valid_fraction=0.05 \\\n",
    "  --test_file=\"BOTNet-datasets/dataset_3BPA/test_300K.xyz\" \\\n",
    "  --E0s='{1:-13.663181292231226, 6:-1029.2809654211628, 7:-1484.1187695035828, 8:-2042.0330099956639}' \\\n",
    "  --model=\"ScaleShiftMACE\" \\\n",
    "  --hidden_irreps='32x0e' \\\n",
    "  --r_max=4.0 \\\n",
    "  --batch_size=20 \\\n",
    "  --max_num_epochs=2 \\\n",
    "  --ema \\\n",
    "  --ema_decay=0.99 \\\n",
    "  --amsgrad \\\n",
    "  --default_dtype=\"float32\" \\\n",
    "  --device=cpu \\\n",
    "  --seed=123 \\\n",
    "  --swa\n",
    "end = time.time()\n",
    "print('Elapsewd time:',end - start)"
   ]
  },
  {
   "cell_type": "markdown",
   "metadata": {},
   "source": [
    "1. Test ACE module\n",
    "\n",
    "Test results: \n",
    "    1) environment variables not added (see https://pypi.org/project/ase/ , section Installation) - failed\n",
    "    2) run command 'ace test' in the terminal (see https://pypi.org/project/ase/ , section Testing) - failed due to item 1) above\n",
    "    3) run command 'ace test' in the notebook cell (see below) - failed, \n",
    "    4) run example script (see https://pypi.org/project/ase/ , section Example) see below - failed\n",
    "\n",
    "Conclusion: ACE module is not properly installed"
   ]
  },
  {
   "cell_type": "code",
   "execution_count": 2,
   "metadata": {},
   "outputs": [
    {
     "name": "stdout",
     "output_type": "stream",
     "text": [
      "About to run pytest with these parameters:\n",
      "    -v\n",
      "\u001b[1m============================= test session starts ==============================\u001b[0m\n",
      "platform linux -- Python 3.10.12, pytest-8.0.0, pluggy-1.4.0 -- /usr/bin/python3\n",
      "cachedir: .pytest_cache\n",
      "\n",
      "Libraries\n",
      "=========\n",
      "\n",
      "ase-3.22.1               /usr/local/lib/python3.10/dist-packages/ase\n",
      "numpy-1.26.4             /usr/local/lib/python3.10/dist-packages/numpy\n",
      "scipy-1.12.0             /usr/local/lib/python3.10/dist-packages/scipy\n",
      "matplotlib-3.8.2         /usr/local/lib/python3.10/dist-packages/matplotlib\n",
      "spglib-2.3.0             /usr/local/lib/python3.10/dist-packages/spglib\n",
      "ase_ext                  not installed\n",
      "flask                    not installed\n",
      "psycopg2                 not installed\n",
      "pyamg                    not installed\n",
      "\n",
      "\n",
      "Calculators\n",
      "===========\n",
      "Config: No configuration file specified\n",
      "Datafiles: ase-datafiles package not installed\n",
      "\n",
      "  [ ] abinit           not installed\n",
      "  [ ] aims             not installed\n",
      "  [ ] asap             not installed\n",
      "  [ ] castep           not installed\n",
      "  [ ] cp2k             not installed\n",
      "  [ ] dftb             not installed\n",
      "  [ ] dftd3            not installed\n",
      "  [ ] elk              not installed\n",
      "  [ ] espresso         not installed\n",
      "  [ ] exciting         not installed\n",
      "  [ ] gpaw             not installed\n",
      "  [ ] gromacs          not installed\n",
      "  [ ] lammpslib        not installed\n",
      "  [ ] lammpsrun        not installed\n",
      "  [ ] nwchem           not installed\n",
      "  [ ] octopus          not installed\n",
      "  [ ] openmx           not installed\n",
      "  [ ] siesta           not installed\n",
      "  [ ] vasp             not installed\n",
      "\n",
      " * Use --calculators option to select calculators.\n",
      "\n",
      " * See \"ase test --help-calculators\" on how to configure calculators.\n",
      "\n",
      " * This listing only includes external calculators known by the test\n",
      "   system.  Others are \"configured\" by setting an environment variable\n",
      "   like \"ASE_xxx_COMMAND\" in order to allow tests to run.  Please see\n",
      "   the documentation of that individual calculator.\n",
      "\n",
      "\n",
      "rootdir: /usr/local/lib/python3.10/dist-packages/ase/test\n",
      "configfile: pytest.ini\n",
      "plugins: anyio-4.2.0, subtests-0.11.0\n",
      "collected 1963 items / 1 error                                                 \u001b[0m\u001b[1m\u001b[1m\u001b[1m\u001b[1m\u001b[1m\u001b[1m\n",
      "!!!!!!!!!!!!!!!!!!!! Interrupted: 1 error during collection !!!!!!!!!!!!!!!!!!!!\n",
      "Traceback (most recent call last):\n",
      "  File \"/usr/lib/python3.10/pathlib.py\", line 1175, in mkdir\n",
      "    self._accessor.mkdir(self, mode)\n",
      "FileNotFoundError: [Errno 2] No such file or directory: '/usr/local/lib/python3.10/dist-packages/ase/test/.pytest_cache/v/cache'\n",
      "\n",
      "During handling of the above exception, another exception occurred:\n",
      "\n",
      "Traceback (most recent call last):\n",
      "  File \"/usr/lib/python3.10/pathlib.py\", line 1175, in mkdir\n",
      "    self._accessor.mkdir(self, mode)\n",
      "FileNotFoundError: [Errno 2] No such file or directory: '/usr/local/lib/python3.10/dist-packages/ase/test/.pytest_cache/v'\n",
      "\n",
      "During handling of the above exception, another exception occurred:\n",
      "\n",
      "Traceback (most recent call last):\n",
      "  File \"/usr/local/lib/python3.10/dist-packages/_pytest/cacheprovider.py\", line 181, in set\n",
      "    path.parent.mkdir(exist_ok=True, parents=True)\n",
      "  File \"/usr/lib/python3.10/pathlib.py\", line 1179, in mkdir\n",
      "    self.parent.mkdir(parents=True, exist_ok=True)\n",
      "  File \"/usr/lib/python3.10/pathlib.py\", line 1179, in mkdir\n",
      "    self.parent.mkdir(parents=True, exist_ok=True)\n",
      "  File \"/usr/lib/python3.10/pathlib.py\", line 1175, in mkdir\n",
      "    self._accessor.mkdir(self, mode)\n",
      "PermissionError: [Errno 13] Permission denied: '/usr/local/lib/python3.10/dist-packages/ase/test/.pytest_cache'\n",
      "\n",
      "During handling of the above exception, another exception occurred:\n",
      "\n",
      "Traceback (most recent call last):\n",
      "  File \"/usr/lib/python3.10/runpy.py\", line 196, in _run_module_as_main\n",
      "    return _run_code(code, main_globals, None,\n",
      "  File \"/usr/lib/python3.10/runpy.py\", line 86, in _run_code\n",
      "    exec(code, run_globals)\n",
      "  File \"/usr/local/lib/python3.10/dist-packages/pytest/__main__.py\", line 5, in <module>\n",
      "    raise SystemExit(pytest.console_main())\n",
      "  File \"/usr/local/lib/python3.10/dist-packages/_pytest/config/__init__.py\", line 197, in console_main\n",
      "    code = main()\n",
      "  File \"/usr/local/lib/python3.10/dist-packages/_pytest/config/__init__.py\", line 174, in main\n",
      "    ret: Union[ExitCode, int] = config.hook.pytest_cmdline_main(\n",
      "  File \"/usr/local/lib/python3.10/dist-packages/pluggy/_hooks.py\", line 501, in __call__\n",
      "    return self._hookexec(self.name, self._hookimpls.copy(), kwargs, firstresult)\n",
      "  File \"/usr/local/lib/python3.10/dist-packages/pluggy/_manager.py\", line 119, in _hookexec\n",
      "    return self._inner_hookexec(hook_name, methods, kwargs, firstresult)\n",
      "  File \"/usr/local/lib/python3.10/dist-packages/pluggy/_callers.py\", line 138, in _multicall\n",
      "    raise exception.with_traceback(exception.__traceback__)\n",
      "  File \"/usr/local/lib/python3.10/dist-packages/pluggy/_callers.py\", line 102, in _multicall\n",
      "    res = hook_impl.function(*args)\n",
      "  File \"/usr/local/lib/python3.10/dist-packages/_pytest/main.py\", line 319, in pytest_cmdline_main\n",
      "    return wrap_session(config, _main)\n",
      "  File \"/usr/local/lib/python3.10/dist-packages/_pytest/main.py\", line 307, in wrap_session\n",
      "    config.hook.pytest_sessionfinish(\n",
      "  File \"/usr/local/lib/python3.10/dist-packages/pluggy/_hooks.py\", line 501, in __call__\n",
      "    return self._hookexec(self.name, self._hookimpls.copy(), kwargs, firstresult)\n",
      "  File \"/usr/local/lib/python3.10/dist-packages/pluggy/_manager.py\", line 119, in _hookexec\n",
      "    return self._inner_hookexec(hook_name, methods, kwargs, firstresult)\n",
      "  File \"/usr/local/lib/python3.10/dist-packages/pluggy/_callers.py\", line 138, in _multicall\n",
      "    raise exception.with_traceback(exception.__traceback__)\n",
      "  File \"/usr/local/lib/python3.10/dist-packages/pluggy/_callers.py\", line 121, in _multicall\n",
      "    teardown.throw(exception)  # type: ignore[union-attr]\n",
      "  File \"/usr/local/lib/python3.10/dist-packages/_pytest/logging.py\", line 861, in pytest_sessionfinish\n",
      "    return (yield)\n",
      "  File \"/usr/local/lib/python3.10/dist-packages/pluggy/_callers.py\", line 121, in _multicall\n",
      "    teardown.throw(exception)  # type: ignore[union-attr]\n",
      "  File \"/usr/local/lib/python3.10/dist-packages/_pytest/terminal.py\", line 854, in pytest_sessionfinish\n",
      "    result = yield\n",
      "  File \"/usr/local/lib/python3.10/dist-packages/pluggy/_callers.py\", line 121, in _multicall\n",
      "    teardown.throw(exception)  # type: ignore[union-attr]\n",
      "  File \"/usr/local/lib/python3.10/dist-packages/_pytest/warnings.py\", line 138, in pytest_sessionfinish\n",
      "    return (yield)\n",
      "  File \"/usr/local/lib/python3.10/dist-packages/pluggy/_callers.py\", line 102, in _multicall\n",
      "    res = hook_impl.function(*args)\n",
      "  File \"/usr/local/lib/python3.10/dist-packages/_pytest/cacheprovider.py\", line 445, in pytest_sessionfinish\n",
      "    config.cache.set(\"cache/nodeids\", sorted(self.cached_nodeids))\n",
      "  File \"/usr/local/lib/python3.10/dist-packages/_pytest/cacheprovider.py\", line 183, in set\n",
      "    self.warn(\n",
      "  File \"/usr/local/lib/python3.10/dist-packages/_pytest/cacheprovider.py\", line 116, in warn\n",
      "    warnings.warn(\n",
      "pytest.PytestCacheWarning: could not create cache path /usr/local/lib/python3.10/dist-packages/ase/test/.pytest_cache/v/cache/nodeids: [Errno 13] Permission denied: '/usr/local/lib/python3.10/dist-packages/ase/test/.pytest_cache'\n"
     ]
    }
   ],
   "source": [
    "!ase test"
   ]
  },
  {
   "cell_type": "code",
   "execution_count": 3,
   "metadata": {},
   "outputs": [
    {
     "name": "stdout",
     "output_type": "stream",
     "text": [
      "      Step     Time          Energy         fmax\n",
      "BFGS:    0 15:21:31      -31.435218        2.2691\n"
     ]
    },
    {
     "name": "stderr",
     "output_type": "stream",
     "text": [
      "[0] ARMCI Warning: Freed 1 leaked allocations\n"
     ]
    },
    {
     "name": "stdout",
     "output_type": "stream",
     "text": [
      "BFGS:    1 15:21:31      -31.490762        0.3740\n"
     ]
    },
    {
     "name": "stderr",
     "output_type": "stream",
     "text": [
      "[0] ARMCI Warning: Freed 1 leaked allocations\n"
     ]
    },
    {
     "name": "stdout",
     "output_type": "stream",
     "text": [
      "BFGS:    2 15:21:32      -31.492780        0.0630\n"
     ]
    },
    {
     "name": "stderr",
     "output_type": "stream",
     "text": [
      "[0] ARMCI Warning: Freed 1 leaked allocations\n"
     ]
    },
    {
     "name": "stdout",
     "output_type": "stream",
     "text": [
      "BFGS:    3 15:21:32      -31.492837        0.0023\n"
     ]
    },
    {
     "name": "stderr",
     "output_type": "stream",
     "text": [
      "[0] ARMCI Warning: Freed 1 leaked allocations\n"
     ]
    },
    {
     "data": {
      "text/plain": [
       "True"
      ]
     },
     "execution_count": 3,
     "metadata": {},
     "output_type": "execute_result"
    }
   ],
   "source": [
    "from ase import Atoms\n",
    "from ase.optimize import BFGS\n",
    "from ase.calculators.nwchem import NWChem\n",
    "from ase.io import write\n",
    "\n",
    "h2 = Atoms('H2',positions=[[0, 0, 0],[0, 0, 0.7]])\n",
    "h2.calc = NWChem(xc='PBE')\n",
    "opt = BFGS(h2, trajectory='h2.traj')\n",
    "opt.run(fmax=0.02)"
   ]
  },
  {
   "cell_type": "markdown",
   "metadata": {},
   "source": [
    "2. Testing scipy module"
   ]
  },
  {
   "cell_type": "code",
   "execution_count": 6,
   "metadata": {},
   "outputs": [
    {
     "data": {
      "text/plain": [
       "['/usr/local/lib/python3.10/dist-packages/ase']"
      ]
     },
     "execution_count": 6,
     "metadata": {},
     "output_type": "execute_result"
    }
   ],
   "source": [
    "import ase\n",
    "ase.__path__"
   ]
  },
  {
   "cell_type": "code",
   "execution_count": 4,
   "metadata": {},
   "outputs": [
    {
     "name": "stdout",
     "output_type": "stream",
     "text": [
      "[1:44] test_angle_distribution.py --------------------------------------------------\n"
     ]
    },
    {
     "name": "stderr",
     "output_type": "stream",
     "text": [
      "Traceback (most recent call last):\n",
      "  File \"/home/coder/project/matscipy_tests/test_angle_distribution.py\", line 52, in <module>\n",
      "    from matscipy.neighbours import neighbour_list\n",
      "  File \"/home/coder/project/matscipy/__init__.py\", line 27, in <module>\n",
      "    from ._version import __version__\n",
      "ModuleNotFoundError: No module named 'matscipy._version'\n"
     ]
    },
    {
     "name": "stdout",
     "output_type": "stream",
     "text": [
      "[2:44] test_atomic_strain.py --------------------------------------------------\n"
     ]
    },
    {
     "name": "stderr",
     "output_type": "stream",
     "text": [
      "Traceback (most recent call last):\n",
      "  File \"/home/coder/project/matscipy_tests/test_atomic_strain.py\", line 51, in <module>\n",
      "    from matscipy.neighbours import mic, neighbour_list\n",
      "  File \"/home/coder/project/matscipy/__init__.py\", line 27, in <module>\n",
      "    from ._version import __version__\n",
      "ModuleNotFoundError: No module named 'matscipy._version'\n"
     ]
    },
    {
     "name": "stdout",
     "output_type": "stream",
     "text": [
      "[3:44] test_bop.py --------------------------------------------------\n"
     ]
    },
    {
     "name": "stderr",
     "output_type": "stream",
     "text": [
      "Traceback (most recent call last):\n",
      "  File \"/home/coder/project/matscipy_tests/test_bop.py\", line 34, in <module>\n",
      "    import matscipy.calculators.manybody.explicit_forms.stillinger_weber \\\n",
      "  File \"/home/coder/project/matscipy/__init__.py\", line 27, in <module>\n",
      "    from ._version import __version__\n",
      "ModuleNotFoundError: No module named 'matscipy._version'\n"
     ]
    },
    {
     "name": "stdout",
     "output_type": "stream",
     "text": [
      "[4:44] test_build_3D_crack.py --------------------------------------------------\n"
     ]
    },
    {
     "name": "stderr",
     "output_type": "stream",
     "text": [
      "Traceback (most recent call last):\n",
      "  File \"/home/coder/project/matscipy_tests/test_build_3D_crack.py\", line 7, in <module>\n",
      "    from matscipy.cauchy_born import CubicCauchyBorn\n",
      "  File \"/home/coder/project/matscipy/__init__.py\", line 27, in <module>\n",
      "    from ._version import __version__\n",
      "ModuleNotFoundError: No module named 'matscipy._version'\n"
     ]
    },
    {
     "name": "stdout",
     "output_type": "stream",
     "text": [
      "[5:44] test_bulk_properties.py --------------------------------------------------\n"
     ]
    },
    {
     "name": "stderr",
     "output_type": "stream",
     "text": [
      "Traceback (most recent call last):\n",
      "  File \"/home/coder/project/matscipy_tests/test_bulk_properties.py\", line 32, in <module>\n",
      "    import matscipy.calculators.manybody.explicit_forms.stillinger_weber as stillinger_weber\n",
      "  File \"/home/coder/project/matscipy/__init__.py\", line 27, in <module>\n",
      "    from ._version import __version__\n",
      "ModuleNotFoundError: No module named 'matscipy._version'\n"
     ]
    },
    {
     "name": "stdout",
     "output_type": "stream",
     "text": [
      "[6:44] test_c2d.py --------------------------------------------------\n"
     ]
    },
    {
     "name": "stderr",
     "output_type": "stream",
     "text": [
      "/home/coder/project/matscipy_tests/test_c2d.py:32: DeprecationWarning: The distutils package is deprecated and slated for removal in Python 3.12. Use setuptools or check PEP 632 for potential alternatives\n",
      "  from distutils.version import LooseVersion\n"
     ]
    },
    {
     "name": "stdout",
     "output_type": "stream",
     "text": [
      "[7:44] test_cauchy_born_corrector.py --------------------------------------------------\n"
     ]
    },
    {
     "name": "stderr",
     "output_type": "stream",
     "text": [
      "Traceback (most recent call last):\n",
      "  File \"/home/coder/project/matscipy_tests/test_cauchy_born_corrector.py\", line 7, in <module>\n",
      "    from matscipy.cauchy_born import CubicCauchyBorn\n",
      "  File \"/home/coder/project/matscipy/__init__.py\", line 27, in <module>\n",
      "    from ._version import __version__\n",
      "ModuleNotFoundError: No module named 'matscipy._version'\n"
     ]
    },
    {
     "name": "stdout",
     "output_type": "stream",
     "text": [
      "[8:44] test_cluster_stable_sort.py --------------------------------------------------\n"
     ]
    },
    {
     "name": "stderr",
     "output_type": "stream",
     "text": [
      "Traceback (most recent call last):\n",
      "  File \"/home/coder/project/matscipy_tests/test_cluster_stable_sort.py\", line 12, in <module>\n",
      "    from matscipy.fracture_mechanics.clusters import diamond, set_groups, set_regions, get_alpha_period, bcc\n",
      "  File \"/home/coder/project/matscipy/__init__.py\", line 27, in <module>\n",
      "    from ._version import __version__\n",
      "ModuleNotFoundError: No module named 'matscipy._version'\n"
     ]
    },
    {
     "name": "stdout",
     "output_type": "stream",
     "text": [
      "[9:44] test_committee.py --------------------------------------------------\n"
     ]
    },
    {
     "name": "stderr",
     "output_type": "stream",
     "text": [
      "Traceback (most recent call last):\n",
      "  File \"/home/coder/project/matscipy_tests/test_committee.py\", line 12, in <module>\n",
      "    import matscipy.calculators.committee\n",
      "  File \"/home/coder/project/matscipy/__init__.py\", line 27, in <module>\n",
      "    from ._version import __version__\n",
      "ModuleNotFoundError: No module named 'matscipy._version'\n"
     ]
    },
    {
     "name": "stdout",
     "output_type": "stream",
     "text": [
      "[10:44] test_crack.py --------------------------------------------------\n"
     ]
    },
    {
     "name": "stderr",
     "output_type": "stream",
     "text": [
      "Traceback (most recent call last):\n",
      "  File \"/home/coder/project/matscipy_tests/test_crack.py\", line 33, in <module>\n",
      "    import matscipy.fracture_mechanics.crack as crack\n",
      "  File \"/home/coder/project/matscipy/__init__.py\", line 27, in <module>\n",
      "    from ._version import __version__\n",
      "ModuleNotFoundError: No module named 'matscipy._version'\n"
     ]
    },
    {
     "name": "stdout",
     "output_type": "stream",
     "text": [
      "[11:44] test_cubic_crystal_crack.py --------------------------------------------------\n"
     ]
    },
    {
     "name": "stderr",
     "output_type": "stream",
     "text": [
      "Traceback (most recent call last):\n",
      "  File \"/home/coder/project/matscipy_tests/test_cubic_crystal_crack.py\", line 59, in <module>\n",
      "    import matscipy.fracture_mechanics.clusters as clusters\n",
      "  File \"/home/coder/project/matscipy/__init__.py\", line 27, in <module>\n",
      "    from ._version import __version__\n",
      "ModuleNotFoundError: No module named 'matscipy._version'\n",
      "Traceback (most recent call last):\n",
      "  File \"/home/coder/project/matscipy_tests/test_dislocation.py\", line 27, in <module>\n",
      "    import matscipy.dislocation as sd\n",
      "  File \"/home/coder/project/matscipy/__init__.py\", line 27, in <module>\n",
      "    from ._version import __version__\n",
      "ModuleNotFoundError: No module named 'matscipy._version'\n"
     ]
    },
    {
     "name": "stdout",
     "output_type": "stream",
     "text": [
      "[12:44] test_dislocation.py --------------------------------------------------\n",
      "[13:44] test_eam_average_atom.py --------------------------------------------------\n"
     ]
    },
    {
     "name": "stderr",
     "output_type": "stream",
     "text": [
      "Traceback (most recent call last):\n",
      "  File \"/home/coder/project/matscipy_tests/test_eam_average_atom.py\", line 51, in <module>\n",
      "    from matscipy.calculators.eam import io, average_atom\n",
      "  File \"/home/coder/project/matscipy/__init__.py\", line 27, in <module>\n",
      "    from ._version import __version__\n",
      "ModuleNotFoundError: No module named 'matscipy._version'\n"
     ]
    },
    {
     "name": "stdout",
     "output_type": "stream",
     "text": [
      "[14:44] test_eam_calculator.py --------------------------------------------------\n"
     ]
    },
    {
     "name": "stderr",
     "output_type": "stream",
     "text": [
      "Traceback (most recent call last):\n",
      "  File \"/home/coder/project/matscipy_tests/test_eam_calculator.py\", line 43, in <module>\n",
      "    from matscipy.elasticity import fit_elastic_constants, Voigt_6x6_to_cubic\n",
      "  File \"/home/coder/project/matscipy/__init__.py\", line 27, in <module>\n",
      "    from ._version import __version__\n",
      "ModuleNotFoundError: No module named 'matscipy._version'\n"
     ]
    },
    {
     "name": "stdout",
     "output_type": "stream",
     "text": [
      "[15:44] test_eam_calculator_forces_and_hessian.py --------------------------------------------------\n"
     ]
    },
    {
     "name": "stderr",
     "output_type": "stream",
     "text": [
      "Traceback (most recent call last):\n",
      "  File \"/home/coder/project/matscipy_tests/test_eam_calculator_forces_and_hessian.py\", line 52, in <module>\n",
      "    from matscipy.calculators.eam import EAM\n",
      "  File \"/home/coder/project/matscipy/__init__.py\", line 27, in <module>\n",
      "    from ._version import __version__\n",
      "ModuleNotFoundError: No module named 'matscipy._version'\n",
      "Traceback (most recent call last):\n",
      "  File \"/home/coder/project/matscipy_tests/test_eam_io.py\", line 50, in <module>\n",
      "    from matscipy.calculators.eam.io import (read_eam,\n",
      "  File \"/home/coder/project/matscipy/__init__.py\", line 27, in <module>\n",
      "    from ._version import __version__\n",
      "ModuleNotFoundError: No module named 'matscipy._version'\n"
     ]
    },
    {
     "name": "stdout",
     "output_type": "stream",
     "text": [
      "[16:44] test_eam_io.py --------------------------------------------------\n",
      "[17:44] test_elastic_moduli.py --------------------------------------------------\n"
     ]
    },
    {
     "name": "stderr",
     "output_type": "stream",
     "text": [
      "Traceback (most recent call last):\n",
      "  File \"/home/coder/project/matscipy_tests/test_elastic_moduli.py\", line 47, in <module>\n",
      "    from matscipy.elasticity import elastic_moduli\n",
      "  File \"/home/coder/project/matscipy/__init__.py\", line 27, in <module>\n",
      "    from ._version import __version__\n",
      "ModuleNotFoundError: No module named 'matscipy._version'\n"
     ]
    },
    {
     "name": "stdout",
     "output_type": "stream",
     "text": [
      "[18:44] test_energy_release.py --------------------------------------------------\n"
     ]
    },
    {
     "name": "stderr",
     "output_type": "stream",
     "text": [
      "Traceback (most recent call last):\n",
      "  File \"/home/coder/project/matscipy_tests/test_energy_release.py\", line 51, in <module>\n",
      "    import matscipy.fracture_mechanics.clusters as clusters\n",
      "  File \"/home/coder/project/matscipy/__init__.py\", line 27, in <module>\n",
      "    from ._version import __version__\n",
      "ModuleNotFoundError: No module named 'matscipy._version'\n"
     ]
    },
    {
     "name": "stdout",
     "output_type": "stream",
     "text": [
      "[19:44] test_ewald.py --------------------------------------------------\n"
     ]
    },
    {
     "name": "stderr",
     "output_type": "stream",
     "text": [
      "Traceback (most recent call last):\n",
      "  File \"/home/coder/project/matscipy_tests/test_ewald.py\", line 52, in <module>\n",
      "    from matscipy.calculators.ewald import Ewald\n",
      "  File \"/home/coder/project/matscipy/__init__.py\", line 27, in <module>\n",
      "    from ._version import __version__\n",
      "ModuleNotFoundError: No module named 'matscipy._version'\n",
      "Traceback (most recent call last):\n",
      "  File \"/home/coder/project/matscipy_tests/test_ffi.py\", line 8, in <module>\n",
      "    test_ffi()\n",
      "  File \"/home/coder/project/matscipy_tests/test_ffi.py\", line 4, in test_ffi\n",
      "    import matscipy.ffi\n",
      "  File \"/home/coder/project/matscipy/__init__.py\", line 27, in <module>\n",
      "    from ._version import __version__\n",
      "ModuleNotFoundError: No module named 'matscipy._version'\n"
     ]
    },
    {
     "name": "stdout",
     "output_type": "stream",
     "text": [
      "[20:44] test_ffi.py --------------------------------------------------\n",
      "[21:44] test_fit_elastic_constants.py --------------------------------------------------\n"
     ]
    },
    {
     "name": "stderr",
     "output_type": "stream",
     "text": [
      "Traceback (most recent call last):\n",
      "  File \"/home/coder/project/matscipy_tests/test_fit_elastic_constants.py\", line 59, in <module>\n",
      "    from matscipy.elasticity import (fit_elastic_constants,\n",
      "  File \"/home/coder/project/matscipy/__init__.py\", line 27, in <module>\n",
      "    from ._version import __version__\n",
      "ModuleNotFoundError: No module named 'matscipy._version'\n",
      "Traceback (most recent call last):\n",
      "  File \"/home/coder/project/matscipy_tests/test_full_to_Voigt.py\", line 47, in <module>\n",
      "    from matscipy.elasticity import (full_3x3_to_Voigt_6_index,\n",
      "  File \"/home/coder/project/matscipy/__init__.py\", line 27, in <module>\n",
      "    from ._version import __version__\n",
      "ModuleNotFoundError: No module named 'matscipy._version'\n"
     ]
    },
    {
     "name": "stdout",
     "output_type": "stream",
     "text": [
      "[22:44] test_full_to_Voigt.py --------------------------------------------------\n",
      "[23:44] test_gamma_surface.py --------------------------------------------------\n"
     ]
    },
    {
     "name": "stderr",
     "output_type": "stream",
     "text": [
      "Traceback (most recent call last):\n",
      "  File \"/home/coder/project/matscipy_tests/test_gamma_surface.py\", line 5, in <module>\n",
      "    from matscipy.gamma_surface import *\n",
      "  File \"/home/coder/project/matscipy/__init__.py\", line 27, in <module>\n",
      "    from ._version import __version__\n",
      "ModuleNotFoundError: No module named 'matscipy._version'\n"
     ]
    },
    {
     "name": "stdout",
     "output_type": "stream",
     "text": [
      "[24:44] test_hessian_finite_differences.py --------------------------------------------------\n"
     ]
    },
    {
     "name": "stderr",
     "output_type": "stream",
     "text": [
      "Traceback (most recent call last):\n",
      "  File \"/home/coder/project/matscipy_tests/test_hessian_finite_differences.py\", line 59, in <module>\n",
      "    from matscipy.calculators.pair_potential import PairPotential, LennardJonesCut\n",
      "  File \"/home/coder/project/matscipy/__init__.py\", line 27, in <module>\n",
      "    from ._version import __version__\n",
      "ModuleNotFoundError: No module named 'matscipy._version'\n"
     ]
    },
    {
     "name": "stdout",
     "output_type": "stream",
     "text": [
      "[25:44] test_hessian_precon.py --------------------------------------------------\n",
      "[26:44] test_hydrogenate.py --------------------------------------------------\n"
     ]
    },
    {
     "name": "stderr",
     "output_type": "stream",
     "text": [
      "Traceback (most recent call last):\n",
      "  File \"/home/coder/project/matscipy_tests/test_hessian_precon.py\", line 7, in <module>\n",
      "    from matscipy.calculators.eam import EAM\n",
      "  File \"/home/coder/project/matscipy/__init__.py\", line 27, in <module>\n",
      "    from ._version import __version__\n",
      "ModuleNotFoundError: No module named 'matscipy._version'\n",
      "Traceback (most recent call last):\n",
      "  File \"/home/coder/project/matscipy_tests/test_hydrogenate.py\", line 52, in <module>\n",
      "    from matscipy.hydrogenate import hydrogenate\n",
      "  File \"/home/coder/project/matscipy/__init__.py\", line 27, in <module>\n",
      "    from ._version import __version__\n",
      "ModuleNotFoundError: No module named 'matscipy._version'\n"
     ]
    },
    {
     "ename": "KeyboardInterrupt",
     "evalue": "",
     "output_type": "error",
     "traceback": [
      "\u001b[0;31m---------------------------------------------------------------------------\u001b[0m",
      "\u001b[0;31mKeyboardInterrupt\u001b[0m                         Traceback (most recent call last)",
      "\u001b[1;32m/home/coder/project/TestXMace.ipynb Cell 8\u001b[0m line \u001b[0;36m1\n\u001b[1;32m     <a href='vscode-notebook-cell://research.constructor.tech/home/coder/project/TestXMace.ipynb#X10sdnNjb2RlLXJlbW90ZQ%3D%3D?line=9'>10</a>\u001b[0m \u001b[39mprint\u001b[39m(\u001b[39mf\u001b[39m\u001b[39m'\u001b[39m\u001b[39m[\u001b[39m\u001b[39m{\u001b[39;00midx\u001b[39m}\u001b[39;00m\u001b[39m:\u001b[39m\u001b[39m{\u001b[39;00m\u001b[39mlen\u001b[39m(test_filenames)\u001b[39m}\u001b[39;00m\u001b[39m]\u001b[39m\u001b[39m'\u001b[39m,filename,\u001b[39m'\u001b[39m\u001b[39m--------------------------------------------------\u001b[39m\u001b[39m'\u001b[39m)\n\u001b[1;32m     <a href='vscode-notebook-cell://research.constructor.tech/home/coder/project/TestXMace.ipynb#X10sdnNjb2RlLXJlbW90ZQ%3D%3D?line=10'>11</a>\u001b[0m \u001b[39mtry\u001b[39;00m:\n\u001b[0;32m---> <a href='vscode-notebook-cell://research.constructor.tech/home/coder/project/TestXMace.ipynb#X10sdnNjb2RlLXJlbW90ZQ%3D%3D?line=11'>12</a>\u001b[0m     res \u001b[39m=\u001b[39m subprocess\u001b[39m.\u001b[39;49mcall(\u001b[39mf\u001b[39;49m\u001b[39m'\u001b[39;49m\u001b[39mpython3 \u001b[39;49m\u001b[39m'\u001b[39;49m\u001b[39m+\u001b[39;49mfilename, shell\u001b[39m=\u001b[39;49m\u001b[39mTrue\u001b[39;49;00m)\n\u001b[1;32m     <a href='vscode-notebook-cell://research.constructor.tech/home/coder/project/TestXMace.ipynb#X10sdnNjb2RlLXJlbW90ZQ%3D%3D?line=12'>13</a>\u001b[0m     \u001b[39mif\u001b[39;00m res \u001b[39m==\u001b[39m \u001b[39m0\u001b[39m:\n\u001b[1;32m     <a href='vscode-notebook-cell://research.constructor.tech/home/coder/project/TestXMace.ipynb#X10sdnNjb2RlLXJlbW90ZQ%3D%3D?line=13'>14</a>\u001b[0m         tests_succeeded\u001b[39m.\u001b[39mappend(filename)\n",
      "File \u001b[0;32m/usr/lib/python3.10/subprocess.py:347\u001b[0m, in \u001b[0;36mcall\u001b[0;34m(timeout, *popenargs, **kwargs)\u001b[0m\n\u001b[1;32m    345\u001b[0m \u001b[39mwith\u001b[39;00m Popen(\u001b[39m*\u001b[39mpopenargs, \u001b[39m*\u001b[39m\u001b[39m*\u001b[39mkwargs) \u001b[39mas\u001b[39;00m p:\n\u001b[1;32m    346\u001b[0m     \u001b[39mtry\u001b[39;00m:\n\u001b[0;32m--> 347\u001b[0m         \u001b[39mreturn\u001b[39;00m p\u001b[39m.\u001b[39;49mwait(timeout\u001b[39m=\u001b[39;49mtimeout)\n\u001b[1;32m    348\u001b[0m     \u001b[39mexcept\u001b[39;00m:  \u001b[39m# Including KeyboardInterrupt, wait handled that.\u001b[39;00m\n\u001b[1;32m    349\u001b[0m         p\u001b[39m.\u001b[39mkill()\n",
      "File \u001b[0;32m/usr/lib/python3.10/subprocess.py:1209\u001b[0m, in \u001b[0;36mPopen.wait\u001b[0;34m(self, timeout)\u001b[0m\n\u001b[1;32m   1207\u001b[0m     endtime \u001b[39m=\u001b[39m _time() \u001b[39m+\u001b[39m timeout\n\u001b[1;32m   1208\u001b[0m \u001b[39mtry\u001b[39;00m:\n\u001b[0;32m-> 1209\u001b[0m     \u001b[39mreturn\u001b[39;00m \u001b[39mself\u001b[39;49m\u001b[39m.\u001b[39;49m_wait(timeout\u001b[39m=\u001b[39;49mtimeout)\n\u001b[1;32m   1210\u001b[0m \u001b[39mexcept\u001b[39;00m \u001b[39mKeyboardInterrupt\u001b[39;00m:\n\u001b[1;32m   1211\u001b[0m     \u001b[39m# https://bugs.python.org/issue25942\u001b[39;00m\n\u001b[1;32m   1212\u001b[0m     \u001b[39m# The first keyboard interrupt waits briefly for the child to\u001b[39;00m\n\u001b[1;32m   1213\u001b[0m     \u001b[39m# exit under the common assumption that it also received the ^C\u001b[39;00m\n\u001b[1;32m   1214\u001b[0m     \u001b[39m# generated SIGINT and will exit rapidly.\u001b[39;00m\n\u001b[1;32m   1215\u001b[0m     \u001b[39mif\u001b[39;00m timeout \u001b[39mis\u001b[39;00m \u001b[39mnot\u001b[39;00m \u001b[39mNone\u001b[39;00m:\n",
      "File \u001b[0;32m/usr/lib/python3.10/subprocess.py:1959\u001b[0m, in \u001b[0;36mPopen._wait\u001b[0;34m(self, timeout)\u001b[0m\n\u001b[1;32m   1957\u001b[0m \u001b[39mif\u001b[39;00m \u001b[39mself\u001b[39m\u001b[39m.\u001b[39mreturncode \u001b[39mis\u001b[39;00m \u001b[39mnot\u001b[39;00m \u001b[39mNone\u001b[39;00m:\n\u001b[1;32m   1958\u001b[0m     \u001b[39mbreak\u001b[39;00m  \u001b[39m# Another thread waited.\u001b[39;00m\n\u001b[0;32m-> 1959\u001b[0m (pid, sts) \u001b[39m=\u001b[39m \u001b[39mself\u001b[39;49m\u001b[39m.\u001b[39;49m_try_wait(\u001b[39m0\u001b[39;49m)\n\u001b[1;32m   1960\u001b[0m \u001b[39m# Check the pid and loop as waitpid has been known to\u001b[39;00m\n\u001b[1;32m   1961\u001b[0m \u001b[39m# return 0 even without WNOHANG in odd situations.\u001b[39;00m\n\u001b[1;32m   1962\u001b[0m \u001b[39m# http://bugs.python.org/issue14396.\u001b[39;00m\n\u001b[1;32m   1963\u001b[0m \u001b[39mif\u001b[39;00m pid \u001b[39m==\u001b[39m \u001b[39mself\u001b[39m\u001b[39m.\u001b[39mpid:\n",
      "File \u001b[0;32m/usr/lib/python3.10/subprocess.py:1917\u001b[0m, in \u001b[0;36mPopen._try_wait\u001b[0;34m(self, wait_flags)\u001b[0m\n\u001b[1;32m   1915\u001b[0m \u001b[39m\u001b[39m\u001b[39m\"\"\"All callers to this function MUST hold self._waitpid_lock.\"\"\"\u001b[39;00m\n\u001b[1;32m   1916\u001b[0m \u001b[39mtry\u001b[39;00m:\n\u001b[0;32m-> 1917\u001b[0m     (pid, sts) \u001b[39m=\u001b[39m os\u001b[39m.\u001b[39;49mwaitpid(\u001b[39mself\u001b[39;49m\u001b[39m.\u001b[39;49mpid, wait_flags)\n\u001b[1;32m   1918\u001b[0m \u001b[39mexcept\u001b[39;00m \u001b[39mChildProcessError\u001b[39;00m:\n\u001b[1;32m   1919\u001b[0m     \u001b[39m# This happens if SIGCLD is set to be ignored or waiting\u001b[39;00m\n\u001b[1;32m   1920\u001b[0m     \u001b[39m# for child processes has otherwise been disabled for our\u001b[39;00m\n\u001b[1;32m   1921\u001b[0m     \u001b[39m# process.  This child is dead, we can't get the status.\u001b[39;00m\n\u001b[1;32m   1922\u001b[0m     pid \u001b[39m=\u001b[39m \u001b[39mself\u001b[39m\u001b[39m.\u001b[39mpid\n",
      "\u001b[0;31mKeyboardInterrupt\u001b[0m: "
     ]
    }
   ],
   "source": [
    "import os, sys, subprocess\n",
    "os.chdir('/home/coder/project/matscipy_tests')\n",
    "sys.path.insert(0, './matscipy_tests')\n",
    "\n",
    "test_filenames = [filename for filename in os.listdir('./') if filename.startswith('test_')]\n",
    "tests_failed = []\n",
    "tests_succeeded = []\n",
    "tests_error = []\n",
    "for idx,filename in enumerate(sorted(test_filenames),1):\n",
    "    print(f'[{idx}:{len(test_filenames)}]',filename,'--------------------------------------------------')\n",
    "    try:\n",
    "        res = subprocess.call(f'python3 '+filename, shell=True)\n",
    "        if res == 0:\n",
    "            tests_succeeded.append(filename)\n",
    "        else:\n",
    "            tests_failed.append(filename)\n",
    "    except Exception as e:\n",
    "        tests_error.append(filename)\n",
    "        print(e)\n",
    "        continue\n",
    "    # break\n",
    "os.chdir('/home/coder/project')"
   ]
  },
  {
   "cell_type": "code",
   "execution_count": null,
   "metadata": {},
   "outputs": [],
   "source": [
    "print('Failed:   ',len(tests_failed),tests_failed)\n",
    "print('Succeeded:',len(tests_succeeded),tests_succeeded)\n",
    "print('Error:    ',len(tests_error),tests_error)"
   ]
  },
  {
   "cell_type": "code",
   "execution_count": null,
   "metadata": {},
   "outputs": [],
   "source": [
    "tests_failed = ['test_build_3D_crack.py', 'test_cauchy_born_corrector.py', 'test_cluster_stable_sort.py', 'test_cubic_crystal_crack.py', 'test_dislocation.py', 'test_gamma_surface.py', 'test_hessian_finite_differences.py', 'test_neighbours.py', 'test_opls.py', 'test_opls_io.py', 'test_surface_reconstruction.py', 'test_utils.py']"
   ]
  },
  {
   "cell_type": "code",
   "execution_count": null,
   "metadata": {},
   "outputs": [],
   "source": [
    "!pwd"
   ]
  },
  {
   "cell_type": "code",
   "execution_count": null,
   "metadata": {},
   "outputs": [],
   "source": [
    "import subprocess\n",
    "for filename in tests_failed:\n",
    "    res = subprocess.call(f'python3 matscipy_tests/'+filename, shell=True)"
   ]
  },
  {
   "cell_type": "code",
   "execution_count": null,
   "metadata": {},
   "outputs": [],
   "source": [
    "'''\n",
    "matscipy installation errors:\n",
    "1) matscipy.cauchy_born is absent but is present in the GIT https://github.com/libAtoms/matscipy/blob/master/matscipy/cauchy_born.py\n",
    "2) matscipy.fracture_mechanics.clusters is not equal to https://github.com/libAtoms/matscipy/blob/master/matscipy/fracture_mechanics/clusters.py \n",
    "in the matscipy GIT, in particular there is no function get_alpha_period\n",
    "3) matscipy.fracture_mechanics.crack is not equal to https://github.com/libAtoms/matscipy/blob/master/matscipy/fracture_mechanics/crack.py \n",
    "in the matscipy GIT, in particular there is no function isotropic_modeII_crack_tip_displacement_field\n",
    "4) liblammps.so: cannot open shared object file: No such file or directory\n",
    "5) matscipy.gamma_surface  is absent but is present in the GIT https://github.com/libAtoms/matscipy/blob/master/matscipy/gamma_surface.py\n",
    "6) matscipy.numerical is not equal to https://github.com/libAtoms/matscipy/blob/master/matscipy/numerical.py\n",
    "in the matscipy GIT, in particular function numerical_hessian has different keyword argument (dx instaedof d)\n",
    "7) Other errors can be found in the log of the previous cell.\n",
    "\n",
    "Conclusion: The MATSCIPY version is not recent as requested in ther task, so MTSCIPY is not properly installed.\n",
    "'''"
   ]
  },
  {
   "cell_type": "code",
   "execution_count": 6,
   "metadata": {},
   "outputs": [
    {
     "ename": "ModuleNotFoundError",
     "evalue": "No module named 'matscipy._version'",
     "output_type": "error",
     "traceback": [
      "\u001b[0;31m---------------------------------------------------------------------------\u001b[0m",
      "\u001b[0;31mModuleNotFoundError\u001b[0m                       Traceback (most recent call last)",
      "\u001b[1;32m/home/coder/project/TestXMace.ipynb Cell 14\u001b[0m line \u001b[0;36m1\n\u001b[0;32m----> <a href='vscode-notebook-cell://research.constructor.tech/home/coder/project/TestXMace.ipynb#X16sdnNjb2RlLXJlbW90ZQ%3D%3D?line=0'>1</a>\u001b[0m \u001b[39mimport\u001b[39;00m \u001b[39mmatscipy\u001b[39;00m\n\u001b[1;32m      <a href='vscode-notebook-cell://research.constructor.tech/home/coder/project/TestXMace.ipynb#X16sdnNjb2RlLXJlbW90ZQ%3D%3D?line=1'>2</a>\u001b[0m \u001b[39m# print(matscipy.__path__)\u001b[39;00m\n",
      "File \u001b[0;32m~/project/matscipy/__init__.py:27\u001b[0m\n\u001b[1;32m      1\u001b[0m \u001b[39m#\u001b[39;00m\n\u001b[1;32m      2\u001b[0m \u001b[39m# Copyright 2015, 2017 Lars Pastewka (U. Freiburg)\u001b[39;00m\n\u001b[1;32m      3\u001b[0m \u001b[39m#           2015 Till Junge (EPFL)\u001b[39;00m\n\u001b[0;32m   (...)\u001b[0m\n\u001b[1;32m     22\u001b[0m \n\u001b[1;32m     23\u001b[0m \u001b[39m# Generic stuff may go here.\u001b[39;00m\n\u001b[1;32m     25\u001b[0m \u001b[39mfrom\u001b[39;00m \u001b[39mmatscipy\u001b[39;00m\u001b[39m.\u001b[39;00m\u001b[39mlogger\u001b[39;00m \u001b[39mimport\u001b[39;00m screen\n\u001b[0;32m---> 27\u001b[0m \u001b[39mfrom\u001b[39;00m \u001b[39m.\u001b[39;00m\u001b[39m_version\u001b[39;00m \u001b[39mimport\u001b[39;00m __version__\n\u001b[1;32m     30\u001b[0m \u001b[39mdef\u001b[39;00m \u001b[39mhas_parameter\u001b[39m(name):\n\u001b[1;32m     31\u001b[0m \u001b[39m    \u001b[39m\u001b[39m\"\"\"\u001b[39;00m\n\u001b[1;32m     32\u001b[0m \u001b[39m    Test if a parameter has been provided in params.py.\u001b[39;00m\n\u001b[1;32m     33\u001b[0m \n\u001b[0;32m   (...)\u001b[0m\n\u001b[1;32m     42\u001b[0m \u001b[39m        Returns True if parameter exists.\u001b[39;00m\n\u001b[1;32m     43\u001b[0m \u001b[39m    \"\"\"\u001b[39;00m\n",
      "\u001b[0;31mModuleNotFoundError\u001b[0m: No module named 'matscipy._version'"
     ]
    }
   ],
   "source": [
    "import matscipy\n",
    "# print(matscipy.__path__)"
   ]
  },
  {
   "cell_type": "markdown",
   "metadata": {},
   "source": [
    "3. Testing LAMMPS"
   ]
  },
  {
   "cell_type": "code",
   "execution_count": 7,
   "metadata": {},
   "outputs": [
    {
     "ename": "FileNotFoundError",
     "evalue": "[Errno 2] No such file or directory: 'lammps_test.in'",
     "output_type": "error",
     "traceback": [
      "\u001b[0;31m---------------------------------------------------------------------------\u001b[0m",
      "\u001b[0;31mFileNotFoundError\u001b[0m                         Traceback (most recent call last)",
      "\u001b[1;32m/home/coder/project/TestXMace.ipynb Cell 16\u001b[0m line \u001b[0;36m2\n\u001b[1;32m      <a href='vscode-notebook-cell://research.constructor.tech/home/coder/project/TestXMace.ipynb#X21sdnNjb2RlLXJlbW90ZQ%3D%3D?line=0'>1</a>\u001b[0m \u001b[39mfrom\u001b[39;00m \u001b[39mlammps_simulator\u001b[39;00m \u001b[39mimport\u001b[39;00m sim\n\u001b[0;32m----> <a href='vscode-notebook-cell://research.constructor.tech/home/coder/project/TestXMace.ipynb#X21sdnNjb2RlLXJlbW90ZQ%3D%3D?line=1'>2</a>\u001b[0m sim\u001b[39m.\u001b[39;49mset_input_script(\u001b[39m\"\u001b[39;49m\u001b[39mlammps_test.in\u001b[39;49m\u001b[39m\"\u001b[39;49m)\n\u001b[1;32m      <a href='vscode-notebook-cell://research.constructor.tech/home/coder/project/TestXMace.ipynb#X21sdnNjb2RlLXJlbW90ZQ%3D%3D?line=2'>3</a>\u001b[0m \u001b[39m# sim.run(num_procs=4, lmp_exec=\"lmp\")\u001b[39;00m\n\u001b[1;32m      <a href='vscode-notebook-cell://research.constructor.tech/home/coder/project/TestXMace.ipynb#X21sdnNjb2RlLXJlbW90ZQ%3D%3D?line=3'>4</a>\u001b[0m \u001b[39m# sim.set_input_script(\"hello.in\")\u001b[39;00m\n\u001b[1;32m      <a href='vscode-notebook-cell://research.constructor.tech/home/coder/project/TestXMace.ipynb#X21sdnNjb2RlLXJlbW90ZQ%3D%3D?line=4'>5</a>\u001b[0m sim\u001b[39m.\u001b[39mrun(num_procs\u001b[39m=\u001b[39m\u001b[39m4\u001b[39m, lmp_exec\u001b[39m=\u001b[39m\u001b[39m\"\u001b[39m\u001b[39mlmp\u001b[39m\u001b[39m\"\u001b[39m)\n",
      "File \u001b[0;32m/usr/local/lib/python3.10/dist-packages/lammps_simulator/simulator.py:115\u001b[0m, in \u001b[0;36mSimulator.set_input_script\u001b[0;34m(self, filename, copy, **var)\u001b[0m\n\u001b[1;32m    113\u001b[0m \u001b[39mif\u001b[39;00m \u001b[39mself\u001b[39m\u001b[39m.\u001b[39mssh \u001b[39mis\u001b[39;00m \u001b[39mNone\u001b[39;00m:\n\u001b[1;32m    114\u001b[0m     \u001b[39mtry\u001b[39;00m:\n\u001b[0;32m--> 115\u001b[0m         shutil\u001b[39m.\u001b[39;49mcopyfile(filename, \u001b[39mself\u001b[39;49m\u001b[39m.\u001b[39;49mwd \u001b[39m+\u001b[39;49m \u001b[39mself\u001b[39;49m\u001b[39m.\u001b[39;49mlmp_script)\n\u001b[1;32m    116\u001b[0m     \u001b[39mexcept\u001b[39;00m shutil\u001b[39m.\u001b[39mSameFileError:\n\u001b[1;32m    117\u001b[0m         \u001b[39mpass\u001b[39;00m\n",
      "File \u001b[0;32m/usr/lib/python3.10/shutil.py:254\u001b[0m, in \u001b[0;36mcopyfile\u001b[0;34m(src, dst, follow_symlinks)\u001b[0m\n\u001b[1;32m    252\u001b[0m     os\u001b[39m.\u001b[39msymlink(os\u001b[39m.\u001b[39mreadlink(src), dst)\n\u001b[1;32m    253\u001b[0m \u001b[39melse\u001b[39;00m:\n\u001b[0;32m--> 254\u001b[0m     \u001b[39mwith\u001b[39;00m \u001b[39mopen\u001b[39;49m(src, \u001b[39m'\u001b[39;49m\u001b[39mrb\u001b[39;49m\u001b[39m'\u001b[39;49m) \u001b[39mas\u001b[39;00m fsrc:\n\u001b[1;32m    255\u001b[0m         \u001b[39mtry\u001b[39;00m:\n\u001b[1;32m    256\u001b[0m             \u001b[39mwith\u001b[39;00m \u001b[39mopen\u001b[39m(dst, \u001b[39m'\u001b[39m\u001b[39mwb\u001b[39m\u001b[39m'\u001b[39m) \u001b[39mas\u001b[39;00m fdst:\n\u001b[1;32m    257\u001b[0m                 \u001b[39m# macOS\u001b[39;00m\n",
      "\u001b[0;31mFileNotFoundError\u001b[0m: [Errno 2] No such file or directory: 'lammps_test.in'"
     ]
    }
   ],
   "source": [
    "from lammps_simulator import sim\n",
    "sim.set_input_script(\"lammps_test.in\")\n",
    "# sim.run(num_procs=4, lmp_exec=\"lmp\")\n",
    "# sim.set_input_script(\"hello.in\")\n",
    "sim.run(num_procs=4, lmp_exec=\"lmp\")\n",
    "\n",
    "# from lammps_simulator.device import GPU\n",
    "# device = CPU(num_procs=4, lmp_exec=\"lmp\")\n",
    "# sim.run(device=device)"
   ]
  },
  {
   "cell_type": "code",
   "execution_count": 8,
   "metadata": {},
   "outputs": [
    {
     "name": "stdout",
     "output_type": "stream",
     "text": [
      "zsh:1: no such file or directory: lammps_test.in\n"
     ]
    }
   ],
   "source": [
    "!lmp < lammps_test.in"
   ]
  },
  {
   "cell_type": "code",
   "execution_count": 10,
   "metadata": {},
   "outputs": [
    {
     "name": "stdout",
     "output_type": "stream",
     "text": [
      "LAMMPS (29 Sep 2021 - Update 2)\n",
      "  using 1 OpenMP thread(s) per MPI task\n",
      "Created orthogonal box = (0.0000000 0.0000000 0.0000000) to (10.079368 10.079368 10.079368)\n",
      "  2 by 2 by 2 MPI processor grid\n",
      "Lattice spacing in x,y,z = 1.2599210 1.2599210 1.2599210\n",
      "Created 512 atoms\n",
      "  using lattice units in orthogonal box = (0.0000000 0.0000000 0.0000000) to (10.079368 10.079368 10.079368)\n",
      "  create_atoms CPU = 0.002 seconds\n",
      "Neighbor list info ...\n",
      "  update every 1 steps, delay 10 steps, check yes\n",
      "  max neighbors/atom: 2000, page size: 100000\n",
      "  master list distance cutoff = 2.8\n",
      "  ghost atom cutoff = 2.8\n",
      "  binsize = 1.4, bins = 8 8 8\n",
      "  1 neighbor lists, perpetual/occasional/extra = 1 0 0\n",
      "  (1) pair lj/cut, perpetual\n",
      "      attributes: half, newton on\n",
      "      pair build: half/bin/newton\n",
      "      stencil: half/bin/3d\n",
      "      bin: standard\n",
      "Setting up Verlet run ...\n",
      "  Unit style    : lj\n",
      "  Current step  : 0\n",
      "  Time step     : 0.005\n",
      "Per MPI rank memory allocation (min/avg/max) = 6.028 | 6.030 | 6.031 Mbytes\n",
      "Step PotEng KinEng TotEng Temp Press Density \n",
      "       0   -1736.2204        766.5   -969.72039            1   -2.1168568          0.5 \n",
      "     100    -1750.135    755.75532   -994.37967   0.98598215  -0.26763652          0.5 \n",
      "     200   -1796.6487    798.83542   -997.81327    1.0421858  -0.31785701          0.5 \n",
      "     300   -1787.6963    790.62725   -997.06908    1.0314772 -0.081641785          0.5 \n",
      "     400   -1784.7685    787.95838   -996.81014    1.0279953  -0.23744791          0.5 \n",
      "     500   -1799.1644    801.21643   -997.94796    1.0452921  -0.37230864          0.5 \n",
      "     600   -1800.8925    802.04525   -998.84727    1.0463734  0.030946413          0.5 \n",
      "     700   -1810.6734    811.66376   -999.00964    1.0589221  -0.15776265          0.5 \n",
      "     800   -1811.6524    813.11808   -998.53435    1.0608194  -0.24430297          0.5 \n",
      "     900   -1831.7833    832.77273   -999.01052    1.0864615  -0.20085125          0.5 \n",
      "    1000   -1828.3554    829.89161   -998.46384    1.0827027 -0.082863064          0.5 \n",
      "Loop time of 0.144043 on 8 procs for 1000 steps with 512 atoms\n",
      "\n",
      "Performance: 2999103.606 tau/day, 6942.369 timesteps/s\n",
      "64.4% CPU use with 8 MPI tasks x 1 OpenMP threads\n",
      "\n",
      "MPI task timing breakdown:\n",
      "Section |  min time  |  avg time  |  max time  |%varavg| %total\n",
      "---------------------------------------------------------------\n",
      "Pair    | 0.0098277  | 0.011964   | 0.015222   |   1.9 |  8.31\n",
      "Bond    | 4.0553e-05 | 4.7007e-05 | 5.7933e-05 |   0.0 |  0.03\n",
      "Neigh   | 0.0058013  | 0.0065324  | 0.0075838  |   0.8 |  4.54\n",
      "Comm    | 0.11763    | 0.12253    | 0.12546    |   0.9 | 85.07\n",
      "Output  | 0.00037166 | 0.00054436 | 0.00065272 |   0.0 |  0.38\n",
      "Modify  | 0.00049991 | 0.00060598 | 0.00081584 |   0.0 |  0.42\n",
      "Other   |            | 0.001819   |            |       |  1.26\n",
      "\n",
      "Nlocal:        64.0000 ave          77 max          51 min\n",
      "Histogram: 1 0 2 0 0 3 0 0 1 1\n",
      "Nghost:        541.625 ave         567 max         520 min\n",
      "Histogram: 1 0 0 2 3 1 0 0 0 1\n",
      "Neighs:        1461.62 ave        1885 max         997 min\n",
      "Histogram: 1 0 0 1 2 1 1 0 1 1\n",
      "\n",
      "Total # of neighbors = 11693\n",
      "Ave neighs/atom = 22.837891\n",
      "Ave special neighs/atom = 0.0000000\n",
      "Neighbor list builds = 100\n",
      "Dangerous builds = 100\n",
      "Setting up Verlet run ...\n",
      "  Unit style    : lj\n",
      "  Current step  : 1000\n",
      "  Time step     : 0.005\n",
      "Per MPI rank memory allocation (min/avg/max) = 6.030 | 6.032 | 6.034 Mbytes\n",
      "Step PotEng KinEng TotEng Temp Press Density \n",
      "    1000   -1828.3554    829.89161   -998.46384    1.0827027 -0.082863064          0.5 \n",
      "    1100   -1861.6094    771.19081   -1090.4186    1.0061198  -0.46339551          0.5 \n",
      "    1200   -1855.2581     764.6316   -1090.6265   0.99756243  -0.37242403          0.5 \n",
      "    1300   -1828.0993    750.24603   -1077.8533   0.97879455  -0.28325711          0.5 \n",
      "    1400   -1879.3838    775.02434   -1104.3595    1.0111211  -0.36851356          0.5 \n",
      "    1500   -1868.9074    769.86205   -1099.0454    1.0043862  -0.20296661          0.5 \n",
      "    1600   -1813.8291    784.87988   -1028.9492     1.023979 -0.086899779          0.5 \n",
      "    1700   -1849.1615    756.28289   -1092.8787   0.98667043   -0.2654524          0.5 \n",
      "    1800   -1839.4392    755.51378   -1083.9254   0.98566703  -0.29797837          0.5 \n",
      "    1900   -1813.7922    744.87875   -1068.9134   0.97179224  -0.12143871          0.5 \n",
      "    2000   -1837.3885    763.79759   -1073.5909   0.99647435  -0.25700831          0.5 \n",
      "Loop time of 0.199986 on 8 procs for 1000 steps with 512 atoms\n",
      "\n",
      "Performance: 2160150.481 tau/day, 5000.348 timesteps/s\n",
      "47.0% CPU use with 8 MPI tasks x 1 OpenMP threads\n",
      "\n",
      "MPI task timing breakdown:\n",
      "Section |  min time  |  avg time  |  max time  |%varavg| %total\n",
      "---------------------------------------------------------------\n",
      "Pair    | 0.0081681  | 0.011903   | 0.01768    |   2.5 |  5.95\n",
      "Bond    | 4.1851e-05 | 4.5539e-05 | 5.8063e-05 |   0.0 |  0.02\n",
      "Neigh   | 0.0049942  | 0.0064928  | 0.0083653  |   1.2 |  3.25\n",
      "Comm    | 0.16681    | 0.17431    | 0.17823    |   0.8 | 87.16\n",
      "Output  | 0.00032424 | 0.00035342 | 0.00050085 |   0.0 |  0.18\n",
      "Modify  | 0.0037097  | 0.0052766  | 0.0060683  |   1.2 |  2.64\n",
      "Other   |            | 0.001604   |            |       |  0.80\n",
      "\n",
      "Nlocal:        64.0000 ave          70 max          56 min\n",
      "Histogram: 2 0 0 0 0 2 1 1 0 2\n",
      "Nghost:        528.375 ave         551 max         508 min\n",
      "Histogram: 1 0 1 2 1 0 2 0 0 1\n",
      "Neighs:        1461.75 ave        1705 max        1097 min\n",
      "Histogram: 1 0 1 0 0 2 0 1 2 1\n",
      "\n",
      "Total # of neighbors = 11694\n",
      "Ave neighs/atom = 22.839844\n",
      "Ave special neighs/atom = 0.0000000\n",
      "Neighbor list builds = 100\n",
      "Dangerous builds = 100\n",
      "Setting up Verlet run ...\n",
      "  Unit style    : lj\n",
      "  Current step  : 2000\n",
      "  Time step     : 0.005\n",
      "Per MPI rank memory allocation (min/avg/max) = 7.053 | 7.054 | 7.057 Mbytes\n",
      "Step PotEng KinEng TotEng Temp Press Density \n",
      "    2000   -1837.3885    763.79759   -1073.5909   0.99647435  -0.25700831          0.5 \n",
      "    2100   -1845.8808    744.56275   -1101.3181   0.97137997  -0.49303749          0.5 \n",
      "    2200   -1827.8084    744.90404   -1082.9044   0.97182523  -0.18868107          0.5 \n",
      "    2300   -1815.2067    759.17814   -1056.0286   0.99044767  -0.27780353          0.5 \n",
      "    2400   -1804.8866    743.49188   -1061.3947   0.96998289  -0.25663788          0.5 \n",
      "    2500   -1817.7748    724.74125   -1093.0335   0.94552022  -0.31325946          0.5 \n",
      "    2600   -1814.4433     748.7858   -1065.6575    0.9768895  -0.26155066          0.5 \n",
      "    2700   -1834.6252    767.82252   -1066.8026    1.0017254  -0.16389142          0.5 \n",
      "    2800    -1814.466    795.07066   -1019.3953    1.0372742 -0.011080605          0.5 \n",
      "    2900   -1791.8795    859.61253   -932.26698    1.1214775  -0.14924011          0.5 \n",
      "    3000   -1840.0385     782.5139   -1057.5246    1.0208922  -0.32816725          0.5 \n",
      "    3100   -1816.5528    768.25909   -1048.2937     1.002295  -0.35004362          0.5 \n",
      "    3200    -1825.957     756.8497   -1069.1073   0.98740992  -0.33476457          0.5 \n",
      "    3300   -1833.0368    765.77718   -1067.2596   0.99905699  -0.45230073          0.5 \n",
      "    3400   -1830.1155     740.8039   -1089.3116   0.96647606  -0.28411645          0.5 \n",
      "    3500   -1838.4493    767.61028   -1070.8391    1.0014485  -0.22454982          0.5 \n",
      "    3600   -1857.4131    774.57586   -1082.8373     1.010536  -0.34876285          0.5 \n",
      "    3700   -1843.3224    738.83778   -1104.4847     0.963911  -0.39322397          0.5 \n",
      "    3800   -1822.8414    757.55443    -1065.287   0.98832933 -0.067104781          0.5 \n",
      "    3900   -1827.7109    781.46241   -1046.2485    1.0195204  -0.28475012          0.5 \n",
      "    4000   -1830.5529    857.18528   -973.36758    1.1183109  -0.27103954          0.5 \n",
      "Loop time of 0.459693 on 8 procs for 2000 steps with 512 atoms\n",
      "\n",
      "Performance: 1879514.297 tau/day, 4350.728 timesteps/s\n",
      "42.7% CPU use with 8 MPI tasks x 1 OpenMP threads\n",
      "\n",
      "MPI task timing breakdown:\n",
      "Section |  min time  |  avg time  |  max time  |%varavg| %total\n",
      "---------------------------------------------------------------\n",
      "Pair    | 0.020162   | 0.058478   | 0.12824    |  14.7 | 12.72\n",
      "Bond    | 8.3452e-05 | 9.502e-05  | 0.00012894 |   0.0 |  0.02\n",
      "Neigh   | 0.011586   | 0.013351   | 0.017015   |   1.5 |  2.90\n",
      "Comm    | 0.253      | 0.33435    | 0.38039    |   6.7 | 72.73\n",
      "Output  | 0.0059097  | 0.0059571  | 0.0061781  |   0.1 |  1.30\n",
      "Modify  | 0.02504    | 0.045442   | 0.065499   |   8.6 |  9.89\n",
      "Other   |            | 0.002025   |            |       |  0.44\n",
      "\n",
      "Nlocal:        64.0000 ave          70 max          61 min\n",
      "Histogram: 1 1 3 1 0 1 0 0 0 1\n",
      "Nghost:        538.250 ave         547 max         528 min\n",
      "Histogram: 2 0 0 2 0 0 0 1 2 1\n",
      "Neighs:        1455.00 ave        1663 max        1356 min\n",
      "Histogram: 2 2 2 0 0 0 0 0 1 1\n",
      "\n",
      "Total # of neighbors = 11640\n",
      "Ave neighs/atom = 22.734375\n",
      "Ave special neighs/atom = 0.0000000\n",
      "Neighbor list builds = 200\n",
      "Dangerous builds = 200\n",
      "Total wall time: 0:00:00\n"
     ]
    }
   ],
   "source": [
    "!mpirun -np 8 lmp < lammps_test.in"
   ]
  },
  {
   "cell_type": "code",
   "execution_count": null,
   "metadata": {},
   "outputs": [],
   "source": [
    "!whereis mpirun"
   ]
  },
  {
   "cell_type": "code",
   "execution_count": null,
   "metadata": {},
   "outputs": [],
   "source": [
    "!whereis lmp"
   ]
  },
  {
   "cell_type": "markdown",
   "metadata": {},
   "source": [
    "Conclusion: LAMMPS executable not found. LAMMPS seems to be not installed at all. See also item 4 about MATSCIPY installation (above) - it is related to the absence of LAMMPS DLLs"
   ]
  },
  {
   "cell_type": "markdown",
   "metadata": {},
   "source": [
    "4) Test Quantum Espresso (see https://icme.hpc.msstate.edu/mediawiki/index.php/Code:_Quantum_Espresso.html )"
   ]
  },
  {
   "cell_type": "code",
   "execution_count": null,
   "metadata": {},
   "outputs": [],
   "source": [
    "!pip freeze | grep mpirun -np 8 lmp executable < hello.in"
   ]
  },
  {
   "cell_type": "markdown",
   "metadata": {},
   "source": [
    "testcode is not installed as requested in the task"
   ]
  },
  {
   "cell_type": "code",
   "execution_count": 12,
   "metadata": {},
   "outputs": [
    {
     "name": "stdout",
     "output_type": "stream",
     "text": [
      "\n",
      "     Program PWSCF v.6.7MaX starts on  8Feb2024 at 14:33:11 \n",
      "\n",
      "     This program is part of the open-source Quantum ESPRESSO suite\n",
      "     for quantum simulation of materials; please cite\n",
      "         \"P. Giannozzi et al., J. Phys.:Condens. Matter 21 395502 (2009);\n",
      "         \"P. Giannozzi et al., J. Phys.:Condens. Matter 29 465901 (2017);\n",
      "          URL http://www.quantum-espresso.org\", \n",
      "     in publications or presentations arising from this work. More details at\n",
      "     http://www.quantum-espresso.org/quote\n",
      "\n",
      "     Parallel version (MPI), running on     1 processors\n",
      "\n",
      "     MPI processes distributed on     1 nodes\n",
      "     Waiting for input...\n",
      "     Reading input from standard input\n",
      "\n",
      "     Current dimensions of program PWSCF are:\n",
      "     Max number of different atomic species (ntypx) = 10\n",
      "     Max number of k-points (npk) =  40000\n",
      "     Max angular momentum in pseudopotentials (lmaxx) =  3\n",
      "\n",
      "     Subspace diagonalization in iterative solution of the eigenvalue problem:\n",
      "     a serial algorithm will be used\n",
      "\n",
      "\n",
      "     G-vector sticks info\n",
      "     --------------------\n",
      "     sticks:   dense  smooth     PW     G-vecs:    dense   smooth      PW\n",
      "     Sum         241     241     85                 2445     2445     531\n",
      "\n",
      "\n",
      "\n",
      "     bravais-lattice index     =            2\n",
      "     lattice parameter (alat)  =       7.6526  a.u.\n",
      "     unit-cell volume          =     112.0383 (a.u.)^3\n",
      "     number of atoms/cell      =            1\n",
      "     number of atomic types    =            1\n",
      "     number of electrons       =         3.00\n",
      "     number of Kohn-Sham states=            6\n",
      "     kinetic-energy cutoff     =      30.0000  Ry\n",
      "     charge density cutoff     =     120.0000  Ry\n",
      "     scf convergence threshold =      1.0E-06\n",
      "     mixing beta               =       0.7000\n",
      "     number of iterations used =            8  plain     mixing\n",
      "     Exchange-correlation= SLA  PZ   NOGX NOGC\n",
      "                           (   1   1   0   0   0   0   0)\n",
      "\n",
      "     celldm(1)=   7.652597  celldm(2)=   0.000000  celldm(3)=   0.000000\n",
      "     celldm(4)=   0.000000  celldm(5)=   0.000000  celldm(6)=   0.000000\n",
      "\n",
      "     crystal axes: (cart. coord. in units of alat)\n",
      "               a(1) = (  -0.500000   0.000000   0.500000 )  \n",
      "               a(2) = (   0.000000   0.500000   0.500000 )  \n",
      "               a(3) = (  -0.500000   0.500000   0.000000 )  \n",
      "\n",
      "     reciprocal axes: (cart. coord. in units 2 pi/alat)\n",
      "               b(1) = ( -1.000000 -1.000000  1.000000 )  \n",
      "               b(2) = (  1.000000  1.000000  1.000000 )  \n",
      "               b(3) = ( -1.000000  1.000000 -1.000000 )  \n",
      "\n",
      "\n",
      "     PseudoPot. # 1 for Al read from file:\n",
      "     /usr/share/espresso/pseudo/Al.pz-vbc.UPF\n",
      "     MD5 check sum: 69dcd8cd7cc1bedf536afd524f174f6a\n",
      "     Pseudo is Norm-conserving, Zval =  3.0\n",
      "     Generated by new atomic code, or converted to UPF format\n",
      "     Using radial grid of  171 points,  2 beta functions with: \n",
      "                l(1) =   0\n",
      "                l(2) =   1\n",
      "\n",
      "     atomic species   valence    mass     pseudopotential\n",
      "        Al             3.00    26.98150     Al( 1.00)\n",
      "\n",
      "     48 Sym. Ops., with inversion, found\n",
      "\n",
      "\n",
      "\n",
      "   Cartesian axes\n",
      "\n",
      "     site n.     atom                  positions (alat units)\n",
      "         1           Al  tau(   1) = (   0.0000000   0.0000000   0.0000000  )\n",
      "\n",
      "     number of k points=    29  Marzari-Vanderbilt smearing, width (Ry)=  0.0050\n",
      "                       cart. coord. in units 2pi/alat\n",
      "        k(    1) = (   0.0000000   0.0000000   0.0000000), wk =   0.0039062\n",
      "        k(    2) = (  -0.1250000   0.1250000  -0.1250000), wk =   0.0312500\n",
      "        k(    3) = (  -0.2500000   0.2500000  -0.2500000), wk =   0.0312500\n",
      "        k(    4) = (  -0.3750000   0.3750000  -0.3750000), wk =   0.0312500\n",
      "        k(    5) = (   0.5000000  -0.5000000   0.5000000), wk =   0.0156250\n",
      "        k(    6) = (   0.0000000   0.2500000   0.0000000), wk =   0.0234375\n",
      "        k(    7) = (  -0.1250000   0.3750000  -0.1250000), wk =   0.0937500\n",
      "        k(    8) = (  -0.2500000   0.5000000  -0.2500000), wk =   0.0937500\n",
      "        k(    9) = (   0.6250000  -0.3750000   0.6250000), wk =   0.0937500\n",
      "        k(   10) = (   0.5000000  -0.2500000   0.5000000), wk =   0.0937500\n",
      "        k(   11) = (   0.3750000  -0.1250000   0.3750000), wk =   0.0937500\n",
      "        k(   12) = (   0.2500000   0.0000000   0.2500000), wk =   0.0468750\n",
      "        k(   13) = (   0.0000000   0.5000000   0.0000000), wk =   0.0234375\n",
      "        k(   14) = (  -0.1250000   0.6250000  -0.1250000), wk =   0.0937500\n",
      "        k(   15) = (   0.7500000  -0.2500000   0.7500000), wk =   0.0937500\n",
      "        k(   16) = (   0.6250000  -0.1250000   0.6250000), wk =   0.0937500\n",
      "        k(   17) = (   0.5000000   0.0000000   0.5000000), wk =   0.0468750\n",
      "        k(   18) = (   0.0000000   0.7500000   0.0000000), wk =   0.0234375\n",
      "        k(   19) = (   0.8750000  -0.1250000   0.8750000), wk =   0.0937500\n",
      "        k(   20) = (   0.7500000   0.0000000   0.7500000), wk =   0.0468750\n",
      "        k(   21) = (   0.0000000  -1.0000000   0.0000000), wk =   0.0117188\n",
      "        k(   22) = (  -0.2500000   0.5000000   0.0000000), wk =   0.0937500\n",
      "        k(   23) = (   0.6250000  -0.3750000   0.8750000), wk =   0.1875000\n",
      "        k(   24) = (   0.5000000  -0.2500000   0.7500000), wk =   0.0937500\n",
      "        k(   25) = (   0.7500000  -0.2500000   1.0000000), wk =   0.0937500\n",
      "        k(   26) = (   0.6250000  -0.1250000   0.8750000), wk =   0.1875000\n",
      "        k(   27) = (   0.5000000   0.0000000   0.7500000), wk =   0.0937500\n",
      "        k(   28) = (  -0.2500000  -1.0000000   0.0000000), wk =   0.0468750\n",
      "        k(   29) = (  -0.5000000  -1.0000000   0.0000000), wk =   0.0234375\n",
      "\n",
      "     Dense  grid:     2445 G-vectors     FFT dimensions: (  20,  20,  20)\n",
      "\n",
      "     Estimated max dynamical RAM per process >       2.64 MB\n",
      "\n",
      "     Initial potential from superposition of free atoms\n",
      "\n",
      "     starting charge    2.99794, renormalised to    3.00000\n",
      "\n",
      "     negative rho (up, down):  8.457E-07 0.000E+00\n",
      "     Starting wfcs are    4 randomized atomic wfcs +    2 random wfcs\n",
      "\n",
      "     total cpu time spent up to now is        0.0 secs\n",
      "\n",
      "     Self-consistent Calculation\n",
      "\n",
      "     iteration #  1     ecut=    30.00 Ry     beta= 0.70\n",
      "     Davidson diagonalization with overlap\n",
      "     ethr =  1.00E-02,  avg # of iterations =  5.7\n",
      "\n",
      "     Threshold (ethr) on eigenvalues was too large:\n",
      "     Diagonalizing with lowered threshold\n",
      "\n",
      "     Davidson diagonalization with overlap\n",
      "     ethr =  1.91E-04,  avg # of iterations =  2.3\n",
      "\n",
      "     total cpu time spent up to now is        0.2 secs\n",
      "\n",
      "     total energy              =      -4.18829876 Ry\n",
      "     estimated scf accuracy    <       0.00573567 Ry\n",
      "\n",
      "     iteration #  2     ecut=    30.00 Ry     beta= 0.70\n",
      "     Davidson diagonalization with overlap\n",
      "     ethr =  1.91E-04,  avg # of iterations =  1.0\n",
      "\n",
      "     total cpu time spent up to now is        0.2 secs\n",
      "\n",
      "     total energy              =      -4.18830823 Ry\n",
      "     estimated scf accuracy    <       0.00043743 Ry\n",
      "\n",
      "     iteration #  3     ecut=    30.00 Ry     beta= 0.70\n",
      "     Davidson diagonalization with overlap\n",
      "     ethr =  1.46E-05,  avg # of iterations =  1.9\n",
      "\n",
      "     total cpu time spent up to now is        0.2 secs\n",
      "\n",
      "     End of self-consistent calculation\n",
      "\n",
      "          k = 0.0000 0.0000 0.0000 (   331 PWs)   bands (ev):\n",
      "\n",
      "    -3.3974  20.2025  20.2029  21.1610  21.1610  21.1610\n",
      "\n",
      "          k =-0.1250 0.1250-0.1250 (   316 PWs)   bands (ev):\n",
      "\n",
      "    -2.9700  15.8200  19.1023  19.1023  22.0240  22.8195\n",
      "\n",
      "          k =-0.2500 0.2500-0.2500 (   311 PWs)   bands (ev):\n",
      "\n",
      "    -1.6995  11.0359  18.3165  18.3165  21.7624  22.1333\n",
      "\n",
      "          k =-0.3750 0.3750-0.3750 (   308 PWs)   bands (ev):\n",
      "\n",
      "     0.3841   6.8066  18.2125  18.2125  20.1833  20.1834\n",
      "\n",
      "          k = 0.5000-0.5000 0.5000 (   302 PWs)   bands (ev):\n",
      "\n",
      "     3.1967   3.2767  18.6408  18.6408  19.0490  19.0491\n",
      "\n",
      "          k = 0.0000 0.2500 0.0000 (   307 PWs)   bands (ev):\n",
      "\n",
      "    -2.8278  17.3505  17.3506  17.7312  20.1076  22.1572\n",
      "\n",
      "          k =-0.1250 0.3750-0.1250 (   308 PWs)   bands (ev):\n",
      "\n",
      "    -1.8396  12.8634  16.3016  17.8602  19.0069  21.4629\n",
      "\n",
      "          k =-0.2500 0.5000-0.2500 (   317 PWs)   bands (ev):\n",
      "\n",
      "    -0.0295   8.4795  15.9592  16.7080  17.6668  23.6286\n",
      "\n",
      "          k = 0.6250-0.3750 0.6250 (   312 PWs)   bands (ev):\n",
      "\n",
      "     2.5616   4.7028  15.1024  16.3215  18.1059  22.1159\n",
      "\n",
      "          k = 0.5000-0.2500 0.5000 (   308 PWs)   bands (ev):\n",
      "\n",
      "     1.6148   5.8844  14.2363  17.3867  19.2712  21.2907\n",
      "\n",
      "          k = 0.3750-0.1250 0.3750 (   309 PWs)   bands (ev):\n",
      "\n",
      "    -0.7219   9.8568  14.1365  19.1196  21.1298  21.1946\n",
      "\n",
      "          k = 0.2500 0.0000 0.2500 (   317 PWs)   bands (ev):\n",
      "\n",
      "    -2.2622  13.9951  15.1819  21.1408  21.3079  22.8573\n",
      "\n",
      "          k = 0.0000 0.5000 0.0000 (   311 PWs)   bands (ev):\n",
      "\n",
      "    -1.1393  15.0061  15.0061  15.0577  15.7680  18.3605\n",
      "\n",
      "          k =-0.1250 0.6250-0.1250 (   316 PWs)   bands (ev):\n",
      "\n",
      "     0.3840  10.8275  13.1394  14.4236  15.9018  19.7709\n",
      "\n",
      "          k = 0.7500-0.2500 0.7500 (   311 PWs)   bands (ev):\n",
      "\n",
      "     2.6919   6.9192  11.2459  14.5465  16.2393  23.3890\n",
      "\n",
      "          k = 0.6250-0.1250 0.6250 (   307 PWs)   bands (ev):\n",
      "\n",
      "     3.6319   5.7191  10.1407  15.3747  17.2159  25.0647\n",
      "\n",
      "          k = 0.5000 0.0000 0.5000 (   315 PWs)   bands (ev):\n",
      "\n",
      "     1.0696   8.8900  10.3491  16.9109  18.9015  24.5954\n",
      "\n",
      "          k = 0.0000 0.7500 0.0000 (   322 PWs)   bands (ev):\n",
      "\n",
      "     1.6113  10.1983  13.3994  13.6040  13.6040  16.9923\n",
      "\n",
      "          k = 0.8750-0.1250 0.8750 (   314 PWs)   bands (ev):\n",
      "\n",
      "     3.6051   8.0192   9.8306  13.4895  14.8521  18.8652\n",
      "\n",
      "          k = 0.7500 0.0000 0.7500 (   308 PWs)   bands (ev):\n",
      "\n",
      "     5.8450   6.3433   7.2139  14.0777  15.7234  22.9927\n",
      "\n",
      "          k = 0.0000-1.0000 0.0000 (   302 PWs)   bands (ev):\n",
      "\n",
      "     4.8368   6.0332  12.8423  13.1390  13.1390  16.5023\n",
      "\n",
      "          k =-0.2500 0.5000 0.0000 (   311 PWs)   bands (ev):\n",
      "\n",
      "    -0.5828  11.4439  12.8091  16.2531  19.6285  21.1745\n",
      "\n",
      "          k = 0.6250-0.3750 0.8750 (   313 PWs)   bands (ev):\n",
      "\n",
      "     1.4782   7.7963  12.1523  14.1588  20.1828  22.2397\n",
      "\n",
      "          k = 0.5000-0.2500 0.7500 (   308 PWs)   bands (ev):\n",
      "\n",
      "     4.2171   4.3782  12.5610  12.9695  20.6069  21.2391\n",
      "\n",
      "          k = 0.7500-0.2500 1.0000 (   309 PWs)   bands (ev):\n",
      "\n",
      "     2.1530   9.9108  10.6172  11.4534  18.1364  19.9881\n",
      "\n",
      "          k = 0.6250-0.1250 0.8750 (   308 PWs)   bands (ev):\n",
      "\n",
      "     4.6590   6.7532   9.0859  11.2031  19.2752  23.2530\n",
      "\n",
      "          k = 0.5000 0.0000 0.7500 (   311 PWs)   bands (ev):\n",
      "\n",
      "     3.7613   7.3641   8.7710  12.2888  20.4483  23.7674\n",
      "\n",
      "          k =-0.2500-1.0000 0.0000 (   308 PWs)   bands (ev):\n",
      "\n",
      "     5.3404   6.5796   9.3999  10.8630  17.6306  19.5546\n",
      "\n",
      "          k =-0.5000-1.0000 0.0000 (   308 PWs)   bands (ev):\n",
      "\n",
      "     6.8569   6.8569   7.8500   8.6699  23.2853  23.4721\n",
      "\n",
      "     the Fermi energy is     7.7637 ev\n",
      "\n",
      "!    total energy              =      -4.18831159 Ry\n",
      "     estimated scf accuracy    <       0.00000031 Ry\n",
      "     smearing contrib. (-TS)   =      -0.00011054 Ry\n",
      "     internal energy E=F+TS    =      -4.18820105 Ry\n",
      "\n",
      "     The total energy is F=E-TS. E is the sum of the following terms:\n",
      "     one-electron contribution =       2.79982020 Ry\n",
      "     hartree contribution      =       0.00931028 Ry\n",
      "     xc contribution           =      -1.60520669 Ry\n",
      "     ewald contribution        =      -5.39212484 Ry\n",
      "\n",
      "     convergence has been achieved in   3 iterations\n",
      "\n",
      "     Writing output data file ./tmp/pwscf.save/\n",
      "\n",
      "     init_run     :      0.03s CPU      0.03s WALL (       1 calls)\n",
      "     electrons    :      0.17s CPU      0.18s WALL (       1 calls)\n",
      "\n",
      "     Called by init_run:\n",
      "     wfcinit      :      0.02s CPU      0.02s WALL (       1 calls)\n",
      "     potinit      :      0.00s CPU      0.00s WALL (       1 calls)\n",
      "     hinit0       :      0.01s CPU      0.01s WALL (       1 calls)\n",
      "\n",
      "     Called by electrons:\n",
      "     c_bands      :      0.14s CPU      0.15s WALL (       4 calls)\n",
      "     sum_band     :      0.02s CPU      0.03s WALL (       4 calls)\n",
      "     v_of_rho     :      0.00s CPU      0.00s WALL (       4 calls)\n",
      "     mix_rho      :      0.00s CPU      0.00s WALL (       4 calls)\n",
      "\n",
      "     Called by c_bands:\n",
      "     init_us_2    :      0.01s CPU      0.01s WALL (     261 calls)\n",
      "     cegterg      :      0.13s CPU      0.14s WALL (     116 calls)\n",
      "\n",
      "     Called by *egterg:\n",
      "     cdiaghg      :      0.01s CPU      0.02s WALL (     403 calls)\n",
      "     h_psi        :      0.11s CPU      0.12s WALL (     461 calls)\n",
      "     g_psi        :      0.00s CPU      0.00s WALL (     316 calls)\n",
      "\n",
      "     Called by h_psi:\n",
      "     h_psi:calbec :      0.00s CPU      0.00s WALL (     461 calls)\n",
      "     vloc_psi     :      0.11s CPU      0.11s WALL (     461 calls)\n",
      "     add_vuspsi   :      0.00s CPU      0.00s WALL (     461 calls)\n",
      "\n",
      "     General routines\n",
      "     calbec       :      0.00s CPU      0.00s WALL (     461 calls)\n",
      "     fft          :      0.00s CPU      0.00s WALL (      12 calls)\n",
      "     ffts         :      0.00s CPU      0.00s WALL (       4 calls)\n",
      "     fftw         :      0.08s CPU      0.09s WALL (    4848 calls)\n",
      "\n",
      "     Parallel routines\n",
      "\n",
      "     PWSCF        :      0.21s CPU      0.23s WALL\n",
      "\n",
      "\n",
      "   This run was terminated on:  14:33:11   8Feb2024            \n",
      "\n",
      "=------------------------------------------------------------------------------=\n",
      "   JOB DONE.\n",
      "=------------------------------------------------------------------------------=\n"
     ]
    }
   ],
   "source": [
    "!pw.x < qe_example.in"
   ]
  },
  {
   "cell_type": "code",
   "execution_count": 13,
   "metadata": {},
   "outputs": [
    {
     "name": "stdout",
     "output_type": "stream",
     "text": [
      "\n",
      "     Program PWSCF v.6.7MaX starts on  8Feb2024 at 14:33:32 \n",
      "\n",
      "     This program is part of the open-source Quantum ESPRESSO suite\n",
      "     for quantum simulation of materials; please cite\n",
      "         \"P. Giannozzi et al., J. Phys.:Condens. Matter 21 395502 (2009);\n",
      "         \"P. Giannozzi et al., J. Phys.:Condens. Matter 29 465901 (2017);\n",
      "          URL http://www.quantum-espresso.org\", \n",
      "     in publications or presentations arising from this work. More details at\n",
      "     http://www.quantum-espresso.org/quote\n",
      "\n",
      "     Parallel version (MPI), running on     4 processors\n",
      "\n",
      "     MPI processes distributed on     1 nodes\n",
      "     R & G space division:  proc/nbgrp/npool/nimage =       4\n",
      "     Waiting for input...\n",
      "     Reading input from standard input\n",
      "\n",
      "     Current dimensions of program PWSCF are:\n",
      "     Max number of different atomic species (ntypx) = 10\n",
      "     Max number of k-points (npk) =  40000\n",
      "     Max angular momentum in pseudopotentials (lmaxx) =  3\n",
      "\n",
      "     Subspace diagonalization in iterative solution of the eigenvalue problem:\n",
      "     one sub-group per band group will be used\n",
      "     scalapack distributed-memory algorithm (size of sub-group:  2*  2 procs)\n",
      "\n",
      "\n",
      "     Parallelization info\n",
      "     --------------------\n",
      "     sticks:   dense  smooth     PW     G-vecs:    dense   smooth      PW\n",
      "     Min          60      60     21                  610      610     132\n",
      "     Max          61      61     22                  613      613     135\n",
      "     Sum         241     241     85                 2445     2445     531\n",
      "\n",
      "\n",
      "\n",
      "     bravais-lattice index     =            2\n",
      "     lattice parameter (alat)  =       7.6526  a.u.\n",
      "     unit-cell volume          =     112.0383 (a.u.)^3\n",
      "     number of atoms/cell      =            1\n",
      "     number of atomic types    =            1\n",
      "     number of electrons       =         3.00\n",
      "     number of Kohn-Sham states=            6\n",
      "     kinetic-energy cutoff     =      30.0000  Ry\n",
      "     charge density cutoff     =     120.0000  Ry\n",
      "     scf convergence threshold =      1.0E-06\n",
      "     mixing beta               =       0.7000\n",
      "     number of iterations used =            8  plain     mixing\n",
      "     Exchange-correlation= SLA  PZ   NOGX NOGC\n",
      "                           (   1   1   0   0   0   0   0)\n",
      "\n",
      "     celldm(1)=   7.652597  celldm(2)=   0.000000  celldm(3)=   0.000000\n",
      "     celldm(4)=   0.000000  celldm(5)=   0.000000  celldm(6)=   0.000000\n",
      "\n",
      "     crystal axes: (cart. coord. in units of alat)\n",
      "               a(1) = (  -0.500000   0.000000   0.500000 )  \n",
      "               a(2) = (   0.000000   0.500000   0.500000 )  \n",
      "               a(3) = (  -0.500000   0.500000   0.000000 )  \n",
      "\n",
      "     reciprocal axes: (cart. coord. in units 2 pi/alat)\n",
      "               b(1) = ( -1.000000 -1.000000  1.000000 )  \n",
      "               b(2) = (  1.000000  1.000000  1.000000 )  \n",
      "               b(3) = ( -1.000000  1.000000 -1.000000 )  \n",
      "\n",
      "\n",
      "     PseudoPot. # 1 for Al read from file:\n",
      "     /usr/share/espresso/pseudo/Al.pz-vbc.UPF\n",
      "     MD5 check sum: 69dcd8cd7cc1bedf536afd524f174f6a\n",
      "     Pseudo is Norm-conserving, Zval =  3.0\n",
      "     Generated by new atomic code, or converted to UPF format\n",
      "     Using radial grid of  171 points,  2 beta functions with: \n",
      "                l(1) =   0\n",
      "                l(2) =   1\n",
      "\n",
      "     atomic species   valence    mass     pseudopotential\n",
      "        Al             3.00    26.98150     Al( 1.00)\n",
      "\n",
      "     48 Sym. Ops., with inversion, found\n",
      "\n",
      "\n",
      "\n",
      "   Cartesian axes\n",
      "\n",
      "     site n.     atom                  positions (alat units)\n",
      "         1           Al  tau(   1) = (   0.0000000   0.0000000   0.0000000  )\n",
      "\n",
      "     number of k points=    29  Marzari-Vanderbilt smearing, width (Ry)=  0.0050\n",
      "                       cart. coord. in units 2pi/alat\n",
      "        k(    1) = (   0.0000000   0.0000000   0.0000000), wk =   0.0039062\n",
      "        k(    2) = (  -0.1250000   0.1250000  -0.1250000), wk =   0.0312500\n",
      "        k(    3) = (  -0.2500000   0.2500000  -0.2500000), wk =   0.0312500\n",
      "        k(    4) = (  -0.3750000   0.3750000  -0.3750000), wk =   0.0312500\n",
      "        k(    5) = (   0.5000000  -0.5000000   0.5000000), wk =   0.0156250\n",
      "        k(    6) = (   0.0000000   0.2500000   0.0000000), wk =   0.0234375\n",
      "        k(    7) = (  -0.1250000   0.3750000  -0.1250000), wk =   0.0937500\n",
      "        k(    8) = (  -0.2500000   0.5000000  -0.2500000), wk =   0.0937500\n",
      "        k(    9) = (   0.6250000  -0.3750000   0.6250000), wk =   0.0937500\n",
      "        k(   10) = (   0.5000000  -0.2500000   0.5000000), wk =   0.0937500\n",
      "        k(   11) = (   0.3750000  -0.1250000   0.3750000), wk =   0.0937500\n",
      "        k(   12) = (   0.2500000   0.0000000   0.2500000), wk =   0.0468750\n",
      "        k(   13) = (   0.0000000   0.5000000   0.0000000), wk =   0.0234375\n",
      "        k(   14) = (  -0.1250000   0.6250000  -0.1250000), wk =   0.0937500\n",
      "        k(   15) = (   0.7500000  -0.2500000   0.7500000), wk =   0.0937500\n",
      "        k(   16) = (   0.6250000  -0.1250000   0.6250000), wk =   0.0937500\n",
      "        k(   17) = (   0.5000000   0.0000000   0.5000000), wk =   0.0468750\n",
      "        k(   18) = (   0.0000000   0.7500000   0.0000000), wk =   0.0234375\n",
      "        k(   19) = (   0.8750000  -0.1250000   0.8750000), wk =   0.0937500\n",
      "        k(   20) = (   0.7500000   0.0000000   0.7500000), wk =   0.0468750\n",
      "        k(   21) = (   0.0000000  -1.0000000   0.0000000), wk =   0.0117188\n",
      "        k(   22) = (  -0.2500000   0.5000000   0.0000000), wk =   0.0937500\n",
      "        k(   23) = (   0.6250000  -0.3750000   0.8750000), wk =   0.1875000\n",
      "        k(   24) = (   0.5000000  -0.2500000   0.7500000), wk =   0.0937500\n",
      "        k(   25) = (   0.7500000  -0.2500000   1.0000000), wk =   0.0937500\n",
      "        k(   26) = (   0.6250000  -0.1250000   0.8750000), wk =   0.1875000\n",
      "        k(   27) = (   0.5000000   0.0000000   0.7500000), wk =   0.0937500\n",
      "        k(   28) = (  -0.2500000  -1.0000000   0.0000000), wk =   0.0468750\n",
      "        k(   29) = (  -0.5000000  -1.0000000   0.0000000), wk =   0.0234375\n",
      "\n",
      "     Dense  grid:     2445 G-vectors     FFT dimensions: (  20,  20,  20)\n",
      "\n",
      "     Estimated max dynamical RAM per process >       0.71 MB\n",
      "\n",
      "     Estimated total dynamical RAM >       2.85 MB\n",
      "\n",
      "     Initial potential from superposition of free atoms\n",
      "\n",
      "     starting charge    2.99794, renormalised to    3.00000\n",
      "\n",
      "     negative rho (up, down):  8.457E-07 0.000E+00\n",
      "     Starting wfcs are    4 randomized atomic wfcs +    2 random wfcs\n",
      "\n",
      "     total cpu time spent up to now is        0.0 secs\n",
      "\n",
      "     Self-consistent Calculation\n",
      "\n",
      "     iteration #  1     ecut=    30.00 Ry     beta= 0.70\n",
      "     Davidson diagonalization with overlap\n",
      "     ethr =  1.00E-02,  avg # of iterations =  5.5\n",
      "\n",
      "     Threshold (ethr) on eigenvalues was too large:\n",
      "     Diagonalizing with lowered threshold\n",
      "\n",
      "     Davidson diagonalization with overlap\n",
      "     ethr =  1.92E-04,  avg # of iterations =  2.4\n",
      "\n",
      "     total cpu time spent up to now is        0.3 secs\n",
      "\n",
      "     total energy              =      -4.18829923 Ry\n",
      "     estimated scf accuracy    <       0.00573521 Ry\n",
      "\n",
      "     iteration #  2     ecut=    30.00 Ry     beta= 0.70\n",
      "     Davidson diagonalization with overlap\n",
      "     ethr =  1.91E-04,  avg # of iterations =  1.0\n",
      "\n",
      "     total cpu time spent up to now is        0.3 secs\n",
      "\n",
      "     total energy              =      -4.18830826 Ry\n",
      "     estimated scf accuracy    <       0.00043761 Ry\n",
      "\n",
      "     iteration #  3     ecut=    30.00 Ry     beta= 0.70\n",
      "     Davidson diagonalization with overlap\n",
      "     ethr =  1.46E-05,  avg # of iterations =  2.2\n",
      "\n",
      "     total cpu time spent up to now is        0.4 secs\n",
      "\n",
      "     End of self-consistent calculation\n",
      "\n",
      "          k = 0.0000 0.0000 0.0000 (   331 PWs)   bands (ev):\n",
      "\n",
      "    -3.3974  20.2023  20.2030  21.1610  21.1610  21.1610\n",
      "\n",
      "          k =-0.1250 0.1250-0.1250 (   316 PWs)   bands (ev):\n",
      "\n",
      "    -2.9700  15.8200  19.1023  19.1023  22.0249  22.8196\n",
      "\n",
      "          k =-0.2500 0.2500-0.2500 (   311 PWs)   bands (ev):\n",
      "\n",
      "    -1.6995  11.0359  18.3165  18.3166  21.7634  22.1334\n",
      "\n",
      "          k =-0.3750 0.3750-0.3750 (   308 PWs)   bands (ev):\n",
      "\n",
      "     0.3841   6.8066  18.2125  18.2125  20.1833  20.1835\n",
      "\n",
      "          k = 0.5000-0.5000 0.5000 (   302 PWs)   bands (ev):\n",
      "\n",
      "     3.1967   3.2767  18.6408  18.6408  19.0491  22.5811\n",
      "\n",
      "          k = 0.0000 0.2500 0.0000 (   307 PWs)   bands (ev):\n",
      "\n",
      "    -2.8278  17.3505  17.3506  17.7312  20.1076  22.1569\n",
      "\n",
      "          k =-0.1250 0.3750-0.1250 (   308 PWs)   bands (ev):\n",
      "\n",
      "    -1.8396  12.8634  16.3016  17.8602  19.0070  21.4629\n",
      "\n",
      "          k =-0.2500 0.5000-0.2500 (   317 PWs)   bands (ev):\n",
      "\n",
      "    -0.0295   8.4795  15.9592  16.7080  17.6668  23.6288\n",
      "\n",
      "          k = 0.6250-0.3750 0.6250 (   312 PWs)   bands (ev):\n",
      "\n",
      "     2.5616   4.7028  15.1024  16.3215  18.1059  22.1159\n",
      "\n",
      "          k = 0.5000-0.2500 0.5000 (   308 PWs)   bands (ev):\n",
      "\n",
      "     1.6148   5.8844  14.2363  17.3867  19.2712  21.2902\n",
      "\n",
      "          k = 0.3750-0.1250 0.3750 (   309 PWs)   bands (ev):\n",
      "\n",
      "    -0.7219   9.8568  14.1365  19.1196  21.1309  21.1949\n",
      "\n",
      "          k = 0.2500 0.0000 0.2500 (   317 PWs)   bands (ev):\n",
      "\n",
      "    -2.2622  13.9951  15.1819  21.1415  21.3083  22.8558\n",
      "\n",
      "          k = 0.0000 0.5000 0.0000 (   311 PWs)   bands (ev):\n",
      "\n",
      "    -1.1393  15.0061  15.0061  15.0577  15.7680  18.3605\n",
      "\n",
      "          k =-0.1250 0.6250-0.1250 (   316 PWs)   bands (ev):\n",
      "\n",
      "     0.3840  10.8275  13.1394  14.4236  15.9017  19.7707\n",
      "\n",
      "          k = 0.7500-0.2500 0.7500 (   311 PWs)   bands (ev):\n",
      "\n",
      "     2.6919   6.9192  11.2459  14.5465  16.2393  23.3891\n",
      "\n",
      "          k = 0.6250-0.1250 0.6250 (   307 PWs)   bands (ev):\n",
      "\n",
      "     3.6319   5.7191  10.1407  15.3748  17.2159  25.0652\n",
      "\n",
      "          k = 0.5000 0.0000 0.5000 (   315 PWs)   bands (ev):\n",
      "\n",
      "     1.0696   8.8900  10.3491  16.9109  18.9015  24.5950\n",
      "\n",
      "          k = 0.0000 0.7500 0.0000 (   322 PWs)   bands (ev):\n",
      "\n",
      "     1.6113  10.1983  13.3993  13.6040  13.6040  16.9923\n",
      "\n",
      "          k = 0.8750-0.1250 0.8750 (   314 PWs)   bands (ev):\n",
      "\n",
      "     3.6051   8.0192   9.8306  13.4895  14.8521  18.8652\n",
      "\n",
      "          k = 0.7500 0.0000 0.7500 (   308 PWs)   bands (ev):\n",
      "\n",
      "     5.8450   6.3433   7.2139  14.0777  15.7234  22.9927\n",
      "\n",
      "          k = 0.0000-1.0000 0.0000 (   302 PWs)   bands (ev):\n",
      "\n",
      "     4.8368   6.0332  12.8423  13.1390  13.1390  16.5023\n",
      "\n",
      "          k =-0.2500 0.5000 0.0000 (   311 PWs)   bands (ev):\n",
      "\n",
      "    -0.5828  11.4439  12.8091  16.2531  19.6285  21.1745\n",
      "\n",
      "          k = 0.6250-0.3750 0.8750 (   313 PWs)   bands (ev):\n",
      "\n",
      "     1.4782   7.7963  12.1523  14.1588  20.1829  22.2397\n",
      "\n",
      "          k = 0.5000-0.2500 0.7500 (   308 PWs)   bands (ev):\n",
      "\n",
      "     4.2172   4.3782  12.5610  12.9695  20.6071  21.2394\n",
      "\n",
      "          k = 0.7500-0.2500 1.0000 (   309 PWs)   bands (ev):\n",
      "\n",
      "     2.1530   9.9108  10.6172  11.4534  18.1365  19.9881\n",
      "\n",
      "          k = 0.6250-0.1250 0.8750 (   308 PWs)   bands (ev):\n",
      "\n",
      "     4.6590   6.7532   9.0859  11.2031  19.2752  23.2529\n",
      "\n",
      "          k = 0.5000 0.0000 0.7500 (   311 PWs)   bands (ev):\n",
      "\n",
      "     3.7613   7.3641   8.7710  12.2888  20.4484  23.7673\n",
      "\n",
      "          k =-0.2500-1.0000 0.0000 (   308 PWs)   bands (ev):\n",
      "\n",
      "     5.3404   6.5796   9.3999  10.8630  17.6306  19.5546\n",
      "\n",
      "          k =-0.5000-1.0000 0.0000 (   308 PWs)   bands (ev):\n",
      "\n",
      "     6.8569   6.8569   7.8500   8.6699  23.2845  23.2846\n",
      "\n",
      "     the Fermi energy is     7.7637 ev\n",
      "\n",
      "!    total energy              =      -4.18831159 Ry\n",
      "     estimated scf accuracy    <       0.00000030 Ry\n",
      "     smearing contrib. (-TS)   =      -0.00011054 Ry\n",
      "     internal energy E=F+TS    =      -4.18820105 Ry\n",
      "\n",
      "     The total energy is F=E-TS. E is the sum of the following terms:\n",
      "     one-electron contribution =       2.79982017 Ry\n",
      "     hartree contribution      =       0.00931026 Ry\n",
      "     xc contribution           =      -1.60520664 Ry\n",
      "     ewald contribution        =      -5.39212484 Ry\n",
      "\n",
      "     convergence has been achieved in   3 iterations\n",
      "\n",
      "     Writing output data file ./tmp/pwscf.save/\n",
      "\n",
      "     init_run     :      0.03s CPU      0.03s WALL (       1 calls)\n",
      "     electrons    :      0.31s CPU      0.35s WALL (       1 calls)\n",
      "\n",
      "     Called by init_run:\n",
      "     wfcinit      :      0.02s CPU      0.02s WALL (       1 calls)\n",
      "     potinit      :      0.00s CPU      0.00s WALL (       1 calls)\n",
      "     hinit0       :      0.00s CPU      0.00s WALL (       1 calls)\n",
      "\n",
      "     Called by electrons:\n",
      "     c_bands      :      0.29s CPU      0.32s WALL (       4 calls)\n",
      "     sum_band     :      0.02s CPU      0.02s WALL (       4 calls)\n",
      "     v_of_rho     :      0.00s CPU      0.00s WALL (       4 calls)\n",
      "     mix_rho      :      0.00s CPU      0.00s WALL (       4 calls)\n",
      "\n",
      "     Called by c_bands:\n",
      "     init_us_2    :      0.00s CPU      0.00s WALL (     261 calls)\n",
      "     cegterg      :      0.29s CPU      0.32s WALL (     116 calls)\n",
      "\n",
      "     Called by *egterg:\n",
      "     cdiaghg      :      0.12s CPU      0.13s WALL (     409 calls)\n",
      "     h_psi        :      0.11s CPU      0.13s WALL (     467 calls)\n",
      "     g_psi        :      0.00s CPU      0.00s WALL (     322 calls)\n",
      "\n",
      "     Called by h_psi:\n",
      "     h_psi:calbec :      0.01s CPU      0.01s WALL (     467 calls)\n",
      "     vloc_psi     :      0.11s CPU      0.12s WALL (     467 calls)\n",
      "     add_vuspsi   :      0.00s CPU      0.00s WALL (     467 calls)\n",
      "\n",
      "     General routines\n",
      "     calbec       :      0.00s CPU      0.01s WALL (     467 calls)\n",
      "     fft          :      0.00s CPU      0.00s WALL (      12 calls)\n",
      "     ffts         :      0.00s CPU      0.00s WALL (       4 calls)\n",
      "     fftw         :      0.11s CPU      0.13s WALL (    4856 calls)\n",
      "\n",
      "     Parallel routines\n",
      "     fft_scatt_xy :      0.01s CPU      0.01s WALL (    4872 calls)\n",
      "     fft_scatt_yz :      0.07s CPU      0.09s WALL (    4872 calls)\n",
      "\n",
      "     PWSCF        :      0.36s CPU      0.41s WALL\n",
      "\n",
      "\n",
      "   This run was terminated on:  14:33:32   8Feb2024            \n",
      "\n",
      "=------------------------------------------------------------------------------=\n",
      "   JOB DONE.\n",
      "=------------------------------------------------------------------------------=\n"
     ]
    }
   ],
   "source": [
    "!mpirun -np 4 pw.x < qe_example.in"
   ]
  },
  {
   "cell_type": "code",
   "execution_count": null,
   "metadata": {},
   "outputs": [],
   "source": [
    "!whereis pw.x"
   ]
  },
  {
   "cell_type": "markdown",
   "metadata": {},
   "source": [
    "Conclusion: Quantum Espresso executable not found. Quantum Espresso seems to be not installed at all. "
   ]
  }
 ],
 "metadata": {
  "kernelspec": {
   "display_name": "Python 3",
   "language": "python",
   "name": "python3"
  },
  "language_info": {
   "codemirror_mode": {
    "name": "ipython",
    "version": 3
   },
   "file_extension": ".py",
   "mimetype": "text/x-python",
   "name": "python",
   "nbconvert_exporter": "python",
   "pygments_lexer": "ipython3",
   "version": "3.10.12"
  }
 },
 "nbformat": 4,
 "nbformat_minor": 2
}
