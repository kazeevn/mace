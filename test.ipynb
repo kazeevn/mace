{
 "cells": [
  {
   "cell_type": "code",
   "execution_count": 1,
   "metadata": {},
   "outputs": [
    {
     "name": "stderr",
     "output_type": "stream",
     "text": [
      "/usr/local/lib/python3.8/dist-packages/tqdm/auto.py:21: TqdmWarning: IProgress not found. Please update jupyter and ipywidgets. See https://ipywidgets.readthedocs.io/en/stable/user_install.html\n",
      "  from .autonotebook import tqdm as notebook_tqdm\n"
     ]
    }
   ],
   "source": [
    "%load_ext autoreload\n",
    "%autoreload 2\n",
    "\n",
    "import test as test"
   ]
  },
  {
   "cell_type": "code",
   "execution_count": 2,
   "metadata": {},
   "outputs": [
    {
     "name": "stdout",
     "output_type": "stream",
     "text": [
      "2023-10-09 04:16:06.009 INFO: MACE version: 0.2.0\n",
      "2023-10-09 04:16:06.009 INFO: Configuration: Namespace(E0s='{1:-13.663181292231226, 6:-1029.2809654211628, 7:-1484.1187695035828, 8:-2042.0330099956639}', MLP_irreps='16x0e', amsgrad=True, avg_num_neighbors=1, batch_size=20, charges_key='charges', checkpoints_dir='checkpoints', clip_grad=10.0, compute_avg_num_neighbors=True, compute_forces=True, compute_stress=False, config_type_weights='{\"Default\":1.0}', correlation=3, default_dtype='float32', device='cuda', dipole_key='dipole', dipole_weight=1.0, downloads_dir='downloads', ema=True, ema_decay=0.99, energy_key='energy', energy_weight=1.0, error_table='PerAtomRMSE', eval_interval=2, forces_key='forces', forces_weight=10.0, gate='silu', hidden_irreps='32x0e', interaction='RealAgnosticResidualInteractionBlock', interaction_first='RealAgnosticResidualInteractionBlock', keep_checkpoints=False, log_dir='logs', log_level='INFO', loss='weighted', lr=0.01, lr_factor=0.8, lr_scheduler_gamma=0.9993, max_L=None, max_ell=3, max_num_epochs=2, model='ScaleShiftMACE', model_dir='.', name='MACE_model', num_channels=None, num_cutoff_basis=5, num_interactions=2, num_radial_basis=8, optimizer='adam', patience=2048, r_max=4.0, restart_latest=False, results_dir='results', save_cpu=False, scaling='rms_forces_scaling', scheduler='ReduceLROnPlateau', scheduler_patience=50, seed=123, start_swa=None, stress_key='stress', stress_weight=1.0, swa=True, swa_dipole_weight=1.0, swa_energy_weight=1000.0, swa_forces_weight=1.0, swa_lr=0.001, swa_stress_weight=10.0, swa_virials_weight=10.0, test_file='BOTNet-datasets/dataset_3BPA/test_300K.xyz', train_file='BOTNet-datasets/dataset_3BPA/train_300K.xyz', valid_batch_size=10, valid_file=None, valid_fraction=0.05, virials_key='virials', virials_weight=1.0, wandb=False, wandb_entity='', wandb_log_hypers=['num_channels', 'max_L', 'correlation', 'lr', 'swa_lr', 'weight_decay', 'batch_size', 'max_num_epochs', 'start_swa', 'energy_weight', 'forces_weight'], wandb_name='', wandb_project='', weight_decay=5e-07)\n",
      "2023-10-09 04:16:06.011 INFO: CUDA version: 11.6, CUDA device: 0\n",
      "2023-10-09 04:16:06.192 INFO: Loaded 500 training configurations from 'BOTNet-datasets/dataset_3BPA/train_300K.xyz'\n",
      "2023-10-09 04:16:06.193 INFO: Using random 5.0% of training set for validation\n",
      "2023-10-09 04:16:06.796 INFO: Loaded 1669 test configurations from 'BOTNet-datasets/dataset_3BPA/test_300K.xyz'\n",
      "2023-10-09 04:16:06.796 INFO: Total number of configurations: train=475, valid=25, tests=[Default: 1669]\n",
      "2023-10-09 04:16:06.798 INFO: AtomicNumberTable: (1, 6, 7, 8)\n",
      "2023-10-09 04:16:06.798 INFO: Atomic Energies not in training file, using command line argument E0s\n",
      "2023-10-09 04:16:06.798 INFO: Atomic energies: [-13.663181292231226, -1029.2809654211628, -1484.1187695035828, -2042.0330099956639]\n",
      "2023-10-09 04:18:50.238 INFO: WeightedEnergyForcesLoss(energy_weight=1.000, forces_weight=10.000)\n",
      "2023-10-09 04:18:50.310 INFO: Average number of neighbors: 11.986634254455566\n",
      "2023-10-09 04:18:50.310 INFO: Selected the following outputs: {'energy': True, 'forces': True, 'virials': False, 'stress': False, 'dipoles': False}\n",
      "2023-10-09 04:18:50.310 INFO: Building model\n",
      "2023-10-09 04:18:50.310 INFO: Hidden irreps: 32x0e\n",
      "2023-10-09 04:19:44.968 INFO: Using stochastic weight averaging (after 0 epochs) with energy weight : 1000.0, forces weight : 1.0 and learning rate : 0.001\n",
      "2023-10-09 04:19:45.032 INFO: ScaleShiftMACE(\n",
      "  (node_embedding): LinearNodeEmbeddingBlock(\n",
      "    (linear): Linear(4x0e -> 32x0e | 128 weights)\n",
      "  )\n",
      "  (radial_embedding): RadialEmbeddingBlock(\n",
      "    (bessel_fn): BesselBasis(r_max=4.0, num_basis=8, trainable=False)\n",
      "    (cutoff_fn): PolynomialCutoff(p=5.0, r_max=4.0)\n",
      "  )\n",
      "  (spherical_harmonics): SphericalHarmonics()\n",
      "  (atomic_energies_fn): AtomicEnergiesBlock(energies=[-13.6632, -1029.2810, -1484.1188, -2042.0330])\n",
      "  (interactions): ModuleList(\n",
      "    (0): RealAgnosticResidualInteractionBlock(\n",
      "      (linear_up): Linear(32x0e -> 32x0e | 1024 weights)\n",
      "      (conv_tp): TensorProduct(32x0e x 1x0e+1x1o+1x2e+1x3o -> 32x0e+32x1o+32x2e+32x3o | 128 paths | 128 weights)\n",
      "      (conv_tp_weights): FullyConnectedNet[8, 64, 64, 64, 128]\n",
      "      (linear): Linear(32x0e+32x1o+32x2e+32x3o -> 32x0e+32x1o+32x2e+32x3o | 4096 weights)\n",
      "      (skip_tp): FullyConnectedTensorProduct(32x0e x 4x0e -> 32x0e | 4096 paths | 4096 weights)\n",
      "      (reshape): reshape_irreps()\n",
      "    )\n",
      "    (1): RealAgnosticResidualInteractionBlock(\n",
      "      (linear_up): Linear(32x0e -> 32x0e | 1024 weights)\n",
      "      (conv_tp): TensorProduct(32x0e x 1x0e+1x1o+1x2e+1x3o -> 32x0e+32x1o+32x2e+32x3o | 128 paths | 128 weights)\n",
      "      (conv_tp_weights): FullyConnectedNet[8, 64, 64, 64, 128]\n",
      "      (linear): Linear(32x0e+32x1o+32x2e+32x3o -> 32x0e+32x1o+32x2e+32x3o | 4096 weights)\n",
      "      (skip_tp): FullyConnectedTensorProduct(32x0e x 4x0e -> 32x0e | 4096 paths | 4096 weights)\n",
      "      (reshape): reshape_irreps()\n",
      "    )\n",
      "  )\n",
      "  (products): ModuleList(\n",
      "    (0): EquivariantProductBasisBlock(\n",
      "      (symmetric_contractions): SymmetricContraction(\n",
      "        (contractions): ModuleList(\n",
      "          (0): Contraction(\n",
      "            (contractions_weighting): ModuleList(\n",
      "              (0): GraphModule()\n",
      "              (1): GraphModule()\n",
      "            )\n",
      "            (contractions_features): ModuleList(\n",
      "              (0): GraphModule()\n",
      "              (1): GraphModule()\n",
      "            )\n",
      "            (weights): ParameterList(\n",
      "                (0): Parameter containing: [torch.cuda.FloatTensor of size 4x4x32 (GPU 0)]\n",
      "                (1): Parameter containing: [torch.cuda.FloatTensor of size 4x1x32 (GPU 0)]\n",
      "            )\n",
      "            (graph_opt_main): GraphModule()\n",
      "          )\n",
      "        )\n",
      "      )\n",
      "      (linear): Linear(32x0e -> 32x0e | 1024 weights)\n",
      "    )\n",
      "    (1): EquivariantProductBasisBlock(\n",
      "      (symmetric_contractions): SymmetricContraction(\n",
      "        (contractions): ModuleList(\n",
      "          (0): Contraction(\n",
      "            (contractions_weighting): ModuleList(\n",
      "              (0): GraphModule()\n",
      "              (1): GraphModule()\n",
      "            )\n",
      "            (contractions_features): ModuleList(\n",
      "              (0): GraphModule()\n",
      "              (1): GraphModule()\n",
      "            )\n",
      "            (weights): ParameterList(\n",
      "                (0): Parameter containing: [torch.cuda.FloatTensor of size 4x4x32 (GPU 0)]\n",
      "                (1): Parameter containing: [torch.cuda.FloatTensor of size 4x1x32 (GPU 0)]\n",
      "            )\n",
      "            (graph_opt_main): GraphModule()\n",
      "          )\n",
      "        )\n",
      "      )\n",
      "      (linear): Linear(32x0e -> 32x0e | 1024 weights)\n",
      "    )\n",
      "  )\n",
      "  (readouts): ModuleList(\n",
      "    (0): LinearReadoutBlock(\n",
      "      (linear): Linear(32x0e -> 1x0e | 32 weights)\n",
      "    )\n",
      "    (1): NonLinearReadoutBlock(\n",
      "      (linear_1): Linear(32x0e -> 16x0e | 512 weights)\n",
      "      (non_linearity): Activation [x] (16x0e -> 16x0e)\n",
      "      (linear_2): Linear(16x0e -> 1x0e | 16 weights)\n",
      "    )\n",
      "  )\n",
      "  (scale_shift): ScaleShiftBlock(scale=0.946350, shift=-4.993647)\n",
      ")\n",
      "2023-10-09 04:19:45.035 INFO: Number of parameters: 62128\n",
      "2023-10-09 04:19:45.035 INFO: Optimizer: Adam (\n",
      "Parameter Group 0\n",
      "    amsgrad: True\n",
      "    betas: (0.9, 0.999)\n",
      "    capturable: False\n",
      "    eps: 1e-08\n",
      "    foreach: None\n",
      "    initial_lr: 0.01\n",
      "    lr: 0.01\n",
      "    maximize: False\n",
      "    name: embedding\n",
      "    swa_lr: 0.001\n",
      "    weight_decay: 0.0\n",
      "\n",
      "Parameter Group 1\n",
      "    amsgrad: True\n",
      "    betas: (0.9, 0.999)\n",
      "    capturable: False\n",
      "    eps: 1e-08\n",
      "    foreach: None\n",
      "    initial_lr: 0.01\n",
      "    lr: 0.01\n",
      "    maximize: False\n",
      "    name: interactions_decay\n",
      "    swa_lr: 0.001\n",
      "    weight_decay: 5e-07\n",
      "\n",
      "Parameter Group 2\n",
      "    amsgrad: True\n",
      "    betas: (0.9, 0.999)\n",
      "    capturable: False\n",
      "    eps: 1e-08\n",
      "    foreach: None\n",
      "    initial_lr: 0.01\n",
      "    lr: 0.01\n",
      "    maximize: False\n",
      "    name: interactions_no_decay\n",
      "    swa_lr: 0.001\n",
      "    weight_decay: 0.0\n",
      "\n",
      "Parameter Group 3\n",
      "    amsgrad: True\n",
      "    betas: (0.9, 0.999)\n",
      "    capturable: False\n",
      "    eps: 1e-08\n",
      "    foreach: None\n",
      "    initial_lr: 0.01\n",
      "    lr: 0.01\n",
      "    maximize: False\n",
      "    name: products\n",
      "    swa_lr: 0.001\n",
      "    weight_decay: 5e-07\n",
      "\n",
      "Parameter Group 4\n",
      "    amsgrad: True\n",
      "    betas: (0.9, 0.999)\n",
      "    capturable: False\n",
      "    eps: 1e-08\n",
      "    foreach: None\n",
      "    initial_lr: 0.01\n",
      "    lr: 0.01\n",
      "    maximize: False\n",
      "    name: readouts\n",
      "    swa_lr: 0.001\n",
      "    weight_decay: 0.0\n",
      ")\n",
      "2023-10-09 04:19:45.035 INFO: Using gradient clipping with tolerance=10.000\n",
      "2023-10-09 04:19:45.035 INFO: Started training\n",
      "2023-10-09 04:19:45.035 INFO: Changing loss based on SWA\n",
      "2023-10-09 04:19:58.009 INFO: Epoch 0: loss=1.1758, RMSE_E_per_atom=16.2 meV, RMSE_F=965.2 meV / A\n",
      "2023-10-09 04:19:59.523 INFO: Training complete\n",
      "2023-10-09 04:19:59.523 INFO: Computing metrics for training, validation, and test sets\n",
      "2023-10-09 04:19:59.524 INFO: Loading checkpoint: checkpoints/MACE_model_run-123_epoch-0.pt\n",
      "2023-10-09 04:19:59.553 INFO: Loaded model from epoch 0\n",
      "2023-10-09 04:22:33.547 INFO: Evaluating train ...\n",
      "2023-10-09 04:22:54.060 INFO: Evaluating valid ...\n",
      "2023-10-09 04:31:58.781 INFO: Evaluating Default ...\n",
      "2023-10-09 04:32:43.477 INFO: \n",
      "+-------------+---------------------+------------------+-------------------+\n",
      "| config_type | RMSE E / meV / atom | RMSE F / meV / A | relative F RMSE % |\n",
      "+-------------+---------------------+------------------+-------------------+\n",
      "|    train    |         17.7        |      935.5       |       98.85       |\n",
      "|    valid    |         16.2        |      965.2       |       98.75       |\n",
      "|   Default   |         17.3        |      949.4       |       98.83       |\n",
      "+-------------+---------------------+------------------+-------------------+\n",
      "2023-10-09 04:32:43.478 INFO: Saving model to checkpoints/MACE_model_run-123.model\n",
      "2023-10-09 04:32:43.551 INFO: Loaded model from epoch None\n",
      "2023-10-09 04:35:22.454 INFO: Evaluating train ...\n",
      "2023-10-09 04:35:42.878 INFO: Evaluating valid ...\n",
      "2023-10-09 04:45:06.378 INFO: Evaluating Default ...\n",
      "2023-10-09 04:45:49.995 INFO: \n",
      "+-------------+---------------------+------------------+-------------------+\n",
      "| config_type | RMSE E / meV / atom | RMSE F / meV / A | relative F RMSE % |\n",
      "+-------------+---------------------+------------------+-------------------+\n",
      "|    train    |         17.7        |      935.5       |       98.85       |\n",
      "|    valid    |         16.2        |      965.2       |       98.75       |\n",
      "|   Default   |         17.3        |      949.4       |       98.83       |\n",
      "+-------------+---------------------+------------------+-------------------+\n",
      "2023-10-09 04:45:49.997 INFO: Saving model to checkpoints/MACE_model_run-123_swa.model\n",
      "2023-10-09 04:45:50.055 INFO: Done\n"
     ]
    }
   ],
   "source": [
    "!python3 ./scripts/run_train_.py \\\n",
    "  --name=\"MACE_model\" \\\n",
    "  --train_file=\"BOTNet-datasets/dataset_3BPA/train_300K.xyz\" \\\n",
    "  --valid_fraction=0.05 \\\n",
    "  --test_file=\"BOTNet-datasets/dataset_3BPA/test_300K.xyz\" \\\n",
    "  --E0s='{1:-13.663181292231226, 6:-1029.2809654211628, 7:-1484.1187695035828, 8:-2042.0330099956639}' \\\n",
    "  --model=\"ScaleShiftMACE\" \\\n",
    "  --hidden_irreps='32x0e' \\\n",
    "  --r_max=4.0 \\\n",
    "  --batch_size=20 \\\n",
    "  --max_num_epochs=2 \\\n",
    "  --ema \\\n",
    "  --ema_decay=0.99 \\\n",
    "  --amsgrad \\\n",
    "  --default_dtype=\"float32\" \\\n",
    "  --device=cuda \\\n",
    "  --seed=123 \\\n",
    "  --swa"
   ]
  },
  {
   "cell_type": "code",
   "execution_count": 4,
   "metadata": {},
   "outputs": [
    {
     "name": "stdout",
     "output_type": "stream",
     "text": [
      "Namespace(E0s='{1:-13.663181292231226, 6:-1029.2809654211628, 7:-1484.1187695035828, 8:-2042.0330099956639}', MLP_irreps='16x0e', amsgrad=True, avg_num_neighbors=1, batch_size=20, charges_key='charges', checkpoints_dir='checkpoints', clip_grad=10.0, compute_avg_num_neighbors=True, compute_forces=True, compute_stress=False, config_type_weights='{\"Default\":1.0}', correlation=3, default_dtype='float32', device='cuda', dipole_key='dipole', dipole_weight=1.0, downloads_dir='downloads', ema=True, ema_decay=0.99, energy_key='energy', energy_weight=1.0, error_table='PerAtomRMSE', eval_interval=2, forces_key='forces', forces_weight=10.0, gate='silu', hidden_irreps='32x0e', interaction='RealAgnosticResidualInteractionBlock', interaction_first='RealAgnosticResidualInteractionBlock', keep_checkpoints=False, log_dir='logs', log_level='INFO', loss='weighted', lr=0.01, lr_factor=0.8, lr_scheduler_gamma=0.9993, max_L=None, max_ell=3, max_num_epochs=2, model='ScaleShiftMACE', model_dir='.', name='MACE_model', num_channels=None, num_cutoff_basis=5, num_interactions=2, num_radial_basis=8, optimizer='adam', patience=2048, r_max=4.0, restart_latest=False, results_dir='results', save_cpu=False, scaling='rms_forces_scaling', scheduler='ReduceLROnPlateau', scheduler_patience=50, seed=123, start_swa=None, stress_key='stress', stress_weight=1.0, swa=True, swa_dipole_weight=1.0, swa_energy_weight=1000.0, swa_forces_weight=1.0, swa_lr=0.001, swa_stress_weight=10.0, swa_virials_weight=10.0, test_file='BOTNet-datasets/dataset_3BPA/test_300K.xyz', train_file='BOTNet-datasets/dataset_3BPA/train_300K.xyz', valid_batch_size=10, valid_file=None, valid_fraction=0.05, virials_key='virials', virials_weight=1.0, wandb=False, wandb_entity='', wandb_log_hypers=['num_channels', 'max_L', 'correlation', 'lr', 'swa_lr', 'weight_decay', 'batch_size', 'max_num_epochs', 'start_swa', 'energy_weight', 'forces_weight'], wandb_name='', wandb_project='', weight_decay=5e-07)\n"
     ]
    }
   ],
   "source": [
    "!python3 ./scripts/run_train_.py \\\n",
    "  --name=\"MACE_model\" \\\n",
    "  --train_file=\"BOTNet-datasets/dataset_3BPA/train_300K.xyz\" \\\n",
    "  --valid_fraction=0.05 \\\n",
    "  --test_file=\"BOTNet-datasets/dataset_3BPA/test_300K.xyz\" \\\n",
    "  --E0s='{1:-13.663181292231226, 6:-1029.2809654211628, 7:-1484.1187695035828, 8:-2042.0330099956639}' \\\n",
    "  --model=\"ScaleShiftMACE\" \\\n",
    "  --hidden_irreps='32x0e' \\\n",
    "  --r_max=4.0 \\\n",
    "  --batch_size=20 \\\n",
    "  --max_num_epochs=2 \\\n",
    "  --ema \\\n",
    "  --ema_decay=0.99 \\\n",
    "  --amsgrad \\\n",
    "  --default_dtype=\"float32\" \\\n",
    "  --device=cuda \\\n",
    "  --seed=123 \\\n",
    "  --swa\n"
   ]
  },
  {
   "cell_type": "code",
   "execution_count": 5,
   "metadata": {},
   "outputs": [
    {
     "ename": "RuntimeError",
     "evalue": "expected scalar type Double but found Float",
     "output_type": "error",
     "traceback": [
      "\u001b[0;31m---------------------------------------------------------------------------\u001b[0m",
      "\u001b[0;31mRuntimeError\u001b[0m                              Traceback (most recent call last)",
      "Cell \u001b[0;32mIn[5], line 17\u001b[0m\n\u001b[1;32m     15\u001b[0m         dyn\u001b[39m.\u001b[39matoms\u001b[39m.\u001b[39mwrite(\u001b[39m'\u001b[39m\u001b[39mmd_3bpa.xyz\u001b[39m\u001b[39m'\u001b[39m, append\u001b[39m=\u001b[39m\u001b[39mTrue\u001b[39;00m)\n\u001b[1;32m     16\u001b[0m dyn\u001b[39m.\u001b[39mattach(write_frame, interval\u001b[39m=\u001b[39m\u001b[39m50\u001b[39m)\n\u001b[0;32m---> 17\u001b[0m dyn\u001b[39m.\u001b[39;49mrun(\u001b[39m100\u001b[39;49m)\n\u001b[1;32m     18\u001b[0m \u001b[39mprint\u001b[39m(\u001b[39m\"\u001b[39m\u001b[39mMD finished!\u001b[39m\u001b[39m\"\u001b[39m)\n",
      "File \u001b[0;32m/usr/local/lib/python3.8/dist-packages/ase/md/md.py:137\u001b[0m, in \u001b[0;36mMolecularDynamics.run\u001b[0;34m(self, steps)\u001b[0m\n\u001b[1;32m    135\u001b[0m \u001b[39m\u001b[39m\u001b[39m\"\"\" Call Dynamics.run and adjust max_steps \"\"\"\u001b[39;00m\n\u001b[1;32m    136\u001b[0m \u001b[39mself\u001b[39m\u001b[39m.\u001b[39mmax_steps \u001b[39m=\u001b[39m steps \u001b[39m+\u001b[39m \u001b[39mself\u001b[39m\u001b[39m.\u001b[39mnsteps\n\u001b[0;32m--> 137\u001b[0m \u001b[39mreturn\u001b[39;00m Dynamics\u001b[39m.\u001b[39;49mrun(\u001b[39mself\u001b[39;49m)\n",
      "File \u001b[0;32m/usr/local/lib/python3.8/dist-packages/ase/optimize/optimize.py:156\u001b[0m, in \u001b[0;36mDynamics.run\u001b[0;34m(self)\u001b[0m\n\u001b[1;32m    149\u001b[0m \u001b[39mdef\u001b[39;00m \u001b[39mrun\u001b[39m(\u001b[39mself\u001b[39m):\n\u001b[1;32m    150\u001b[0m \u001b[39m    \u001b[39m\u001b[39m\"\"\"Run dynamics algorithm.\u001b[39;00m\n\u001b[1;32m    151\u001b[0m \n\u001b[1;32m    152\u001b[0m \u001b[39m    This method will return when the forces on all individual\u001b[39;00m\n\u001b[1;32m    153\u001b[0m \u001b[39m    atoms are less than *fmax* or when the number of steps exceeds\u001b[39;00m\n\u001b[1;32m    154\u001b[0m \u001b[39m    *steps*.\"\"\"\u001b[39;00m\n\u001b[0;32m--> 156\u001b[0m     \u001b[39mfor\u001b[39;00m converged \u001b[39min\u001b[39;00m Dynamics\u001b[39m.\u001b[39mirun(\u001b[39mself\u001b[39m):\n\u001b[1;32m    157\u001b[0m         \u001b[39mpass\u001b[39;00m\n\u001b[1;32m    158\u001b[0m     \u001b[39mreturn\u001b[39;00m converged\n",
      "File \u001b[0;32m/usr/local/lib/python3.8/dist-packages/ase/optimize/optimize.py:122\u001b[0m, in \u001b[0;36mDynamics.irun\u001b[0;34m(self)\u001b[0m\n\u001b[1;32m    111\u001b[0m \u001b[39m\u001b[39m\u001b[39m\"\"\"Run dynamics algorithm as generator. This allows, e.g.,\u001b[39;00m\n\u001b[1;32m    112\u001b[0m \u001b[39mto easily run two optimizers or MD thermostats at the same time.\u001b[39;00m\n\u001b[1;32m    113\u001b[0m \n\u001b[0;32m   (...)\u001b[0m\n\u001b[1;32m    118\u001b[0m \u001b[39m>>>     opt1.run()\u001b[39;00m\n\u001b[1;32m    119\u001b[0m \u001b[39m\"\"\"\u001b[39;00m\n\u001b[1;32m    121\u001b[0m \u001b[39m# compute initial structure and log the first step\u001b[39;00m\n\u001b[0;32m--> 122\u001b[0m \u001b[39mself\u001b[39;49m\u001b[39m.\u001b[39;49matoms\u001b[39m.\u001b[39;49mget_forces()\n\u001b[1;32m    124\u001b[0m \u001b[39m# yield the first time to inspect before logging\u001b[39;00m\n\u001b[1;32m    125\u001b[0m \u001b[39myield\u001b[39;00m \u001b[39mFalse\u001b[39;00m\n",
      "File \u001b[0;32m/usr/local/lib/python3.8/dist-packages/ase/atoms.py:788\u001b[0m, in \u001b[0;36mAtoms.get_forces\u001b[0;34m(self, apply_constraint, md)\u001b[0m\n\u001b[1;32m    786\u001b[0m \u001b[39mif\u001b[39;00m \u001b[39mself\u001b[39m\u001b[39m.\u001b[39m_calc \u001b[39mis\u001b[39;00m \u001b[39mNone\u001b[39;00m:\n\u001b[1;32m    787\u001b[0m     \u001b[39mraise\u001b[39;00m \u001b[39mRuntimeError\u001b[39;00m(\u001b[39m'\u001b[39m\u001b[39mAtoms object has no calculator.\u001b[39m\u001b[39m'\u001b[39m)\n\u001b[0;32m--> 788\u001b[0m forces \u001b[39m=\u001b[39m \u001b[39mself\u001b[39;49m\u001b[39m.\u001b[39;49m_calc\u001b[39m.\u001b[39;49mget_forces(\u001b[39mself\u001b[39;49m)\n\u001b[1;32m    790\u001b[0m \u001b[39mif\u001b[39;00m apply_constraint:\n\u001b[1;32m    791\u001b[0m     \u001b[39m# We need a special md flag here because for MD we want\u001b[39;00m\n\u001b[1;32m    792\u001b[0m     \u001b[39m# to skip real constraints but include special \"constraints\"\u001b[39;00m\n\u001b[1;32m    793\u001b[0m     \u001b[39m# Like Hookean.\u001b[39;00m\n\u001b[1;32m    794\u001b[0m     \u001b[39mfor\u001b[39;00m constraint \u001b[39min\u001b[39;00m \u001b[39mself\u001b[39m\u001b[39m.\u001b[39mconstraints:\n",
      "File \u001b[0;32m/usr/local/lib/python3.8/dist-packages/ase/calculators/abc.py:23\u001b[0m, in \u001b[0;36mGetPropertiesMixin.get_forces\u001b[0;34m(self, atoms)\u001b[0m\n\u001b[1;32m     22\u001b[0m \u001b[39mdef\u001b[39;00m \u001b[39mget_forces\u001b[39m(\u001b[39mself\u001b[39m, atoms\u001b[39m=\u001b[39m\u001b[39mNone\u001b[39;00m):\n\u001b[0;32m---> 23\u001b[0m     \u001b[39mreturn\u001b[39;00m \u001b[39mself\u001b[39;49m\u001b[39m.\u001b[39;49mget_property(\u001b[39m'\u001b[39;49m\u001b[39mforces\u001b[39;49m\u001b[39m'\u001b[39;49m, atoms)\n",
      "File \u001b[0;32m/usr/local/lib/python3.8/dist-packages/ase/calculators/calculator.py:737\u001b[0m, in \u001b[0;36mCalculator.get_property\u001b[0;34m(self, name, atoms, allow_calculation)\u001b[0m\n\u001b[1;32m    735\u001b[0m     \u001b[39mif\u001b[39;00m \u001b[39mnot\u001b[39;00m allow_calculation:\n\u001b[1;32m    736\u001b[0m         \u001b[39mreturn\u001b[39;00m \u001b[39mNone\u001b[39;00m\n\u001b[0;32m--> 737\u001b[0m     \u001b[39mself\u001b[39;49m\u001b[39m.\u001b[39;49mcalculate(atoms, [name], system_changes)\n\u001b[1;32m    739\u001b[0m \u001b[39mif\u001b[39;00m name \u001b[39mnot\u001b[39;00m \u001b[39min\u001b[39;00m \u001b[39mself\u001b[39m\u001b[39m.\u001b[39mresults:\n\u001b[1;32m    740\u001b[0m     \u001b[39m# For some reason the calculator was not able to do what we want,\u001b[39;00m\n\u001b[1;32m    741\u001b[0m     \u001b[39m# and that is OK.\u001b[39;00m\n\u001b[1;32m    742\u001b[0m     \u001b[39mraise\u001b[39;00m PropertyNotImplementedError(\u001b[39m'\u001b[39m\u001b[39m{}\u001b[39;00m\u001b[39m not present in this \u001b[39m\u001b[39m'\u001b[39m\n\u001b[1;32m    743\u001b[0m                                       \u001b[39m'\u001b[39m\u001b[39mcalculation\u001b[39m\u001b[39m'\u001b[39m\u001b[39m.\u001b[39mformat(name))\n",
      "File \u001b[0;32m~/project/mace/calculators/mace.py:71\u001b[0m, in \u001b[0;36mMACECalculator.calculate\u001b[0;34m(self, atoms, properties, system_changes)\u001b[0m\n\u001b[1;32m     68\u001b[0m batch \u001b[39m=\u001b[39m \u001b[39mnext\u001b[39m(\u001b[39miter\u001b[39m(data_loader))\u001b[39m.\u001b[39mto(\u001b[39mself\u001b[39m\u001b[39m.\u001b[39mdevice)\n\u001b[1;32m     70\u001b[0m \u001b[39m# predict + extract data\u001b[39;00m\n\u001b[0;32m---> 71\u001b[0m out \u001b[39m=\u001b[39m \u001b[39mself\u001b[39;49m\u001b[39m.\u001b[39;49mmodel(batch\u001b[39m.\u001b[39;49mto_dict(), compute_stress\u001b[39m=\u001b[39;49m\u001b[39mTrue\u001b[39;49;00m)\n\u001b[1;32m     72\u001b[0m energy \u001b[39m=\u001b[39m out[\u001b[39m\"\u001b[39m\u001b[39menergy\u001b[39m\u001b[39m\"\u001b[39m]\u001b[39m.\u001b[39mdetach()\u001b[39m.\u001b[39mcpu()\u001b[39m.\u001b[39mitem()\n\u001b[1;32m     73\u001b[0m forces \u001b[39m=\u001b[39m out[\u001b[39m\"\u001b[39m\u001b[39mforces\u001b[39m\u001b[39m\"\u001b[39m]\u001b[39m.\u001b[39mdetach()\u001b[39m.\u001b[39mcpu()\u001b[39m.\u001b[39mnumpy()\n",
      "File \u001b[0;32m/usr/local/lib/python3.8/dist-packages/torch/nn/modules/module.py:1130\u001b[0m, in \u001b[0;36mModule._call_impl\u001b[0;34m(self, *input, **kwargs)\u001b[0m\n\u001b[1;32m   1126\u001b[0m \u001b[39m# If we don't have any hooks, we want to skip the rest of the logic in\u001b[39;00m\n\u001b[1;32m   1127\u001b[0m \u001b[39m# this function, and just call forward.\u001b[39;00m\n\u001b[1;32m   1128\u001b[0m \u001b[39mif\u001b[39;00m \u001b[39mnot\u001b[39;00m (\u001b[39mself\u001b[39m\u001b[39m.\u001b[39m_backward_hooks \u001b[39mor\u001b[39;00m \u001b[39mself\u001b[39m\u001b[39m.\u001b[39m_forward_hooks \u001b[39mor\u001b[39;00m \u001b[39mself\u001b[39m\u001b[39m.\u001b[39m_forward_pre_hooks \u001b[39mor\u001b[39;00m _global_backward_hooks\n\u001b[1;32m   1129\u001b[0m         \u001b[39mor\u001b[39;00m _global_forward_hooks \u001b[39mor\u001b[39;00m _global_forward_pre_hooks):\n\u001b[0;32m-> 1130\u001b[0m     \u001b[39mreturn\u001b[39;00m forward_call(\u001b[39m*\u001b[39;49m\u001b[39minput\u001b[39;49m, \u001b[39m*\u001b[39;49m\u001b[39m*\u001b[39;49mkwargs)\n\u001b[1;32m   1131\u001b[0m \u001b[39m# Do not call functions when jit is used\u001b[39;00m\n\u001b[1;32m   1132\u001b[0m full_backward_hooks, non_full_backward_hooks \u001b[39m=\u001b[39m [], []\n",
      "File \u001b[0;32m~/project/mace/modules/models.py:295\u001b[0m, in \u001b[0;36mScaleShiftMACE.forward\u001b[0;34m(self, data, training, compute_force, compute_virials, compute_stress, compute_displacement)\u001b[0m\n\u001b[1;32m    281\u001b[0m     (\n\u001b[1;32m    282\u001b[0m         data[\u001b[39m\"\u001b[39m\u001b[39mpositions\u001b[39m\u001b[39m\"\u001b[39m],\n\u001b[1;32m    283\u001b[0m         data[\u001b[39m\"\u001b[39m\u001b[39mshifts\u001b[39m\u001b[39m\"\u001b[39m],\n\u001b[0;32m   (...)\u001b[0m\n\u001b[1;32m    291\u001b[0m         batch\u001b[39m=\u001b[39mdata[\u001b[39m\"\u001b[39m\u001b[39mbatch\u001b[39m\u001b[39m\"\u001b[39m],\n\u001b[1;32m    292\u001b[0m     )\n\u001b[1;32m    294\u001b[0m \u001b[39m# Atomic energies\u001b[39;00m\n\u001b[0;32m--> 295\u001b[0m node_e0 \u001b[39m=\u001b[39m \u001b[39mself\u001b[39;49m\u001b[39m.\u001b[39;49matomic_energies_fn(data[\u001b[39m\"\u001b[39;49m\u001b[39mnode_attrs\u001b[39;49m\u001b[39m\"\u001b[39;49m])\n\u001b[1;32m    296\u001b[0m e0 \u001b[39m=\u001b[39m scatter_sum(\n\u001b[1;32m    297\u001b[0m     src\u001b[39m=\u001b[39mnode_e0, index\u001b[39m=\u001b[39mdata[\u001b[39m\"\u001b[39m\u001b[39mbatch\u001b[39m\u001b[39m\"\u001b[39m], dim\u001b[39m=\u001b[39m\u001b[39m-\u001b[39m\u001b[39m1\u001b[39m, dim_size\u001b[39m=\u001b[39mnum_graphs\n\u001b[1;32m    298\u001b[0m )  \u001b[39m# [n_graphs,]\u001b[39;00m\n\u001b[1;32m    300\u001b[0m \u001b[39m# Embeddings\u001b[39;00m\n",
      "File \u001b[0;32m/usr/local/lib/python3.8/dist-packages/torch/nn/modules/module.py:1130\u001b[0m, in \u001b[0;36mModule._call_impl\u001b[0;34m(self, *input, **kwargs)\u001b[0m\n\u001b[1;32m   1126\u001b[0m \u001b[39m# If we don't have any hooks, we want to skip the rest of the logic in\u001b[39;00m\n\u001b[1;32m   1127\u001b[0m \u001b[39m# this function, and just call forward.\u001b[39;00m\n\u001b[1;32m   1128\u001b[0m \u001b[39mif\u001b[39;00m \u001b[39mnot\u001b[39;00m (\u001b[39mself\u001b[39m\u001b[39m.\u001b[39m_backward_hooks \u001b[39mor\u001b[39;00m \u001b[39mself\u001b[39m\u001b[39m.\u001b[39m_forward_hooks \u001b[39mor\u001b[39;00m \u001b[39mself\u001b[39m\u001b[39m.\u001b[39m_forward_pre_hooks \u001b[39mor\u001b[39;00m _global_backward_hooks\n\u001b[1;32m   1129\u001b[0m         \u001b[39mor\u001b[39;00m _global_forward_hooks \u001b[39mor\u001b[39;00m _global_forward_pre_hooks):\n\u001b[0;32m-> 1130\u001b[0m     \u001b[39mreturn\u001b[39;00m forward_call(\u001b[39m*\u001b[39;49m\u001b[39minput\u001b[39;49m, \u001b[39m*\u001b[39;49m\u001b[39m*\u001b[39;49mkwargs)\n\u001b[1;32m   1131\u001b[0m \u001b[39m# Do not call functions when jit is used\u001b[39;00m\n\u001b[1;32m   1132\u001b[0m full_backward_hooks, non_full_backward_hooks \u001b[39m=\u001b[39m [], []\n",
      "File \u001b[0;32m~/project/mace/modules/blocks.py:137\u001b[0m, in \u001b[0;36mAtomicEnergiesBlock.forward\u001b[0;34m(self, x)\u001b[0m\n\u001b[1;32m    134\u001b[0m \u001b[39mdef\u001b[39;00m \u001b[39mforward\u001b[39m(\n\u001b[1;32m    135\u001b[0m     \u001b[39mself\u001b[39m, x: torch\u001b[39m.\u001b[39mTensor  \u001b[39m# one-hot of elements [..., n_elements]\u001b[39;00m\n\u001b[1;32m    136\u001b[0m ) \u001b[39m-\u001b[39m\u001b[39m>\u001b[39m torch\u001b[39m.\u001b[39mTensor:  \u001b[39m# [..., ]\u001b[39;00m\n\u001b[0;32m--> 137\u001b[0m     \u001b[39mreturn\u001b[39;00m torch\u001b[39m.\u001b[39;49mmatmul(x, \u001b[39mself\u001b[39;49m\u001b[39m.\u001b[39;49matomic_energies)\n",
      "\u001b[0;31mRuntimeError\u001b[0m: expected scalar type Double but found Float"
     ]
    }
   ],
   "source": [
    "from ase import units\n",
    "from ase.md.langevin import Langevin\n",
    "from ase.io import read, write\n",
    "import numpy as np\n",
    "import time\n",
    "\n",
    "from mace.calculators import MACECalculator\n",
    "\n",
    "calculator = MACECalculator(model_path='checkpoints/MACE_model_run-123.model', device='cuda')\n",
    "init_conf = read('BOTNet-datasets/dataset_3BPA/test_300K.xyz', '0')\n",
    "init_conf.set_calculator(calculator)\n",
    "\n",
    "dyn = Langevin(init_conf, 0.5*units.fs, temperature_K=310, friction=5e-3)\n",
    "def write_frame():\n",
    "        dyn.atoms.write('md_3bpa.xyz', append=True)\n",
    "dyn.attach(write_frame, interval=50)\n",
    "dyn.run(100)\n",
    "print(\"MD finished!\")"
   ]
  },
  {
   "cell_type": "code",
   "execution_count": 1,
   "metadata": {},
   "outputs": [],
   "source": [
    "import ipywidgets as widgets"
   ]
  },
  {
   "cell_type": "code",
   "execution_count": 4,
   "metadata": {},
   "outputs": [
    {
     "data": {
      "text/plain": [
       "'slider'"
      ]
     },
     "metadata": {},
     "output_type": "display_data"
    },
    {
     "data": {
      "application/vnd.jupyter.widget-view+json": {
       "model_id": "9348daa507d74315a03af7995b83d188",
       "version_major": 2,
       "version_minor": 0
      },
      "text/plain": [
       "IntSlider(value=0)"
      ]
     },
     "metadata": {},
     "output_type": "display_data"
    }
   ],
   "source": [
    "sld = widgets.IntSlider()\n",
    "display('slider',sld)"
   ]
  },
  {
   "cell_type": "code",
   "execution_count": 3,
   "metadata": {},
   "outputs": [
    {
     "data": {
      "text/plain": [
       "50"
      ]
     },
     "execution_count": 3,
     "metadata": {},
     "output_type": "execute_result"
    }
   ],
   "source": [
    "sld."
   ]
  }
 ],
 "metadata": {
  "kernelspec": {
   "display_name": "Python 3",
   "language": "python",
   "name": "python3"
  },
  "language_info": {
   "codemirror_mode": {
    "name": "ipython",
    "version": 3
   },
   "file_extension": ".py",
   "mimetype": "text/x-python",
   "name": "python",
   "nbconvert_exporter": "python",
   "pygments_lexer": "ipython3",
   "version": "3.8.10"
  },
  "orig_nbformat": 4
 },
 "nbformat": 4,
 "nbformat_minor": 2
}
