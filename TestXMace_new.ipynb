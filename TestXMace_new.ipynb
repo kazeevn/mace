{
 "cells": [
  {
   "cell_type": "markdown",
   "metadata": {},
   "source": [
    "1. Test ACE module\n",
    "\n",
    "Test results: \n",
    "    1) environment variables not added (see https://pypi.org/project/ase/ , section Installation) - failed\n",
    "    2) run command 'ace test' in the terminal (see https://pypi.org/project/ase/ , section Testing) - failed due to item 1) above\n",
    "    3) run command 'ace test' in the notebook cell (see below) - failed, \n",
    "    4) run example script (see https://pypi.org/project/ase/ , section Example) see below - failed\n",
    "\n",
    "Conclusion: ACE module is not properly installed"
   ]
  },
  {
   "cell_type": "code",
   "execution_count": 1,
   "metadata": {},
   "outputs": [
    {
     "name": "stdout",
     "output_type": "stream",
     "text": [
      "About to run pytest with these parameters:\n",
      "    -v\n",
      "\u001b[1mTest session starts (platform: linux, Python 3.8.18, pytest 7.4.4, pytest-sugar 0.9.7)\u001b[0m\n",
      "cachedir: .pytest_cache\n",
      "hypothesis profile 'default' -> database=DirectoryBasedExampleDatabase(PosixPath('/home/coder/.local/lib/rolos-mace/site-packages/ase/test/.hypothesis/examples'))\n",
      "INTERNALERROR> Traceback (most recent call last):\n",
      "INTERNALERROR>   File \"/usr/local/lib/python3.8/dist-packages/_pytest/main.py\", line 269, in wrap_session\n",
      "INTERNALERROR>     config.hook.pytest_sessionstart(session=session)\n",
      "INTERNALERROR>   File \"/usr/local/lib/python3.8/dist-packages/pluggy/_hooks.py\", line 493, in __call__\n",
      "INTERNALERROR>     return self._hookexec(self.name, self._hookimpls, kwargs, firstresult)\n",
      "INTERNALERROR>   File \"/usr/local/lib/python3.8/dist-packages/pluggy/_manager.py\", line 115, in _hookexec\n",
      "INTERNALERROR>     return self._inner_hookexec(hook_name, methods, kwargs, firstresult)\n",
      "INTERNALERROR>   File \"/usr/local/lib/python3.8/dist-packages/pluggy/_callers.py\", line 152, in _multicall\n",
      "INTERNALERROR>     return outcome.get_result()\n",
      "INTERNALERROR>   File \"/usr/local/lib/python3.8/dist-packages/pluggy/_result.py\", line 114, in get_result\n",
      "INTERNALERROR>     raise exc.with_traceback(exc.__traceback__)\n",
      "INTERNALERROR>   File \"/usr/local/lib/python3.8/dist-packages/pluggy/_callers.py\", line 77, in _multicall\n",
      "INTERNALERROR>     res = hook_impl.function(*args)\n",
      "INTERNALERROR>   File \"/usr/local/lib/python3.8/dist-packages/pytest_sugar.py\", line 284, in pytest_sessionstart\n",
      "INTERNALERROR>     self.write_line(line)\n",
      "INTERNALERROR>   File \"/usr/local/lib/python3.8/dist-packages/_pytest/terminal.py\", line 481, in write_line\n",
      "INTERNALERROR>     line = str(line, errors=\"replace\")\n",
      "INTERNALERROR> TypeError: decoding to str: need a bytes-like object, generator found\n",
      "\u001b[0m"
     ]
    }
   ],
   "source": [
    "!ase test"
   ]
  },
  {
   "cell_type": "code",
   "execution_count": 2,
   "metadata": {},
   "outputs": [
    {
     "name": "stderr",
     "output_type": "stream",
     "text": [
      "/bin/sh: 1: nwchem: not found\n"
     ]
    },
    {
     "ename": "CalculationFailed",
     "evalue": "Calculator \"nwchem\" failed with command \"nwchem nwchem.nwi > nwchem.nwo\" failed in /home/coder/project with error code 127",
     "output_type": "error",
     "traceback": [
      "\u001b[0;31m---------------------------------------------------------------------------\u001b[0m",
      "\u001b[0;31mCalculationFailed\u001b[0m                         Traceback (most recent call last)",
      "\u001b[1;32m/home/coder/project/TestXMace_new.ipynb Cell 3\u001b[0m line \u001b[0;36m9\n\u001b[1;32m      <a href='vscode-notebook-cell://research.constructor.tech/home/coder/project/TestXMace_new.ipynb#W2sdnNjb2RlLXJlbW90ZQ%3D%3D?line=6'>7</a>\u001b[0m h2\u001b[39m.\u001b[39mcalc \u001b[39m=\u001b[39m NWChem(xc\u001b[39m=\u001b[39m\u001b[39m'\u001b[39m\u001b[39mPBE\u001b[39m\u001b[39m'\u001b[39m)\n\u001b[1;32m      <a href='vscode-notebook-cell://research.constructor.tech/home/coder/project/TestXMace_new.ipynb#W2sdnNjb2RlLXJlbW90ZQ%3D%3D?line=7'>8</a>\u001b[0m opt \u001b[39m=\u001b[39m BFGS(h2, trajectory\u001b[39m=\u001b[39m\u001b[39m'\u001b[39m\u001b[39mh2.traj\u001b[39m\u001b[39m'\u001b[39m)\n\u001b[0;32m----> <a href='vscode-notebook-cell://research.constructor.tech/home/coder/project/TestXMace_new.ipynb#W2sdnNjb2RlLXJlbW90ZQ%3D%3D?line=8'>9</a>\u001b[0m opt\u001b[39m.\u001b[39;49mrun(fmax\u001b[39m=\u001b[39;49m\u001b[39m0.02\u001b[39;49m)\n",
      "File \u001b[0;32m~/.local/lib/rolos-mace/site-packages/ase/optimize/optimize.py:269\u001b[0m, in \u001b[0;36mOptimizer.run\u001b[0;34m(self, fmax, steps)\u001b[0m\n\u001b[1;32m    267\u001b[0m \u001b[39mif\u001b[39;00m steps:\n\u001b[1;32m    268\u001b[0m     \u001b[39mself\u001b[39m\u001b[39m.\u001b[39mmax_steps \u001b[39m=\u001b[39m steps\n\u001b[0;32m--> 269\u001b[0m \u001b[39mreturn\u001b[39;00m Dynamics\u001b[39m.\u001b[39;49mrun(\u001b[39mself\u001b[39;49m)\n",
      "File \u001b[0;32m~/.local/lib/rolos-mace/site-packages/ase/optimize/optimize.py:156\u001b[0m, in \u001b[0;36mDynamics.run\u001b[0;34m(self)\u001b[0m\n\u001b[1;32m    149\u001b[0m \u001b[39mdef\u001b[39;00m \u001b[39mrun\u001b[39m(\u001b[39mself\u001b[39m):\n\u001b[1;32m    150\u001b[0m \u001b[39m    \u001b[39m\u001b[39m\"\"\"Run dynamics algorithm.\u001b[39;00m\n\u001b[1;32m    151\u001b[0m \n\u001b[1;32m    152\u001b[0m \u001b[39m    This method will return when the forces on all individual\u001b[39;00m\n\u001b[1;32m    153\u001b[0m \u001b[39m    atoms are less than *fmax* or when the number of steps exceeds\u001b[39;00m\n\u001b[1;32m    154\u001b[0m \u001b[39m    *steps*.\"\"\"\u001b[39;00m\n\u001b[0;32m--> 156\u001b[0m     \u001b[39mfor\u001b[39;00m converged \u001b[39min\u001b[39;00m Dynamics\u001b[39m.\u001b[39mirun(\u001b[39mself\u001b[39m):\n\u001b[1;32m    157\u001b[0m         \u001b[39mpass\u001b[39;00m\n\u001b[1;32m    158\u001b[0m     \u001b[39mreturn\u001b[39;00m converged\n",
      "File \u001b[0;32m~/.local/lib/rolos-mace/site-packages/ase/optimize/optimize.py:122\u001b[0m, in \u001b[0;36mDynamics.irun\u001b[0;34m(self)\u001b[0m\n\u001b[1;32m    111\u001b[0m \u001b[39m\u001b[39m\u001b[39m\"\"\"Run dynamics algorithm as generator. This allows, e.g.,\u001b[39;00m\n\u001b[1;32m    112\u001b[0m \u001b[39mto easily run two optimizers or MD thermostats at the same time.\u001b[39;00m\n\u001b[1;32m    113\u001b[0m \n\u001b[0;32m   (...)\u001b[0m\n\u001b[1;32m    118\u001b[0m \u001b[39m>>>     opt1.run()\u001b[39;00m\n\u001b[1;32m    119\u001b[0m \u001b[39m\"\"\"\u001b[39;00m\n\u001b[1;32m    121\u001b[0m \u001b[39m# compute initial structure and log the first step\u001b[39;00m\n\u001b[0;32m--> 122\u001b[0m \u001b[39mself\u001b[39;49m\u001b[39m.\u001b[39;49matoms\u001b[39m.\u001b[39;49mget_forces()\n\u001b[1;32m    124\u001b[0m \u001b[39m# yield the first time to inspect before logging\u001b[39;00m\n\u001b[1;32m    125\u001b[0m \u001b[39myield\u001b[39;00m \u001b[39mFalse\u001b[39;00m\n",
      "File \u001b[0;32m~/.local/lib/rolos-mace/site-packages/ase/atoms.py:788\u001b[0m, in \u001b[0;36mAtoms.get_forces\u001b[0;34m(self, apply_constraint, md)\u001b[0m\n\u001b[1;32m    786\u001b[0m \u001b[39mif\u001b[39;00m \u001b[39mself\u001b[39m\u001b[39m.\u001b[39m_calc \u001b[39mis\u001b[39;00m \u001b[39mNone\u001b[39;00m:\n\u001b[1;32m    787\u001b[0m     \u001b[39mraise\u001b[39;00m \u001b[39mRuntimeError\u001b[39;00m(\u001b[39m'\u001b[39m\u001b[39mAtoms object has no calculator.\u001b[39m\u001b[39m'\u001b[39m)\n\u001b[0;32m--> 788\u001b[0m forces \u001b[39m=\u001b[39m \u001b[39mself\u001b[39;49m\u001b[39m.\u001b[39;49m_calc\u001b[39m.\u001b[39;49mget_forces(\u001b[39mself\u001b[39;49m)\n\u001b[1;32m    790\u001b[0m \u001b[39mif\u001b[39;00m apply_constraint:\n\u001b[1;32m    791\u001b[0m     \u001b[39m# We need a special md flag here because for MD we want\u001b[39;00m\n\u001b[1;32m    792\u001b[0m     \u001b[39m# to skip real constraints but include special \"constraints\"\u001b[39;00m\n\u001b[1;32m    793\u001b[0m     \u001b[39m# Like Hookean.\u001b[39;00m\n\u001b[1;32m    794\u001b[0m     \u001b[39mfor\u001b[39;00m constraint \u001b[39min\u001b[39;00m \u001b[39mself\u001b[39m\u001b[39m.\u001b[39mconstraints:\n",
      "File \u001b[0;32m~/.local/lib/rolos-mace/site-packages/ase/calculators/abc.py:23\u001b[0m, in \u001b[0;36mGetPropertiesMixin.get_forces\u001b[0;34m(self, atoms)\u001b[0m\n\u001b[1;32m     22\u001b[0m \u001b[39mdef\u001b[39;00m \u001b[39mget_forces\u001b[39m(\u001b[39mself\u001b[39m, atoms\u001b[39m=\u001b[39m\u001b[39mNone\u001b[39;00m):\n\u001b[0;32m---> 23\u001b[0m     \u001b[39mreturn\u001b[39;00m \u001b[39mself\u001b[39;49m\u001b[39m.\u001b[39;49mget_property(\u001b[39m'\u001b[39;49m\u001b[39mforces\u001b[39;49m\u001b[39m'\u001b[39;49m, atoms)\n",
      "File \u001b[0;32m~/.local/lib/rolos-mace/site-packages/ase/calculators/calculator.py:737\u001b[0m, in \u001b[0;36mCalculator.get_property\u001b[0;34m(self, name, atoms, allow_calculation)\u001b[0m\n\u001b[1;32m    735\u001b[0m     \u001b[39mif\u001b[39;00m \u001b[39mnot\u001b[39;00m allow_calculation:\n\u001b[1;32m    736\u001b[0m         \u001b[39mreturn\u001b[39;00m \u001b[39mNone\u001b[39;00m\n\u001b[0;32m--> 737\u001b[0m     \u001b[39mself\u001b[39;49m\u001b[39m.\u001b[39;49mcalculate(atoms, [name], system_changes)\n\u001b[1;32m    739\u001b[0m \u001b[39mif\u001b[39;00m name \u001b[39mnot\u001b[39;00m \u001b[39min\u001b[39;00m \u001b[39mself\u001b[39m\u001b[39m.\u001b[39mresults:\n\u001b[1;32m    740\u001b[0m     \u001b[39m# For some reason the calculator was not able to do what we want,\u001b[39;00m\n\u001b[1;32m    741\u001b[0m     \u001b[39m# and that is OK.\u001b[39;00m\n\u001b[1;32m    742\u001b[0m     \u001b[39mraise\u001b[39;00m PropertyNotImplementedError(\u001b[39m'\u001b[39m\u001b[39m{}\u001b[39;00m\u001b[39m not present in this \u001b[39m\u001b[39m'\u001b[39m\n\u001b[1;32m    743\u001b[0m                                       \u001b[39m'\u001b[39m\u001b[39mcalculation\u001b[39m\u001b[39m'\u001b[39m\u001b[39m.\u001b[39mformat(name))\n",
      "File \u001b[0;32m~/.local/lib/rolos-mace/site-packages/ase/calculators/calculator.py:938\u001b[0m, in \u001b[0;36mFileIOCalculator.calculate\u001b[0;34m(self, atoms, properties, system_changes)\u001b[0m\n\u001b[1;32m    934\u001b[0m     path \u001b[39m=\u001b[39m os\u001b[39m.\u001b[39mpath\u001b[39m.\u001b[39mabspath(\u001b[39mself\u001b[39m\u001b[39m.\u001b[39mdirectory)\n\u001b[1;32m    935\u001b[0m     msg \u001b[39m=\u001b[39m (\u001b[39m'\u001b[39m\u001b[39mCalculator \u001b[39m\u001b[39m\"\u001b[39m\u001b[39m{}\u001b[39;00m\u001b[39m\"\u001b[39m\u001b[39m failed with command \u001b[39m\u001b[39m\"\u001b[39m\u001b[39m{}\u001b[39;00m\u001b[39m\"\u001b[39m\u001b[39m failed in \u001b[39m\u001b[39m'\u001b[39m\n\u001b[1;32m    936\u001b[0m            \u001b[39m'\u001b[39m\u001b[39m{}\u001b[39;00m\u001b[39m with error code \u001b[39m\u001b[39m{}\u001b[39;00m\u001b[39m'\u001b[39m\u001b[39m.\u001b[39mformat(\u001b[39mself\u001b[39m\u001b[39m.\u001b[39mname, command,\n\u001b[1;32m    937\u001b[0m                                           path, errorcode))\n\u001b[0;32m--> 938\u001b[0m     \u001b[39mraise\u001b[39;00m CalculationFailed(msg)\n\u001b[1;32m    940\u001b[0m \u001b[39mself\u001b[39m\u001b[39m.\u001b[39mread_results()\n",
      "\u001b[0;31mCalculationFailed\u001b[0m: Calculator \"nwchem\" failed with command \"nwchem nwchem.nwi > nwchem.nwo\" failed in /home/coder/project with error code 127"
     ]
    }
   ],
   "source": [
    "from ase import Atoms\n",
    "from ase.optimize import BFGS\n",
    "from ase.calculators.nwchem import NWChem\n",
    "from ase.io import write\n",
    "\n",
    "h2 = Atoms('H2',positions=[[0, 0, 0],[0, 0, 0.7]])\n",
    "h2.calc = NWChem(xc='PBE')\n",
    "opt = BFGS(h2, trajectory='h2.traj')\n",
    "opt.run(fmax=0.02)"
   ]
  },
  {
   "cell_type": "markdown",
   "metadata": {},
   "source": [
    "2. Testing scipy module"
   ]
  },
  {
   "cell_type": "code",
   "execution_count": 3,
   "metadata": {},
   "outputs": [
    {
     "ename": "ModuleNotFoundError",
     "evalue": "No module named 'matscipy._version'",
     "output_type": "error",
     "traceback": [
      "\u001b[0;31m---------------------------------------------------------------------------\u001b[0m",
      "\u001b[0;31mModuleNotFoundError\u001b[0m                       Traceback (most recent call last)",
      "\u001b[1;32m/home/coder/project/TestXMace_new.ipynb Cell 5\u001b[0m line \u001b[0;36m5\n\u001b[1;32m      <a href='vscode-notebook-cell://research.constructor.tech/home/coder/project/TestXMace_new.ipynb#W4sdnNjb2RlLXJlbW90ZQ%3D%3D?line=0'>1</a>\u001b[0m \u001b[39m# NB: if the project consists of folder 'tests' then it is not accessible \u001b[39;00m\n\u001b[1;32m      <a href='vscode-notebook-cell://research.constructor.tech/home/coder/project/TestXMace_new.ipynb#W4sdnNjb2RlLXJlbW90ZQ%3D%3D?line=1'>2</a>\u001b[0m \u001b[39m# since there is another folder 'tests' in 'ls /usr/local/lib/python3.8/dist-packages'\u001b[39;00m\n\u001b[1;32m      <a href='vscode-notebook-cell://research.constructor.tech/home/coder/project/TestXMace_new.ipynb#W4sdnNjb2RlLXJlbW90ZQ%3D%3D?line=2'>3</a>\u001b[0m \u001b[39m# and this folder PRECIDES user's folder '/home/coder/project/tests' in the envirinment variable $PATH \u001b[39;00m\n\u001b[1;32m      <a href='vscode-notebook-cell://research.constructor.tech/home/coder/project/TestXMace_new.ipynb#W4sdnNjb2RlLXJlbW90ZQ%3D%3D?line=3'>4</a>\u001b[0m \u001b[39m# so the user is forced to rename itsown folder 'tests'\u001b[39;00m\n\u001b[0;32m----> <a href='vscode-notebook-cell://research.constructor.tech/home/coder/project/TestXMace_new.ipynb#W4sdnNjb2RlLXJlbW90ZQ%3D%3D?line=4'>5</a>\u001b[0m \u001b[39mimport\u001b[39;00m \u001b[39mtests\u001b[39;00m\n\u001b[1;32m      <a href='vscode-notebook-cell://research.constructor.tech/home/coder/project/TestXMace_new.ipynb#W4sdnNjb2RlLXJlbW90ZQ%3D%3D?line=5'>6</a>\u001b[0m \u001b[39mimport\u001b[39;00m \u001b[39mmatscipy_tests\u001b[39;00m\n\u001b[1;32m      <a href='vscode-notebook-cell://research.constructor.tech/home/coder/project/TestXMace_new.ipynb#W4sdnNjb2RlLXJlbW90ZQ%3D%3D?line=6'>7</a>\u001b[0m \u001b[39mprint\u001b[39m(tests\u001b[39m.\u001b[39m__path__)\n",
      "File \u001b[0;32m~/project/tests/__init__.py:25\u001b[0m\n\u001b[1;32m      1\u001b[0m \u001b[39m#\u001b[39;00m\n\u001b[1;32m      2\u001b[0m \u001b[39m# Copyright 2015, 2017 Lars Pastewka (U. Freiburg)\u001b[39;00m\n\u001b[1;32m      3\u001b[0m \u001b[39m#           2015 Till Junge (EPFL)\u001b[39;00m\n\u001b[0;32m   (...)\u001b[0m\n\u001b[1;32m     22\u001b[0m \n\u001b[1;32m     23\u001b[0m \u001b[39m# Generic stuff may go here.\u001b[39;00m\n\u001b[0;32m---> 25\u001b[0m \u001b[39mfrom\u001b[39;00m \u001b[39mmatscipy\u001b[39;00m\u001b[39m.\u001b[39;00m\u001b[39mlogger\u001b[39;00m \u001b[39mimport\u001b[39;00m screen\n\u001b[1;32m     27\u001b[0m \u001b[39mfrom\u001b[39;00m \u001b[39m.\u001b[39;00m\u001b[39m_version\u001b[39;00m \u001b[39mimport\u001b[39;00m __version__\n\u001b[1;32m     30\u001b[0m \u001b[39mdef\u001b[39;00m \u001b[39mhas_parameter\u001b[39m(name):\n",
      "File \u001b[0;32m~/project/matscipy/__init__.py:27\u001b[0m\n\u001b[1;32m      1\u001b[0m \u001b[39m#\u001b[39;00m\n\u001b[1;32m      2\u001b[0m \u001b[39m# Copyright 2015, 2017 Lars Pastewka (U. Freiburg)\u001b[39;00m\n\u001b[1;32m      3\u001b[0m \u001b[39m#           2015 Till Junge (EPFL)\u001b[39;00m\n\u001b[0;32m   (...)\u001b[0m\n\u001b[1;32m     22\u001b[0m \n\u001b[1;32m     23\u001b[0m \u001b[39m# Generic stuff may go here.\u001b[39;00m\n\u001b[1;32m     25\u001b[0m \u001b[39mfrom\u001b[39;00m \u001b[39mmatscipy\u001b[39;00m\u001b[39m.\u001b[39;00m\u001b[39mlogger\u001b[39;00m \u001b[39mimport\u001b[39;00m screen\n\u001b[0;32m---> 27\u001b[0m \u001b[39mfrom\u001b[39;00m \u001b[39m.\u001b[39;00m\u001b[39m_version\u001b[39;00m \u001b[39mimport\u001b[39;00m __version__\n\u001b[1;32m     30\u001b[0m \u001b[39mdef\u001b[39;00m \u001b[39mhas_parameter\u001b[39m(name):\n\u001b[1;32m     31\u001b[0m \u001b[39m    \u001b[39m\u001b[39m\"\"\"\u001b[39;00m\n\u001b[1;32m     32\u001b[0m \u001b[39m    Test if a parameter has been provided in params.py.\u001b[39;00m\n\u001b[1;32m     33\u001b[0m \n\u001b[0;32m   (...)\u001b[0m\n\u001b[1;32m     42\u001b[0m \u001b[39m        Returns True if parameter exists.\u001b[39;00m\n\u001b[1;32m     43\u001b[0m \u001b[39m    \"\"\"\u001b[39;00m\n",
      "\u001b[0;31mModuleNotFoundError\u001b[0m: No module named 'matscipy._version'"
     ]
    }
   ],
   "source": [
    "# NB: if the project consists of folder 'tests' then it is not accessible \n",
    "# since there is another folder 'tests' in 'ls /usr/local/lib/python3.8/dist-packages'\n",
    "# and this folder PRECIDES user's folder '/home/coder/project/tests' in the envirinment variable $PATH \n",
    "# so the user is forced to rename itsown folder 'tests'\n",
    "import tests\n",
    "import matscipy_tests\n",
    "print(tests.__path__)\n",
    "print(matscipy_tests.__path__)\n"
   ]
  },
  {
   "cell_type": "code",
   "execution_count": 4,
   "metadata": {},
   "outputs": [
    {
     "data": {
      "text/plain": [
       "['/home/coder/.local/lib/rolos-mace/site-packages/ase']"
      ]
     },
     "execution_count": 4,
     "metadata": {},
     "output_type": "execute_result"
    }
   ],
   "source": [
    "import ase\n",
    "ase.__path__"
   ]
  },
  {
   "cell_type": "code",
   "execution_count": 5,
   "metadata": {},
   "outputs": [
    {
     "ename": "ModuleNotFoundError",
     "evalue": "No module named 'matscipy._version'",
     "output_type": "error",
     "traceback": [
      "\u001b[0;31m---------------------------------------------------------------------------\u001b[0m",
      "\u001b[0;31mModuleNotFoundError\u001b[0m                       Traceback (most recent call last)",
      "\u001b[1;32m/home/coder/project/TestXMace_new.ipynb Cell 7\u001b[0m line \u001b[0;36m1\n\u001b[0;32m----> <a href='vscode-notebook-cell://research.constructor.tech/home/coder/project/TestXMace_new.ipynb#W6sdnNjb2RlLXJlbW90ZQ%3D%3D?line=0'>1</a>\u001b[0m \u001b[39mimport\u001b[39;00m \u001b[39mmatscipy\u001b[39;00m\n\u001b[1;32m      <a href='vscode-notebook-cell://research.constructor.tech/home/coder/project/TestXMace_new.ipynb#W6sdnNjb2RlLXJlbW90ZQ%3D%3D?line=1'>2</a>\u001b[0m matscipy\u001b[39m.\u001b[39m__path__\n",
      "File \u001b[0;32m~/project/matscipy/__init__.py:27\u001b[0m\n\u001b[1;32m      1\u001b[0m \u001b[39m#\u001b[39;00m\n\u001b[1;32m      2\u001b[0m \u001b[39m# Copyright 2015, 2017 Lars Pastewka (U. Freiburg)\u001b[39;00m\n\u001b[1;32m      3\u001b[0m \u001b[39m#           2015 Till Junge (EPFL)\u001b[39;00m\n\u001b[0;32m   (...)\u001b[0m\n\u001b[1;32m     22\u001b[0m \n\u001b[1;32m     23\u001b[0m \u001b[39m# Generic stuff may go here.\u001b[39;00m\n\u001b[1;32m     25\u001b[0m \u001b[39mfrom\u001b[39;00m \u001b[39mmatscipy\u001b[39;00m\u001b[39m.\u001b[39;00m\u001b[39mlogger\u001b[39;00m \u001b[39mimport\u001b[39;00m screen\n\u001b[0;32m---> 27\u001b[0m \u001b[39mfrom\u001b[39;00m \u001b[39m.\u001b[39;00m\u001b[39m_version\u001b[39;00m \u001b[39mimport\u001b[39;00m __version__\n\u001b[1;32m     30\u001b[0m \u001b[39mdef\u001b[39;00m \u001b[39mhas_parameter\u001b[39m(name):\n\u001b[1;32m     31\u001b[0m \u001b[39m    \u001b[39m\u001b[39m\"\"\"\u001b[39;00m\n\u001b[1;32m     32\u001b[0m \u001b[39m    Test if a parameter has been provided in params.py.\u001b[39;00m\n\u001b[1;32m     33\u001b[0m \n\u001b[0;32m   (...)\u001b[0m\n\u001b[1;32m     42\u001b[0m \u001b[39m        Returns True if parameter exists.\u001b[39;00m\n\u001b[1;32m     43\u001b[0m \u001b[39m    \"\"\"\u001b[39;00m\n",
      "\u001b[0;31mModuleNotFoundError\u001b[0m: No module named 'matscipy._version'"
     ]
    }
   ],
   "source": [
    "import matscipy\n",
    "matscipy.__path__"
   ]
  },
  {
   "cell_type": "code",
   "execution_count": 6,
   "metadata": {},
   "outputs": [
    {
     "name": "stdout",
     "output_type": "stream",
     "text": [
      "[1:44] test_angle_distribution.py --------------------------------------------------\n"
     ]
    },
    {
     "name": "stderr",
     "output_type": "stream",
     "text": [
      "Traceback (most recent call last):\n",
      "  File \"test_angle_distribution.py\", line 52, in <module>\n",
      "    from matscipy.neighbours import neighbour_list\n",
      "  File \"/home/coder/project/matscipy/__init__.py\", line 27, in <module>\n",
      "    from ._version import __version__\n",
      "ModuleNotFoundError: No module named 'matscipy._version'\n"
     ]
    },
    {
     "name": "stdout",
     "output_type": "stream",
     "text": [
      "[2:44] test_atomic_strain.py --------------------------------------------------\n"
     ]
    },
    {
     "name": "stderr",
     "output_type": "stream",
     "text": [
      "Traceback (most recent call last):\n",
      "  File \"test_atomic_strain.py\", line 51, in <module>\n",
      "    from matscipy.neighbours import mic, neighbour_list\n",
      "  File \"/home/coder/project/matscipy/__init__.py\", line 27, in <module>\n",
      "    from ._version import __version__\n",
      "ModuleNotFoundError: No module named 'matscipy._version'\n"
     ]
    },
    {
     "name": "stdout",
     "output_type": "stream",
     "text": [
      "[3:44] test_bop.py --------------------------------------------------\n"
     ]
    },
    {
     "name": "stderr",
     "output_type": "stream",
     "text": [
      "Traceback (most recent call last):\n",
      "  File \"test_bop.py\", line 34, in <module>\n",
      "    import matscipy.calculators.manybody.explicit_forms.stillinger_weber \\\n",
      "  File \"/home/coder/project/matscipy/__init__.py\", line 27, in <module>\n",
      "    from ._version import __version__\n",
      "ModuleNotFoundError: No module named 'matscipy._version'\n"
     ]
    },
    {
     "name": "stdout",
     "output_type": "stream",
     "text": [
      "[4:44] test_build_3D_crack.py --------------------------------------------------\n"
     ]
    },
    {
     "name": "stderr",
     "output_type": "stream",
     "text": [
      "Traceback (most recent call last):\n",
      "  File \"test_build_3D_crack.py\", line 7, in <module>\n",
      "    from matscipy.cauchy_born import CubicCauchyBorn\n",
      "  File \"/home/coder/project/matscipy/__init__.py\", line 27, in <module>\n",
      "    from ._version import __version__\n",
      "ModuleNotFoundError: No module named 'matscipy._version'\n"
     ]
    },
    {
     "name": "stdout",
     "output_type": "stream",
     "text": [
      "[5:44] test_bulk_properties.py --------------------------------------------------\n"
     ]
    },
    {
     "name": "stderr",
     "output_type": "stream",
     "text": [
      "Traceback (most recent call last):\n",
      "  File \"test_bulk_properties.py\", line 32, in <module>\n",
      "    import matscipy.calculators.manybody.explicit_forms.stillinger_weber as stillinger_weber\n",
      "  File \"/home/coder/project/matscipy/__init__.py\", line 27, in <module>\n",
      "    from ._version import __version__\n",
      "ModuleNotFoundError: No module named 'matscipy._version'\n"
     ]
    },
    {
     "name": "stdout",
     "output_type": "stream",
     "text": [
      "[6:44] test_c2d.py --------------------------------------------------\n"
     ]
    },
    {
     "name": "stderr",
     "output_type": "stream",
     "text": [
      "test_c2d.py:118: DeprecationWarning: distutils Version classes are deprecated. Use packaging.version instead.\n",
      "  @unittest.skipUnless(LooseVersion(ase.__version__) > LooseVersion('3.19.0'),\n"
     ]
    },
    {
     "name": "stdout",
     "output_type": "stream",
     "text": [
      "[7:44] test_cauchy_born_corrector.py --------------------------------------------------\n"
     ]
    },
    {
     "name": "stderr",
     "output_type": "stream",
     "text": [
      "Traceback (most recent call last):\n",
      "  File \"test_cauchy_born_corrector.py\", line 7, in <module>\n",
      "    from matscipy.cauchy_born import CubicCauchyBorn\n",
      "  File \"/home/coder/project/matscipy/__init__.py\", line 27, in <module>\n",
      "    from ._version import __version__\n",
      "ModuleNotFoundError: No module named 'matscipy._version'\n"
     ]
    },
    {
     "name": "stdout",
     "output_type": "stream",
     "text": [
      "[8:44] test_cluster_stable_sort.py --------------------------------------------------\n"
     ]
    },
    {
     "name": "stderr",
     "output_type": "stream",
     "text": [
      "Traceback (most recent call last):\n",
      "  File \"test_cluster_stable_sort.py\", line 12, in <module>\n",
      "    from matscipy.fracture_mechanics.clusters import diamond, set_groups, set_regions, get_alpha_period, bcc\n",
      "  File \"/home/coder/project/matscipy/__init__.py\", line 27, in <module>\n",
      "    from ._version import __version__\n",
      "ModuleNotFoundError: No module named 'matscipy._version'\n"
     ]
    },
    {
     "name": "stdout",
     "output_type": "stream",
     "text": [
      "[9:44] test_committee.py --------------------------------------------------\n"
     ]
    },
    {
     "name": "stderr",
     "output_type": "stream",
     "text": [
      "Traceback (most recent call last):\n",
      "  File \"test_committee.py\", line 12, in <module>\n",
      "    import matscipy.calculators.committee\n",
      "  File \"/home/coder/project/matscipy/__init__.py\", line 27, in <module>\n",
      "    from ._version import __version__\n",
      "ModuleNotFoundError: No module named 'matscipy._version'\n"
     ]
    },
    {
     "name": "stdout",
     "output_type": "stream",
     "text": [
      "[10:44] test_crack.py --------------------------------------------------\n"
     ]
    },
    {
     "name": "stderr",
     "output_type": "stream",
     "text": [
      "Traceback (most recent call last):\n",
      "  File \"test_crack.py\", line 33, in <module>\n",
      "    import matscipy.fracture_mechanics.crack as crack\n",
      "  File \"/home/coder/project/matscipy/__init__.py\", line 27, in <module>\n",
      "    from ._version import __version__\n",
      "ModuleNotFoundError: No module named 'matscipy._version'\n"
     ]
    },
    {
     "name": "stdout",
     "output_type": "stream",
     "text": [
      "[11:44] test_cubic_crystal_crack.py --------------------------------------------------\n"
     ]
    },
    {
     "name": "stderr",
     "output_type": "stream",
     "text": [
      "Traceback (most recent call last):\n",
      "  File \"test_cubic_crystal_crack.py\", line 59, in <module>\n",
      "    import matscipy.fracture_mechanics.clusters as clusters\n",
      "  File \"/home/coder/project/matscipy/__init__.py\", line 27, in <module>\n",
      "    from ._version import __version__\n",
      "ModuleNotFoundError: No module named 'matscipy._version'\n"
     ]
    },
    {
     "name": "stdout",
     "output_type": "stream",
     "text": [
      "[12:44] test_dislocation.py --------------------------------------------------\n"
     ]
    },
    {
     "name": "stderr",
     "output_type": "stream",
     "text": [
      "Traceback (most recent call last):\n",
      "  File \"test_dislocation.py\", line 27, in <module>\n",
      "    import matscipy.dislocation as sd\n",
      "  File \"/home/coder/project/matscipy/__init__.py\", line 27, in <module>\n",
      "    from ._version import __version__\n",
      "ModuleNotFoundError: No module named 'matscipy._version'\n"
     ]
    },
    {
     "name": "stdout",
     "output_type": "stream",
     "text": [
      "[13:44] test_eam_average_atom.py --------------------------------------------------\n"
     ]
    },
    {
     "name": "stderr",
     "output_type": "stream",
     "text": [
      "Traceback (most recent call last):\n",
      "  File \"test_eam_average_atom.py\", line 51, in <module>\n",
      "    from matscipy.calculators.eam import io, average_atom\n",
      "  File \"/home/coder/project/matscipy/__init__.py\", line 27, in <module>\n",
      "    from ._version import __version__\n",
      "ModuleNotFoundError: No module named 'matscipy._version'\n"
     ]
    },
    {
     "name": "stdout",
     "output_type": "stream",
     "text": [
      "[14:44] test_eam_calculator.py --------------------------------------------------\n"
     ]
    },
    {
     "name": "stderr",
     "output_type": "stream",
     "text": [
      "Traceback (most recent call last):\n",
      "  File \"test_eam_calculator.py\", line 43, in <module>\n",
      "    from matscipy.elasticity import fit_elastic_constants, Voigt_6x6_to_cubic\n",
      "  File \"/home/coder/project/matscipy/__init__.py\", line 27, in <module>\n",
      "    from ._version import __version__\n",
      "ModuleNotFoundError: No module named 'matscipy._version'\n"
     ]
    },
    {
     "name": "stdout",
     "output_type": "stream",
     "text": [
      "[15:44] test_eam_calculator_forces_and_hessian.py --------------------------------------------------\n"
     ]
    },
    {
     "name": "stderr",
     "output_type": "stream",
     "text": [
      "Traceback (most recent call last):\n",
      "  File \"test_eam_calculator_forces_and_hessian.py\", line 52, in <module>\n",
      "    from matscipy.calculators.eam import EAM\n",
      "  File \"/home/coder/project/matscipy/__init__.py\", line 27, in <module>\n",
      "    from ._version import __version__\n",
      "ModuleNotFoundError: No module named 'matscipy._version'\n"
     ]
    },
    {
     "name": "stdout",
     "output_type": "stream",
     "text": [
      "[16:44] test_eam_io.py --------------------------------------------------\n"
     ]
    },
    {
     "name": "stderr",
     "output_type": "stream",
     "text": [
      "Traceback (most recent call last):\n",
      "  File \"test_eam_io.py\", line 50, in <module>\n",
      "    from matscipy.calculators.eam.io import (read_eam,\n",
      "  File \"/home/coder/project/matscipy/__init__.py\", line 27, in <module>\n",
      "    from ._version import __version__\n",
      "ModuleNotFoundError: No module named 'matscipy._version'\n"
     ]
    },
    {
     "name": "stdout",
     "output_type": "stream",
     "text": [
      "[17:44] test_elastic_moduli.py --------------------------------------------------\n"
     ]
    },
    {
     "name": "stderr",
     "output_type": "stream",
     "text": [
      "Traceback (most recent call last):\n",
      "  File \"test_elastic_moduli.py\", line 47, in <module>\n",
      "    from matscipy.elasticity import elastic_moduli\n",
      "  File \"/home/coder/project/matscipy/__init__.py\", line 27, in <module>\n",
      "    from ._version import __version__\n",
      "ModuleNotFoundError: No module named 'matscipy._version'\n"
     ]
    },
    {
     "name": "stdout",
     "output_type": "stream",
     "text": [
      "[18:44] test_energy_release.py --------------------------------------------------\n"
     ]
    },
    {
     "name": "stderr",
     "output_type": "stream",
     "text": [
      "Traceback (most recent call last):\n",
      "  File \"test_energy_release.py\", line 51, in <module>\n",
      "    import matscipy.fracture_mechanics.clusters as clusters\n",
      "  File \"/home/coder/project/matscipy/__init__.py\", line 27, in <module>\n",
      "    from ._version import __version__\n",
      "ModuleNotFoundError: No module named 'matscipy._version'\n"
     ]
    },
    {
     "name": "stdout",
     "output_type": "stream",
     "text": [
      "[19:44] test_ewald.py --------------------------------------------------\n"
     ]
    },
    {
     "name": "stderr",
     "output_type": "stream",
     "text": [
      "Traceback (most recent call last):\n",
      "  File \"test_ewald.py\", line 52, in <module>\n",
      "    from matscipy.calculators.ewald import Ewald\n",
      "  File \"/home/coder/project/matscipy/__init__.py\", line 27, in <module>\n",
      "    from ._version import __version__\n",
      "ModuleNotFoundError: No module named 'matscipy._version'\n"
     ]
    },
    {
     "name": "stdout",
     "output_type": "stream",
     "text": [
      "[20:44] test_ffi.py --------------------------------------------------\n"
     ]
    },
    {
     "name": "stderr",
     "output_type": "stream",
     "text": [
      "Traceback (most recent call last):\n",
      "  File \"test_ffi.py\", line 8, in <module>\n",
      "    test_ffi()\n",
      "  File \"test_ffi.py\", line 4, in test_ffi\n",
      "    import matscipy.ffi\n",
      "  File \"/home/coder/project/matscipy/__init__.py\", line 27, in <module>\n",
      "    from ._version import __version__\n",
      "ModuleNotFoundError: No module named 'matscipy._version'\n"
     ]
    },
    {
     "name": "stdout",
     "output_type": "stream",
     "text": [
      "[21:44] test_fit_elastic_constants.py --------------------------------------------------\n"
     ]
    },
    {
     "name": "stderr",
     "output_type": "stream",
     "text": [
      "Traceback (most recent call last):\n",
      "  File \"test_fit_elastic_constants.py\", line 59, in <module>\n",
      "    from matscipy.elasticity import (fit_elastic_constants,\n",
      "  File \"/home/coder/project/matscipy/__init__.py\", line 27, in <module>\n",
      "    from ._version import __version__\n",
      "ModuleNotFoundError: No module named 'matscipy._version'\n"
     ]
    },
    {
     "name": "stdout",
     "output_type": "stream",
     "text": [
      "[22:44] test_full_to_Voigt.py --------------------------------------------------\n"
     ]
    },
    {
     "name": "stderr",
     "output_type": "stream",
     "text": [
      "Traceback (most recent call last):\n",
      "  File \"test_full_to_Voigt.py\", line 47, in <module>\n",
      "    from matscipy.elasticity import (full_3x3_to_Voigt_6_index,\n",
      "  File \"/home/coder/project/matscipy/__init__.py\", line 27, in <module>\n",
      "    from ._version import __version__\n",
      "ModuleNotFoundError: No module named 'matscipy._version'\n"
     ]
    },
    {
     "name": "stdout",
     "output_type": "stream",
     "text": [
      "[23:44] test_gamma_surface.py --------------------------------------------------\n"
     ]
    },
    {
     "name": "stderr",
     "output_type": "stream",
     "text": [
      "Traceback (most recent call last):\n",
      "  File \"test_gamma_surface.py\", line 5, in <module>\n",
      "    from matscipy.gamma_surface import *\n",
      "  File \"/home/coder/project/matscipy/__init__.py\", line 27, in <module>\n",
      "    from ._version import __version__\n",
      "ModuleNotFoundError: No module named 'matscipy._version'\n"
     ]
    },
    {
     "name": "stdout",
     "output_type": "stream",
     "text": [
      "[24:44] test_hessian_finite_differences.py --------------------------------------------------\n"
     ]
    },
    {
     "name": "stderr",
     "output_type": "stream",
     "text": [
      "Traceback (most recent call last):\n",
      "  File \"test_hessian_finite_differences.py\", line 59, in <module>\n",
      "    from matscipy.calculators.pair_potential import PairPotential, LennardJonesCut\n",
      "  File \"/home/coder/project/matscipy/__init__.py\", line 27, in <module>\n",
      "    from ._version import __version__\n",
      "ModuleNotFoundError: No module named 'matscipy._version'\n"
     ]
    },
    {
     "name": "stdout",
     "output_type": "stream",
     "text": [
      "[25:44] test_hessian_precon.py --------------------------------------------------\n"
     ]
    },
    {
     "name": "stderr",
     "output_type": "stream",
     "text": [
      "Traceback (most recent call last):\n",
      "  File \"test_hessian_precon.py\", line 7, in <module>\n",
      "    from matscipy.calculators.eam import EAM\n",
      "  File \"/home/coder/project/matscipy/__init__.py\", line 27, in <module>\n",
      "    from ._version import __version__\n",
      "ModuleNotFoundError: No module named 'matscipy._version'\n"
     ]
    },
    {
     "name": "stdout",
     "output_type": "stream",
     "text": [
      "[26:44] test_hydrogenate.py --------------------------------------------------\n"
     ]
    },
    {
     "name": "stderr",
     "output_type": "stream",
     "text": [
      "Traceback (most recent call last):\n",
      "  File \"test_hydrogenate.py\", line 52, in <module>\n",
      "    from matscipy.hydrogenate import hydrogenate\n",
      "  File \"/home/coder/project/matscipy/__init__.py\", line 27, in <module>\n",
      "    from ._version import __version__\n",
      "ModuleNotFoundError: No module named 'matscipy._version'\n"
     ]
    },
    {
     "name": "stdout",
     "output_type": "stream",
     "text": [
      "[27:44] test_idealbrittlesolid.py --------------------------------------------------\n"
     ]
    },
    {
     "name": "stderr",
     "output_type": "stream",
     "text": [
      "Traceback (most recent call last):\n",
      "  File \"test_idealbrittlesolid.py\", line 51, in <module>\n",
      "    from matscipy.fracture_mechanics.idealbrittlesolid import (\n",
      "  File \"/home/coder/project/matscipy/__init__.py\", line 27, in <module>\n",
      "    from ._version import __version__\n",
      "ModuleNotFoundError: No module named 'matscipy._version'\n"
     ]
    },
    {
     "name": "stdout",
     "output_type": "stream",
     "text": [
      "[28:44] test_invariants.py --------------------------------------------------\n"
     ]
    },
    {
     "name": "stderr",
     "output_type": "stream",
     "text": [
      "Traceback (most recent call last):\n",
      "  File \"test_invariants.py\", line 48, in <module>\n",
      "    from matscipy.elasticity import invariants\n",
      "  File \"/home/coder/project/matscipy/__init__.py\", line 27, in <module>\n",
      "    from ._version import __version__\n",
      "ModuleNotFoundError: No module named 'matscipy._version'\n"
     ]
    },
    {
     "name": "stdout",
     "output_type": "stream",
     "text": [
      "[29:44] test_io.py --------------------------------------------------\n"
     ]
    },
    {
     "name": "stderr",
     "output_type": "stream",
     "text": [
      "Traceback (most recent call last):\n",
      "  File \"test_io.py\", line 50, in <module>\n",
      "    from matscipy.io import loadtbl, savetbl\n",
      "  File \"/home/coder/project/matscipy/__init__.py\", line 27, in <module>\n",
      "    from ._version import __version__\n",
      "ModuleNotFoundError: No module named 'matscipy._version'\n"
     ]
    },
    {
     "name": "stdout",
     "output_type": "stream",
     "text": [
      "[30:44] test_mcfm.py --------------------------------------------------\n"
     ]
    },
    {
     "name": "stderr",
     "output_type": "stream",
     "text": [
      "Traceback (most recent call last):\n",
      "  File \"test_mcfm.py\", line 28, in <module>\n",
      "    from matscipy.calculators.mcfm.neighbour_list_mcfm.neighbour_list_mcfm import NeighbourListMCFM\n",
      "  File \"/home/coder/project/matscipy/__init__.py\", line 27, in <module>\n",
      "    from ._version import __version__\n",
      "ModuleNotFoundError: No module named 'matscipy._version'\n"
     ]
    },
    {
     "name": "stdout",
     "output_type": "stream",
     "text": [
      "[31:44] test_neighbours.py --------------------------------------------------\n"
     ]
    },
    {
     "name": "stderr",
     "output_type": "stream",
     "text": [
      "Traceback (most recent call last):\n",
      "  File \"test_neighbours.py\", line 54, in <module>\n",
      "    from matscipy.neighbours import (\n",
      "  File \"/home/coder/project/matscipy/__init__.py\", line 27, in <module>\n",
      "    from ._version import __version__\n",
      "ModuleNotFoundError: No module named 'matscipy._version'\n"
     ]
    },
    {
     "name": "stdout",
     "output_type": "stream",
     "text": [
      "[32:44] test_numpy_tricks.py --------------------------------------------------\n"
     ]
    },
    {
     "name": "stderr",
     "output_type": "stream",
     "text": [
      "Traceback (most recent call last):\n",
      "  File \"test_numpy_tricks.py\", line 26, in <module>\n",
      "    from matscipy.numpy_tricks import mabincount\n",
      "  File \"/home/coder/project/matscipy/__init__.py\", line 27, in <module>\n",
      "    from ._version import __version__\n",
      "ModuleNotFoundError: No module named 'matscipy._version'\n"
     ]
    },
    {
     "name": "stdout",
     "output_type": "stream",
     "text": [
      "[33:44] test_opls.py --------------------------------------------------\n"
     ]
    },
    {
     "name": "stderr",
     "output_type": "stream",
     "text": [
      "Traceback (most recent call last):\n",
      "  File \"test_opls.py\", line 27, in <module>\n",
      "    import matscipy.opls\n",
      "  File \"/home/coder/project/matscipy/__init__.py\", line 27, in <module>\n",
      "    from ._version import __version__\n",
      "ModuleNotFoundError: No module named 'matscipy._version'\n"
     ]
    },
    {
     "name": "stdout",
     "output_type": "stream",
     "text": [
      "[34:44] test_opls_io.py --------------------------------------------------\n"
     ]
    },
    {
     "name": "stderr",
     "output_type": "stream",
     "text": [
      "Traceback (most recent call last):\n",
      "  File \"test_opls_io.py\", line 28, in <module>\n",
      "    import matscipy.opls\n",
      "  File \"/home/coder/project/matscipy/__init__.py\", line 27, in <module>\n",
      "    from ._version import __version__\n",
      "ModuleNotFoundError: No module named 'matscipy._version'\n"
     ]
    },
    {
     "name": "stdout",
     "output_type": "stream",
     "text": [
      "[35:44] test_pair_potential_calculator.py --------------------------------------------------\n"
     ]
    },
    {
     "name": "stderr",
     "output_type": "stream",
     "text": [
      "Traceback (most recent call last):\n",
      "  File \"test_pair_potential_calculator.py\", line 62, in <module>\n",
      "    from matscipy.calculators.pair_potential import (\n",
      "  File \"/home/coder/project/matscipy/__init__.py\", line 27, in <module>\n",
      "    from ._version import __version__\n",
      "ModuleNotFoundError: No module named 'matscipy._version'\n"
     ]
    },
    {
     "name": "stdout",
     "output_type": "stream",
     "text": [
      "[36:44] test_poisson_nernst_planck_solver.py --------------------------------------------------\n"
     ]
    },
    {
     "name": "stderr",
     "output_type": "stream",
     "text": [
      "Traceback (most recent call last):\n",
      "  File \"test_poisson_nernst_planck_solver.py\", line 25, in <module>\n",
      "    from matscipy.electrochemistry import PoissonNernstPlanckSystem\n",
      "  File \"/home/coder/project/matscipy/__init__.py\", line 27, in <module>\n",
      "    from ._version import __version__\n",
      "ModuleNotFoundError: No module named 'matscipy._version'\n"
     ]
    },
    {
     "name": "stdout",
     "output_type": "stream",
     "text": [
      "[37:44] test_polydisperse_calculator.py --------------------------------------------------\n"
     ]
    },
    {
     "name": "stderr",
     "output_type": "stream",
     "text": [
      "Traceback (most recent call last):\n",
      "  File \"test_polydisperse_calculator.py\", line 57, in <module>\n",
      "    import matscipy.calculators.polydisperse as calculator\n",
      "  File \"/home/coder/project/matscipy/__init__.py\", line 27, in <module>\n",
      "    from ._version import __version__\n",
      "ModuleNotFoundError: No module named 'matscipy._version'\n"
     ]
    },
    {
     "name": "stdout",
     "output_type": "stream",
     "text": [
      "[38:44] test_pressurecoupling.py --------------------------------------------------\n"
     ]
    },
    {
     "name": "stderr",
     "output_type": "stream",
     "text": [
      "Traceback (most recent call last):\n",
      "  File \"test_pressurecoupling.py\", line 24, in <module>\n",
      "    from matscipy import pressurecoupling as pc\n",
      "  File \"/home/coder/project/matscipy/__init__.py\", line 27, in <module>\n",
      "    from ._version import __version__\n",
      "ModuleNotFoundError: No module named 'matscipy._version'\n"
     ]
    },
    {
     "name": "stdout",
     "output_type": "stream",
     "text": [
      "[39:44] test_ring_statistics.py --------------------------------------------------\n"
     ]
    },
    {
     "name": "stderr",
     "output_type": "stream",
     "text": [
      "Traceback (most recent call last):\n",
      "  File \"test_ring_statistics.py\", line 52, in <module>\n",
      "    from matscipy.neighbours import neighbour_list\n",
      "  File \"/home/coder/project/matscipy/__init__.py\", line 27, in <module>\n",
      "    from ._version import __version__\n",
      "ModuleNotFoundError: No module named 'matscipy._version'\n"
     ]
    },
    {
     "name": "stdout",
     "output_type": "stream",
     "text": [
      "[40:44] test_rotation_of_elastic_constants.py --------------------------------------------------\n"
     ]
    },
    {
     "name": "stderr",
     "output_type": "stream",
     "text": [
      "Traceback (most recent call last):\n",
      "  File \"test_rotation_of_elastic_constants.py\", line 52, in <module>\n",
      "    from matscipy.calculators.eam import EAM\n",
      "  File \"/home/coder/project/matscipy/__init__.py\", line 27, in <module>\n",
      "    from ._version import __version__\n",
      "ModuleNotFoundError: No module named 'matscipy._version'\n"
     ]
    },
    {
     "name": "stdout",
     "output_type": "stream",
     "text": [
      "[41:44] test_spatial_correlation_function.py --------------------------------------------------\n"
     ]
    },
    {
     "name": "stderr",
     "output_type": "stream",
     "text": [
      "Traceback (most recent call last):\n",
      "  File \"test_spatial_correlation_function.py\", line 45, in <module>\n",
      "    from matscipy.neighbours import neighbour_list\n",
      "  File \"/home/coder/project/matscipy/__init__.py\", line 27, in <module>\n",
      "    from ._version import __version__\n",
      "ModuleNotFoundError: No module named 'matscipy._version'\n"
     ]
    },
    {
     "name": "stdout",
     "output_type": "stream",
     "text": [
      "[42:44] test_supercell_calculator.py --------------------------------------------------\n"
     ]
    },
    {
     "name": "stderr",
     "output_type": "stream",
     "text": [
      "Traceback (most recent call last):\n",
      "  File \"test_supercell_calculator.py\", line 48, in <module>\n",
      "    from matscipy.calculators import EAM, SupercellCalculator\n",
      "  File \"/home/coder/project/matscipy/__init__.py\", line 27, in <module>\n",
      "    from ._version import __version__\n",
      "ModuleNotFoundError: No module named 'matscipy._version'\n"
     ]
    },
    {
     "name": "stdout",
     "output_type": "stream",
     "text": [
      "[43:44] test_surface_reconstruction.py --------------------------------------------------\n"
     ]
    },
    {
     "name": "stderr",
     "output_type": "stream",
     "text": [
      "Traceback (most recent call last):\n",
      "  File \"test_surface_reconstruction.py\", line 3, in <module>\n",
      "    from matscipy.cauchy_born import CubicCauchyBorn\n",
      "  File \"/home/coder/project/matscipy/__init__.py\", line 27, in <module>\n",
      "    from ._version import __version__\n",
      "ModuleNotFoundError: No module named 'matscipy._version'\n"
     ]
    },
    {
     "name": "stdout",
     "output_type": "stream",
     "text": [
      "[44:44] test_utils.py --------------------------------------------------\n"
     ]
    },
    {
     "name": "stderr",
     "output_type": "stream",
     "text": [
      "Traceback (most recent call last):\n",
      "  File \"test_utils.py\", line 6, in <module>\n",
      "    import matscipy.utils as utils_mod\n",
      "  File \"/home/coder/project/matscipy/__init__.py\", line 27, in <module>\n",
      "    from ._version import __version__\n",
      "ModuleNotFoundError: No module named 'matscipy._version'\n"
     ]
    }
   ],
   "source": [
    "import os, sys, subprocess\n",
    "os.chdir('matscipy_tests')\n",
    "sys.path.insert(0, './matscipy_tests')\n",
    "\n",
    "test_filenames = [filename for filename in os.listdir('./') if filename.startswith('test_')]\n",
    "tests_failed = []\n",
    "tests_succeeded = []\n",
    "tests_error = []\n",
    "for idx,filename in enumerate(sorted(test_filenames),1):\n",
    "    print(f'[{idx}:{len(test_filenames)}]',filename,'--------------------------------------------------')\n",
    "    try:\n",
    "        res = subprocess.call(f'python3 '+filename, shell=True)\n",
    "        if res == 0:\n",
    "            tests_succeeded.append(filename)\n",
    "        else:\n",
    "            tests_failed.append(filename)\n",
    "    except Exception as e:\n",
    "        tests_error.append(filename)\n",
    "        print(e)\n",
    "        continue\n",
    "    # break\n",
    "os.chdir('..')"
   ]
  },
  {
   "cell_type": "code",
   "execution_count": 7,
   "metadata": {},
   "outputs": [
    {
     "name": "stdout",
     "output_type": "stream",
     "text": [
      "Failed:    43 ['test_angle_distribution.py', 'test_atomic_strain.py', 'test_bop.py', 'test_build_3D_crack.py', 'test_bulk_properties.py', 'test_cauchy_born_corrector.py', 'test_cluster_stable_sort.py', 'test_committee.py', 'test_crack.py', 'test_cubic_crystal_crack.py', 'test_dislocation.py', 'test_eam_average_atom.py', 'test_eam_calculator.py', 'test_eam_calculator_forces_and_hessian.py', 'test_eam_io.py', 'test_elastic_moduli.py', 'test_energy_release.py', 'test_ewald.py', 'test_ffi.py', 'test_fit_elastic_constants.py', 'test_full_to_Voigt.py', 'test_gamma_surface.py', 'test_hessian_finite_differences.py', 'test_hessian_precon.py', 'test_hydrogenate.py', 'test_idealbrittlesolid.py', 'test_invariants.py', 'test_io.py', 'test_mcfm.py', 'test_neighbours.py', 'test_numpy_tricks.py', 'test_opls.py', 'test_opls_io.py', 'test_pair_potential_calculator.py', 'test_poisson_nernst_planck_solver.py', 'test_polydisperse_calculator.py', 'test_pressurecoupling.py', 'test_ring_statistics.py', 'test_rotation_of_elastic_constants.py', 'test_spatial_correlation_function.py', 'test_supercell_calculator.py', 'test_surface_reconstruction.py', 'test_utils.py']\n",
      "Succeeded: 1 ['test_c2d.py']\n",
      "Error:     0 []\n"
     ]
    }
   ],
   "source": [
    "print('Failed:   ',len(tests_failed),tests_failed)\n",
    "print('Succeeded:',len(tests_succeeded),tests_succeeded)\n",
    "print('Error:    ',len(tests_error),tests_error)"
   ]
  },
  {
   "cell_type": "code",
   "execution_count": 8,
   "metadata": {},
   "outputs": [],
   "source": [
    "tests_failed = ['test_build_3D_crack.py', 'test_cauchy_born_corrector.py', 'test_cluster_stable_sort.py', 'test_cubic_crystal_crack.py', 'test_dislocation.py', 'test_gamma_surface.py', 'test_hessian_finite_differences.py', 'test_neighbours.py', 'test_opls.py', 'test_opls_io.py', 'test_surface_reconstruction.py', 'test_utils.py']"
   ]
  },
  {
   "cell_type": "code",
   "execution_count": null,
   "metadata": {},
   "outputs": [],
   "source": [
    "!pwd"
   ]
  },
  {
   "cell_type": "code",
   "execution_count": 9,
   "metadata": {},
   "outputs": [
    {
     "name": "stderr",
     "output_type": "stream",
     "text": [
      "Traceback (most recent call last):\n",
      "  File \"matscipy_tests/test_build_3D_crack.py\", line 7, in <module>\n",
      "    from matscipy.cauchy_born import CubicCauchyBorn\n",
      "  File \"/home/coder/project/matscipy/__init__.py\", line 27, in <module>\n",
      "    from ._version import __version__\n",
      "ModuleNotFoundError: No module named 'matscipy._version'\n",
      "Traceback (most recent call last):\n",
      "  File \"matscipy_tests/test_cauchy_born_corrector.py\", line 7, in <module>\n",
      "    from matscipy.cauchy_born import CubicCauchyBorn\n",
      "  File \"/home/coder/project/matscipy/__init__.py\", line 27, in <module>\n",
      "    from ._version import __version__\n",
      "ModuleNotFoundError: No module named 'matscipy._version'\n",
      "Traceback (most recent call last):\n",
      "  File \"matscipy_tests/test_cluster_stable_sort.py\", line 12, in <module>\n",
      "    from matscipy.fracture_mechanics.clusters import diamond, set_groups, set_regions, get_alpha_period, bcc\n",
      "  File \"/home/coder/project/matscipy/__init__.py\", line 27, in <module>\n",
      "    from ._version import __version__\n",
      "ModuleNotFoundError: No module named 'matscipy._version'\n",
      "Traceback (most recent call last):\n",
      "  File \"matscipy_tests/test_cubic_crystal_crack.py\", line 59, in <module>\n",
      "    import matscipy.fracture_mechanics.clusters as clusters\n",
      "  File \"/home/coder/project/matscipy/__init__.py\", line 27, in <module>\n",
      "    from ._version import __version__\n",
      "ModuleNotFoundError: No module named 'matscipy._version'\n",
      "Traceback (most recent call last):\n",
      "  File \"matscipy_tests/test_dislocation.py\", line 27, in <module>\n",
      "    import matscipy.dislocation as sd\n",
      "  File \"/home/coder/project/matscipy/__init__.py\", line 27, in <module>\n",
      "    from ._version import __version__\n",
      "ModuleNotFoundError: No module named 'matscipy._version'\n",
      "Traceback (most recent call last):\n",
      "  File \"matscipy_tests/test_gamma_surface.py\", line 5, in <module>\n",
      "    from matscipy.gamma_surface import *\n",
      "  File \"/home/coder/project/matscipy/__init__.py\", line 27, in <module>\n",
      "    from ._version import __version__\n",
      "ModuleNotFoundError: No module named 'matscipy._version'\n",
      "Traceback (most recent call last):\n",
      "  File \"matscipy_tests/test_hessian_finite_differences.py\", line 59, in <module>\n",
      "    from matscipy.calculators.pair_potential import PairPotential, LennardJonesCut\n",
      "  File \"/home/coder/project/matscipy/__init__.py\", line 27, in <module>\n",
      "    from ._version import __version__\n",
      "ModuleNotFoundError: No module named 'matscipy._version'\n",
      "Traceback (most recent call last):\n",
      "  File \"matscipy_tests/test_neighbours.py\", line 54, in <module>\n",
      "    from matscipy.neighbours import (\n",
      "  File \"/home/coder/project/matscipy/__init__.py\", line 27, in <module>\n",
      "    from ._version import __version__\n",
      "ModuleNotFoundError: No module named 'matscipy._version'\n",
      "Traceback (most recent call last):\n",
      "  File \"matscipy_tests/test_opls.py\", line 27, in <module>\n",
      "    import matscipy.opls\n",
      "  File \"/home/coder/project/matscipy/__init__.py\", line 27, in <module>\n",
      "    from ._version import __version__\n",
      "ModuleNotFoundError: No module named 'matscipy._version'\n",
      "Traceback (most recent call last):\n",
      "  File \"matscipy_tests/test_opls_io.py\", line 28, in <module>\n",
      "    import matscipy.opls\n",
      "  File \"/home/coder/project/matscipy/__init__.py\", line 27, in <module>\n",
      "    from ._version import __version__\n",
      "ModuleNotFoundError: No module named 'matscipy._version'\n",
      "Traceback (most recent call last):\n",
      "  File \"matscipy_tests/test_surface_reconstruction.py\", line 3, in <module>\n",
      "    from matscipy.cauchy_born import CubicCauchyBorn\n",
      "  File \"/home/coder/project/matscipy/__init__.py\", line 27, in <module>\n",
      "    from ._version import __version__\n",
      "ModuleNotFoundError: No module named 'matscipy._version'\n",
      "Traceback (most recent call last):\n",
      "  File \"matscipy_tests/test_utils.py\", line 6, in <module>\n",
      "    import matscipy.utils as utils_mod\n",
      "  File \"/home/coder/project/matscipy/__init__.py\", line 27, in <module>\n",
      "    from ._version import __version__\n",
      "ModuleNotFoundError: No module named 'matscipy._version'\n"
     ]
    }
   ],
   "source": [
    "import subprocess\n",
    "for filename in tests_failed:\n",
    "    res = subprocess.call(f'python3 matscipy_tests/'+filename, shell=True)"
   ]
  },
  {
   "cell_type": "code",
   "execution_count": null,
   "metadata": {},
   "outputs": [],
   "source": [
    "'''\n",
    "matscipy installation errors:\n",
    "1) matscipy.cauchy_born is absent but is present in the GIT https://github.com/libAtoms/matscipy/blob/master/matscipy/cauchy_born.py\n",
    "2) matscipy.fracture_mechanics.clusters is not equal to https://github.com/libAtoms/matscipy/blob/master/matscipy/fracture_mechanics/clusters.py \n",
    "in the matscipy GIT, in particular there is no function get_alpha_period\n",
    "3) matscipy.fracture_mechanics.crack is not equal to https://github.com/libAtoms/matscipy/blob/master/matscipy/fracture_mechanics/crack.py \n",
    "in the matscipy GIT, in particular there is no function isotropic_modeII_crack_tip_displacement_field\n",
    "4) liblammps.so: cannot open shared object file: No such file or directory\n",
    "5) matscipy.gamma_surface  is absent but is present in the GIT https://github.com/libAtoms/matscipy/blob/master/matscipy/gamma_surface.py\n",
    "6) matscipy.numerical is not equal to https://github.com/libAtoms/matscipy/blob/master/matscipy/numerical.py\n",
    "in the matscipy GIT, in particular function numerical_hessian has different keyword argument (dx instaedof d)\n",
    "7) Other errors can be found in the log of the previous cell.\n",
    "\n",
    "Conclusion: The MATSCIPY version is not recent as requested in ther task, so MTSCIPY is not properly installed.\n",
    "'''"
   ]
  },
  {
   "cell_type": "code",
   "execution_count": 10,
   "metadata": {},
   "outputs": [
    {
     "ename": "ModuleNotFoundError",
     "evalue": "No module named 'matscipy._version'",
     "output_type": "error",
     "traceback": [
      "\u001b[0;31m---------------------------------------------------------------------------\u001b[0m",
      "\u001b[0;31mModuleNotFoundError\u001b[0m                       Traceback (most recent call last)",
      "\u001b[1;32m/home/coder/project/TestXMace_new.ipynb Cell 14\u001b[0m line \u001b[0;36m1\n\u001b[0;32m----> <a href='vscode-notebook-cell://research.constructor.tech/home/coder/project/TestXMace_new.ipynb#X16sdnNjb2RlLXJlbW90ZQ%3D%3D?line=0'>1</a>\u001b[0m \u001b[39mimport\u001b[39;00m \u001b[39mmatscipy\u001b[39;00m\n\u001b[1;32m      <a href='vscode-notebook-cell://research.constructor.tech/home/coder/project/TestXMace_new.ipynb#X16sdnNjb2RlLXJlbW90ZQ%3D%3D?line=1'>2</a>\u001b[0m \u001b[39mprint\u001b[39m(matscipy\u001b[39m.\u001b[39m__path__)\n",
      "File \u001b[0;32m~/project/matscipy/__init__.py:27\u001b[0m\n\u001b[1;32m      1\u001b[0m \u001b[39m#\u001b[39;00m\n\u001b[1;32m      2\u001b[0m \u001b[39m# Copyright 2015, 2017 Lars Pastewka (U. Freiburg)\u001b[39;00m\n\u001b[1;32m      3\u001b[0m \u001b[39m#           2015 Till Junge (EPFL)\u001b[39;00m\n\u001b[0;32m   (...)\u001b[0m\n\u001b[1;32m     22\u001b[0m \n\u001b[1;32m     23\u001b[0m \u001b[39m# Generic stuff may go here.\u001b[39;00m\n\u001b[1;32m     25\u001b[0m \u001b[39mfrom\u001b[39;00m \u001b[39mmatscipy\u001b[39;00m\u001b[39m.\u001b[39;00m\u001b[39mlogger\u001b[39;00m \u001b[39mimport\u001b[39;00m screen\n\u001b[0;32m---> 27\u001b[0m \u001b[39mfrom\u001b[39;00m \u001b[39m.\u001b[39;00m\u001b[39m_version\u001b[39;00m \u001b[39mimport\u001b[39;00m __version__\n\u001b[1;32m     30\u001b[0m \u001b[39mdef\u001b[39;00m \u001b[39mhas_parameter\u001b[39m(name):\n\u001b[1;32m     31\u001b[0m \u001b[39m    \u001b[39m\u001b[39m\"\"\"\u001b[39;00m\n\u001b[1;32m     32\u001b[0m \u001b[39m    Test if a parameter has been provided in params.py.\u001b[39;00m\n\u001b[1;32m     33\u001b[0m \n\u001b[0;32m   (...)\u001b[0m\n\u001b[1;32m     42\u001b[0m \u001b[39m        Returns True if parameter exists.\u001b[39;00m\n\u001b[1;32m     43\u001b[0m \u001b[39m    \"\"\"\u001b[39;00m\n",
      "\u001b[0;31mModuleNotFoundError\u001b[0m: No module named 'matscipy._version'"
     ]
    }
   ],
   "source": [
    "import matscipy\n",
    "print(matscipy.__path__)"
   ]
  },
  {
   "cell_type": "markdown",
   "metadata": {},
   "source": [
    "3. Testing LAMMPS"
   ]
  },
  {
   "cell_type": "code",
   "execution_count": 11,
   "metadata": {},
   "outputs": [
    {
     "name": "stdout",
     "output_type": "stream",
     "text": [
      "Simulation started with process ID 3274\n"
     ]
    },
    {
     "data": {
      "text/plain": [
       "3274"
      ]
     },
     "execution_count": 11,
     "metadata": {},
     "output_type": "execute_result"
    }
   ],
   "source": [
    "from lammps_simulator import sim\n",
    "# sim.set_input_script(\"lammps_test.in\")\n",
    "# sim.run(num_procs=4, lmp_exec=\"lmp\")\n",
    "sim.set_input_script(\"hello.in\")\n",
    "sim.run(num_procs=4, lmp_exec=\"lmp\")\n",
    "\n",
    "# from lammps_simulator.device import GPU\n",
    "# device = CPU(num_procs=4, lmp_exec=\"lmp\")\n",
    "# sim.run(device=device)"
   ]
  },
  {
   "cell_type": "code",
   "execution_count": 12,
   "metadata": {},
   "outputs": [
    {
     "name": "stdout",
     "output_type": "stream",
     "text": [
      "ERROR: Invalid command-line argument (src/lammps.cpp:441)\n"
     ]
    }
   ],
   "source": [
    "!lmp executable < hello.in"
   ]
  },
  {
   "cell_type": "code",
   "execution_count": 13,
   "metadata": {},
   "outputs": [
    {
     "name": "stdout",
     "output_type": "stream",
     "text": [
      "ERROR: Invalid command-line argument (src/lammps.cpp:441)\n",
      "--------------------------------------------------------------------------\n",
      "Primary job  terminated normally, but 1 process returned\n",
      "a non-zero exit code. Per user-direction, the job has been aborted.\n",
      "--------------------------------------------------------------------------\n",
      "--------------------------------------------------------------------------\n",
      "mpirun detected that one or more processes exited with non-zero status, thus causing\n",
      "the job to be terminated. The first process to do so was:\n",
      "\n",
      "  Process name: [[56569,1],7]\n",
      "  Exit code:    1\n",
      "--------------------------------------------------------------------------\n"
     ]
    }
   ],
   "source": [
    "!mpirun -np 8 lmp executable < hello.in"
   ]
  },
  {
   "cell_type": "code",
   "execution_count": 14,
   "metadata": {},
   "outputs": [
    {
     "name": "stdout",
     "output_type": "stream",
     "text": [
      "mpirun: /usr/bin/mpirun /opt/nvidia/hpc_sdk/Linux_x86_64/23.11/comm_libs/hpcx/bin/mpirun\n"
     ]
    }
   ],
   "source": [
    "!whereis mpirun"
   ]
  },
  {
   "cell_type": "code",
   "execution_count": 15,
   "metadata": {},
   "outputs": [
    {
     "name": "stdout",
     "output_type": "stream",
     "text": [
      "lmp: /usr/bin/lmp\n"
     ]
    }
   ],
   "source": [
    "!whereis lmp"
   ]
  },
  {
   "cell_type": "markdown",
   "metadata": {},
   "source": [
    "Conclusion: LAMMPS executable not found. LAMMPS seems to be not installed at all. See also item 4 about MATSCIPY installation (above) - it is related to the absence of LAMMPS DLLs"
   ]
  },
  {
   "cell_type": "markdown",
   "metadata": {},
   "source": [
    "4) Test Quantum Espresso (see https://icme.hpc.msstate.edu/mediawiki/index.php/Code:_Quantum_Espresso.html )"
   ]
  },
  {
   "cell_type": "code",
   "execution_count": 16,
   "metadata": {},
   "outputs": [
    {
     "name": "stdout",
     "output_type": "stream",
     "text": [
      "grep: invalid option -- 'p'\n",
      "Usage: grep [OPTION]... PATTERNS [FILE]...\n",
      "Try 'grep --help' for more information.\n"
     ]
    }
   ],
   "source": [
    "!pip freeze | grep mpirun -np 8 lmp executable < hello.in"
   ]
  },
  {
   "cell_type": "markdown",
   "metadata": {},
   "source": [
    "testcode is not installed as requested in the task"
   ]
  },
  {
   "cell_type": "code",
   "execution_count": 17,
   "metadata": {},
   "outputs": [
    {
     "name": "stdout",
     "output_type": "stream",
     "text": [
      "--------------------------------------------------------------------------\n",
      "Sorry!  You were supposed to get help about:\n",
      "    opal_init:startup:internal-failure\n",
      "But I couldn't open the help file:\n",
      "    /proj/nv/libraries/Linux_x86_64/23.11/hpcx-12/240624-rel-1/comm_libs/12.2/hpcx/hpcx-2.16/ompi/share/openmpi/help-opal-runtime.txt: No such file or directory.  Sorry!\n",
      "--------------------------------------------------------------------------\n",
      "--------------------------------------------------------------------------\n",
      "Sorry!  You were supposed to get help about:\n",
      "    orte_init:startup:internal-failure\n",
      "But I couldn't open the help file:\n",
      "    /proj/nv/libraries/Linux_x86_64/23.11/hpcx-12/240624-rel-1/comm_libs/12.2/hpcx/hpcx-2.16/ompi/share/openmpi/help-orte-runtime: No such file or directory.  Sorry!\n",
      "--------------------------------------------------------------------------\n",
      "--------------------------------------------------------------------------\n",
      "Sorry!  You were supposed to get help about:\n",
      "    mpi_init:startup:internal-failure\n",
      "But I couldn't open the help file:\n",
      "    /proj/nv/libraries/Linux_x86_64/23.11/hpcx-12/240624-rel-1/comm_libs/12.2/hpcx/hpcx-2.16/ompi/share/openmpi/help-mpi-runtime.txt: No such file or directory.  Sorry!\n",
      "--------------------------------------------------------------------------\n",
      "*** An error occurred in MPI_Init_thread\n",
      "*** on a NULL communicator\n",
      "*** MPI_ERRORS_ARE_FATAL (processes in this communicator will now abort,\n",
      "***    and potentially your MPI job)\n",
      "[production-env-32919f3e3b6241bf9b41665106065b87:03464] Local abort before MPI_INIT completed completed successfully, but am not able to aggregate error messages, and not able to guarantee that all other processes were killed!\n"
     ]
    }
   ],
   "source": [
    "!pw.x <qe_example.in> scf.out"
   ]
  },
  {
   "cell_type": "code",
   "execution_count": 18,
   "metadata": {},
   "outputs": [
    {
     "name": "stdout",
     "output_type": "stream",
     "text": [
      "--------------------------------------------------------------------------\n",
      "Sorry!  You were supposed to get help about:\n",
      "    opal_init:startup:internal-failure\n",
      "But I couldn't open the help file:\n",
      "    /proj/nv/libraries/Linux_x86_64/23.11/hpcx-12/240624-rel-1/comm_libs/12.2/hpcx/hpcx-2.16/ompi/share/openmpi/help-opal-runtime.txt: No such file or directory.  Sorry!\n",
      "--------------------------------------------------------------------------\n",
      "--------------------------------------------------------------------------\n",
      "Sorry!  You were supposed to get help about:\n",
      "    orte_init:startup:internal-failure\n",
      "But I couldn't open the help file:\n",
      "    /proj/nv/libraries/Linux_x86_64/23.11/hpcx-12/240624-rel-1/comm_libs/12.2/hpcx/hpcx-2.16/ompi/share/openmpi/help-orte-runtime: No such file or directory.  Sorry!\n",
      "--------------------------------------------------------------------------\n",
      "--------------------------------------------------------------------------\n",
      "Sorry!  You were supposed to get help about:\n",
      "    mpi_init:startup:internal-failure\n",
      "But I couldn't open the help file:\n",
      "    /proj/nv/libraries/Linux_x86_64/23.11/hpcx-12/240624-rel-1/comm_libs/12.2/hpcx/hpcx-2.16/ompi/share/openmpi/help-mpi-runtime.txt: No such file or directory.  Sorry!\n",
      "--------------------------------------------------------------------------\n",
      "*** An error occurred in MPI_Init_thread\n",
      "*** on a NULL communicator\n",
      "*** MPI_ERRORS_ARE_FATAL (processes in this communicator will now abort,\n",
      "***    and potentially your MPI job)\n",
      "[production-env-32919f3e3b6241bf9b41665106065b87:03511] Local abort before MPI_INIT completed completed successfully, but am not able to aggregate error messages, and not able to guarantee that all other processes were killed!\n",
      "--------------------------------------------------------------------------\n",
      "Sorry!  You were supposed to get help about:\n",
      "    opal_init:startup:internal-failure\n",
      "But I couldn't open the help file:\n",
      "    /proj/nv/libraries/Linux_x86_64/23.11/hpcx-12/240624-rel-1/comm_libs/12.2/hpcx/hpcx-2.16/ompi/share/openmpi/help-opal-runtime.txt: No such file or directory.  Sorry!\n",
      "--------------------------------------------------------------------------\n",
      "--------------------------------------------------------------------------\n",
      "Sorry!  You were supposed to get help about:\n",
      "    orte_init:startup:internal-failure\n",
      "But I couldn't open the help file:\n",
      "    /proj/nv/libraries/Linux_x86_64/23.11/hpcx-12/240624-rel-1/comm_libs/12.2/hpcx/hpcx-2.16/ompi/share/openmpi/help-orte-runtime: No such file or directory.  Sorry!\n",
      "--------------------------------------------------------------------------\n",
      "--------------------------------------------------------------------------\n",
      "Sorry!  You were supposed to get help about:\n",
      "    mpi_init:startup:internal-failure\n",
      "But I couldn't open the help file:\n",
      "    /proj/nv/libraries/Linux_x86_64/23.11/hpcx-12/240624-rel-1/comm_libs/12.2/hpcx/hpcx-2.16/ompi/share/openmpi/help-mpi-runtime.txt: No such file or directory.  Sorry!\n",
      "--------------------------------------------------------------------------\n",
      "*** An error occurred in MPI_Init_thread\n",
      "*** on a NULL communicator\n",
      "*** MPI_ERRORS_ARE_FATAL (processes in this communicator will now abort,\n",
      "***    and potentially your MPI job)\n",
      "[production-env-32919f3e3b6241bf9b41665106065b87:03513] Local abort before MPI_INIT completed completed successfully, but am not able to aggregate error messages, and not able to guarantee that all other processes were killed!\n",
      "--------------------------------------------------------------------------\n",
      "Sorry!  You were supposed to get help about:\n",
      "    opal_init:startup:internal-failure\n",
      "But I couldn't open the help file:\n",
      "    /proj/nv/libraries/Linux_x86_64/23.11/hpcx-12/240624-rel-1/comm_libs/12.2/hpcx/hpcx-2.16/ompi/share/openmpi/help-opal-runtime.txt: No such file or directory.  Sorry!\n",
      "--------------------------------------------------------------------------\n",
      "--------------------------------------------------------------------------\n",
      "Sorry!  You were supposed to get help about:\n",
      "    orte_init:startup:internal-failure\n",
      "But I couldn't open the help file:\n",
      "    /proj/nv/libraries/Linux_x86_64/23.11/hpcx-12/240624-rel-1/comm_libs/12.2/hpcx/hpcx-2.16/ompi/share/openmpi/help-orte-runtime: No such file or directory.  Sorry!\n",
      "--------------------------------------------------------------------------\n",
      "--------------------------------------------------------------------------\n",
      "Sorry!  You were supposed to get help about:\n",
      "    mpi_init:startup:internal-failure\n",
      "But I couldn't open the help file:\n",
      "    /proj/nv/libraries/Linux_x86_64/23.11/hpcx-12/240624-rel-1/comm_libs/12.2/hpcx/hpcx-2.16/ompi/share/openmpi/help-mpi-runtime.txt: No such file or directory.  Sorry!\n",
      "--------------------------------------------------------------------------\n",
      "*** An error occurred in MPI_Init_thread\n",
      "*** on a NULL communicator\n",
      "*** MPI_ERRORS_ARE_FATAL (processes in this communicator will now abort,\n",
      "***    and potentially your MPI job)\n",
      "[production-env-32919f3e3b6241bf9b41665106065b87:03512] Local abort before MPI_INIT completed completed successfully, but am not able to aggregate error messages, and not able to guarantee that all other processes were killed!\n",
      "--------------------------------------------------------------------------\n",
      "Primary job  terminated normally, but 1 process returned\n",
      "a non-zero exit code. Per user-direction, the job has been aborted.\n",
      "--------------------------------------------------------------------------\n",
      "--------------------------------------------------------------------------\n",
      "Sorry!  You were supposed to get help about:\n",
      "    opal_init:startup:internal-failure\n",
      "But I couldn't open the help file:\n",
      "    /proj/nv/libraries/Linux_x86_64/23.11/hpcx-12/240624-rel-1/comm_libs/12.2/hpcx/hpcx-2.16/ompi/share/openmpi/help-opal-runtime.txt: No such file or directory.  Sorry!\n",
      "--------------------------------------------------------------------------\n",
      "--------------------------------------------------------------------------\n",
      "Sorry!  You were supposed to get help about:\n",
      "    orte_init:startup:internal-failure\n",
      "But I couldn't open the help file:\n",
      "    /proj/nv/libraries/Linux_x86_64/23.11/hpcx-12/240624-rel-1/comm_libs/12.2/hpcx/hpcx-2.16/ompi/share/openmpi/help-orte-runtime: No such file or directory.  Sorry!\n",
      "--------------------------------------------------------------------------\n",
      "--------------------------------------------------------------------------\n",
      "Sorry!  You were supposed to get help about:\n",
      "    mpi_init:startup:internal-failure\n",
      "But I couldn't open the help file:\n",
      "    /proj/nv/libraries/Linux_x86_64/23.11/hpcx-12/240624-rel-1/comm_libs/12.2/hpcx/hpcx-2.16/ompi/share/openmpi/help-mpi-runtime.txt: No such file or directory.  Sorry!\n",
      "--------------------------------------------------------------------------\n",
      "*** An error occurred in MPI_Init_thread\n",
      "*** on a NULL communicator\n",
      "*** MPI_ERRORS_ARE_FATAL (processes in this communicator will now abort,\n",
      "***    and potentially your MPI job)\n",
      "[production-env-32919f3e3b6241bf9b41665106065b87:03514] Local abort before MPI_INIT completed completed successfully, but am not able to aggregate error messages, and not able to guarantee that all other processes were killed!\n",
      "--------------------------------------------------------------------------\n",
      "mpirun detected that one or more processes exited with non-zero status, thus causing\n",
      "the job to be terminated. The first process to do so was:\n",
      "\n",
      "  Process name: [[56385,1],0]\n",
      "  Exit code:    1\n",
      "--------------------------------------------------------------------------\n"
     ]
    }
   ],
   "source": [
    "!mpirun -np 4 pw.x <qe_example.in> qe_example.out"
   ]
  },
  {
   "cell_type": "code",
   "execution_count": 19,
   "metadata": {},
   "outputs": [
    {
     "name": "stdout",
     "output_type": "stream",
     "text": [
      "pw.x: /tmp/QEF/bin/pw.x\n"
     ]
    }
   ],
   "source": [
    "!whereis pw.x"
   ]
  },
  {
   "cell_type": "markdown",
   "metadata": {},
   "source": [
    "Conclusion: Quantum Espresso executable not found. Quantum Espresso seems to be not installed at all. "
   ]
  }
 ],
 "metadata": {
  "kernelspec": {
   "display_name": "Python 3",
   "language": "python",
   "name": "python3"
  },
  "language_info": {
   "codemirror_mode": {
    "name": "ipython",
    "version": 3
   },
   "file_extension": ".py",
   "mimetype": "text/x-python",
   "name": "python",
   "nbconvert_exporter": "python",
   "pygments_lexer": "ipython3",
   "version": "3.8.18"
  }
 },
 "nbformat": 4,
 "nbformat_minor": 2
}
