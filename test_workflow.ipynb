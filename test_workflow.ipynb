{
 "cells": [
  {
   "cell_type": "code",
   "execution_count": null,
   "metadata": {},
   "outputs": [],
   "source": [
    "import os\n",
    "\n",
    "def makedir(path):\n",
    "    if not os.path.exists(path):\n",
    "        os.mkdir(path)\n",
    "\n",
    "makedir('/home/coder/project/output')"
   ]
  },
  {
   "cell_type": "code",
   "execution_count": null,
   "metadata": {},
   "outputs": [],
   "source": [
    "!python3 scripts/run_train_.py \\\n",
    "--log_dir=/output \\\n",
    "--model_dir=/output \\\n",
    "--checkpoints_dir=/output \\\n",
    "--results_dir=/output \\\n",
    "--downloads_dir=/output \\\n",
    "--name=\"/output/MACE_model\" \\\n",
    "--train_file=\"BOTNet-datasets/dataset_3BPA/train_300K.xyz\" \\\n",
    "--valid_fraction=0.05 \\\n",
    "--test_file=\"BOTNet-datasets/dataset_3BPA/test_300K.xyz\" \\\n",
    "--E0s='{1:-13.663181292231226, 6:-1029.2809654211628, 7:-1484.1187695035828, 8:-2042.0330099956639}' \\\n",
    "--model=\"ScaleShiftMACE\" \\\n",
    "--hidden_irreps='32x0e' \\\n",
    "--r_max=4.0 \\\n",
    "--batch_size=20 \\\n",
    "--max_num_epochs=2 \\\n",
    "--ema \\\n",
    "--ema_decay=0.99 \\\n",
    "--amsgrad \\\n",
    "--default_dtype=\"float32\" \\\n",
    "--device=cuda \\\n",
    "--seed=123 \\\n",
    "--swa"
   ]
  }
 ],
 "metadata": {
  "language_info": {
   "name": "python"
  },
  "orig_nbformat": 4
 },
 "nbformat": 4,
 "nbformat_minor": 2
}
